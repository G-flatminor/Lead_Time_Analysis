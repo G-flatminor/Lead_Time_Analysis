{
 "cells": [
  {
   "cell_type": "markdown",
   "id": "c2b3bc77",
   "metadata": {},
   "source": [
    "## New file to resolve the issue stemming from the training DF size and the prediction DF size.\n",
    "1. Training DF = 7241 columns\n",
    "2. Prediction DF = 2216 columns"
   ]
  },
  {
   "cell_type": "code",
   "execution_count": 2,
   "id": "ecf4c63b",
   "metadata": {},
   "outputs": [],
   "source": [
    "import pandas as pd\n",
    "import numpy as np\n",
    "import matplotlib.pyplot as plt\n",
    "import seaborn as sns"
   ]
  },
  {
   "cell_type": "code",
   "execution_count": 3,
   "id": "4d40ff09",
   "metadata": {},
   "outputs": [],
   "source": [
    "# reference: 01-Keras-Regression (section7: ANN)"
   ]
  },
  {
   "cell_type": "code",
   "execution_count": 4,
   "id": "52a7a1c0",
   "metadata": {},
   "outputs": [],
   "source": [
    "directory = 'C:/Users/te521690/OneDrive - TE Connectivity/Desktop/Canada Backlog/46. Jun 15, 2023/'"
   ]
  },
  {
   "cell_type": "markdown",
   "id": "040dd520",
   "metadata": {},
   "source": [
    "### Import Training file"
   ]
  },
  {
   "cell_type": "code",
   "execution_count": 5,
   "id": "7517538f",
   "metadata": {},
   "outputs": [],
   "source": [
    "df = pd.read_excel(directory + 'MFG 2 yr sales.xlsx', engine='openpyxl')"
   ]
  },
  {
   "cell_type": "code",
   "execution_count": 6,
   "id": "09ace623",
   "metadata": {},
   "outputs": [
    {
     "name": "stdout",
     "output_type": "stream",
     "text": [
      "SITE                           int64\n",
      "Invoice#                      object\n",
      "InvoiceDt             datetime64[ns]\n",
      "Invoice-Year#Month            object\n",
      "SO#                           object\n",
      "                           ...      \n",
      "Ship-B4                       object\n",
      "EDI Order                     object\n",
      "SO-Userid                     object\n",
      "Part Type                     object\n",
      "StdLT                        float64\n",
      "Length: 110, dtype: object\n"
     ]
    }
   ],
   "source": [
    "print(df.dtypes)"
   ]
  },
  {
   "cell_type": "code",
   "execution_count": 7,
   "id": "498ebbcc",
   "metadata": {},
   "outputs": [],
   "source": [
    "# # Replace '?' with a default value\n",
    "# df['Desc1'].replace('+', '&', inplace=True)\n",
    "# df['Desc2'].replace('+', '&', inplace=True)"
   ]
  },
  {
   "cell_type": "code",
   "execution_count": 8,
   "id": "fec90589",
   "metadata": {},
   "outputs": [],
   "source": [
    "#df.info()"
   ]
  },
  {
   "cell_type": "code",
   "execution_count": 9,
   "id": "e0d8d401",
   "metadata": {},
   "outputs": [
    {
     "data": {
      "text/html": [
       "<div>\n",
       "<style scoped>\n",
       "    .dataframe tbody tr th:only-of-type {\n",
       "        vertical-align: middle;\n",
       "    }\n",
       "\n",
       "    .dataframe tbody tr th {\n",
       "        vertical-align: top;\n",
       "    }\n",
       "\n",
       "    .dataframe thead th {\n",
       "        text-align: right;\n",
       "    }\n",
       "</style>\n",
       "<table border=\"1\" class=\"dataframe\">\n",
       "  <thead>\n",
       "    <tr style=\"text-align: right;\">\n",
       "      <th></th>\n",
       "      <th>SITE</th>\n",
       "      <th>Invoice#</th>\n",
       "      <th>InvoiceDt</th>\n",
       "      <th>Invoice-Year#Month</th>\n",
       "      <th>SO#</th>\n",
       "      <th>InvLine</th>\n",
       "      <th>Ord-Dt</th>\n",
       "      <th>CustPO</th>\n",
       "      <th>Buyer as of 1.4.17</th>\n",
       "      <th>Group</th>\n",
       "      <th>...</th>\n",
       "      <th>Hot Order</th>\n",
       "      <th>Hot Type</th>\n",
       "      <th>Due Date Changed Count</th>\n",
       "      <th>Original Due Date</th>\n",
       "      <th>Customer Class</th>\n",
       "      <th>Ship-B4</th>\n",
       "      <th>EDI Order</th>\n",
       "      <th>SO-Userid</th>\n",
       "      <th>Part Type</th>\n",
       "      <th>StdLT</th>\n",
       "    </tr>\n",
       "  </thead>\n",
       "  <tbody>\n",
       "    <tr>\n",
       "      <th>0</th>\n",
       "      <td>2230</td>\n",
       "      <td>RJ723838</td>\n",
       "      <td>2021-06-14</td>\n",
       "      <td>21#06</td>\n",
       "      <td>RV101441</td>\n",
       "      <td>1</td>\n",
       "      <td>2021-04-29</td>\n",
       "      <td>12263</td>\n",
       "      <td>FVPP4</td>\n",
       "      <td>NaN</td>\n",
       "      <td>...</td>\n",
       "      <td>nothot</td>\n",
       "      <td>nothot</td>\n",
       "      <td>2</td>\n",
       "      <td>2021-05-11 00:00:00</td>\n",
       "      <td>2378</td>\n",
       "      <td>yes</td>\n",
       "      <td>no</td>\n",
       "      <td>cron</td>\n",
       "      <td>MTS</td>\n",
       "      <td>3.0</td>\n",
       "    </tr>\n",
       "    <tr>\n",
       "      <th>1</th>\n",
       "      <td>2230</td>\n",
       "      <td>RJ723839</td>\n",
       "      <td>2021-06-14</td>\n",
       "      <td>21#06</td>\n",
       "      <td>16381680</td>\n",
       "      <td>1</td>\n",
       "      <td>2021-05-07</td>\n",
       "      <td>2716381680</td>\n",
       "      <td>FVPP4</td>\n",
       "      <td>MVCC</td>\n",
       "      <td>...</td>\n",
       "      <td>nothot</td>\n",
       "      <td>nothot</td>\n",
       "      <td>1</td>\n",
       "      <td>2021-05-28 00:00:00</td>\n",
       "      <td>1151</td>\n",
       "      <td>yes</td>\n",
       "      <td>no</td>\n",
       "      <td>cron</td>\n",
       "      <td>ATO</td>\n",
       "      <td>36.0</td>\n",
       "    </tr>\n",
       "    <tr>\n",
       "      <th>2</th>\n",
       "      <td>2230</td>\n",
       "      <td>RJ723840</td>\n",
       "      <td>2021-06-14</td>\n",
       "      <td>21#06</td>\n",
       "      <td>RV104788</td>\n",
       "      <td>1</td>\n",
       "      <td>2021-06-09</td>\n",
       "      <td>7442122</td>\n",
       "      <td>FVMP1</td>\n",
       "      <td>MTO1</td>\n",
       "      <td>...</td>\n",
       "      <td>nothot</td>\n",
       "      <td>nothot</td>\n",
       "      <td>0</td>\n",
       "      <td>2021-06-14 00:00:00</td>\n",
       "      <td>OMNI</td>\n",
       "      <td>yes</td>\n",
       "      <td>no</td>\n",
       "      <td>us055525</td>\n",
       "      <td>MTSQS</td>\n",
       "      <td>3.0</td>\n",
       "    </tr>\n",
       "    <tr>\n",
       "      <th>3</th>\n",
       "      <td>2230</td>\n",
       "      <td>RJ723841</td>\n",
       "      <td>2021-06-14</td>\n",
       "      <td>21#06</td>\n",
       "      <td>RV104767</td>\n",
       "      <td>3</td>\n",
       "      <td>2021-06-09</td>\n",
       "      <td>178266-2</td>\n",
       "      <td>FVMP1</td>\n",
       "      <td>MTO1</td>\n",
       "      <td>...</td>\n",
       "      <td>nothot</td>\n",
       "      <td>nothot</td>\n",
       "      <td>0</td>\n",
       "      <td>2021-06-14 00:00:00</td>\n",
       "      <td>OMNI</td>\n",
       "      <td>yes</td>\n",
       "      <td>no</td>\n",
       "      <td>te414937</td>\n",
       "      <td>MTSQS</td>\n",
       "      <td>3.0</td>\n",
       "    </tr>\n",
       "    <tr>\n",
       "      <th>4</th>\n",
       "      <td>2244</td>\n",
       "      <td>RJ723842</td>\n",
       "      <td>2021-06-14</td>\n",
       "      <td>21#06</td>\n",
       "      <td>RV104609</td>\n",
       "      <td>1</td>\n",
       "      <td>2021-06-08</td>\n",
       "      <td>2716735604</td>\n",
       "      <td>JZFGP7</td>\n",
       "      <td>AMPSMINI</td>\n",
       "      <td>...</td>\n",
       "      <td>nothot</td>\n",
       "      <td>nothot</td>\n",
       "      <td>1</td>\n",
       "      <td>2021-06-14 00:00:00</td>\n",
       "      <td>1914</td>\n",
       "      <td>yes</td>\n",
       "      <td>no</td>\n",
       "      <td>te322973</td>\n",
       "      <td>MTS</td>\n",
       "      <td>108.0</td>\n",
       "    </tr>\n",
       "  </tbody>\n",
       "</table>\n",
       "<p>5 rows × 110 columns</p>\n",
       "</div>"
      ],
      "text/plain": [
       "   SITE  Invoice#  InvoiceDt Invoice-Year#Month       SO#  InvLine     Ord-Dt  \\\n",
       "0  2230  RJ723838 2021-06-14              21#06  RV101441        1 2021-04-29   \n",
       "1  2230  RJ723839 2021-06-14              21#06  16381680        1 2021-05-07   \n",
       "2  2230  RJ723840 2021-06-14              21#06  RV104788        1 2021-06-09   \n",
       "3  2230  RJ723841 2021-06-14              21#06  RV104767        3 2021-06-09   \n",
       "4  2244  RJ723842 2021-06-14              21#06  RV104609        1 2021-06-08   \n",
       "\n",
       "       CustPO Buyer as of 1.4.17     Group  ... Hot Order Hot Type  \\\n",
       "0       12263              FVPP4       NaN  ...    nothot   nothot   \n",
       "1  2716381680              FVPP4      MVCC  ...    nothot   nothot   \n",
       "2     7442122              FVMP1      MTO1  ...    nothot   nothot   \n",
       "3    178266-2              FVMP1      MTO1  ...    nothot   nothot   \n",
       "4  2716735604             JZFGP7  AMPSMINI  ...    nothot   nothot   \n",
       "\n",
       "  Due Date Changed Count    Original Due Date Customer Class Ship-B4  \\\n",
       "0                      2  2021-05-11 00:00:00           2378     yes   \n",
       "1                      1  2021-05-28 00:00:00           1151     yes   \n",
       "2                      0  2021-06-14 00:00:00           OMNI     yes   \n",
       "3                      0  2021-06-14 00:00:00           OMNI     yes   \n",
       "4                      1  2021-06-14 00:00:00           1914     yes   \n",
       "\n",
       "  EDI Order  SO-Userid Part Type  StdLT  \n",
       "0  no             cron       MTS    3.0  \n",
       "1  no             cron       ATO   36.0  \n",
       "2  no         us055525     MTSQS    3.0  \n",
       "3  no         te414937     MTSQS    3.0  \n",
       "4  no         te322973       MTS  108.0  \n",
       "\n",
       "[5 rows x 110 columns]"
      ]
     },
     "execution_count": 9,
     "metadata": {},
     "output_type": "execute_result"
    }
   ],
   "source": [
    "df.head()"
   ]
  },
  {
   "cell_type": "code",
   "execution_count": 10,
   "id": "fb1e7ebd",
   "metadata": {},
   "outputs": [],
   "source": [
    "df1 = df.iloc[:,[4,5,22,24,89,108,30,6,26,28,2]]"
   ]
  },
  {
   "cell_type": "code",
   "execution_count": 11,
   "id": "53e24adc",
   "metadata": {},
   "outputs": [
    {
     "data": {
      "text/html": [
       "<div>\n",
       "<style scoped>\n",
       "    .dataframe tbody tr th:only-of-type {\n",
       "        vertical-align: middle;\n",
       "    }\n",
       "\n",
       "    .dataframe tbody tr th {\n",
       "        vertical-align: top;\n",
       "    }\n",
       "\n",
       "    .dataframe thead th {\n",
       "        text-align: right;\n",
       "    }\n",
       "</style>\n",
       "<table border=\"1\" class=\"dataframe\">\n",
       "  <thead>\n",
       "    <tr style=\"text-align: right;\">\n",
       "      <th></th>\n",
       "      <th>SO#</th>\n",
       "      <th>InvLine</th>\n",
       "      <th>Part</th>\n",
       "      <th>Desc1</th>\n",
       "      <th>OTTO-GPL</th>\n",
       "      <th>Part Type</th>\n",
       "      <th>QtyInvoiced</th>\n",
       "      <th>Ord-Dt</th>\n",
       "      <th>ReqDt</th>\n",
       "      <th>DueDt</th>\n",
       "      <th>InvoiceDt</th>\n",
       "    </tr>\n",
       "  </thead>\n",
       "  <tbody>\n",
       "    <tr>\n",
       "      <th>0</th>\n",
       "      <td>RV101441</td>\n",
       "      <td>1</td>\n",
       "      <td>360954-000</td>\n",
       "      <td>AMPS-69338-1</td>\n",
       "      <td>364</td>\n",
       "      <td>MTS</td>\n",
       "      <td>11000.0</td>\n",
       "      <td>2021-04-29</td>\n",
       "      <td>2021-05-18 00:00:00</td>\n",
       "      <td>2021-06-01 00:00:00</td>\n",
       "      <td>2021-06-14</td>\n",
       "    </tr>\n",
       "    <tr>\n",
       "      <th>1</th>\n",
       "      <td>16381680</td>\n",
       "      <td>1</td>\n",
       "      <td>CZ1481-000</td>\n",
       "      <td>MVCC-25/1.0(S7)</td>\n",
       "      <td>760</td>\n",
       "      <td>ATO</td>\n",
       "      <td>49.0</td>\n",
       "      <td>2021-05-07</td>\n",
       "      <td>2021-05-14 00:00:00</td>\n",
       "      <td>2021-06-11 00:00:00</td>\n",
       "      <td>2021-06-14</td>\n",
       "    </tr>\n",
       "    <tr>\n",
       "      <th>2</th>\n",
       "      <td>RV104788</td>\n",
       "      <td>1</td>\n",
       "      <td>EE0446-000</td>\n",
       "      <td>WCSM-24/6-225-S-(B50)</td>\n",
       "      <td>755</td>\n",
       "      <td>MTSQS</td>\n",
       "      <td>100.0</td>\n",
       "      <td>2021-06-09</td>\n",
       "      <td>2021-06-11 00:00:00</td>\n",
       "      <td>2021-06-14 00:00:00</td>\n",
       "      <td>2021-06-14</td>\n",
       "    </tr>\n",
       "    <tr>\n",
       "      <th>3</th>\n",
       "      <td>RV104767</td>\n",
       "      <td>3</td>\n",
       "      <td>237497-000</td>\n",
       "      <td>CRSM-53/13-1200</td>\n",
       "      <td>755</td>\n",
       "      <td>MTSQS</td>\n",
       "      <td>5.0</td>\n",
       "      <td>2021-06-09</td>\n",
       "      <td>2021-06-14 00:00:00</td>\n",
       "      <td>2021-06-14 00:00:00</td>\n",
       "      <td>2021-06-14</td>\n",
       "    </tr>\n",
       "    <tr>\n",
       "      <th>4</th>\n",
       "      <td>RV104609</td>\n",
       "      <td>1</td>\n",
       "      <td>687866-000</td>\n",
       "      <td>AMPS-0-0083623-7</td>\n",
       "      <td>141</td>\n",
       "      <td>MTS</td>\n",
       "      <td>21600.0</td>\n",
       "      <td>2021-06-08</td>\n",
       "      <td>2021-07-26 00:00:00</td>\n",
       "      <td>2021-06-15 00:00:00</td>\n",
       "      <td>2021-06-14</td>\n",
       "    </tr>\n",
       "  </tbody>\n",
       "</table>\n",
       "</div>"
      ],
      "text/plain": [
       "        SO#  InvLine        Part                  Desc1 OTTO-GPL Part Type  \\\n",
       "0  RV101441        1  360954-000           AMPS-69338-1      364       MTS   \n",
       "1  16381680        1  CZ1481-000        MVCC-25/1.0(S7)      760       ATO   \n",
       "2  RV104788        1  EE0446-000  WCSM-24/6-225-S-(B50)      755     MTSQS   \n",
       "3  RV104767        3  237497-000        CRSM-53/13-1200      755     MTSQS   \n",
       "4  RV104609        1  687866-000       AMPS-0-0083623-7      141       MTS   \n",
       "\n",
       "   QtyInvoiced     Ord-Dt                ReqDt                DueDt  InvoiceDt  \n",
       "0      11000.0 2021-04-29  2021-05-18 00:00:00  2021-06-01 00:00:00 2021-06-14  \n",
       "1         49.0 2021-05-07  2021-05-14 00:00:00  2021-06-11 00:00:00 2021-06-14  \n",
       "2        100.0 2021-06-09  2021-06-11 00:00:00  2021-06-14 00:00:00 2021-06-14  \n",
       "3          5.0 2021-06-09  2021-06-14 00:00:00  2021-06-14 00:00:00 2021-06-14  \n",
       "4      21600.0 2021-06-08  2021-07-26 00:00:00  2021-06-15 00:00:00 2021-06-14  "
      ]
     },
     "execution_count": 11,
     "metadata": {},
     "output_type": "execute_result"
    }
   ],
   "source": [
    "df1.head()"
   ]
  },
  {
   "cell_type": "code",
   "execution_count": 12,
   "id": "f799f4b1",
   "metadata": {},
   "outputs": [
    {
     "name": "stderr",
     "output_type": "stream",
     "text": [
      "C:\\Users\\te521690\\Anaconda3\\lib\\site-packages\\ipykernel_launcher.py:1: SettingWithCopyWarning: \n",
      "A value is trying to be set on a copy of a slice from a DataFrame.\n",
      "Try using .loc[row_indexer,col_indexer] = value instead\n",
      "\n",
      "See the caveats in the documentation: https://pandas.pydata.org/pandas-docs/stable/user_guide/indexing.html#returning-a-view-versus-a-copy\n",
      "  \"\"\"Entry point for launching an IPython kernel.\n"
     ]
    }
   ],
   "source": [
    "df1['SO#'] = df1['SO#'].astype(str)"
   ]
  },
  {
   "cell_type": "code",
   "execution_count": 13,
   "id": "e1db73eb",
   "metadata": {},
   "outputs": [
    {
     "name": "stderr",
     "output_type": "stream",
     "text": [
      "C:\\Users\\te521690\\Anaconda3\\lib\\site-packages\\ipykernel_launcher.py:1: SettingWithCopyWarning: \n",
      "A value is trying to be set on a copy of a slice from a DataFrame.\n",
      "Try using .loc[row_indexer,col_indexer] = value instead\n",
      "\n",
      "See the caveats in the documentation: https://pandas.pydata.org/pandas-docs/stable/user_guide/indexing.html#returning-a-view-versus-a-copy\n",
      "  \"\"\"Entry point for launching an IPython kernel.\n"
     ]
    }
   ],
   "source": [
    "df1['Part'] = df1['Part'].astype(str)"
   ]
  },
  {
   "cell_type": "code",
   "execution_count": 14,
   "id": "543ba7dd",
   "metadata": {},
   "outputs": [
    {
     "name": "stderr",
     "output_type": "stream",
     "text": [
      "C:\\Users\\te521690\\Anaconda3\\lib\\site-packages\\ipykernel_launcher.py:1: SettingWithCopyWarning: \n",
      "A value is trying to be set on a copy of a slice from a DataFrame.\n",
      "Try using .loc[row_indexer,col_indexer] = value instead\n",
      "\n",
      "See the caveats in the documentation: https://pandas.pydata.org/pandas-docs/stable/user_guide/indexing.html#returning-a-view-versus-a-copy\n",
      "  \"\"\"Entry point for launching an IPython kernel.\n"
     ]
    }
   ],
   "source": [
    "df1['Desc1'] = df1['Desc1'].astype(str)"
   ]
  },
  {
   "cell_type": "code",
   "execution_count": 15,
   "id": "bf36efdd",
   "metadata": {},
   "outputs": [],
   "source": [
    "# df1['OTTO-GPL'] = df1['OTTO-GPL'].astype(str)"
   ]
  },
  {
   "cell_type": "code",
   "execution_count": 16,
   "id": "388dc312",
   "metadata": {},
   "outputs": [
    {
     "name": "stderr",
     "output_type": "stream",
     "text": [
      "C:\\Users\\te521690\\Anaconda3\\lib\\site-packages\\pandas\\core\\generic.py:6619: SettingWithCopyWarning: \n",
      "A value is trying to be set on a copy of a slice from a DataFrame\n",
      "\n",
      "See the caveats in the documentation: https://pandas.pydata.org/pandas-docs/stable/user_guide/indexing.html#returning-a-view-versus-a-copy\n",
      "  return self._update_inplace(result)\n",
      "C:\\Users\\te521690\\Anaconda3\\lib\\site-packages\\ipykernel_launcher.py:5: SettingWithCopyWarning: \n",
      "A value is trying to be set on a copy of a slice from a DataFrame.\n",
      "Try using .loc[row_indexer,col_indexer] = value instead\n",
      "\n",
      "See the caveats in the documentation: https://pandas.pydata.org/pandas-docs/stable/user_guide/indexing.html#returning-a-view-versus-a-copy\n",
      "  \"\"\"\n"
     ]
    }
   ],
   "source": [
    "# Replace '?' with a default value\n",
    "df1['ReqDt'].replace('?', '1970-01-01', inplace=True)\n",
    "\n",
    "# Convert to datetime64\n",
    "df1['ReqDt'] = pd.to_datetime(df1['ReqDt'], errors='coerce')\n"
   ]
  },
  {
   "cell_type": "code",
   "execution_count": 17,
   "id": "46a4662f",
   "metadata": {},
   "outputs": [
    {
     "name": "stderr",
     "output_type": "stream",
     "text": [
      "C:\\Users\\te521690\\Anaconda3\\lib\\site-packages\\ipykernel_launcher.py:5: SettingWithCopyWarning: \n",
      "A value is trying to be set on a copy of a slice from a DataFrame.\n",
      "Try using .loc[row_indexer,col_indexer] = value instead\n",
      "\n",
      "See the caveats in the documentation: https://pandas.pydata.org/pandas-docs/stable/user_guide/indexing.html#returning-a-view-versus-a-copy\n",
      "  \"\"\"\n"
     ]
    }
   ],
   "source": [
    "# Replace '?' with a default value\n",
    "df1['DueDt'].replace('?', '1970-01-01', inplace=True)\n",
    "\n",
    "# Convert to datetime64\n",
    "df1['DueDt'] = pd.to_datetime(df1['ReqDt'], errors='coerce')\n"
   ]
  },
  {
   "cell_type": "code",
   "execution_count": 18,
   "id": "b04d99d4",
   "metadata": {},
   "outputs": [
    {
     "data": {
      "text/plain": [
       "Index(['SO#', 'InvLine', 'Part', 'Desc1', 'OTTO-GPL', 'Part Type',\n",
       "       'QtyInvoiced', 'Ord-Dt', 'ReqDt', 'DueDt', 'InvoiceDt'],\n",
       "      dtype='object')"
      ]
     },
     "execution_count": 18,
     "metadata": {},
     "output_type": "execute_result"
    }
   ],
   "source": [
    "df1.columns"
   ]
  },
  {
   "cell_type": "code",
   "execution_count": 19,
   "id": "504e2b7e",
   "metadata": {},
   "outputs": [
    {
     "name": "stderr",
     "output_type": "stream",
     "text": [
      "C:\\Users\\te521690\\Anaconda3\\lib\\site-packages\\pandas\\core\\frame.py:4913: SettingWithCopyWarning: \n",
      "A value is trying to be set on a copy of a slice from a DataFrame\n",
      "\n",
      "See the caveats in the documentation: https://pandas.pydata.org/pandas-docs/stable/user_guide/indexing.html#returning-a-view-versus-a-copy\n",
      "  errors=errors,\n"
     ]
    }
   ],
   "source": [
    "df1.drop(['SO#','InvLine','Desc1'], axis=1,inplace=True)"
   ]
  },
  {
   "cell_type": "code",
   "execution_count": 20,
   "id": "dc0e0fe5",
   "metadata": {},
   "outputs": [
    {
     "data": {
      "text/plain": [
       "Part                   object\n",
       "OTTO-GPL               object\n",
       "Part Type              object\n",
       "QtyInvoiced           float64\n",
       "Ord-Dt         datetime64[ns]\n",
       "ReqDt          datetime64[ns]\n",
       "DueDt          datetime64[ns]\n",
       "InvoiceDt      datetime64[ns]\n",
       "dtype: object"
      ]
     },
     "execution_count": 20,
     "metadata": {},
     "output_type": "execute_result"
    }
   ],
   "source": [
    "df1.dtypes"
   ]
  },
  {
   "cell_type": "code",
   "execution_count": 21,
   "id": "ac4c1450",
   "metadata": {},
   "outputs": [],
   "source": [
    "#set(df1['OTTO-GPL'])"
   ]
  },
  {
   "cell_type": "code",
   "execution_count": 22,
   "id": "6240e8eb",
   "metadata": {},
   "outputs": [
    {
     "data": {
      "text/plain": [
       "False    156918\n",
       "True          1\n",
       "Name: OTTO-GPL, dtype: int64"
      ]
     },
     "execution_count": 22,
     "metadata": {},
     "output_type": "execute_result"
    }
   ],
   "source": [
    "df1['OTTO-GPL'].isna().value_counts()"
   ]
  },
  {
   "cell_type": "code",
   "execution_count": 23,
   "id": "632dc446",
   "metadata": {},
   "outputs": [
    {
     "name": "stderr",
     "output_type": "stream",
     "text": [
      "C:\\Users\\te521690\\Anaconda3\\lib\\site-packages\\pandas\\core\\generic.py:6619: SettingWithCopyWarning: \n",
      "A value is trying to be set on a copy of a slice from a DataFrame\n",
      "\n",
      "See the caveats in the documentation: https://pandas.pydata.org/pandas-docs/stable/user_guide/indexing.html#returning-a-view-versus-a-copy\n",
      "  return self._update_inplace(result)\n"
     ]
    }
   ],
   "source": [
    "df1['Part Type'].replace({'mto':'MTO',\n",
    "                          'mts':'MTS'},\n",
    "                          inplace=True)"
   ]
  },
  {
   "cell_type": "code",
   "execution_count": 24,
   "id": "a4b8c106",
   "metadata": {},
   "outputs": [
    {
     "data": {
      "text/plain": [
       "{'(blank)', 103, 20, 21, 3, 'ATO', 'COMP', 'MTO', 'MTS', 'MTSQS', nan}"
      ]
     },
     "execution_count": 24,
     "metadata": {},
     "output_type": "execute_result"
    }
   ],
   "source": [
    "set(df1['Part Type'])"
   ]
  },
  {
   "cell_type": "code",
   "execution_count": 25,
   "id": "2a17faeb",
   "metadata": {},
   "outputs": [
    {
     "data": {
      "text/plain": [
       "False    156409\n",
       "True        510\n",
       "Name: Part Type, dtype: int64"
      ]
     },
     "execution_count": 25,
     "metadata": {},
     "output_type": "execute_result"
    }
   ],
   "source": [
    "df1['Part Type'].isna().value_counts()"
   ]
  },
  {
   "cell_type": "code",
   "execution_count": 26,
   "id": "fa81302d",
   "metadata": {},
   "outputs": [
    {
     "name": "stderr",
     "output_type": "stream",
     "text": [
      "C:\\Users\\te521690\\Anaconda3\\lib\\site-packages\\pandas\\util\\_decorators.py:311: SettingWithCopyWarning: \n",
      "A value is trying to be set on a copy of a slice from a DataFrame\n",
      "\n",
      "See the caveats in the documentation: https://pandas.pydata.org/pandas-docs/stable/user_guide/indexing.html#returning-a-view-versus-a-copy\n",
      "  return func(*args, **kwargs)\n"
     ]
    }
   ],
   "source": [
    "# dropna from DF1\n",
    "df1.dropna(subset=['Part Type'], inplace=True)"
   ]
  },
  {
   "cell_type": "code",
   "execution_count": 27,
   "id": "2c97064f",
   "metadata": {},
   "outputs": [],
   "source": [
    "df1 = df1[(df1['Part Type'] != 'NA') & (df1['Part Type'] != '(blank)')& (df1['Part Type'] != 3)& (df1['Part Type'] != 21)& (df1['Part Type'] != 103)& (df1['Part Type'] != 20)]"
   ]
  },
  {
   "cell_type": "code",
   "execution_count": 28,
   "id": "ce0a26ac",
   "metadata": {},
   "outputs": [
    {
     "data": {
      "text/plain": [
       "MTS      77715\n",
       "ATO      30721\n",
       "MTSQS    24305\n",
       "MTO      23554\n",
       "COMP        78\n",
       "Name: Part Type, dtype: int64"
      ]
     },
     "execution_count": 28,
     "metadata": {},
     "output_type": "execute_result"
    }
   ],
   "source": [
    "df1['Part Type'].value_counts()"
   ]
  },
  {
   "cell_type": "code",
   "execution_count": 29,
   "id": "569c7fdc",
   "metadata": {},
   "outputs": [
    {
     "data": {
      "text/plain": [
       "364    30424\n",
       "760    19513\n",
       "755    15427\n",
       "753    11378\n",
       "749    10056\n",
       "       ...  \n",
       "825        1\n",
       "97         1\n",
       "826        1\n",
       "149        1\n",
       "250        1\n",
       "Name: OTTO-GPL, Length: 91, dtype: int64"
      ]
     },
     "execution_count": 29,
     "metadata": {},
     "output_type": "execute_result"
    }
   ],
   "source": [
    "df1['OTTO-GPL'].value_counts()"
   ]
  },
  {
   "cell_type": "code",
   "execution_count": 30,
   "id": "514e2ddb",
   "metadata": {},
   "outputs": [],
   "source": [
    "df1.dropna(subset=['OTTO-GPL'], inplace=True)"
   ]
  },
  {
   "cell_type": "code",
   "execution_count": 31,
   "id": "2495bd9b",
   "metadata": {},
   "outputs": [],
   "source": [
    "df1['Part'] = df1['Part'].str.upper()"
   ]
  },
  {
   "cell_type": "code",
   "execution_count": 32,
   "id": "05c79589",
   "metadata": {},
   "outputs": [
    {
     "data": {
      "text/plain": [
       "{'292500-000',\n",
       " 'EB0334-000',\n",
       " '026702-000',\n",
       " '594524-000',\n",
       " 'ER5244-000',\n",
       " 'EL5494-000',\n",
       " 'EK8054-000',\n",
       " 'EP7682-000',\n",
       " '637932-000',\n",
       " 'CX5503-000',\n",
       " 'ER0809-000',\n",
       " 'A36520-000',\n",
       " 'EM9012-000',\n",
       " '208576-000',\n",
       " '413061-000',\n",
       " 'ED5487-000',\n",
       " 'ED0477-000',\n",
       " '2387393-9',\n",
       " 'ER9261-000',\n",
       " 'EN0615-000',\n",
       " '771271-000',\n",
       " 'EK0755-007',\n",
       " '2182515-2',\n",
       " 'BM7663-000',\n",
       " 'EP9473-000',\n",
       " '228347-000',\n",
       " 'CS3990-000',\n",
       " '258804-000',\n",
       " '2382267-3',\n",
       " '578941-000',\n",
       " 'CN0401-000',\n",
       " '018265-000',\n",
       " '819221-000',\n",
       " 'D95681-000',\n",
       " '893667-000',\n",
       " 'ER0223-000',\n",
       " 'CG3766-000',\n",
       " '320299-000',\n",
       " 'EN1783-000',\n",
       " 'E03187-000',\n",
       " 'CJ5945-000',\n",
       " 'EN3750-142',\n",
       " '2413387-5',\n",
       " 'CN6814-011',\n",
       " 'E25780-000',\n",
       " 'ES1326-011',\n",
       " 'EK3280-000',\n",
       " '477807-001',\n",
       " '855551-000',\n",
       " 'CR1309-000',\n",
       " 'ER8330-000',\n",
       " '2387491-7',\n",
       " '940400-000',\n",
       " 'E85144-000',\n",
       " 'CM9067-000',\n",
       " 'CG3626-000',\n",
       " '430936-000',\n",
       " 'EL6015-000',\n",
       " 'EN3751-090',\n",
       " 'ES0138-000',\n",
       " 'CM9460-000',\n",
       " 'ER2703-000',\n",
       " '998070-000',\n",
       " '908604-000',\n",
       " '2182383-4',\n",
       " '941623-000',\n",
       " 'EN3742-192',\n",
       " '2388830-1',\n",
       " 'EE5634-000',\n",
       " 'GT5561-000',\n",
       " 'EE0475-000',\n",
       " 'EN8561-000',\n",
       " 'C81279-000',\n",
       " 'E56010-000',\n",
       " 'EN0042-000',\n",
       " 'CT0155-000',\n",
       " '679276-000',\n",
       " '161223-000',\n",
       " 'EP4990-000',\n",
       " '094400-000',\n",
       " '103111-000',\n",
       " 'ED9069-000',\n",
       " 'C81691-000',\n",
       " '818545-000',\n",
       " 'ER0917-000',\n",
       " '207170-000',\n",
       " '800496-000',\n",
       " 'ES2995-000',\n",
       " 'CR1327-000',\n",
       " '727751-000',\n",
       " '035875-000',\n",
       " 'ER4618-000',\n",
       " '714880-000',\n",
       " 'EK9065-000',\n",
       " '490257-000',\n",
       " 'CU2882-000',\n",
       " '024900-000',\n",
       " '691019-000',\n",
       " 'EN6913-000',\n",
       " 'CR3781-000',\n",
       " 'CG3904-000',\n",
       " '2382267-2',\n",
       " 'CG3844-000',\n",
       " 'EN3750-331',\n",
       " 'BM3453-000',\n",
       " 'CZ9645-000',\n",
       " 'CM8108-000',\n",
       " '320534-000',\n",
       " 'D92562-000',\n",
       " 'CF2960-000',\n",
       " '2395755-6',\n",
       " '2400482-1',\n",
       " 'EA3336-000',\n",
       " 'CG3912-000',\n",
       " '779140-011',\n",
       " 'EK7579-000',\n",
       " 'A42594-000',\n",
       " 'ER9762-000',\n",
       " 'EA7075-000',\n",
       " '480347-000',\n",
       " '2392176-9',\n",
       " 'CH6464-000',\n",
       " 'EN0453-000',\n",
       " 'ED1759-000',\n",
       " '912620-000',\n",
       " 'CX4711-000',\n",
       " 'A81789-000',\n",
       " 'ES3387-000',\n",
       " 'CT0021-000',\n",
       " 'ES8419-000',\n",
       " 'EB0314-000',\n",
       " 'CR3782-000',\n",
       " 'EH3359-000',\n",
       " 'ES8427-000',\n",
       " '746449-000',\n",
       " 'CG3722-000',\n",
       " '2388485-5',\n",
       " '111584-000',\n",
       " 'EN3750-762',\n",
       " 'CA1376-000',\n",
       " '011551-000',\n",
       " '563782-000',\n",
       " 'EJ0800-000',\n",
       " 'ES3422-000',\n",
       " '543310-000',\n",
       " '2315985-6',\n",
       " 'EK7021-000',\n",
       " 'E82143-000',\n",
       " 'EN1892-000',\n",
       " 'EE0620-000',\n",
       " 'CR1342-000',\n",
       " '460382-000',\n",
       " 'CP9765-000',\n",
       " 'CT0342-000',\n",
       " 'FG1527-000',\n",
       " '058464-000',\n",
       " 'EP5024-000',\n",
       " 'E00518-000',\n",
       " '033233-000',\n",
       " 'CL7586-000',\n",
       " '859885-000',\n",
       " 'EE0705-000',\n",
       " 'EP5032-000',\n",
       " '848633-001',\n",
       " 'CG3898-000',\n",
       " 'CT0327-000',\n",
       " 'BM0417-000',\n",
       " '439695-000',\n",
       " '516946-000',\n",
       " '502588-000',\n",
       " '2424187-1',\n",
       " '959911-000',\n",
       " 'EH5764-000',\n",
       " 'EN3742-315',\n",
       " 'CU3258-000',\n",
       " 'EM7891-000',\n",
       " 'ED6738-000',\n",
       " 'ER7069-000',\n",
       " 'EN3751-288',\n",
       " 'EN3750-168',\n",
       " '086552-000',\n",
       " 'BM4863-000',\n",
       " 'CM2913-000',\n",
       " '149256-000',\n",
       " '041075-000',\n",
       " 'EN3750-335',\n",
       " '799276-000',\n",
       " 'C19656-000',\n",
       " 'D00447-000',\n",
       " '307205-000',\n",
       " '870316-000',\n",
       " '2388830-8',\n",
       " '335701-000',\n",
       " '400894-000',\n",
       " '2417800-1',\n",
       " '120985-001',\n",
       " 'CU6542-000',\n",
       " '2411066-1',\n",
       " 'EJ0945-000',\n",
       " '007356-000',\n",
       " '629627N001',\n",
       " '145476-000',\n",
       " '995861-000',\n",
       " 'FG1865-000',\n",
       " '546378-000',\n",
       " '510695-000',\n",
       " '863406-000',\n",
       " 'CL0782-000',\n",
       " 'CG3713-000',\n",
       " 'CT0308-000',\n",
       " '773122-000',\n",
       " '2304320-7',\n",
       " 'ES2825-000',\n",
       " 'CF9289-000',\n",
       " 'EN7344-000',\n",
       " '511561-000',\n",
       " 'EE0446-000',\n",
       " 'EE0482-000',\n",
       " '483721-000',\n",
       " '329444-000',\n",
       " 'CG3781-000',\n",
       " '279531-000',\n",
       " 'P00001-003',\n",
       " 'EB0327-000',\n",
       " 'ER4520-201',\n",
       " '402068-000',\n",
       " '510995-001',\n",
       " 'CL6422-000',\n",
       " 'ED9025-000',\n",
       " '584026-000',\n",
       " '911184-000',\n",
       " 'EH3282-000',\n",
       " 'EN3750-374',\n",
       " 'EK0859-002',\n",
       " 'EA7082-000',\n",
       " '2378450-6',\n",
       " 'EN3742-045',\n",
       " '166533-000',\n",
       " 'EF7812-000',\n",
       " 'EK0742-012',\n",
       " '447443-000',\n",
       " 'ER8676-000',\n",
       " '782218-000',\n",
       " 'ES1128-005',\n",
       " 'CT0001-000',\n",
       " '358408-000',\n",
       " 'CS8405-011',\n",
       " '445891-000',\n",
       " 'CJ0466-000',\n",
       " '985423-000',\n",
       " 'EN3751-141',\n",
       " 'CL0778-000',\n",
       " 'EN0968-000',\n",
       " 'CM6539-000',\n",
       " 'F47114-000',\n",
       " 'C15597-000',\n",
       " 'ER1773-000',\n",
       " 'EL9204-000',\n",
       " 'C51242-000',\n",
       " 'CA6518-000',\n",
       " '346466-000',\n",
       " '283821-000',\n",
       " 'EM8959-000',\n",
       " 'EM9808-000',\n",
       " 'EK7020-000',\n",
       " '993314-000',\n",
       " 'EN4403-000',\n",
       " 'EP9094-000',\n",
       " '988087-000',\n",
       " 'CY7727N001',\n",
       " 'E25218-000',\n",
       " 'EN3750-475',\n",
       " 'ER3356-000',\n",
       " 'ER1693-000',\n",
       " 'CA7325-000',\n",
       " 'D90494-000',\n",
       " '2392176-4',\n",
       " '131520-000',\n",
       " 'EP1769-000',\n",
       " '2182332-2',\n",
       " '447460-000',\n",
       " 'ES2911-000',\n",
       " '184926-000',\n",
       " 'CU2787-011',\n",
       " 'C47153-000',\n",
       " 'ER8326-000',\n",
       " '2366270-9',\n",
       " 'CG3756-000',\n",
       " 'ER4520-189',\n",
       " '2-2374923-0',\n",
       " 'CT0119-000',\n",
       " 'CR3785-000',\n",
       " '801642-000',\n",
       " 'CR6870-000',\n",
       " '2213759-3',\n",
       " '2388457-8',\n",
       " 'CT0129-000',\n",
       " 'BC1112-000',\n",
       " '507018-000',\n",
       " '797706-000',\n",
       " 'EL7262-000',\n",
       " 'BM1388-000',\n",
       " 'E65650-000',\n",
       " 'EE0703-000',\n",
       " 'ED9355-000',\n",
       " '2374772-6',\n",
       " 'CA7066-000',\n",
       " 'EP0739-000',\n",
       " 'EN2683-000',\n",
       " 'EL8903-000',\n",
       " 'FG1857-000',\n",
       " 'FG1660-000',\n",
       " '865047-000',\n",
       " 'MP4572-000',\n",
       " 'EM8232-000',\n",
       " '2382266-5',\n",
       " 'CG3718-000',\n",
       " 'BM3260-000',\n",
       " 'F35550-000',\n",
       " 'CU7134-000',\n",
       " 'ED2751-000',\n",
       " 'CL8618-000',\n",
       " '811978-000',\n",
       " 'F17259-000',\n",
       " 'ES1140-000',\n",
       " 'E31927-000',\n",
       " '747303-000',\n",
       " 'CT0056-000',\n",
       " '639445-000',\n",
       " 'EK3695-000',\n",
       " 'CL0772-000',\n",
       " 'C82509-000',\n",
       " '949490-000',\n",
       " 'CG3836-000',\n",
       " 'CX6904-000',\n",
       " '710227-000',\n",
       " 'EL7127-000',\n",
       " 'F88779-000',\n",
       " 'EN5682-028',\n",
       " 'ER4708-000',\n",
       " 'EN3751-187',\n",
       " 'EF7184-000',\n",
       " 'CU4255-000',\n",
       " '2303275-2',\n",
       " '983034-000',\n",
       " 'ES1128-002',\n",
       " '658290-000',\n",
       " 'BM6428-000',\n",
       " '2401546-2',\n",
       " 'ER9004-000',\n",
       " 'EN3750-907',\n",
       " 'CA1258-000',\n",
       " '570947-000',\n",
       " 'CS6471-011',\n",
       " '2232227-1',\n",
       " '404853-000',\n",
       " 'CH8016-000',\n",
       " 'FG1761-000',\n",
       " '183128-000',\n",
       " 'ED0501-000',\n",
       " '052134-000',\n",
       " 'CB1985-000',\n",
       " '761007-000',\n",
       " 'A86865-000',\n",
       " '2403974-1',\n",
       " 'CN3822-000',\n",
       " 'ER4768-000',\n",
       " 'EN3750-581',\n",
       " '962244-000',\n",
       " 'EB0284-000',\n",
       " '224208-000',\n",
       " 'EB0277-000',\n",
       " 'CG3749-000',\n",
       " 'ED6741-000',\n",
       " 'EN2453-000',\n",
       " 'EN3750-577',\n",
       " 'EM8393-000',\n",
       " '108961-000',\n",
       " 'ER9272-000',\n",
       " '634605-000',\n",
       " 'CJ0615-000',\n",
       " '028005-000',\n",
       " 'CT0242-000',\n",
       " '128958-000',\n",
       " 'D61559-000',\n",
       " 'ED5512-000',\n",
       " '137205-000',\n",
       " 'CP7509-000',\n",
       " 'D45696N001',\n",
       " 'EL8769-000',\n",
       " 'CT0084-000',\n",
       " '2382266-1',\n",
       " '041830-000',\n",
       " 'BM9015-000',\n",
       " '828872-000',\n",
       " 'CF5635-000',\n",
       " 'EE5639-000',\n",
       " 'ED0151-000',\n",
       " '444622-000',\n",
       " 'EN3750-920',\n",
       " '182825-000',\n",
       " 'EN3750-775',\n",
       " 'CT0060-000',\n",
       " 'CG3755-000',\n",
       " 'CR6596-000',\n",
       " 'ER0789-076',\n",
       " '627692-000',\n",
       " '2388467-3',\n",
       " 'CT0136-000',\n",
       " '874584-000',\n",
       " 'ED8992-000',\n",
       " '2382266-2',\n",
       " 'F33141-000',\n",
       " 'CP7280-000',\n",
       " 'EB8676-000',\n",
       " 'CZ9934-000',\n",
       " 'EB0513-000',\n",
       " 'CU0754-000',\n",
       " 'EN6481-000',\n",
       " 'CR7282-000',\n",
       " 'CT0227-000',\n",
       " 'ED0857-000',\n",
       " '306587-000',\n",
       " 'E89931-000',\n",
       " 'EK0859-023',\n",
       " 'CR8501-000',\n",
       " '2382313-8',\n",
       " '019600-000',\n",
       " 'CZ1481-000',\n",
       " '040337-000',\n",
       " 'BM1268-000',\n",
       " '379253-000',\n",
       " 'ES3449-000',\n",
       " '390319-000',\n",
       " '529405-000',\n",
       " 'EM7892-000',\n",
       " 'EP7899-000',\n",
       " '206602-000',\n",
       " 'BM9040-000',\n",
       " '180121-000',\n",
       " 'EN3746-044',\n",
       " 'ED0124-000',\n",
       " 'EN3750-148',\n",
       " 'EN3750-705',\n",
       " 'CT0165-000',\n",
       " 'CN5989-000',\n",
       " '315865-000',\n",
       " '281328-000',\n",
       " 'BM8316-000',\n",
       " 'ED0485-000',\n",
       " 'CT0339-000',\n",
       " '607477-000',\n",
       " 'ER4552-000',\n",
       " 'A81228-000',\n",
       " 'CG3726-000',\n",
       " 'CM3149-000',\n",
       " 'ER9078-000',\n",
       " 'EJ0799-000',\n",
       " 'F15231-000',\n",
       " 'EN3750-659',\n",
       " 'D02250-000',\n",
       " 'CJ4410-000',\n",
       " 'EK0742-011',\n",
       " 'ED9358-000',\n",
       " 'CR1312-000',\n",
       " '485626-000',\n",
       " 'CS3113-000',\n",
       " 'EN3750-016',\n",
       " '337774-000',\n",
       " 'EN3742-313',\n",
       " 'CG3589-000',\n",
       " 'CX3917-000',\n",
       " 'CT0226-000',\n",
       " '1-2182448-3',\n",
       " 'CY4550-000',\n",
       " 'EH5777-000',\n",
       " 'EA3543-000',\n",
       " 'D41410-000',\n",
       " 'EB1049-000',\n",
       " '634880-000',\n",
       " 'D51704-000',\n",
       " 'CF9869-000',\n",
       " 'EA9682-000',\n",
       " '2378572-2',\n",
       " 'EN3742-227',\n",
       " 'G37412-000',\n",
       " '262299-000',\n",
       " 'ER0135-000',\n",
       " '416339-000',\n",
       " 'ER8818-000',\n",
       " '984054-000',\n",
       " 'EE0486-000',\n",
       " 'CG3853-000',\n",
       " '974824-000',\n",
       " 'CG3640-000',\n",
       " '857649-000',\n",
       " 'ED9026-000',\n",
       " '913395-000',\n",
       " '914517-000',\n",
       " '676303-000',\n",
       " 'C40710-000',\n",
       " 'EN3750-767',\n",
       " 'CR9903-000',\n",
       " 'EE0698-000',\n",
       " 'ED9123-000',\n",
       " 'A38782-000',\n",
       " 'CU3201-000',\n",
       " 'EN3750-583',\n",
       " '2182442-3',\n",
       " '354161-000',\n",
       " 'EN4520-351',\n",
       " 'E25792-000',\n",
       " 'C48748-000',\n",
       " 'EE0478-000',\n",
       " 'CT0258-000',\n",
       " 'EN1554-000',\n",
       " 'EN3751-263',\n",
       " 'CN6625-000',\n",
       " 'EE0691-000',\n",
       " 'CR3997-000',\n",
       " 'EE0593-000',\n",
       " 'EN0043-000',\n",
       " 'C51711-000',\n",
       " 'CL0781-000',\n",
       " 'ED1690-000',\n",
       " 'ED0128-000',\n",
       " 'F59451-000',\n",
       " '623313-000',\n",
       " '804816N001',\n",
       " '2395638-1',\n",
       " 'ER2038-000',\n",
       " '227653-000',\n",
       " 'ED2728-000',\n",
       " 'FG1256-000',\n",
       " 'EP4899-000',\n",
       " 'BM1507-000',\n",
       " 'EE0650-000',\n",
       " 'E56540-000',\n",
       " 'EP9002-000',\n",
       " '849735-000',\n",
       " 'ED9014-000',\n",
       " 'CN0930-000',\n",
       " 'EL7120-000',\n",
       " '803837-000',\n",
       " 'CN4811-000',\n",
       " 'CM7935-000',\n",
       " 'ED0484-000',\n",
       " 'ED0116-000',\n",
       " 'CJ0467-000',\n",
       " 'CG3607-000',\n",
       " 'A56210-000',\n",
       " '328437-000',\n",
       " '393086-000',\n",
       " '095057-000',\n",
       " '583280-000',\n",
       " 'A04328-000',\n",
       " 'EP8378-000',\n",
       " '385369N001',\n",
       " '2107832-1',\n",
       " 'EN3742-051',\n",
       " '742517-000',\n",
       " 'EN4520-190',\n",
       " '337508-000',\n",
       " '174766-000',\n",
       " '107357-000',\n",
       " 'EM8262-000',\n",
       " '657871-000',\n",
       " '2182833-2',\n",
       " '004019N001',\n",
       " 'ER3360-000',\n",
       " 'EP5508-000',\n",
       " 'EF8330-000',\n",
       " 'ER1987-000',\n",
       " 'CG3563-000',\n",
       " 'CP8819-000',\n",
       " 'ER3354-000',\n",
       " 'BC1129-000',\n",
       " 'BM7659-000',\n",
       " 'CB2507-000',\n",
       " 'EA9801-000',\n",
       " 'EN6269-000',\n",
       " 'CB2603-000',\n",
       " 'EN3750-264',\n",
       " 'EB8956-000',\n",
       " 'D96723-000',\n",
       " 'ED9335-000',\n",
       " '107534-000',\n",
       " 'CS1126-000',\n",
       " '919170-000',\n",
       " 'E30021-000',\n",
       " 'EN3750-461',\n",
       " 'CG3665-000',\n",
       " 'CR6675-000',\n",
       " 'CJ4566-000',\n",
       " 'EK7014-000',\n",
       " '523402-000',\n",
       " '737866-000',\n",
       " 'EP5467-000',\n",
       " 'EN8559-000',\n",
       " '741914-000',\n",
       " '527490-000',\n",
       " 'E50899-000',\n",
       " '074371-000',\n",
       " 'BC1132-000',\n",
       " 'EN7382-000',\n",
       " 'FC9558-000',\n",
       " '906775-000',\n",
       " '942343-000',\n",
       " 'CS8227-000',\n",
       " 'EK7228-000',\n",
       " 'BM3348-000',\n",
       " 'EN8125-000',\n",
       " '720704-000',\n",
       " 'GT5557-000',\n",
       " 'E17358-000',\n",
       " 'EN1795-011',\n",
       " 'CG3622-000',\n",
       " 'ES0219-000',\n",
       " 'EB8259-000',\n",
       " '176466-000',\n",
       " '2418067-1',\n",
       " 'ER3671-000',\n",
       " 'BM9038-000',\n",
       " '636635-000',\n",
       " 'E90873-000',\n",
       " '2405558-1',\n",
       " 'ER7405-000',\n",
       " '600636-000',\n",
       " 'EB0569-000',\n",
       " '590268-000',\n",
       " 'EN0614-000',\n",
       " '278087-000',\n",
       " 'EL9269-000',\n",
       " '916911-000',\n",
       " 'EL6223-000',\n",
       " '969546-000',\n",
       " 'CG3662-000',\n",
       " '345572-000',\n",
       " 'EB8622-000',\n",
       " '752305-000',\n",
       " '2366270-6',\n",
       " '2405556-1',\n",
       " 'EN3750-606',\n",
       " '958740-000',\n",
       " 'EA7283-000',\n",
       " '536874-000',\n",
       " 'ES2052-000',\n",
       " 'EN1794-011',\n",
       " 'EP7735-000',\n",
       " 'D09010-000',\n",
       " 'F80781-000',\n",
       " 'EK8053-000',\n",
       " 'R20465-000',\n",
       " 'EP3659-011',\n",
       " '2397030-1',\n",
       " 'ED9161-000',\n",
       " 'EP6511-000',\n",
       " 'CT0194-000',\n",
       " 'CH6901-000',\n",
       " 'EB1415-000',\n",
       " 'ED0155-000',\n",
       " 'C60748-000',\n",
       " 'EP8305-000',\n",
       " 'CN7514-000',\n",
       " '2384487-2',\n",
       " '200342-000',\n",
       " '737071-000',\n",
       " '2182491-2',\n",
       " 'ER0265-000',\n",
       " 'C20365-000',\n",
       " 'EN3750-658',\n",
       " '636452-000',\n",
       " 'BM7666-000',\n",
       " '485533-000',\n",
       " 'CG3605-000',\n",
       " '888615-000',\n",
       " 'CJ6972-000',\n",
       " 'EN1523-000',\n",
       " '094115-000',\n",
       " '466536-000',\n",
       " '128207-000',\n",
       " 'EN4682-000',\n",
       " '214085-000',\n",
       " '2388457-9',\n",
       " 'EH5751-000',\n",
       " '638414-000',\n",
       " 'EM7884-000',\n",
       " '335367-000',\n",
       " 'EF6727-000',\n",
       " 'CG3608-000',\n",
       " '2387491-1',\n",
       " '860357-000',\n",
       " 'C77668-000',\n",
       " 'A54098N001',\n",
       " 'ER5192-000',\n",
       " 'CP9283-000',\n",
       " 'EB8295-000',\n",
       " '499268-000',\n",
       " 'EN8381-000',\n",
       " 'ES0620-000',\n",
       " '298891-000',\n",
       " 'CF4011-000',\n",
       " 'CT0217-000',\n",
       " 'EN0028-000',\n",
       " '012130-000',\n",
       " 'C76897-000',\n",
       " 'F31957-000',\n",
       " 'F32790-000',\n",
       " 'EP9912-000',\n",
       " '116721-000',\n",
       " 'EP8781-000',\n",
       " '1-2384755-0',\n",
       " '337381-000',\n",
       " 'CS9520-000',\n",
       " 'EM8351-000',\n",
       " '2378929-8',\n",
       " 'EL6128-000',\n",
       " 'CX3874-000',\n",
       " 'CG3553-000',\n",
       " '2232232-1',\n",
       " '659585-000',\n",
       " '714941-000',\n",
       " 'EN6194-000',\n",
       " '2401377-1',\n",
       " 'EN3750-629',\n",
       " 'ED1714-000',\n",
       " 'CS4645-000',\n",
       " 'EM7883-000',\n",
       " 'ES0617-000',\n",
       " '618959-000',\n",
       " 'EN3746-047',\n",
       " 'EJ0809-000',\n",
       " 'CR1304-000',\n",
       " 'EL6975-000',\n",
       " '560390-005',\n",
       " '519108-000',\n",
       " '496194-000',\n",
       " '721679N002',\n",
       " 'EN9165-000',\n",
       " 'EN3750-378',\n",
       " 'ED0869-000',\n",
       " 'EE0609-000',\n",
       " '209571-000',\n",
       " 'ED0497-000',\n",
       " 'E31878-000',\n",
       " '427901-000',\n",
       " 'EM7900-000',\n",
       " 'CR1423-000',\n",
       " '2387491-3',\n",
       " '911184-001',\n",
       " 'CN5606-000',\n",
       " 'ER0079-000',\n",
       " '112981-000',\n",
       " '184278-000',\n",
       " 'A08611-000',\n",
       " '996775-000',\n",
       " 'FG1858-000',\n",
       " 'ER4596-000',\n",
       " 'FG1260-000',\n",
       " 'CT0295-000',\n",
       " 'CR3645-000',\n",
       " 'EN3750-558',\n",
       " 'E09647N001',\n",
       " 'ES0626-000',\n",
       " '2197048-1',\n",
       " 'ER8976-000',\n",
       " 'CG3892-000',\n",
       " 'CG3739-000',\n",
       " 'ED1723-000',\n",
       " 'EN3750-389',\n",
       " '052186-000',\n",
       " 'FG1745-000',\n",
       " 'EK9862-000',\n",
       " 'EE4576-000',\n",
       " 'CU0084-000',\n",
       " 'CT0018-000',\n",
       " 'EK1894-000',\n",
       " '658409-000',\n",
       " 'EF6441-000',\n",
       " 'EP4980-000',\n",
       " '073513-000',\n",
       " '365067-000',\n",
       " '852653-000',\n",
       " 'EE0476-000',\n",
       " 'ED1710-000',\n",
       " 'EN3750-263',\n",
       " 'EL6976-000',\n",
       " 'A89810-000',\n",
       " '101147-000',\n",
       " 'EN0230-000',\n",
       " 'A16995-000',\n",
       " '210046-000',\n",
       " '618891-000',\n",
       " '335512-000',\n",
       " 'EE0615-000',\n",
       " 'ED0147-000',\n",
       " '677296-000',\n",
       " 'EE0498-000',\n",
       " 'ER1063-000',\n",
       " '103245-000',\n",
       " 'CL1797-000',\n",
       " 'EE0611-000',\n",
       " '841597-000',\n",
       " 'E49911-000',\n",
       " 'CU4180-000',\n",
       " '883201-000',\n",
       " 'EN2499-000',\n",
       " '016896-000',\n",
       " '981112-000',\n",
       " 'EE3512-000',\n",
       " 'CP7604-000',\n",
       " 'ES1380-011',\n",
       " 'EB1419-000',\n",
       " 'EN5844-000',\n",
       " 'EN7840-000',\n",
       " 'EA9814-000',\n",
       " 'EN1748-000',\n",
       " 'EL6430-000',\n",
       " '539105-000',\n",
       " '2376750-7',\n",
       " 'CR1097-000',\n",
       " 'EN5564-000',\n",
       " 'EE0617-000',\n",
       " 'CT0042-000',\n",
       " 'ER8978-000',\n",
       " '2374928-4',\n",
       " 'CG3895-000',\n",
       " 'ER2038-001',\n",
       " 'CT0176-000',\n",
       " 'ED9033-000',\n",
       " 'EN3750-281',\n",
       " 'EP6512-000',\n",
       " 'ED0110-000',\n",
       " 'EN3750-140',\n",
       " 'BM9037-000',\n",
       " 'CB2505-000',\n",
       " 'CG3857-000',\n",
       " 'CS7071-000',\n",
       " 'EP8313-000',\n",
       " 'CP4005-000',\n",
       " '277013-000',\n",
       " 'BM1390-000',\n",
       " 'ES1113-000',\n",
       " 'EN6194-090',\n",
       " 'ED0856-000',\n",
       " 'EK6850-000',\n",
       " '986511-000',\n",
       " 'EM7893-000',\n",
       " 'EE0623-000',\n",
       " 'CH9864-000',\n",
       " 'F61828-000',\n",
       " 'ED1900-000',\n",
       " 'CR6397-000',\n",
       " '728283-000',\n",
       " '776152-000',\n",
       " 'F53223-000',\n",
       " '619202-000',\n",
       " '2389234-1',\n",
       " 'CA1262-000',\n",
       " '712242-000',\n",
       " 'CG3644-000',\n",
       " 'EN1891-000',\n",
       " 'EE0600-000',\n",
       " 'CT0266-000',\n",
       " '2374899-3',\n",
       " 'ES2997-000',\n",
       " 'BM7660-000',\n",
       " 'EH9893-000',\n",
       " 'CR1429-000',\n",
       " 'CR7668-000',\n",
       " 'BM1267-000',\n",
       " '2197049-1',\n",
       " '5749314-2',\n",
       " 'EF8404-000',\n",
       " 'BM0504-000',\n",
       " '2382367-1',\n",
       " 'EP7642-000',\n",
       " '194550-000',\n",
       " 'CG3554-000',\n",
       " 'ED5513-000',\n",
       " 'ER7357-000',\n",
       " '347466-000',\n",
       " 'ER3557-000',\n",
       " 'CP4753-000',\n",
       " '551817-000',\n",
       " 'A50421-000',\n",
       " 'C18476-000',\n",
       " 'EN3086-000',\n",
       " '676296-000',\n",
       " 'ER6536-000',\n",
       " 'EE0631-000',\n",
       " 'ER4597-000',\n",
       " 'C15359-000',\n",
       " 'EN3749-003',\n",
       " '668189-000',\n",
       " 'ER1325-000',\n",
       " 'EN3682-000',\n",
       " '996129-000',\n",
       " 'EL6979-000',\n",
       " 'ER4568-000',\n",
       " '961396-000',\n",
       " '2405558-6',\n",
       " 'EE0445-000',\n",
       " 'EK9839-000',\n",
       " 'CG3763-000',\n",
       " '121159-000',\n",
       " '410954-000',\n",
       " 'CR1394-000',\n",
       " 'F73660-000',\n",
       " '298363-000',\n",
       " 'CP8823-000',\n",
       " '337138-000',\n",
       " 'A88261-000',\n",
       " 'CR1334-000',\n",
       " '301392-000',\n",
       " 'EL6162-017',\n",
       " 'ES1844-000',\n",
       " '437449-000',\n",
       " '2378437-5',\n",
       " 'EH7823-000',\n",
       " 'EE0680-000',\n",
       " 'FG1746-000',\n",
       " '209749-000',\n",
       " '2107640-1',\n",
       " 'ED2151-000',\n",
       " 'C24881-000',\n",
       " 'EP7244-000',\n",
       " 'EP8693-000',\n",
       " 'EN3750-379',\n",
       " 'ER8331-000',\n",
       " '137501-002',\n",
       " 'F95994-000',\n",
       " '1443351-2',\n",
       " '2388485-4',\n",
       " 'ER8147-000',\n",
       " 'CR5941-000',\n",
       " 'CM0097-011',\n",
       " 'EN1484-000',\n",
       " 'EN5867-001',\n",
       " '977606-000',\n",
       " '694472-000',\n",
       " 'E89572-002',\n",
       " 'FG1457-000',\n",
       " 'ES2044-000',\n",
       " '540971-000',\n",
       " 'EN3750-401',\n",
       " '1099446-1',\n",
       " 'EN5316-000',\n",
       " 'TH7438-000',\n",
       " 'EB0291-000',\n",
       " 'EN1865-000',\n",
       " 'CP5229-000',\n",
       " '2376750-6',\n",
       " '894214-000',\n",
       " '157071-000',\n",
       " '2392751-1',\n",
       " 'EP6681-000',\n",
       " 'P00001-006',\n",
       " 'EE0470-000',\n",
       " 'EN3750-896',\n",
       " 'BM1464-000',\n",
       " 'ED9200-000',\n",
       " 'E93793-000',\n",
       " '840744-000',\n",
       " 'CG3664-000',\n",
       " 'BM1373-000',\n",
       " 'ER9731-000',\n",
       " 'ES1116-000',\n",
       " '542765-000',\n",
       " 'A38048-000',\n",
       " '326257-000',\n",
       " 'ER6538-000',\n",
       " 'ES2450-000',\n",
       " 'CR1308-000',\n",
       " 'EA7079-000',\n",
       " 'EN2847-000',\n",
       " 'R25480-000',\n",
       " '313564-000',\n",
       " '461680-000',\n",
       " 'ER3357-000',\n",
       " 'EN3750-164',\n",
       " '651574-000',\n",
       " 'EK1005-000',\n",
       " 'F45664-000',\n",
       " '841698-000',\n",
       " '385273-000',\n",
       " '468253-000',\n",
       " '508511-000',\n",
       " 'EB8568-000',\n",
       " 'CP9818-000',\n",
       " 'F61571-000',\n",
       " 'ER0004-000',\n",
       " 'ED9004-000',\n",
       " 'CS8226-000',\n",
       " '880788-000',\n",
       " 'ES0611-000',\n",
       " 'BM8726-000',\n",
       " '958933-000',\n",
       " 'EE0595-000',\n",
       " '2397030-3',\n",
       " ...}"
      ]
     },
     "execution_count": 32,
     "metadata": {},
     "output_type": "execute_result"
    }
   ],
   "source": [
    "set(df1['Part'])"
   ]
  },
  {
   "cell_type": "code",
   "execution_count": 33,
   "id": "e006ae16",
   "metadata": {},
   "outputs": [
    {
     "data": {
      "text/plain": [
       "False    156372\n",
       "Name: Part, dtype: int64"
      ]
     },
     "execution_count": 33,
     "metadata": {},
     "output_type": "execute_result"
    }
   ],
   "source": [
    "df1['Part'].isna().value_counts()"
   ]
  },
  {
   "cell_type": "markdown",
   "id": "9b881470",
   "metadata": {},
   "source": [
    "### ここで一旦Training DF のプロセスを止めて、Prediction DFを取り込む。そしてTraining DFの部品数とPrediction DFの部品数を合わせる。そうすることで最初のファイルで発生したエラーを解消できる。"
   ]
  },
  {
   "cell_type": "code",
   "execution_count": 34,
   "id": "4daa1699",
   "metadata": {},
   "outputs": [],
   "source": [
    "log = pd.read_excel(directory + 'MFG PRO backlog.xlsx', engine='openpyxl')"
   ]
  },
  {
   "cell_type": "code",
   "execution_count": 35,
   "id": "bb7d255a",
   "metadata": {},
   "outputs": [],
   "source": [
    "log1 = log.iloc[:,[12,91,59,111,8,35,37]]"
   ]
  },
  {
   "cell_type": "code",
   "execution_count": 36,
   "id": "24066b4a",
   "metadata": {},
   "outputs": [
    {
     "name": "stdout",
     "output_type": "stream",
     "text": [
      "<class 'pandas.core.frame.DataFrame'>\n",
      "RangeIndex: 8595 entries, 0 to 8594\n",
      "Data columns (total 7 columns):\n",
      " #   Column       Non-Null Count  Dtype         \n",
      "---  ------       --------------  -----         \n",
      " 0   Part         8595 non-null   object        \n",
      " 1   OTTO-GPL     8593 non-null   object        \n",
      " 2   Part-Type    8554 non-null   object        \n",
      " 3   Qty Ordered  8595 non-null   float64       \n",
      " 4   SO-Ord_date  8595 non-null   datetime64[ns]\n",
      " 5   Req-Date     8595 non-null   datetime64[ns]\n",
      " 6   Due-Date     8595 non-null   datetime64[ns]\n",
      "dtypes: datetime64[ns](3), float64(1), object(3)\n",
      "memory usage: 470.2+ KB\n"
     ]
    }
   ],
   "source": [
    "log1.info()"
   ]
  },
  {
   "cell_type": "code",
   "execution_count": 37,
   "id": "ce7cd7ea",
   "metadata": {},
   "outputs": [],
   "source": [
    "log1['Part-Type'].replace({'mto':'MTO',\n",
    "                           'mto ':'MTO',\n",
    "                           'mts':'MTS'},inplace=True)"
   ]
  },
  {
   "cell_type": "code",
   "execution_count": 38,
   "id": "ae1efcb6",
   "metadata": {},
   "outputs": [
    {
     "name": "stderr",
     "output_type": "stream",
     "text": [
      "C:\\Users\\te521690\\Anaconda3\\lib\\site-packages\\ipykernel_launcher.py:1: SettingWithCopyWarning: \n",
      "A value is trying to be set on a copy of a slice from a DataFrame.\n",
      "Try using .loc[row_indexer,col_indexer] = value instead\n",
      "\n",
      "See the caveats in the documentation: https://pandas.pydata.org/pandas-docs/stable/user_guide/indexing.html#returning-a-view-versus-a-copy\n",
      "  \"\"\"Entry point for launching an IPython kernel.\n"
     ]
    }
   ],
   "source": [
    "log1['Part'] = log1['Part'].str.upper()"
   ]
  },
  {
   "cell_type": "code",
   "execution_count": 39,
   "id": "56743ecf",
   "metadata": {},
   "outputs": [
    {
     "name": "stderr",
     "output_type": "stream",
     "text": [
      "C:\\Users\\te521690\\Anaconda3\\lib\\site-packages\\ipykernel_launcher.py:1: SettingWithCopyWarning: \n",
      "A value is trying to be set on a copy of a slice from a DataFrame.\n",
      "Try using .loc[row_indexer,col_indexer] = value instead\n",
      "\n",
      "See the caveats in the documentation: https://pandas.pydata.org/pandas-docs/stable/user_guide/indexing.html#returning-a-view-versus-a-copy\n",
      "  \"\"\"Entry point for launching an IPython kernel.\n"
     ]
    }
   ],
   "source": [
    "log1['Part-Type'] = log1['Part-Type'].str.upper()"
   ]
  },
  {
   "cell_type": "code",
   "execution_count": 40,
   "id": "a5fc8d1f",
   "metadata": {},
   "outputs": [
    {
     "name": "stderr",
     "output_type": "stream",
     "text": [
      "C:\\Users\\te521690\\Anaconda3\\lib\\site-packages\\pandas\\core\\frame.py:5047: SettingWithCopyWarning: \n",
      "A value is trying to be set on a copy of a slice from a DataFrame\n",
      "\n",
      "See the caveats in the documentation: https://pandas.pydata.org/pandas-docs/stable/user_guide/indexing.html#returning-a-view-versus-a-copy\n",
      "  errors=errors,\n"
     ]
    }
   ],
   "source": [
    "log1.rename(columns={'SO-Ord_date':'SO_Ord_date','Req-Date':'Req_Date','Due-Date':'Due_Date','Part-Type':'Part Type'}, inplace=True)"
   ]
  },
  {
   "cell_type": "code",
   "execution_count": 41,
   "id": "46859a7d",
   "metadata": {},
   "outputs": [
    {
     "data": {
      "text/plain": [
       "False    8554\n",
       "True       41\n",
       "Name: Part Type, dtype: int64"
      ]
     },
     "execution_count": 41,
     "metadata": {},
     "output_type": "execute_result"
    }
   ],
   "source": [
    "log1['Part Type'].isna().value_counts()"
   ]
  },
  {
   "cell_type": "code",
   "execution_count": 42,
   "id": "e088301e",
   "metadata": {},
   "outputs": [],
   "source": [
    "log1.dropna(subset=['Part Type'],inplace=True)"
   ]
  },
  {
   "cell_type": "code",
   "execution_count": 43,
   "id": "de294913",
   "metadata": {},
   "outputs": [
    {
     "data": {
      "text/plain": [
       "False    8554\n",
       "Name: Part, dtype: int64"
      ]
     },
     "execution_count": 43,
     "metadata": {},
     "output_type": "execute_result"
    }
   ],
   "source": [
    "log1['Part'].isna().value_counts()"
   ]
  },
  {
   "cell_type": "code",
   "execution_count": 44,
   "id": "47038bfa",
   "metadata": {},
   "outputs": [
    {
     "data": {
      "text/plain": [
       "False    8552\n",
       "True        2\n",
       "Name: OTTO-GPL, dtype: int64"
      ]
     },
     "execution_count": 44,
     "metadata": {},
     "output_type": "execute_result"
    }
   ],
   "source": [
    "log1['OTTO-GPL'].isna().value_counts()"
   ]
  },
  {
   "cell_type": "code",
   "execution_count": 45,
   "id": "6b0c77e7",
   "metadata": {},
   "outputs": [],
   "source": [
    "log1.dropna(subset=['OTTO-GPL'], inplace=True)"
   ]
  },
  {
   "cell_type": "code",
   "execution_count": 46,
   "id": "67e34a66",
   "metadata": {},
   "outputs": [
    {
     "data": {
      "text/plain": [
       "364    1614\n",
       "760     716\n",
       "758     691\n",
       "753     681\n",
       "755     551\n",
       "141     499\n",
       "750     420\n",
       "752     380\n",
       "151     362\n",
       "751     343\n",
       "J71     317\n",
       "749     290\n",
       "757     262\n",
       "B82     191\n",
       "Z72     183\n",
       "E82     182\n",
       "814     152\n",
       "KB1     137\n",
       "761      63\n",
       "AA5      56\n",
       "C08      52\n",
       "Z63      46\n",
       "822      44\n",
       "JA2      40\n",
       "748      36\n",
       "AF8      35\n",
       "827      34\n",
       "E78      32\n",
       "E33      21\n",
       "819      21\n",
       "A27      19\n",
       "813      17\n",
       "435      14\n",
       "K93      11\n",
       "G38       6\n",
       "C04       6\n",
       "A26       4\n",
       "E34       3\n",
       "AI9       2\n",
       "A60       2\n",
       "607       1\n",
       "E77       1\n",
       "44        1\n",
       "710       1\n",
       "A46       1\n",
       "F14       1\n",
       "B95       1\n",
       "806       1\n",
       "210       1\n",
       "F30       1\n",
       "566       1\n",
       "E21       1\n",
       "1         1\n",
       "817       1\n",
       "652       1\n",
       "C88       1\n",
       "82        1\n",
       "Name: OTTO-GPL, dtype: int64"
      ]
     },
     "execution_count": 46,
     "metadata": {},
     "output_type": "execute_result"
    }
   ],
   "source": [
    "log1['OTTO-GPL'].value_counts()"
   ]
  },
  {
   "cell_type": "code",
   "execution_count": 47,
   "id": "6ca715f6",
   "metadata": {},
   "outputs": [
    {
     "name": "stderr",
     "output_type": "stream",
     "text": [
      "C:\\Users\\te521690\\Anaconda3\\lib\\site-packages\\ipykernel_launcher.py:10: SettingWithCopyWarning: \n",
      "A value is trying to be set on a copy of a slice from a DataFrame.\n",
      "Try using .loc[row_indexer,col_indexer] = value instead\n",
      "\n",
      "See the caveats in the documentation: https://pandas.pydata.org/pandas-docs/stable/user_guide/indexing.html#returning-a-view-versus-a-copy\n",
      "  # Remove the CWD from sys.path while we load stuff.\n"
     ]
    }
   ],
   "source": [
    "C_LT = []\n",
    "for index, row in log1.iterrows():\n",
    "    timedelta = row['Req_Date'] - row['SO_Ord_date']\n",
    "    timedelta_days = timedelta.days  # Extract the number of days from the timedelta object\n",
    "    if -1000 < timedelta_days < 1000:\n",
    "        C_LT.append(timedelta_days)\n",
    "    else:\n",
    "        C_LT.append(0)\n",
    "\n",
    "log1['Customer LT'] = C_LT\n"
   ]
  },
  {
   "cell_type": "code",
   "execution_count": 48,
   "id": "d2e42307",
   "metadata": {},
   "outputs": [
    {
     "name": "stderr",
     "output_type": "stream",
     "text": [
      "C:\\Users\\te521690\\Anaconda3\\lib\\site-packages\\ipykernel_launcher.py:10: SettingWithCopyWarning: \n",
      "A value is trying to be set on a copy of a slice from a DataFrame.\n",
      "Try using .loc[row_indexer,col_indexer] = value instead\n",
      "\n",
      "See the caveats in the documentation: https://pandas.pydata.org/pandas-docs/stable/user_guide/indexing.html#returning-a-view-versus-a-copy\n",
      "  # Remove the CWD from sys.path while we load stuff.\n"
     ]
    }
   ],
   "source": [
    "S_LT = []\n",
    "for index, row in log1.iterrows():\n",
    "    timedelta = row['Due_Date'] - row['SO_Ord_date']\n",
    "    timedelta_days = timedelta.days  # Extract the number of days from the timedelta object\n",
    "    if -1000 < timedelta_days < 1000:\n",
    "        S_LT.append(timedelta_days)\n",
    "    else:\n",
    "        S_LT.append(0)\n",
    "\n",
    "log1['Shipping LT'] = S_LT"
   ]
  },
  {
   "cell_type": "code",
   "execution_count": 49,
   "id": "75432572",
   "metadata": {},
   "outputs": [],
   "source": [
    "log1['Part Type'].replace(['Part Type_MTO ','Part Type_MTO'], inplace=True)"
   ]
  },
  {
   "cell_type": "code",
   "execution_count": 50,
   "id": "782b5d87",
   "metadata": {},
   "outputs": [],
   "source": [
    "# Training DF内の項目数との確認が始まる\n",
    "\n",
    "import pandas as pd\n",
    "\n",
    "# 1. Create a dataframe based on df1['Part'] then remove duplicates.\n",
    "Part_no = df1['Part']\n",
    "Part_no = Part_no.drop_duplicates()\n"
   ]
  },
  {
   "cell_type": "code",
   "execution_count": 56,
   "id": "a3a35dec",
   "metadata": {},
   "outputs": [],
   "source": [
    "Part_no=pd.DataFrame(Part_no)"
   ]
  },
  {
   "cell_type": "code",
   "execution_count": 58,
   "id": "0867cb17",
   "metadata": {},
   "outputs": [
    {
     "data": {
      "text/plain": [
       "Part      \n",
       "000144-000    1\n",
       "EE0478-000    1\n",
       "EE0423-000    1\n",
       "ED9936-000    1\n",
       "ED9934-000    1\n",
       "             ..\n",
       "996176-000    1\n",
       "996129-000    1\n",
       "996042-000    1\n",
       "995861-000    1\n",
       "Y12345-000    1\n",
       "Length: 7225, dtype: int64"
      ]
     },
     "execution_count": 58,
     "metadata": {},
     "output_type": "execute_result"
    }
   ],
   "source": [
    "Part_no.value_counts()"
   ]
  },
  {
   "cell_type": "code",
   "execution_count": 57,
   "id": "72dc006a",
   "metadata": {},
   "outputs": [
    {
     "name": "stdout",
     "output_type": "stream",
     "text": [
      "<class 'pandas.core.frame.DataFrame'>\n",
      "Int64Index: 7225 entries, 0 to 156840\n",
      "Data columns (total 1 columns):\n",
      " #   Column  Non-Null Count  Dtype \n",
      "---  ------  --------------  ----- \n",
      " 0   Part    7225 non-null   object\n",
      "dtypes: object(1)\n",
      "memory usage: 112.9+ KB\n"
     ]
    }
   ],
   "source": [
    "Part_no.info()"
   ]
  },
  {
   "cell_type": "code",
   "execution_count": 52,
   "id": "b5d2365f",
   "metadata": {},
   "outputs": [],
   "source": [
    "df1_GPL = df1['OTTO-GPL'].drop_duplicates()"
   ]
  },
  {
   "cell_type": "code",
   "execution_count": 59,
   "id": "9f96a6ab",
   "metadata": {},
   "outputs": [],
   "source": [
    "df1_GPL = pd.DataFrame(df1_GPL)"
   ]
  },
  {
   "cell_type": "code",
   "execution_count": 60,
   "id": "2905577c",
   "metadata": {},
   "outputs": [
    {
     "data": {
      "text/plain": [
       "OTTO-GPL\n",
       "1           1\n",
       "C08         1\n",
       "B95         1\n",
       "B82         1\n",
       "AN8         1\n",
       "           ..\n",
       "749         1\n",
       "748         1\n",
       "746         1\n",
       "731         1\n",
       "Z72         1\n",
       "Length: 91, dtype: int64"
      ]
     },
     "execution_count": 60,
     "metadata": {},
     "output_type": "execute_result"
    }
   ],
   "source": [
    "df1_GPL.value_counts()"
   ]
  },
  {
   "cell_type": "code",
   "execution_count": 61,
   "id": "4fc11814",
   "metadata": {},
   "outputs": [],
   "source": [
    "log2 = pd.merge(Part_no, log1, on='Part', how='inner')"
   ]
  },
  {
   "cell_type": "code",
   "execution_count": 62,
   "id": "01e067b4",
   "metadata": {},
   "outputs": [
    {
     "name": "stdout",
     "output_type": "stream",
     "text": [
      "<class 'pandas.core.frame.DataFrame'>\n",
      "Int64Index: 8092 entries, 0 to 8091\n",
      "Data columns (total 9 columns):\n",
      " #   Column       Non-Null Count  Dtype         \n",
      "---  ------       --------------  -----         \n",
      " 0   Part         8092 non-null   object        \n",
      " 1   OTTO-GPL     8092 non-null   object        \n",
      " 2   Part Type    8092 non-null   object        \n",
      " 3   Qty Ordered  8092 non-null   float64       \n",
      " 4   SO_Ord_date  8092 non-null   datetime64[ns]\n",
      " 5   Req_Date     8092 non-null   datetime64[ns]\n",
      " 6   Due_Date     8092 non-null   datetime64[ns]\n",
      " 7   Customer LT  8092 non-null   int64         \n",
      " 8   Shipping LT  8092 non-null   int64         \n",
      "dtypes: datetime64[ns](3), float64(1), int64(2), object(3)\n",
      "memory usage: 632.2+ KB\n"
     ]
    }
   ],
   "source": [
    "log2.info()"
   ]
  },
  {
   "cell_type": "code",
   "execution_count": 141,
   "id": "70bd2077",
   "metadata": {},
   "outputs": [],
   "source": [
    "# log2 = pd.merge(Part_no.to_frame(), log1, on='Part', how='inner')"
   ]
  },
  {
   "cell_type": "code",
   "execution_count": 63,
   "id": "a5e7b77d",
   "metadata": {},
   "outputs": [],
   "source": [
    "log2 = pd.merge(df1_GPL, log2, on='OTTO-GPL', how='inner')"
   ]
  },
  {
   "cell_type": "code",
   "execution_count": 64,
   "id": "ce1d8db7",
   "metadata": {},
   "outputs": [],
   "source": [
    "# このコードを流すとlog2のケース数が8000件から1000件に激減する→修正した\n",
    "# log2 = pd.merge(df1_GPL.to_frame(), log2, on='OTTO-GPL', how='inner')"
   ]
  },
  {
   "cell_type": "code",
   "execution_count": 65,
   "id": "e8f97a2c",
   "metadata": {},
   "outputs": [
    {
     "name": "stdout",
     "output_type": "stream",
     "text": [
      "<class 'pandas.core.frame.DataFrame'>\n",
      "Int64Index: 8092 entries, 0 to 8091\n",
      "Data columns (total 9 columns):\n",
      " #   Column       Non-Null Count  Dtype         \n",
      "---  ------       --------------  -----         \n",
      " 0   OTTO-GPL     8092 non-null   object        \n",
      " 1   Part         8092 non-null   object        \n",
      " 2   Part Type    8092 non-null   object        \n",
      " 3   Qty Ordered  8092 non-null   float64       \n",
      " 4   SO_Ord_date  8092 non-null   datetime64[ns]\n",
      " 5   Req_Date     8092 non-null   datetime64[ns]\n",
      " 6   Due_Date     8092 non-null   datetime64[ns]\n",
      " 7   Customer LT  8092 non-null   int64         \n",
      " 8   Shipping LT  8092 non-null   int64         \n",
      "dtypes: datetime64[ns](3), float64(1), int64(2), object(3)\n",
      "memory usage: 632.2+ KB\n"
     ]
    }
   ],
   "source": [
    "log2.info()"
   ]
  },
  {
   "cell_type": "code",
   "execution_count": 66,
   "id": "025f4a75",
   "metadata": {},
   "outputs": [
    {
     "data": {
      "text/plain": [
       "364    1576\n",
       "760     701\n",
       "753     671\n",
       "758     660\n",
       "755     542\n",
       "141     493\n",
       "750     391\n",
       "752     377\n",
       "151     351\n",
       "751     327\n",
       "749     284\n",
       "J71     274\n",
       "757     235\n",
       "B82     179\n",
       "Z72     169\n",
       "814     141\n",
       "KB1     125\n",
       "E82     102\n",
       "761      54\n",
       "C08      50\n",
       "AA5      50\n",
       "822      40\n",
       "JA2      35\n",
       "Z63      34\n",
       "AF8      33\n",
       "748      28\n",
       "E78      25\n",
       "E33      21\n",
       "819      19\n",
       "A27      18\n",
       "813      16\n",
       "827      15\n",
       "435      13\n",
       "K93      11\n",
       "G38       6\n",
       "C04       6\n",
       "E34       3\n",
       "AI9       2\n",
       "A26       2\n",
       "1         1\n",
       "A46       1\n",
       "B95       1\n",
       "210       1\n",
       "C88       1\n",
       "F30       1\n",
       "566       1\n",
       "F14       1\n",
       "806       1\n",
       "82        1\n",
       "44        1\n",
       "E77       1\n",
       "817       1\n",
       "Name: OTTO-GPL, dtype: int64"
      ]
     },
     "execution_count": 66,
     "metadata": {},
     "output_type": "execute_result"
    }
   ],
   "source": [
    "log2['OTTO-GPL'].value_counts()"
   ]
  },
  {
   "cell_type": "code",
   "execution_count": 68,
   "id": "110e05e4",
   "metadata": {},
   "outputs": [],
   "source": [
    "# training df用のパーツリスト作成\n",
    "Final_PartNo = log2['Part'].drop_duplicates()"
   ]
  },
  {
   "cell_type": "code",
   "execution_count": 69,
   "id": "368977ec",
   "metadata": {},
   "outputs": [],
   "source": [
    "Final_PartNo = pd.DataFrame(Final_PartNo)"
   ]
  },
  {
   "cell_type": "code",
   "execution_count": 71,
   "id": "48c6f496",
   "metadata": {},
   "outputs": [],
   "source": [
    "Final_GPL = log2['OTTO-GPL'].drop_duplicates()"
   ]
  },
  {
   "cell_type": "code",
   "execution_count": 72,
   "id": "b7155218",
   "metadata": {},
   "outputs": [],
   "source": [
    "Final_GPL = pd.DataFrame(Final_GPL)"
   ]
  },
  {
   "cell_type": "code",
   "execution_count": 73,
   "id": "0b198f77",
   "metadata": {},
   "outputs": [],
   "source": [
    "df2 = pd.merge(Final_PartNo, df1, on='Part', how='left')"
   ]
  },
  {
   "cell_type": "code",
   "execution_count": 74,
   "id": "d92c13f8",
   "metadata": {},
   "outputs": [
    {
     "name": "stdout",
     "output_type": "stream",
     "text": [
      "<class 'pandas.core.frame.DataFrame'>\n",
      "Int64Index: 112258 entries, 0 to 112257\n",
      "Data columns (total 8 columns):\n",
      " #   Column       Non-Null Count   Dtype         \n",
      "---  ------       --------------   -----         \n",
      " 0   Part         112258 non-null  object        \n",
      " 1   OTTO-GPL     112258 non-null  object        \n",
      " 2   Part Type    112258 non-null  object        \n",
      " 3   QtyInvoiced  112258 non-null  float64       \n",
      " 4   Ord-Dt       112258 non-null  datetime64[ns]\n",
      " 5   ReqDt        112258 non-null  datetime64[ns]\n",
      " 6   DueDt        112258 non-null  datetime64[ns]\n",
      " 7   InvoiceDt    112258 non-null  datetime64[ns]\n",
      "dtypes: datetime64[ns](4), float64(1), object(3)\n",
      "memory usage: 7.7+ MB\n"
     ]
    }
   ],
   "source": [
    "df2.info()"
   ]
  },
  {
   "cell_type": "code",
   "execution_count": 75,
   "id": "671e319f",
   "metadata": {},
   "outputs": [],
   "source": [
    "df2 = pd.merge(Final_GPL, df2, on='OTTO-GPL', how='left')"
   ]
  },
  {
   "cell_type": "code",
   "execution_count": 76,
   "id": "c436cf79",
   "metadata": {},
   "outputs": [
    {
     "name": "stdout",
     "output_type": "stream",
     "text": [
      "<class 'pandas.core.frame.DataFrame'>\n",
      "Int64Index: 112258 entries, 0 to 112257\n",
      "Data columns (total 8 columns):\n",
      " #   Column       Non-Null Count   Dtype         \n",
      "---  ------       --------------   -----         \n",
      " 0   OTTO-GPL     112258 non-null  object        \n",
      " 1   Part         112258 non-null  object        \n",
      " 2   Part Type    112258 non-null  object        \n",
      " 3   QtyInvoiced  112258 non-null  float64       \n",
      " 4   Ord-Dt       112258 non-null  datetime64[ns]\n",
      " 5   ReqDt        112258 non-null  datetime64[ns]\n",
      " 6   DueDt        112258 non-null  datetime64[ns]\n",
      " 7   InvoiceDt    112258 non-null  datetime64[ns]\n",
      "dtypes: datetime64[ns](4), float64(1), object(3)\n",
      "memory usage: 7.7+ MB\n"
     ]
    }
   ],
   "source": [
    "df2.info()"
   ]
  },
  {
   "cell_type": "markdown",
   "id": "68580205",
   "metadata": {},
   "source": [
    "### ↑ training用とpredict用のデータセットで部品数、Part Type、GPLが一致した。"
   ]
  },
  {
   "cell_type": "code",
   "execution_count": null,
   "id": "246ff16c",
   "metadata": {},
   "outputs": [],
   "source": []
  },
  {
   "cell_type": "code",
   "execution_count": 77,
   "id": "13f4f75c",
   "metadata": {},
   "outputs": [
    {
     "name": "stdout",
     "output_type": "stream",
     "text": [
      "<class 'pandas.core.frame.DataFrame'>\n",
      "Int64Index: 8092 entries, 0 to 8091\n",
      "Data columns (total 9 columns):\n",
      " #   Column       Non-Null Count  Dtype         \n",
      "---  ------       --------------  -----         \n",
      " 0   OTTO-GPL     8092 non-null   object        \n",
      " 1   Part         8092 non-null   object        \n",
      " 2   Part Type    8092 non-null   object        \n",
      " 3   Qty Ordered  8092 non-null   float64       \n",
      " 4   SO_Ord_date  8092 non-null   datetime64[ns]\n",
      " 5   Req_Date     8092 non-null   datetime64[ns]\n",
      " 6   Due_Date     8092 non-null   datetime64[ns]\n",
      " 7   Customer LT  8092 non-null   int64         \n",
      " 8   Shipping LT  8092 non-null   int64         \n",
      "dtypes: datetime64[ns](3), float64(1), int64(2), object(3)\n",
      "memory usage: 632.2+ KB\n"
     ]
    }
   ],
   "source": [
    "log2.info()"
   ]
  },
  {
   "cell_type": "code",
   "execution_count": 78,
   "id": "7f6210e1",
   "metadata": {},
   "outputs": [
    {
     "ename": "OSError",
     "evalue": "[Errno 22] Invalid argument",
     "output_type": "error",
     "traceback": [
      "\u001b[1;31m---------------------------------------------------------------------------\u001b[0m",
      "\u001b[1;31mOSError\u001b[0m                                   Traceback (most recent call last)",
      "\u001b[1;32m~\\AppData\\Local\\Temp\\ipykernel_18008\\422995558.py\u001b[0m in \u001b[0;36m<module>\u001b[1;34m\u001b[0m\n\u001b[0;32m      9\u001b[0m \u001b[0mlog2\u001b[0m\u001b[1;33m[\u001b[0m\u001b[1;34m'Req_Date'\u001b[0m\u001b[1;33m]\u001b[0m \u001b[1;33m=\u001b[0m \u001b[0mpd\u001b[0m\u001b[1;33m.\u001b[0m\u001b[0mto_datetime\u001b[0m\u001b[1;33m(\u001b[0m\u001b[0mlog2\u001b[0m\u001b[1;33m[\u001b[0m\u001b[1;34m'Req_Date'\u001b[0m\u001b[1;33m]\u001b[0m\u001b[1;33m)\u001b[0m\u001b[1;33m\u001b[0m\u001b[1;33m\u001b[0m\u001b[0m\n\u001b[0;32m     10\u001b[0m \u001b[1;31m# Convert datetime to Unix timestamp\u001b[0m\u001b[1;33m\u001b[0m\u001b[1;33m\u001b[0m\u001b[1;33m\u001b[0m\u001b[0m\n\u001b[1;32m---> 11\u001b[1;33m \u001b[0mlog2\u001b[0m\u001b[1;33m[\u001b[0m\u001b[1;34m'ReqDt_Euc'\u001b[0m\u001b[1;33m]\u001b[0m \u001b[1;33m=\u001b[0m \u001b[0mlog2\u001b[0m\u001b[1;33m[\u001b[0m\u001b[1;34m'Req_Date'\u001b[0m\u001b[1;33m]\u001b[0m\u001b[1;33m.\u001b[0m\u001b[0mapply\u001b[0m\u001b[1;33m(\u001b[0m\u001b[1;32mlambda\u001b[0m \u001b[0mx\u001b[0m\u001b[1;33m:\u001b[0m \u001b[0mx\u001b[0m\u001b[1;33m.\u001b[0m\u001b[0mto_pydatetime\u001b[0m\u001b[1;33m(\u001b[0m\u001b[1;33m)\u001b[0m\u001b[1;33m.\u001b[0m\u001b[0mtimestamp\u001b[0m\u001b[1;33m(\u001b[0m\u001b[1;33m)\u001b[0m\u001b[1;33m)\u001b[0m\u001b[1;33m\u001b[0m\u001b[1;33m\u001b[0m\u001b[0m\n\u001b[0m\u001b[0;32m     12\u001b[0m \u001b[1;33m\u001b[0m\u001b[0m\n\u001b[0;32m     13\u001b[0m \u001b[1;31m# Convert 'Ord-Dt' column to datetime\u001b[0m\u001b[1;33m\u001b[0m\u001b[1;33m\u001b[0m\u001b[1;33m\u001b[0m\u001b[0m\n",
      "\u001b[1;32m~\\Anaconda3\\lib\\site-packages\\pandas\\core\\series.py\u001b[0m in \u001b[0;36mapply\u001b[1;34m(self, func, convert_dtype, args, **kwargs)\u001b[0m\n\u001b[0;32m   4355\u001b[0m         \u001b[0mdtype\u001b[0m\u001b[1;33m:\u001b[0m \u001b[0mfloat64\u001b[0m\u001b[1;33m\u001b[0m\u001b[1;33m\u001b[0m\u001b[0m\n\u001b[0;32m   4356\u001b[0m         \"\"\"\n\u001b[1;32m-> 4357\u001b[1;33m         \u001b[1;32mreturn\u001b[0m \u001b[0mSeriesApply\u001b[0m\u001b[1;33m(\u001b[0m\u001b[0mself\u001b[0m\u001b[1;33m,\u001b[0m \u001b[0mfunc\u001b[0m\u001b[1;33m,\u001b[0m \u001b[0mconvert_dtype\u001b[0m\u001b[1;33m,\u001b[0m \u001b[0margs\u001b[0m\u001b[1;33m,\u001b[0m \u001b[0mkwargs\u001b[0m\u001b[1;33m)\u001b[0m\u001b[1;33m.\u001b[0m\u001b[0mapply\u001b[0m\u001b[1;33m(\u001b[0m\u001b[1;33m)\u001b[0m\u001b[1;33m\u001b[0m\u001b[1;33m\u001b[0m\u001b[0m\n\u001b[0m\u001b[0;32m   4358\u001b[0m \u001b[1;33m\u001b[0m\u001b[0m\n\u001b[0;32m   4359\u001b[0m     def _reduce(\n",
      "\u001b[1;32m~\\Anaconda3\\lib\\site-packages\\pandas\\core\\apply.py\u001b[0m in \u001b[0;36mapply\u001b[1;34m(self)\u001b[0m\n\u001b[0;32m   1041\u001b[0m             \u001b[1;32mreturn\u001b[0m \u001b[0mself\u001b[0m\u001b[1;33m.\u001b[0m\u001b[0mapply_str\u001b[0m\u001b[1;33m(\u001b[0m\u001b[1;33m)\u001b[0m\u001b[1;33m\u001b[0m\u001b[1;33m\u001b[0m\u001b[0m\n\u001b[0;32m   1042\u001b[0m \u001b[1;33m\u001b[0m\u001b[0m\n\u001b[1;32m-> 1043\u001b[1;33m         \u001b[1;32mreturn\u001b[0m \u001b[0mself\u001b[0m\u001b[1;33m.\u001b[0m\u001b[0mapply_standard\u001b[0m\u001b[1;33m(\u001b[0m\u001b[1;33m)\u001b[0m\u001b[1;33m\u001b[0m\u001b[1;33m\u001b[0m\u001b[0m\n\u001b[0m\u001b[0;32m   1044\u001b[0m \u001b[1;33m\u001b[0m\u001b[0m\n\u001b[0;32m   1045\u001b[0m     \u001b[1;32mdef\u001b[0m \u001b[0magg\u001b[0m\u001b[1;33m(\u001b[0m\u001b[0mself\u001b[0m\u001b[1;33m)\u001b[0m\u001b[1;33m:\u001b[0m\u001b[1;33m\u001b[0m\u001b[1;33m\u001b[0m\u001b[0m\n",
      "\u001b[1;32m~\\Anaconda3\\lib\\site-packages\\pandas\\core\\apply.py\u001b[0m in \u001b[0;36mapply_standard\u001b[1;34m(self)\u001b[0m\n\u001b[0;32m   1099\u001b[0m                     \u001b[0mvalues\u001b[0m\u001b[1;33m,\u001b[0m\u001b[1;33m\u001b[0m\u001b[1;33m\u001b[0m\u001b[0m\n\u001b[0;32m   1100\u001b[0m                     \u001b[0mf\u001b[0m\u001b[1;33m,\u001b[0m  \u001b[1;31m# type: ignore[arg-type]\u001b[0m\u001b[1;33m\u001b[0m\u001b[1;33m\u001b[0m\u001b[0m\n\u001b[1;32m-> 1101\u001b[1;33m                     \u001b[0mconvert\u001b[0m\u001b[1;33m=\u001b[0m\u001b[0mself\u001b[0m\u001b[1;33m.\u001b[0m\u001b[0mconvert_dtype\u001b[0m\u001b[1;33m,\u001b[0m\u001b[1;33m\u001b[0m\u001b[1;33m\u001b[0m\u001b[0m\n\u001b[0m\u001b[0;32m   1102\u001b[0m                 )\n\u001b[0;32m   1103\u001b[0m \u001b[1;33m\u001b[0m\u001b[0m\n",
      "\u001b[1;32m~\\Anaconda3\\lib\\site-packages\\pandas\\_libs\\lib.pyx\u001b[0m in \u001b[0;36mpandas._libs.lib.map_infer\u001b[1;34m()\u001b[0m\n",
      "\u001b[1;32m~\\AppData\\Local\\Temp\\ipykernel_18008\\422995558.py\u001b[0m in \u001b[0;36m<lambda>\u001b[1;34m(x)\u001b[0m\n\u001b[0;32m      9\u001b[0m \u001b[0mlog2\u001b[0m\u001b[1;33m[\u001b[0m\u001b[1;34m'Req_Date'\u001b[0m\u001b[1;33m]\u001b[0m \u001b[1;33m=\u001b[0m \u001b[0mpd\u001b[0m\u001b[1;33m.\u001b[0m\u001b[0mto_datetime\u001b[0m\u001b[1;33m(\u001b[0m\u001b[0mlog2\u001b[0m\u001b[1;33m[\u001b[0m\u001b[1;34m'Req_Date'\u001b[0m\u001b[1;33m]\u001b[0m\u001b[1;33m)\u001b[0m\u001b[1;33m\u001b[0m\u001b[1;33m\u001b[0m\u001b[0m\n\u001b[0;32m     10\u001b[0m \u001b[1;31m# Convert datetime to Unix timestamp\u001b[0m\u001b[1;33m\u001b[0m\u001b[1;33m\u001b[0m\u001b[1;33m\u001b[0m\u001b[0m\n\u001b[1;32m---> 11\u001b[1;33m \u001b[0mlog2\u001b[0m\u001b[1;33m[\u001b[0m\u001b[1;34m'ReqDt_Euc'\u001b[0m\u001b[1;33m]\u001b[0m \u001b[1;33m=\u001b[0m \u001b[0mlog2\u001b[0m\u001b[1;33m[\u001b[0m\u001b[1;34m'Req_Date'\u001b[0m\u001b[1;33m]\u001b[0m\u001b[1;33m.\u001b[0m\u001b[0mapply\u001b[0m\u001b[1;33m(\u001b[0m\u001b[1;32mlambda\u001b[0m \u001b[0mx\u001b[0m\u001b[1;33m:\u001b[0m \u001b[0mx\u001b[0m\u001b[1;33m.\u001b[0m\u001b[0mto_pydatetime\u001b[0m\u001b[1;33m(\u001b[0m\u001b[1;33m)\u001b[0m\u001b[1;33m.\u001b[0m\u001b[0mtimestamp\u001b[0m\u001b[1;33m(\u001b[0m\u001b[1;33m)\u001b[0m\u001b[1;33m)\u001b[0m\u001b[1;33m\u001b[0m\u001b[1;33m\u001b[0m\u001b[0m\n\u001b[0m\u001b[0;32m     12\u001b[0m \u001b[1;33m\u001b[0m\u001b[0m\n\u001b[0;32m     13\u001b[0m \u001b[1;31m# Convert 'Ord-Dt' column to datetime\u001b[0m\u001b[1;33m\u001b[0m\u001b[1;33m\u001b[0m\u001b[1;33m\u001b[0m\u001b[0m\n",
      "\u001b[1;31mOSError\u001b[0m: [Errno 22] Invalid argument"
     ]
    }
   ],
   "source": [
    "from datetime import datetime\n",
    "\n",
    "# Convert 'Ord-Dt' column to datetime\n",
    "log2['SO_Ord_date'] = pd.to_datetime(log2['SO_Ord_date'])\n",
    "# Convert datetime to Unix timestamp\n",
    "log2['Ord_dt_Euc'] = log2['SO_Ord_date'].apply(lambda x: x.to_pydatetime().timestamp())\n",
    "\n",
    "# Convert 'Ord-Dt' column to datetime\n",
    "log2['Req_Date'] = pd.to_datetime(log2['Req_Date'])\n",
    "# Convert datetime to Unix timestamp\n",
    "log2['ReqDt_Euc'] = log2['Req_Date'].apply(lambda x: x.to_pydatetime().timestamp())\n",
    "\n",
    "# Convert 'Ord-Dt' column to datetime\n",
    "log2['Due_Date'] = pd.to_datetime(log2['Due_Date'])\n",
    "# Convert datetime to Unix timestamp\n",
    "log2['DueDt_Euc'] = log2['Due_Date'].apply(lambda x: x.to_pydatetime().timestamp())\n"
   ]
  },
  {
   "cell_type": "code",
   "execution_count": 79,
   "id": "738b98fe",
   "metadata": {},
   "outputs": [
    {
     "data": {
      "text/plain": [
       "{'ATO', 'COMP', 'MTO', 'MTS', 'MTSQS'}"
      ]
     },
     "execution_count": 79,
     "metadata": {},
     "output_type": "execute_result"
    }
   ],
   "source": [
    "set(log2['Part Type'])"
   ]
  },
  {
   "cell_type": "code",
   "execution_count": 80,
   "id": "3a58fc6d",
   "metadata": {},
   "outputs": [
    {
     "data": {
      "text/plain": [
       "{1,\n",
       " 141,\n",
       " 151,\n",
       " 210,\n",
       " 364,\n",
       " 435,\n",
       " 44,\n",
       " 566,\n",
       " 748,\n",
       " 749,\n",
       " 750,\n",
       " 751,\n",
       " 752,\n",
       " 753,\n",
       " 755,\n",
       " 757,\n",
       " 758,\n",
       " 760,\n",
       " 761,\n",
       " 806,\n",
       " 813,\n",
       " 814,\n",
       " 817,\n",
       " 819,\n",
       " 82,\n",
       " 822,\n",
       " 827,\n",
       " 'A26',\n",
       " 'A27',\n",
       " 'A46',\n",
       " 'AA5',\n",
       " 'AF8',\n",
       " 'AI9',\n",
       " 'B82',\n",
       " 'B95',\n",
       " 'C04',\n",
       " 'C08',\n",
       " 'C88',\n",
       " 'E33',\n",
       " 'E34',\n",
       " 'E77',\n",
       " 'E78',\n",
       " 'E82',\n",
       " 'F14',\n",
       " 'F30',\n",
       " 'G38',\n",
       " 'J71',\n",
       " 'JA2',\n",
       " 'K93',\n",
       " 'KB1',\n",
       " 'Z63',\n",
       " 'Z72'}"
      ]
     },
     "execution_count": 80,
     "metadata": {},
     "output_type": "execute_result"
    }
   ],
   "source": [
    "set(log2['OTTO-GPL'])"
   ]
  },
  {
   "cell_type": "code",
   "execution_count": 81,
   "id": "d62e42bb",
   "metadata": {},
   "outputs": [],
   "source": [
    "# Identify the columns containing string variables\n",
    "string_columns = ['Part', 'OTTO-GPL', 'Part Type']\n",
    "\n",
    "# Perform one-hot encoding\n",
    "dummy_variables = pd.get_dummies(log2[string_columns])\n",
    "\n",
    "# Concatenate the dummy variables with the original dataset\n",
    "log1_encoded = pd.concat([log2, dummy_variables], axis=1)\n",
    "\n",
    "# Drop the original string columns if needed\n",
    "log3 = log1_encoded.drop(string_columns, axis=1)\n"
   ]
  },
  {
   "cell_type": "code",
   "execution_count": 82,
   "id": "2138e4ca",
   "metadata": {},
   "outputs": [
    {
     "name": "stdout",
     "output_type": "stream",
     "text": [
      "<class 'pandas.core.frame.DataFrame'>\n",
      "Int64Index: 8092 entries, 0 to 8091\n",
      "Columns: 2230 entries, Qty Ordered to Part Type_MTSQS\n",
      "dtypes: datetime64[ns](3), float64(2), int64(2), uint8(2223)\n",
      "memory usage: 17.6 MB\n"
     ]
    }
   ],
   "source": [
    "log3.info()"
   ]
  },
  {
   "cell_type": "code",
   "execution_count": 83,
   "id": "4a2ed8fa",
   "metadata": {},
   "outputs": [],
   "source": [
    "log3.rename(columns={'Part-Type':'Part_Type',\n",
    "                     'OTTO-GPL':'OTTO_GPL',\n",
    "                     'Qty Ordered':'QtyInvoiced',\n",
    "                     'Part_Type_(blank)':'Part Type_(blank)',\n",
    "                     'Part_Type_ATO':'Part Type_ATO',\n",
    "                     'Part_Type_COMP':'Part Type_COMP',\n",
    "                     'Part_Type_MTS':'Part Type_MTS',\n",
    "                     'Part_Type_MTSQS':'Part Type_MTSQS',\n",
    "                     'SO_Ord_date_Euc':'Ord-Dt_Euc',\n",
    "                     'Req_Date_Euc':'ReqDt_Euc',\n",
    "                     'Due_Date_Euc':'DueDt_Euc'}, inplace=True)"
   ]
  },
  {
   "cell_type": "code",
   "execution_count": 84,
   "id": "dbb9888a",
   "metadata": {},
   "outputs": [],
   "source": [
    "# given from ChatGPT as a solution for the code above, but it still doesn't work."
   ]
  },
  {
   "cell_type": "code",
   "execution_count": 85,
   "id": "7e7d9e20",
   "metadata": {
    "scrolled": true
   },
   "outputs": [],
   "source": [
    "\n",
    "\n",
    "# from datetime import datetime\n",
    "\n",
    "# # Convert 'Ord-Dt' column to datetime\n",
    "# log3['SO_Ord_date'] = pd.to_datetime(log3['SO_Ord_date'])\n",
    "# # Convert datetime to Unix timestamp\n",
    "# log3['SO_Ord_date_Euc'] = log3['SO_Ord_date'].apply(lambda x: x.to_pydatetime().timestamp() if pd.notnull(x) else None)\n",
    "\n",
    "# # Convert 'Req_Date' column to datetime\n",
    "# log3['Req_Date'] = pd.to_datetime(log3['Req_Date'])\n",
    "# # Convert datetime to Unix timestamp\n",
    "# log3['Req_Date_Euc'] = log3['Req_Date'].apply(lambda x: x.to_pydatetime().timestamp() if pd.notnull(x) else None)\n",
    "\n",
    "# # Convert 'Due_Date' column to datetime\n",
    "# log3['Due_Date'] = pd.to_datetime(log3['Due_Date'])\n",
    "# # Convert datetime to Unix timestamp\n",
    "# log3['Due_Date_Euc'] = log3['Due_Date'].apply(lambda x: x.to_pydatetime().timestamp() if pd.notnull(x) else None)\n"
   ]
  },
  {
   "cell_type": "code",
   "execution_count": null,
   "id": "a04cc57b",
   "metadata": {},
   "outputs": [],
   "source": []
  },
  {
   "cell_type": "code",
   "execution_count": null,
   "id": "d5c1eb03",
   "metadata": {},
   "outputs": [],
   "source": []
  },
  {
   "cell_type": "markdown",
   "id": "c4753400",
   "metadata": {},
   "source": [
    "### Training DFとPrediction DFの項目数を合わせた後で、Training DFの残りのプロセスと学習を始める"
   ]
  },
  {
   "cell_type": "code",
   "execution_count": null,
   "id": "a4b99b10",
   "metadata": {},
   "outputs": [],
   "source": []
  },
  {
   "cell_type": "code",
   "execution_count": null,
   "id": "b9ebb1bf",
   "metadata": {},
   "outputs": [],
   "source": []
  },
  {
   "cell_type": "code",
   "execution_count": null,
   "id": "efce6697",
   "metadata": {},
   "outputs": [],
   "source": []
  },
  {
   "cell_type": "code",
   "execution_count": 86,
   "id": "e8d4f1aa",
   "metadata": {},
   "outputs": [],
   "source": [
    "# Replace '?' with a default value\n",
    "df2['ReqDt'].replace('?', '1970-01-01', inplace=True)\n",
    "\n",
    "# Convert to datetime64\n",
    "df2['ReqDt'] = pd.to_datetime(df2['ReqDt'], errors='coerce')\n"
   ]
  },
  {
   "cell_type": "code",
   "execution_count": 87,
   "id": "195a52d7",
   "metadata": {},
   "outputs": [],
   "source": [
    "# Replace '?' with a default value\n",
    "df2['DueDt'].replace('?', '1970-01-01', inplace=True)\n",
    "\n",
    "# Convert to datetime64\n",
    "df2['DueDt'] = pd.to_datetime(df2['DueDt'], errors='coerce')\n"
   ]
  },
  {
   "cell_type": "code",
   "execution_count": 88,
   "id": "2d377656",
   "metadata": {},
   "outputs": [
    {
     "name": "stdout",
     "output_type": "stream",
     "text": [
      "5\n"
     ]
    }
   ],
   "source": [
    "# Assuming you have a DataFrame called df2 with a column named 'Ord-Dt'\n",
    "count = df2['Ord-Dt'].astype(str).str.contains('1949-', na=False).sum()\n",
    "print(count)"
   ]
  },
  {
   "cell_type": "code",
   "execution_count": 89,
   "id": "b6db6cc2",
   "metadata": {},
   "outputs": [],
   "source": [
    "df2 = df2[df2['Ord-Dt']> '2000-01-01']"
   ]
  },
  {
   "cell_type": "code",
   "execution_count": 90,
   "id": "e17a58e1",
   "metadata": {},
   "outputs": [],
   "source": [
    "df2 = df2[df2['ReqDt']> '2000-01-01']"
   ]
  },
  {
   "cell_type": "code",
   "execution_count": 91,
   "id": "19f28e63",
   "metadata": {},
   "outputs": [],
   "source": [
    "df2 = df2[df2['DueDt']> '2000-01-01']"
   ]
  },
  {
   "cell_type": "code",
   "execution_count": 92,
   "id": "490a91c5",
   "metadata": {},
   "outputs": [],
   "source": [
    "df2 = df2[df2['InvoiceDt']> '2000-01-01']"
   ]
  },
  {
   "cell_type": "code",
   "execution_count": 93,
   "id": "bfb77905",
   "metadata": {},
   "outputs": [
    {
     "data": {
      "text/plain": [
       "Timestamp('2021-06-14 00:00:00')"
      ]
     },
     "execution_count": 93,
     "metadata": {},
     "output_type": "execute_result"
    }
   ],
   "source": [
    "df2['InvoiceDt'].min()"
   ]
  },
  {
   "cell_type": "code",
   "execution_count": 94,
   "id": "dac4161f",
   "metadata": {},
   "outputs": [],
   "source": [
    "# C_LT = []\n",
    "# for i in range(len(df2['ReqDt'])):\n",
    "#     timedelta = df2['ReqDt'][i] - df2['Ord-Dt'][i]\n",
    "#     timedelta_days = timedelta.days  # Extract the number of days from the timedelta object\n",
    "#     if -1000 < timedelta_days < 1000:\n",
    "#         C_LT.append(timedelta_days)\n",
    "#     else:\n",
    "#         C_LT.append(0)\n",
    "\n",
    "# df2['Customer LT'] = C_LT"
   ]
  },
  {
   "cell_type": "code",
   "execution_count": 95,
   "id": "69826fe2",
   "metadata": {},
   "outputs": [],
   "source": [
    "# S_LT = []\n",
    "# for i in range(len(df2['Ord-Dt'])):\n",
    "#     timedelta = df2['InvoiceDt'][i] - df2['Ord-Dt'][i]\n",
    "#     timedelta_days = timedelta.days  # Extract the number of days from the timedelta object\n",
    "#     if -1000 < timedelta_days < 1000:\n",
    "#         S_LT.append(timedelta_days)\n",
    "#     else:\n",
    "#         S_LT.append(0)\n",
    "\n",
    "# df2['Shipping LT'] = S_LT"
   ]
  },
  {
   "cell_type": "code",
   "execution_count": 96,
   "id": "b74ea38f",
   "metadata": {},
   "outputs": [],
   "source": [
    "C_LT = []\n",
    "for index, row in df2.iterrows():\n",
    "    timedelta = row['ReqDt'] - row['Ord-Dt']\n",
    "    timedelta_days = timedelta.days  # Extract the number of days from the timedelta object\n",
    "    if -1000 < timedelta_days < 1000:\n",
    "        C_LT.append(timedelta_days)\n",
    "    else:\n",
    "        C_LT.append(0)\n",
    "\n",
    "df2['Customer LT'] = C_LT\n"
   ]
  },
  {
   "cell_type": "code",
   "execution_count": 97,
   "id": "53430c89",
   "metadata": {},
   "outputs": [],
   "source": [
    "S_LT = []\n",
    "for index, row in df2.iterrows():\n",
    "    timedelta = row['InvoiceDt'] - row['Ord-Dt']\n",
    "    timedelta_days = timedelta.days  # Extract the number of days from the timedelta object\n",
    "    if -1000 < timedelta_days < 1000:\n",
    "        S_LT.append(timedelta_days)\n",
    "    else:\n",
    "        S_LT.append(0)\n",
    "\n",
    "df2['Shipping LT'] = S_LT\n"
   ]
  },
  {
   "cell_type": "code",
   "execution_count": 98,
   "id": "6688f2f3",
   "metadata": {},
   "outputs": [
    {
     "data": {
      "text/plain": [
       "871788-000    1683\n",
       "360954-000    1432\n",
       "197886-000     978\n",
       "268120-000     916\n",
       "244890-000     830\n",
       "              ... \n",
       "EN3742-055       1\n",
       "EN3750-922       1\n",
       "EN3742-188       1\n",
       "EN3750-016       1\n",
       "ES1847-000       1\n",
       "Name: Part, Length: 2164, dtype: int64"
      ]
     },
     "execution_count": 98,
     "metadata": {},
     "output_type": "execute_result"
    }
   ],
   "source": [
    "df2['Part'].value_counts()"
   ]
  },
  {
   "cell_type": "code",
   "execution_count": 99,
   "id": "321e9b3d",
   "metadata": {},
   "outputs": [
    {
     "data": {
      "text/plain": [
       "MTS      64289\n",
       "MTSQS    20836\n",
       "ATO      19083\n",
       "MTO       7390\n",
       "COMP         5\n",
       "Name: Part Type, dtype: int64"
      ]
     },
     "execution_count": 99,
     "metadata": {},
     "output_type": "execute_result"
    }
   ],
   "source": [
    "df2['Part Type'].value_counts()"
   ]
  },
  {
   "cell_type": "code",
   "execution_count": 100,
   "id": "47d4427a",
   "metadata": {},
   "outputs": [
    {
     "data": {
      "text/plain": [
       "364    26418\n",
       "760    16856\n",
       "755     9898\n",
       "753     9500\n",
       "749     6917\n",
       "752     6275\n",
       "751     4799\n",
       "758     4420\n",
       "750     3868\n",
       "141     3798\n",
       "151     3056\n",
       "814     2985\n",
       "J71     2180\n",
       "Z72     1798\n",
       "761     1394\n",
       "E82     1231\n",
       "757      932\n",
       "C08      928\n",
       "KB1      811\n",
       "B82      549\n",
       "E33      529\n",
       "AA5      329\n",
       "822      294\n",
       "819      265\n",
       "748      220\n",
       "435      197\n",
       "Z63      197\n",
       "JA2      174\n",
       "F14      168\n",
       "A27      127\n",
       "E78       85\n",
       "813       79\n",
       "E34       71\n",
       "G38       65\n",
       "AF8       41\n",
       "C04       37\n",
       "827       31\n",
       "AI9       18\n",
       "K93       17\n",
       "566        8\n",
       "210        7\n",
       "B95        6\n",
       "C88        5\n",
       "1          4\n",
       "806        3\n",
       "E77        2\n",
       "44         2\n",
       "82         2\n",
       "A26        2\n",
       "A46        2\n",
       "817        2\n",
       "F30        1\n",
       "Name: OTTO-GPL, dtype: int64"
      ]
     },
     "execution_count": 100,
     "metadata": {},
     "output_type": "execute_result"
    }
   ],
   "source": [
    "df2['OTTO-GPL'].value_counts()"
   ]
  },
  {
   "cell_type": "code",
   "execution_count": 101,
   "id": "887fa238",
   "metadata": {},
   "outputs": [
    {
     "data": {
      "text/html": [
       "<div>\n",
       "<style scoped>\n",
       "    .dataframe tbody tr th:only-of-type {\n",
       "        vertical-align: middle;\n",
       "    }\n",
       "\n",
       "    .dataframe tbody tr th {\n",
       "        vertical-align: top;\n",
       "    }\n",
       "\n",
       "    .dataframe thead th {\n",
       "        text-align: right;\n",
       "    }\n",
       "</style>\n",
       "<table border=\"1\" class=\"dataframe\">\n",
       "  <thead>\n",
       "    <tr style=\"text-align: right;\">\n",
       "      <th></th>\n",
       "      <th>count</th>\n",
       "      <th>mean</th>\n",
       "      <th>std</th>\n",
       "      <th>min</th>\n",
       "      <th>25%</th>\n",
       "      <th>50%</th>\n",
       "      <th>75%</th>\n",
       "      <th>max</th>\n",
       "    </tr>\n",
       "  </thead>\n",
       "  <tbody>\n",
       "    <tr>\n",
       "      <th>QtyInvoiced</th>\n",
       "      <td>111603.0</td>\n",
       "      <td>615.887971</td>\n",
       "      <td>7856.581456</td>\n",
       "      <td>-120000.0</td>\n",
       "      <td>10.0</td>\n",
       "      <td>40.0</td>\n",
       "      <td>150.0</td>\n",
       "      <td>642000.0</td>\n",
       "    </tr>\n",
       "    <tr>\n",
       "      <th>Customer LT</th>\n",
       "      <td>111603.0</td>\n",
       "      <td>28.069344</td>\n",
       "      <td>40.027039</td>\n",
       "      <td>-709.0</td>\n",
       "      <td>5.0</td>\n",
       "      <td>14.0</td>\n",
       "      <td>35.0</td>\n",
       "      <td>677.0</td>\n",
       "    </tr>\n",
       "    <tr>\n",
       "      <th>Shipping LT</th>\n",
       "      <td>111603.0</td>\n",
       "      <td>49.039990</td>\n",
       "      <td>63.530880</td>\n",
       "      <td>0.0</td>\n",
       "      <td>6.0</td>\n",
       "      <td>25.0</td>\n",
       "      <td>69.0</td>\n",
       "      <td>818.0</td>\n",
       "    </tr>\n",
       "  </tbody>\n",
       "</table>\n",
       "</div>"
      ],
      "text/plain": [
       "                count        mean          std       min   25%   50%    75%  \\\n",
       "QtyInvoiced  111603.0  615.887971  7856.581456 -120000.0  10.0  40.0  150.0   \n",
       "Customer LT  111603.0   28.069344    40.027039    -709.0   5.0  14.0   35.0   \n",
       "Shipping LT  111603.0   49.039990    63.530880       0.0   6.0  25.0   69.0   \n",
       "\n",
       "                  max  \n",
       "QtyInvoiced  642000.0  \n",
       "Customer LT     677.0  \n",
       "Shipping LT     818.0  "
      ]
     },
     "execution_count": 101,
     "metadata": {},
     "output_type": "execute_result"
    }
   ],
   "source": [
    "df2.describe().transpose()"
   ]
  },
  {
   "cell_type": "code",
   "execution_count": 102,
   "id": "9b02a204",
   "metadata": {},
   "outputs": [
    {
     "data": {
      "text/html": [
       "<div>\n",
       "<style scoped>\n",
       "    .dataframe tbody tr th:only-of-type {\n",
       "        vertical-align: middle;\n",
       "    }\n",
       "\n",
       "    .dataframe tbody tr th {\n",
       "        vertical-align: top;\n",
       "    }\n",
       "\n",
       "    .dataframe thead th {\n",
       "        text-align: right;\n",
       "    }\n",
       "</style>\n",
       "<table border=\"1\" class=\"dataframe\">\n",
       "  <thead>\n",
       "    <tr style=\"text-align: right;\">\n",
       "      <th></th>\n",
       "      <th>Part</th>\n",
       "      <th>QtyInvoiced</th>\n",
       "      <th>Customer LT</th>\n",
       "      <th>Shipping LT</th>\n",
       "    </tr>\n",
       "  </thead>\n",
       "  <tbody>\n",
       "    <tr>\n",
       "      <th>0</th>\n",
       "      <td>000144-000</td>\n",
       "      <td>25.875000</td>\n",
       "      <td>65.687500</td>\n",
       "      <td>252.875000</td>\n",
       "    </tr>\n",
       "    <tr>\n",
       "      <th>1</th>\n",
       "      <td>004049-000</td>\n",
       "      <td>68.400000</td>\n",
       "      <td>48.333333</td>\n",
       "      <td>68.266667</td>\n",
       "    </tr>\n",
       "    <tr>\n",
       "      <th>2</th>\n",
       "      <td>004354-000</td>\n",
       "      <td>251.500000</td>\n",
       "      <td>24.000000</td>\n",
       "      <td>77.333333</td>\n",
       "    </tr>\n",
       "    <tr>\n",
       "      <th>3</th>\n",
       "      <td>007356-000</td>\n",
       "      <td>179.595092</td>\n",
       "      <td>36.717791</td>\n",
       "      <td>48.773006</td>\n",
       "    </tr>\n",
       "    <tr>\n",
       "      <th>4</th>\n",
       "      <td>008440-000</td>\n",
       "      <td>789.332707</td>\n",
       "      <td>32.560150</td>\n",
       "      <td>50.693609</td>\n",
       "    </tr>\n",
       "    <tr>\n",
       "      <th>...</th>\n",
       "      <td>...</td>\n",
       "      <td>...</td>\n",
       "      <td>...</td>\n",
       "      <td>...</td>\n",
       "    </tr>\n",
       "    <tr>\n",
       "      <th>2159</th>\n",
       "      <td>PA2222-000</td>\n",
       "      <td>9.263158</td>\n",
       "      <td>58.578947</td>\n",
       "      <td>66.473684</td>\n",
       "    </tr>\n",
       "    <tr>\n",
       "      <th>2160</th>\n",
       "      <td>R35123-000</td>\n",
       "      <td>9.642857</td>\n",
       "      <td>31.000000</td>\n",
       "      <td>15.142857</td>\n",
       "    </tr>\n",
       "    <tr>\n",
       "      <th>2161</th>\n",
       "      <td>RG3521-000</td>\n",
       "      <td>5.600000</td>\n",
       "      <td>28.266667</td>\n",
       "      <td>13.066667</td>\n",
       "    </tr>\n",
       "    <tr>\n",
       "      <th>2162</th>\n",
       "      <td>TH7438-000</td>\n",
       "      <td>111.733333</td>\n",
       "      <td>85.600000</td>\n",
       "      <td>71.466667</td>\n",
       "    </tr>\n",
       "    <tr>\n",
       "      <th>2163</th>\n",
       "      <td>Y12345-000</td>\n",
       "      <td>632.224719</td>\n",
       "      <td>21.235955</td>\n",
       "      <td>37.303371</td>\n",
       "    </tr>\n",
       "  </tbody>\n",
       "</table>\n",
       "<p>2164 rows × 4 columns</p>\n",
       "</div>"
      ],
      "text/plain": [
       "            Part  QtyInvoiced  Customer LT  Shipping LT\n",
       "0     000144-000    25.875000    65.687500   252.875000\n",
       "1     004049-000    68.400000    48.333333    68.266667\n",
       "2     004354-000   251.500000    24.000000    77.333333\n",
       "3     007356-000   179.595092    36.717791    48.773006\n",
       "4     008440-000   789.332707    32.560150    50.693609\n",
       "...          ...          ...          ...          ...\n",
       "2159  PA2222-000     9.263158    58.578947    66.473684\n",
       "2160  R35123-000     9.642857    31.000000    15.142857\n",
       "2161  RG3521-000     5.600000    28.266667    13.066667\n",
       "2162  TH7438-000   111.733333    85.600000    71.466667\n",
       "2163  Y12345-000   632.224719    21.235955    37.303371\n",
       "\n",
       "[2164 rows x 4 columns]"
      ]
     },
     "execution_count": 102,
     "metadata": {},
     "output_type": "execute_result"
    }
   ],
   "source": [
    "df2.groupby(by=['Part']).mean().reset_index()"
   ]
  },
  {
   "cell_type": "code",
   "execution_count": 103,
   "id": "ac615c57",
   "metadata": {},
   "outputs": [],
   "source": [
    "df2 = df2[df2['Customer LT']>0]"
   ]
  },
  {
   "cell_type": "code",
   "execution_count": 104,
   "id": "d78f7d5e",
   "metadata": {},
   "outputs": [
    {
     "name": "stderr",
     "output_type": "stream",
     "text": [
      "C:\\Users\\te521690\\Anaconda3\\lib\\site-packages\\seaborn\\distributions.py:2619: FutureWarning: `distplot` is a deprecated function and will be removed in a future version. Please adapt your code to use either `displot` (a figure-level function with similar flexibility) or `histplot` (an axes-level function for histograms).\n",
      "  warnings.warn(msg, FutureWarning)\n"
     ]
    },
    {
     "data": {
      "text/plain": [
       "<AxesSubplot:xlabel='Customer LT', ylabel='Density'>"
      ]
     },
     "execution_count": 104,
     "metadata": {},
     "output_type": "execute_result"
    },
    {
     "data": {
      "image/png": "[encoded data removed]",
      "text/plain": [
       "<Figure size 864x576 with 1 Axes>"
      ]
     },
     "metadata": {
      "needs_background": "light"
     },
     "output_type": "display_data"
    }
   ],
   "source": [
    "plt.figure(figsize=(12,8))\n",
    "sns.distplot(df2['Customer LT'])"
   ]
  },
  {
   "cell_type": "code",
   "execution_count": 105,
   "id": "5b40ed9d",
   "metadata": {},
   "outputs": [
    {
     "name": "stderr",
     "output_type": "stream",
     "text": [
      "C:\\Users\\te521690\\Anaconda3\\lib\\site-packages\\seaborn\\distributions.py:2619: FutureWarning: `distplot` is a deprecated function and will be removed in a future version. Please adapt your code to use either `displot` (a figure-level function with similar flexibility) or `histplot` (an axes-level function for histograms).\n",
      "  warnings.warn(msg, FutureWarning)\n"
     ]
    },
    {
     "data": {
      "text/plain": [
       "<AxesSubplot:xlabel='Shipping LT', ylabel='Density'>"
      ]
     },
     "execution_count": 105,
     "metadata": {},
     "output_type": "execute_result"
    },
    {
     "data": {
      "image/png": "[encoded data removed]",
      "text/plain": [
       "<Figure size 864x576 with 1 Axes>"
      ]
     },
     "metadata": {
      "needs_background": "light"
     },
     "output_type": "display_data"
    }
   ],
   "source": [
    "plt.figure(figsize=(12,8))\n",
    "sns.distplot(df2['Shipping LT'])"
   ]
  },
  {
   "cell_type": "code",
   "execution_count": 106,
   "id": "01dc5a0e",
   "metadata": {},
   "outputs": [
    {
     "data": {
      "text/plain": [
       "<AxesSubplot:xlabel='Customer LT', ylabel='Shipping LT'>"
      ]
     },
     "execution_count": 106,
     "metadata": {},
     "output_type": "execute_result"
    },
    {
     "data": {
      "image/png": "[encoded data removed]",
      "text/plain": [
       "<Figure size 864x576 with 1 Axes>"
      ]
     },
     "metadata": {
      "needs_background": "light"
     },
     "output_type": "display_data"
    }
   ],
   "source": [
    "plt.figure(figsize=(12,8))\n",
    "sns.scatterplot(x='Customer LT',y='Shipping LT',data=df2)"
   ]
  },
  {
   "cell_type": "code",
   "execution_count": 107,
   "id": "60a240d6",
   "metadata": {
    "scrolled": true
   },
   "outputs": [
    {
     "name": "stdout",
     "output_type": "stream",
     "text": [
      "<class 'pandas.core.frame.DataFrame'>\n",
      "Int64Index: 106357 entries, 0 to 112257\n",
      "Data columns (total 10 columns):\n",
      " #   Column       Non-Null Count   Dtype         \n",
      "---  ------       --------------   -----         \n",
      " 0   OTTO-GPL     106357 non-null  object        \n",
      " 1   Part         106357 non-null  object        \n",
      " 2   Part Type    106357 non-null  object        \n",
      " 3   QtyInvoiced  106357 non-null  float64       \n",
      " 4   Ord-Dt       106357 non-null  datetime64[ns]\n",
      " 5   ReqDt        106357 non-null  datetime64[ns]\n",
      " 6   DueDt        106357 non-null  datetime64[ns]\n",
      " 7   InvoiceDt    106357 non-null  datetime64[ns]\n",
      " 8   Customer LT  106357 non-null  int64         \n",
      " 9   Shipping LT  106357 non-null  int64         \n",
      "dtypes: datetime64[ns](4), float64(1), int64(2), object(3)\n",
      "memory usage: 8.9+ MB\n"
     ]
    }
   ],
   "source": [
    "df2.info()"
   ]
  },
  {
   "cell_type": "code",
   "execution_count": 108,
   "id": "d227a829",
   "metadata": {},
   "outputs": [],
   "source": [
    "# Identify the columns containing string variables\n",
    "string_columns = ['Part', 'OTTO-GPL', 'Part Type']\n",
    "\n",
    "# Convert columns to string data type. added on June 27, 2023\n",
    "#df1[string_columns] = df1[string_columns].astype(str)\n",
    "\n",
    "# Perform one-hot encoding\n",
    "dummy_variables = pd.get_dummies(df2[string_columns])\n",
    "\n",
    "# Concatenate the dummy variables with the original dataset\n",
    "df_encoded = pd.concat([df2, dummy_variables], axis=1)\n",
    "\n",
    "# Drop the original string columns if needed\n",
    "df3 = df_encoded.drop(string_columns, axis=1)\n"
   ]
  },
  {
   "cell_type": "code",
   "execution_count": 109,
   "id": "a610a307",
   "metadata": {},
   "outputs": [],
   "source": [
    "from datetime import datetime\n",
    "\n",
    "# Convert 'Ord-Dt' column to datetime\n",
    "df3['Ord-Dt'] = pd.to_datetime(df3['Ord-Dt'])\n",
    "# Convert datetime to Unix timestamp\n",
    "df3['Ord-Dt_Euc'] = df3['Ord-Dt'].apply(lambda x: x.to_pydatetime().timestamp())\n",
    "\n",
    "# Convert 'Ord-Dt' column to datetime\n",
    "df3['ReqDt'] = pd.to_datetime(df3['ReqDt'])\n",
    "# Convert datetime to Unix timestamp\n",
    "df3['ReqDt_Euc'] = df3['ReqDt'].apply(lambda x: x.to_pydatetime().timestamp())\n",
    "\n",
    "# Convert 'Ord-Dt' column to datetime\n",
    "df3['DueDt'] = pd.to_datetime(df3['DueDt'])\n",
    "# Convert datetime to Unix timestamp\n",
    "df3['DueDt_Euc'] = df3['DueDt'].apply(lambda x: x.to_pydatetime().timestamp())\n",
    "\n",
    "# # Convert 'Ord-Dt' column to datetime\n",
    "# df3['InvoiceDt'] = pd.to_datetime(df3['InvoiceDt'])\n",
    "# # Convert datetime to Unix timestamp\n",
    "# df3['InvoiceDt_Euc'] = df3['InvoiceDt'].apply(lambda x: x.to_pydatetime().timestamp())\n",
    "\n"
   ]
  },
  {
   "cell_type": "code",
   "execution_count": 110,
   "id": "79eb47dc",
   "metadata": {},
   "outputs": [],
   "source": [
    "df3 = df3.drop(['Ord-Dt','ReqDt','DueDt','InvoiceDt'], axis=1)"
   ]
  },
  {
   "cell_type": "code",
   "execution_count": 111,
   "id": "1f050c21",
   "metadata": {},
   "outputs": [
    {
     "data": {
      "text/plain": [
       "871788-000    1598\n",
       "360954-000    1354\n",
       "197886-000     944\n",
       "268120-000     885\n",
       "244890-000     795\n",
       "              ... \n",
       "CR3708-000       1\n",
       "CA4829-000       1\n",
       "D39778-000       1\n",
       "EN8710-000       1\n",
       "926093-000       1\n",
       "Name: Part, Length: 2157, dtype: int64"
      ]
     },
     "execution_count": 111,
     "metadata": {},
     "output_type": "execute_result"
    }
   ],
   "source": [
    "df2['Part'].value_counts()"
   ]
  },
  {
   "cell_type": "code",
   "execution_count": 112,
   "id": "32c541de",
   "metadata": {},
   "outputs": [
    {
     "name": "stdout",
     "output_type": "stream",
     "text": [
      "<class 'pandas.core.frame.DataFrame'>\n",
      "Int64Index: 106357 entries, 0 to 112257\n",
      "Columns: 2219 entries, QtyInvoiced to DueDt_Euc\n",
      "dtypes: float64(4), int64(2), uint8(2213)\n",
      "memory usage: 230.1 MB\n"
     ]
    }
   ],
   "source": [
    "df3.info()"
   ]
  },
  {
   "cell_type": "code",
   "execution_count": 113,
   "id": "5cb896d0",
   "metadata": {},
   "outputs": [
    {
     "data": {
      "text/plain": [
       "Index(['QtyInvoiced', 'Customer LT', 'Shipping LT', 'Part_000144-000',\n",
       "       'Part_004049-000', 'Part_004354-000', 'Part_007356-000',\n",
       "       'Part_008440-000', 'Part_011589-000', 'Part_014670-000',\n",
       "       ...\n",
       "       'OTTO-GPL_Z63', 'OTTO-GPL_Z72', 'Part Type_ATO', 'Part Type_COMP',\n",
       "       'Part Type_MTO', 'Part Type_MTS', 'Part Type_MTSQS', 'Ord-Dt_Euc',\n",
       "       'ReqDt_Euc', 'DueDt_Euc'],\n",
       "      dtype='object', length=2219)"
      ]
     },
     "execution_count": 113,
     "metadata": {},
     "output_type": "execute_result"
    }
   ],
   "source": [
    "df3.columns"
   ]
  },
  {
   "cell_type": "code",
   "execution_count": 114,
   "id": "70684f80",
   "metadata": {},
   "outputs": [],
   "source": [
    "X = df3.drop('Shipping LT',axis=1)\n",
    "y = df3['Shipping LT']"
   ]
  },
  {
   "cell_type": "code",
   "execution_count": 115,
   "id": "7f62a63c",
   "metadata": {},
   "outputs": [],
   "source": [
    "from sklearn.model_selection import train_test_split"
   ]
  },
  {
   "cell_type": "code",
   "execution_count": 116,
   "id": "031df71f",
   "metadata": {},
   "outputs": [],
   "source": [
    "X_train_0, X_test, y_train, y_test = train_test_split(X,y,test_size=0.3,random_state=101)"
   ]
  },
  {
   "cell_type": "markdown",
   "id": "0b6e5671",
   "metadata": {},
   "source": [
    "### Scaling"
   ]
  },
  {
   "cell_type": "code",
   "execution_count": 117,
   "id": "7055e226",
   "metadata": {},
   "outputs": [],
   "source": [
    "from sklearn.preprocessing import MinMaxScaler"
   ]
  },
  {
   "cell_type": "code",
   "execution_count": 118,
   "id": "3f614c37",
   "metadata": {},
   "outputs": [],
   "source": [
    "scaler = MinMaxScaler()"
   ]
  },
  {
   "cell_type": "code",
   "execution_count": 119,
   "id": "ff20883b",
   "metadata": {},
   "outputs": [
    {
     "name": "stdout",
     "output_type": "stream",
     "text": [
      "QtyInvoiced        float64\n",
      "Customer LT          int64\n",
      "Part_000144-000      uint8\n",
      "Part_004049-000      uint8\n",
      "Part_004354-000      uint8\n",
      "                    ...   \n",
      "Part Type_MTS        uint8\n",
      "Part Type_MTSQS      uint8\n",
      "Ord-Dt_Euc         float64\n",
      "ReqDt_Euc          float64\n",
      "DueDt_Euc          float64\n",
      "Length: 2218, dtype: object\n"
     ]
    }
   ],
   "source": [
    "print(X_train_0.dtypes)"
   ]
  },
  {
   "cell_type": "code",
   "execution_count": 120,
   "id": "7938f627",
   "metadata": {},
   "outputs": [],
   "source": [
    "X_train= scaler.fit_transform(X_train_0)"
   ]
  },
  {
   "cell_type": "code",
   "execution_count": 121,
   "id": "15a408f9",
   "metadata": {},
   "outputs": [],
   "source": [
    "X_test = scaler.transform(X_test)"
   ]
  },
  {
   "cell_type": "code",
   "execution_count": 122,
   "id": "f910f906",
   "metadata": {},
   "outputs": [
    {
     "data": {
      "text/plain": [
       "(74449, 2218)"
      ]
     },
     "execution_count": 122,
     "metadata": {},
     "output_type": "execute_result"
    }
   ],
   "source": [
    "X_train.shape"
   ]
  },
  {
   "cell_type": "code",
   "execution_count": 123,
   "id": "9ff9c90c",
   "metadata": {},
   "outputs": [
    {
     "data": {
      "text/plain": [
       "(31908, 2218)"
      ]
     },
     "execution_count": 123,
     "metadata": {},
     "output_type": "execute_result"
    }
   ],
   "source": [
    "X_test.shape"
   ]
  },
  {
   "cell_type": "markdown",
   "id": "9a1ae9b1",
   "metadata": {},
   "source": [
    "### Creating a model"
   ]
  },
  {
   "cell_type": "code",
   "execution_count": 124,
   "id": "243e9d3a",
   "metadata": {},
   "outputs": [],
   "source": [
    "from tensorflow.keras.models import Sequential\n",
    "from tensorflow.keras.layers import Dense, Activation\n",
    "from tensorflow.keras.optimizers import Adam"
   ]
  },
  {
   "cell_type": "code",
   "execution_count": 125,
   "id": "61302565",
   "metadata": {},
   "outputs": [],
   "source": [
    "model = Sequential()\n",
    "\n",
    "model.add(Dense(100,activation='relu'))\n",
    "model.add(Dense(75,activation='relu'))\n",
    "model.add(Dense(50,activation='relu'))\n",
    "model.add(Dense(50,activation='relu'))\n",
    "model.add(Dense(25,activation='relu'))\n",
    "model.add(Dense(19,activation='relu'))\n",
    "model.add(Dense(1,activation='linear'))\n",
    "\n",
    "model.compile(optimizer='adam',loss='mse')"
   ]
  },
  {
   "cell_type": "markdown",
   "id": "9fccaf87",
   "metadata": {},
   "source": [
    "### Training the model"
   ]
  },
  {
   "cell_type": "code",
   "execution_count": 126,
   "id": "b70194a4",
   "metadata": {
    "scrolled": true
   },
   "outputs": [
    {
     "name": "stdout",
     "output_type": "stream",
     "text": [
      "Epoch 1/400\n",
      "582/582 [==============================] - 4s 6ms/step - loss: 2989.8079 - val_loss: 2251.9075\n",
      "Epoch 2/400\n",
      "582/582 [==============================] - 3s 5ms/step - loss: 2199.1248 - val_loss: 2162.3596\n",
      "Epoch 3/400\n",
      "582/582 [==============================] - 3s 5ms/step - loss: 2079.6956 - val_loss: 2135.9646\n",
      "Epoch 4/400\n",
      "582/582 [==============================] - 4s 7ms/step - loss: 1979.9335 - val_loss: 2016.8396\n",
      "Epoch 5/400\n",
      "582/582 [==============================] - 4s 6ms/step - loss: 1744.5797 - val_loss: 1785.9116\n",
      "Epoch 6/400\n",
      "582/582 [==============================] - 4s 6ms/step - loss: 1518.2394 - val_loss: 1649.9536\n",
      "Epoch 7/400\n",
      "582/582 [==============================] - 4s 7ms/step - loss: 1396.5048 - val_loss: 1582.7368\n",
      "Epoch 8/400\n",
      "582/582 [==============================] - 3s 6ms/step - loss: 1306.1505 - val_loss: 1562.2555\n",
      "Epoch 9/400\n",
      "582/582 [==============================] - 3s 6ms/step - loss: 1248.8634 - val_loss: 1505.2986\n",
      "Epoch 10/400\n",
      "582/582 [==============================] - 3s 5ms/step - loss: 1210.7863 - val_loss: 1577.7064\n",
      "Epoch 11/400\n",
      "582/582 [==============================] - 3s 6ms/step - loss: 1173.5503 - val_loss: 1462.2130\n",
      "Epoch 12/400\n",
      "582/582 [==============================] - 4s 6ms/step - loss: 1145.3973 - val_loss: 1443.5468\n",
      "Epoch 13/400\n",
      "582/582 [==============================] - 3s 6ms/step - loss: 1127.0365 - val_loss: 1438.8190\n",
      "Epoch 14/400\n",
      "582/582 [==============================] - 3s 5ms/step - loss: 1107.5857 - val_loss: 1436.0780\n",
      "Epoch 15/400\n",
      "582/582 [==============================] - 3s 5ms/step - loss: 1078.0599 - val_loss: 1458.4801\n",
      "Epoch 16/400\n",
      "582/582 [==============================] - 3s 5ms/step - loss: 1064.1252 - val_loss: 1458.5538\n",
      "Epoch 17/400\n",
      "582/582 [==============================] - 3s 5ms/step - loss: 1053.7723 - val_loss: 1427.5502\n",
      "Epoch 18/400\n",
      "582/582 [==============================] - 3s 5ms/step - loss: 1024.1835 - val_loss: 1411.9197\n",
      "Epoch 19/400\n",
      "582/582 [==============================] - 3s 5ms/step - loss: 1024.7634 - val_loss: 1404.1749\n",
      "Epoch 20/400\n",
      "582/582 [==============================] - 3s 5ms/step - loss: 1009.8632 - val_loss: 1430.2316\n",
      "Epoch 21/400\n",
      "582/582 [==============================] - 3s 5ms/step - loss: 991.7097 - val_loss: 1418.9836\n",
      "Epoch 22/400\n",
      "582/582 [==============================] - 3s 5ms/step - loss: 989.3478 - val_loss: 1394.3329\n",
      "Epoch 23/400\n",
      "582/582 [==============================] - 3s 5ms/step - loss: 975.8977 - val_loss: 1428.4448\n",
      "Epoch 24/400\n",
      "582/582 [==============================] - 3s 5ms/step - loss: 961.4498 - val_loss: 1415.1593\n",
      "Epoch 25/400\n",
      "582/582 [==============================] - 3s 5ms/step - loss: 958.3864 - val_loss: 1381.3967\n",
      "Epoch 26/400\n",
      "582/582 [==============================] - 3s 5ms/step - loss: 949.9200 - val_loss: 1365.7365\n",
      "Epoch 27/400\n",
      "582/582 [==============================] - 3s 5ms/step - loss: 936.1216 - val_loss: 1411.8563\n",
      "Epoch 28/400\n",
      "582/582 [==============================] - 3s 5ms/step - loss: 938.5082 - val_loss: 1367.9427\n",
      "Epoch 29/400\n",
      "582/582 [==============================] - 3s 5ms/step - loss: 929.6141 - val_loss: 1411.1813\n",
      "Epoch 30/400\n",
      "582/582 [==============================] - 3s 5ms/step - loss: 914.3793 - val_loss: 1406.9221\n",
      "Epoch 31/400\n",
      "582/582 [==============================] - 3s 5ms/step - loss: 907.8957 - val_loss: 1377.9601\n",
      "Epoch 32/400\n",
      "582/582 [==============================] - 4s 6ms/step - loss: 904.1083 - val_loss: 1373.3408\n",
      "Epoch 33/400\n",
      "582/582 [==============================] - 3s 6ms/step - loss: 903.4904 - val_loss: 1395.0905\n",
      "Epoch 34/400\n",
      "582/582 [==============================] - 3s 5ms/step - loss: 892.3018 - val_loss: 1440.2032\n",
      "Epoch 35/400\n",
      "582/582 [==============================] - 3s 5ms/step - loss: 888.4932 - val_loss: 1421.6660\n",
      "Epoch 36/400\n",
      "582/582 [==============================] - 3s 5ms/step - loss: 886.3691 - val_loss: 1362.8705\n",
      "Epoch 37/400\n",
      "582/582 [==============================] - 3s 5ms/step - loss: 884.7977 - val_loss: 1353.2799\n",
      "Epoch 38/400\n",
      "582/582 [==============================] - 3s 5ms/step - loss: 881.1749 - val_loss: 1376.8108\n",
      "Epoch 39/400\n",
      "582/582 [==============================] - 4s 6ms/step - loss: 865.1718 - val_loss: 1363.9138\n",
      "Epoch 40/400\n",
      "582/582 [==============================] - 3s 6ms/step - loss: 856.6760 - val_loss: 1369.0117\n",
      "Epoch 41/400\n",
      "582/582 [==============================] - 3s 5ms/step - loss: 858.1624 - val_loss: 1365.7112\n",
      "Epoch 42/400\n",
      "582/582 [==============================] - 3s 5ms/step - loss: 852.0024 - val_loss: 1369.3845\n",
      "Epoch 43/400\n",
      "582/582 [==============================] - 3s 5ms/step - loss: 848.0511 - val_loss: 1366.8561\n",
      "Epoch 44/400\n",
      "582/582 [==============================] - 3s 5ms/step - loss: 843.1567 - val_loss: 1343.2074\n",
      "Epoch 45/400\n",
      "582/582 [==============================] - 3s 5ms/step - loss: 842.5687 - val_loss: 1377.1842\n",
      "Epoch 46/400\n",
      "582/582 [==============================] - 3s 5ms/step - loss: 838.3561 - val_loss: 1388.7317\n",
      "Epoch 47/400\n",
      "582/582 [==============================] - 3s 5ms/step - loss: 838.4218 - val_loss: 1383.6113\n",
      "Epoch 48/400\n",
      "582/582 [==============================] - 3s 5ms/step - loss: 827.1779 - val_loss: 1403.3149\n",
      "Epoch 49/400\n",
      "582/582 [==============================] - 3s 5ms/step - loss: 822.6617 - val_loss: 1359.7209\n",
      "Epoch 50/400\n",
      "582/582 [==============================] - 3s 5ms/step - loss: 816.4214 - val_loss: 1357.9771\n",
      "Epoch 51/400\n",
      "582/582 [==============================] - 3s 5ms/step - loss: 815.3654 - val_loss: 1365.4835\n",
      "Epoch 52/400\n",
      "582/582 [==============================] - 3s 5ms/step - loss: 811.1964 - val_loss: 1341.2031\n",
      "Epoch 53/400\n",
      "582/582 [==============================] - 3s 5ms/step - loss: 814.4794 - val_loss: 1373.2081\n",
      "Epoch 54/400\n",
      "582/582 [==============================] - 3s 5ms/step - loss: 814.0674 - val_loss: 1362.5415\n",
      "Epoch 55/400\n",
      "582/582 [==============================] - 3s 5ms/step - loss: 800.3976 - val_loss: 1376.9354\n",
      "Epoch 56/400\n",
      "582/582 [==============================] - 3s 5ms/step - loss: 804.4081 - val_loss: 1351.2202\n",
      "Epoch 57/400\n",
      "582/582 [==============================] - 3s 4ms/step - loss: 795.9919 - val_loss: 1395.8855\n",
      "Epoch 58/400\n",
      "582/582 [==============================] - 3s 5ms/step - loss: 791.1493 - val_loss: 1365.1979\n",
      "Epoch 59/400\n",
      "582/582 [==============================] - 3s 5ms/step - loss: 788.2531 - val_loss: 1338.0408\n",
      "Epoch 60/400\n",
      "582/582 [==============================] - 3s 5ms/step - loss: 785.1677 - val_loss: 1408.5824\n",
      "Epoch 61/400\n",
      "582/582 [==============================] - 3s 5ms/step - loss: 782.1164 - val_loss: 1359.1256\n",
      "Epoch 62/400\n",
      "582/582 [==============================] - 3s 5ms/step - loss: 783.0291 - val_loss: 1395.5070\n",
      "Epoch 63/400\n",
      "582/582 [==============================] - 3s 5ms/step - loss: 783.7435 - val_loss: 1394.0382\n",
      "Epoch 64/400\n",
      "582/582 [==============================] - 3s 5ms/step - loss: 779.0851 - val_loss: 1338.0392\n",
      "Epoch 65/400\n",
      "582/582 [==============================] - 3s 5ms/step - loss: 773.9586 - val_loss: 1373.9559\n",
      "Epoch 66/400\n",
      "582/582 [==============================] - 3s 5ms/step - loss: 776.4824 - val_loss: 1348.3357\n",
      "Epoch 67/400\n",
      "582/582 [==============================] - 3s 4ms/step - loss: 770.4022 - val_loss: 1350.1238\n",
      "Epoch 68/400\n",
      "582/582 [==============================] - 3s 5ms/step - loss: 768.0273 - val_loss: 1390.1564\n",
      "Epoch 69/400\n",
      "582/582 [==============================] - 3s 5ms/step - loss: 764.7893 - val_loss: 1352.2046\n",
      "Epoch 70/400\n",
      "582/582 [==============================] - 3s 5ms/step - loss: 760.9212 - val_loss: 1370.9207\n",
      "Epoch 71/400\n",
      "582/582 [==============================] - 3s 5ms/step - loss: 758.9117 - val_loss: 1350.8048\n",
      "Epoch 72/400\n",
      "582/582 [==============================] - 3s 5ms/step - loss: 754.6960 - val_loss: 1356.4231\n",
      "Epoch 73/400\n",
      "582/582 [==============================] - 3s 5ms/step - loss: 752.8279 - val_loss: 1348.7056\n",
      "Epoch 74/400\n",
      "582/582 [==============================] - 3s 5ms/step - loss: 754.8550 - val_loss: 1352.6624\n"
     ]
    },
    {
     "data": {
      "text/plain": [
       "<keras.callbacks.History at 0x1a4358f8b08>"
      ]
     },
     "execution_count": 126,
     "metadata": {},
     "output_type": "execute_result"
    }
   ],
   "source": [
    "from keras.callbacks import EarlyStopping\n",
    "\n",
    "# Define the early stopping callback\n",
    "early_stopping = EarlyStopping(monitor='val_loss', patience=10)\n",
    "\n",
    "# Train the model with early stopping\n",
    "model.fit(x=X_train, y=y_train.values,\n",
    "          validation_data=(X_test, y_test.values),\n",
    "          batch_size=128, epochs=400, callbacks=[early_stopping])\n"
   ]
  },
  {
   "cell_type": "code",
   "execution_count": 47,
   "id": "be16091d",
   "metadata": {},
   "outputs": [
    {
     "name": "stdout",
     "output_type": "stream",
     "text": [
      "Train on 104179 samples, validate on 44649 samples\n",
      "Epoch 1/400\n",
      "104179/104179 [==============================] - 16s 155us/sample - loss: 3799.3488 - val_loss: 1360.9240\n",
      "Epoch 2/400\n",
      "104179/104179 [==============================] - 10s 99us/sample - loss: 511.8905 - val_loss: 133.5825\n",
      "Epoch 3/400\n",
      "104179/104179 [==============================] - 11s 108us/sample - loss: 66.9861 - val_loss: 70.4991\n",
      "Epoch 4/400\n",
      "104179/104179 [==============================] - 10s 100us/sample - loss: 36.4038 - val_loss: 67.4166\n",
      "Epoch 5/400\n",
      "104179/104179 [==============================] - 9s 89us/sample - loss: 36.5008 - val_loss: 69.5106\n",
      "Epoch 6/400\n",
      "104179/104179 [==============================] - 9s 88us/sample - loss: 37.7434 - val_loss: 79.9948\n",
      "Epoch 7/400\n",
      "104179/104179 [==============================] - 9s 88us/sample - loss: 36.8089 - val_loss: 69.6018\n",
      "Epoch 8/400\n",
      "104179/104179 [==============================] - 11s 106us/sample - loss: 35.6235 - val_loss: 68.4739\n",
      "Epoch 9/400\n",
      "104179/104179 [==============================] - 10s 96us/sample - loss: 32.8907 - val_loss: 65.2772\n",
      "Epoch 10/400\n",
      "104179/104179 [==============================] - 13s 128us/sample - loss: 30.9339 - val_loss: 65.3738\n",
      "Epoch 11/400\n",
      "104179/104179 [==============================] - 11s 106us/sample - loss: 29.0171 - val_loss: 63.4030\n",
      "Epoch 12/400\n",
      "104179/104179 [==============================] - 11s 103us/sample - loss: 26.8999 - val_loss: 56.9907\n",
      "Epoch 13/400\n",
      "104179/104179 [==============================] - 9s 91us/sample - loss: 25.1114 - val_loss: 59.9100\n",
      "Epoch 14/400\n",
      "104179/104179 [==============================] - 9s 90us/sample - loss: 24.2424 - val_loss: 54.3169\n",
      "Epoch 15/400\n",
      "104179/104179 [==============================] - 11s 106us/sample - loss: 22.5708 - val_loss: 54.0787\n",
      "Epoch 16/400\n",
      "104179/104179 [==============================] - 12s 118us/sample - loss: 22.4097 - val_loss: 54.5601\n",
      "Epoch 17/400\n",
      "104179/104179 [==============================] - 11s 103us/sample - loss: 19.7886 - val_loss: 52.4890\n",
      "Epoch 18/400\n",
      "104179/104179 [==============================] - 9s 89us/sample - loss: 19.5752 - val_loss: 54.2896\n",
      "Epoch 19/400\n",
      "104179/104179 [==============================] - 11s 101us/sample - loss: 19.9647 - val_loss: 54.0158\n",
      "Epoch 20/400\n",
      "104179/104179 [==============================] - 11s 101us/sample - loss: 19.0531 - val_loss: 56.2362\n",
      "Epoch 21/400\n",
      "104179/104179 [==============================] - 10s 91us/sample - loss: 17.3692 - val_loss: 52.1716\n",
      "Epoch 22/400\n",
      "104179/104179 [==============================] - 10s 91us/sample - loss: 17.6684 - val_loss: 52.4587\n",
      "Epoch 23/400\n",
      "104179/104179 [==============================] - 10s 92us/sample - loss: 17.7264 - val_loss: 51.7454\n",
      "Epoch 24/400\n",
      "104179/104179 [==============================] - 10s 94us/sample - loss: 16.6541 - val_loss: 52.4216\n",
      "Epoch 25/400\n",
      "104179/104179 [==============================] - 10s 95us/sample - loss: 15.8637 - val_loss: 53.6993\n",
      "Epoch 26/400\n",
      "104179/104179 [==============================] - 10s 98us/sample - loss: 15.5863 - val_loss: 55.7219\n",
      "Epoch 27/400\n",
      "104179/104179 [==============================] - 9s 89us/sample - loss: 16.0740 - val_loss: 50.0562\n",
      "Epoch 28/400\n",
      "104179/104179 [==============================] - 9s 88us/sample - loss: 14.9849 - val_loss: 51.9006\n",
      "Epoch 29/400\n",
      "104179/104179 [==============================] - 9s 88us/sample - loss: 14.4967 - val_loss: 50.9110\n",
      "Epoch 30/400\n",
      "104179/104179 [==============================] - 9s 87us/sample - loss: 15.2428 - val_loss: 49.5548\n",
      "Epoch 31/400\n",
      "104179/104179 [==============================] - 10s 92us/sample - loss: 14.0626 - val_loss: 49.6586\n",
      "Epoch 32/400\n",
      "104179/104179 [==============================] - 9s 90us/sample - loss: 13.7808 - val_loss: 50.7064\n",
      "Epoch 33/400\n",
      "104179/104179 [==============================] - 9s 89us/sample - loss: 13.8084 - val_loss: 50.4955\n",
      "Epoch 34/400\n",
      "104179/104179 [==============================] - 9s 90us/sample - loss: 12.9606 - val_loss: 50.2231\n",
      "Epoch 35/400\n",
      "104179/104179 [==============================] - 9s 90us/sample - loss: 12.9326 - val_loss: 48.6934\n",
      "Epoch 36/400\n",
      "104179/104179 [==============================] - 9s 88us/sample - loss: 13.1518 - val_loss: 49.5749\n",
      "Epoch 37/400\n",
      "104179/104179 [==============================] - 9s 88us/sample - loss: 12.7115 - val_loss: 47.3971\n",
      "Epoch 38/400\n",
      "104179/104179 [==============================] - 9s 88us/sample - loss: 11.6593 - val_loss: 48.8530\n",
      "Epoch 39/400\n",
      "104179/104179 [==============================] - 11s 109us/sample - loss: 12.6951 - val_loss: 47.8091\n",
      "Epoch 40/400\n",
      "104179/104179 [==============================] - 10s 92us/sample - loss: 11.9983 - val_loss: 46.8289\n",
      "Epoch 41/400\n",
      "104179/104179 [==============================] - 9s 91us/sample - loss: 11.7511 - val_loss: 46.1499\n",
      "Epoch 42/400\n",
      "104179/104179 [==============================] - 10s 93us/sample - loss: 11.3430 - val_loss: 47.2708\n",
      "Epoch 43/400\n",
      "104179/104179 [==============================] - 10s 98us/sample - loss: 11.2009 - val_loss: 46.4896\n",
      "Epoch 44/400\n",
      "104179/104179 [==============================] - 10s 98us/sample - loss: 11.1861 - val_loss: 47.4436\n",
      "Epoch 45/400\n",
      "104179/104179 [==============================] - 10s 99us/sample - loss: 10.7526 - val_loss: 46.9611\n",
      "Epoch 46/400\n",
      "104179/104179 [==============================] - 9s 89us/sample - loss: 11.0269 - val_loss: 45.5767\n",
      "Epoch 47/400\n",
      "104179/104179 [==============================] - 9s 89us/sample - loss: 11.0831 - val_loss: 45.8555\n",
      "Epoch 48/400\n",
      "104179/104179 [==============================] - 10s 92us/sample - loss: 10.8523 - val_loss: 44.5171\n",
      "Epoch 49/400\n",
      "104179/104179 [==============================] - 10s 92us/sample - loss: 10.0451 - val_loss: 44.1075\n",
      "Epoch 50/400\n",
      "104179/104179 [==============================] - 10s 92us/sample - loss: 10.3830 - val_loss: 47.0060\n",
      "Epoch 51/400\n",
      "104179/104179 [==============================] - 10s 92us/sample - loss: 10.1566 - val_loss: 43.6761\n",
      "Epoch 52/400\n",
      "104179/104179 [==============================] - 10s 95us/sample - loss: 9.6702 - val_loss: 43.9977\n",
      "Epoch 53/400\n",
      "104179/104179 [==============================] - 10s 98us/sample - loss: 9.9248 - val_loss: 44.5617\n",
      "Epoch 54/400\n",
      "104179/104179 [==============================] - 10s 92us/sample - loss: 9.9861 - val_loss: 45.2196\n",
      "Epoch 55/400\n",
      "104179/104179 [==============================] - 9s 90us/sample - loss: 9.6446 - val_loss: 44.4540\n",
      "Epoch 56/400\n",
      "104179/104179 [==============================] - 9s 89us/sample - loss: 9.1473 - val_loss: 45.1130\n",
      "Epoch 57/400\n",
      "104179/104179 [==============================] - 10s 92us/sample - loss: 9.3232 - val_loss: 45.2864\n",
      "Epoch 58/400\n",
      "104179/104179 [==============================] - 11s 102us/sample - loss: 9.5964 - val_loss: 43.9303\n",
      "Epoch 59/400\n",
      "104179/104179 [==============================] - 9s 89us/sample - loss: 8.6120 - val_loss: 42.9166\n",
      "Epoch 60/400\n",
      "104179/104179 [==============================] - 9s 90us/sample - loss: 8.8522 - val_loss: 43.8828\n",
      "Epoch 61/400\n",
      "104179/104179 [==============================] - 9s 88us/sample - loss: 9.0317 - val_loss: 43.0319\n",
      "Epoch 62/400\n",
      "104179/104179 [==============================] - 9s 87us/sample - loss: 8.5506 - val_loss: 42.1738\n",
      "Epoch 63/400\n",
      "104179/104179 [==============================] - 9s 86us/sample - loss: 8.8398 - val_loss: 42.3912\n",
      "Epoch 64/400\n",
      "104179/104179 [==============================] - 9s 89us/sample - loss: 8.6316 - val_loss: 43.1969\n",
      "Epoch 65/400\n",
      "104179/104179 [==============================] - 9s 87us/sample - loss: 8.2231 - val_loss: 42.0694\n",
      "Epoch 66/400\n",
      "104179/104179 [==============================] - 9s 87us/sample - loss: 8.4324 - val_loss: 42.8498\n",
      "Epoch 67/400\n",
      "104179/104179 [==============================] - 9s 86us/sample - loss: 8.0025 - val_loss: 43.1460\n",
      "Epoch 68/400\n",
      "104179/104179 [==============================] - 9s 86us/sample - loss: 8.0394 - val_loss: 41.8129\n",
      "Epoch 69/400\n",
      "104179/104179 [==============================] - 9s 87us/sample - loss: 8.3537 - val_loss: 41.5836\n",
      "Epoch 70/400\n",
      "104179/104179 [==============================] - 9s 86us/sample - loss: 7.8879 - val_loss: 42.2556\n",
      "Epoch 71/400\n",
      "104179/104179 [==============================] - 10s 91us/sample - loss: 7.6263 - val_loss: 41.7888\n",
      "Epoch 72/400\n",
      "104179/104179 [==============================] - 9s 87us/sample - loss: 7.9882 - val_loss: 41.1680\n"
     ]
    },
    {
     "name": "stdout",
     "output_type": "stream",
     "text": [
      "Epoch 73/400\n",
      "104179/104179 [==============================] - 10s 91us/sample - loss: 7.5052 - val_loss: 41.6478\n",
      "Epoch 74/400\n",
      "104179/104179 [==============================] - 9s 88us/sample - loss: 7.9051 - val_loss: 42.8773\n",
      "Epoch 75/400\n",
      "104179/104179 [==============================] - 9s 89us/sample - loss: 7.4629 - val_loss: 41.1441\n",
      "Epoch 76/400\n",
      "104179/104179 [==============================] - 9s 85us/sample - loss: 7.2885 - val_loss: 41.8485\n",
      "Epoch 77/400\n",
      "104179/104179 [==============================] - 9s 88us/sample - loss: 7.5120 - val_loss: 40.4715\n",
      "Epoch 78/400\n",
      "104179/104179 [==============================] - 10s 94us/sample - loss: 7.4583 - val_loss: 41.7609\n",
      "Epoch 79/400\n",
      "104179/104179 [==============================] - 11s 107us/sample - loss: 7.0733 - val_loss: 40.2185\n",
      "Epoch 80/400\n",
      "104179/104179 [==============================] - 10s 98us/sample - loss: 7.3409 - val_loss: 41.3495\n",
      "Epoch 81/400\n",
      "104179/104179 [==============================] - 10s 93us/sample - loss: 7.4177 - val_loss: 39.1231\n",
      "Epoch 82/400\n",
      "104179/104179 [==============================] - 9s 90us/sample - loss: 6.8015 - val_loss: 40.0088\n",
      "Epoch 83/400\n",
      "104179/104179 [==============================] - 9s 89us/sample - loss: 7.3149 - val_loss: 39.8752\n",
      "Epoch 84/400\n",
      "104179/104179 [==============================] - 10s 100us/sample - loss: 6.5823 - val_loss: 39.4771\n",
      "Epoch 85/400\n",
      "104179/104179 [==============================] - 10s 98us/sample - loss: 6.9024 - val_loss: 40.8212\n",
      "Epoch 86/400\n",
      "104179/104179 [==============================] - 10s 92us/sample - loss: 6.9384 - val_loss: 41.9106\n",
      "Epoch 87/400\n",
      "104179/104179 [==============================] - 9s 91us/sample - loss: 6.6922 - val_loss: 39.6127\n",
      "Epoch 88/400\n",
      "104179/104179 [==============================] - 10s 94us/sample - loss: 6.8144 - val_loss: 40.6082\n",
      "Epoch 89/400\n",
      "104179/104179 [==============================] - 10s 97us/sample - loss: 6.4583 - val_loss: 39.4530\n",
      "Epoch 90/400\n",
      "104179/104179 [==============================] - 10s 95us/sample - loss: 6.6527 - val_loss: 39.4870\n",
      "Epoch 91/400\n",
      "104179/104179 [==============================] - 9s 88us/sample - loss: 6.4910 - val_loss: 40.6277\n",
      "Epoch 92/400\n",
      "104179/104179 [==============================] - 9s 88us/sample - loss: 6.3177 - val_loss: 41.1448\n",
      "Epoch 93/400\n",
      "104179/104179 [==============================] - 10s 92us/sample - loss: 6.5476 - val_loss: 40.2316\n",
      "Epoch 94/400\n",
      "104179/104179 [==============================] - 9s 89us/sample - loss: 6.2729 - val_loss: 39.4466\n",
      "Epoch 95/400\n",
      "104179/104179 [==============================] - 9s 89us/sample - loss: 6.4158 - val_loss: 39.5370\n",
      "Epoch 96/400\n",
      "104179/104179 [==============================] - 9s 91us/sample - loss: 6.0486 - val_loss: 41.1836\n",
      "Epoch 97/400\n",
      "104179/104179 [==============================] - 11s 101us/sample - loss: 6.3270 - val_loss: 39.1315\n",
      "Epoch 98/400\n",
      "104179/104179 [==============================] - 10s 100us/sample - loss: 6.1023 - val_loss: 39.0531\n",
      "Epoch 99/400\n",
      "104179/104179 [==============================] - 10s 94us/sample - loss: 5.9395 - val_loss: 40.2721\n",
      "Epoch 100/400\n",
      "104179/104179 [==============================] - 10s 96us/sample - loss: 6.0320 - val_loss: 38.8769\n",
      "Epoch 101/400\n",
      "104179/104179 [==============================] - 9s 89us/sample - loss: 6.0360 - val_loss: 39.5881\n",
      "Epoch 102/400\n",
      "104179/104179 [==============================] - 9s 87us/sample - loss: 5.8196 - val_loss: 39.8686\n",
      "Epoch 103/400\n",
      "104179/104179 [==============================] - 10s 96us/sample - loss: 6.1759 - val_loss: 40.0736\n",
      "Epoch 104/400\n",
      "104179/104179 [==============================] - 9s 87us/sample - loss: 5.7746 - val_loss: 38.9017\n",
      "Epoch 105/400\n",
      "104179/104179 [==============================] - 9s 87us/sample - loss: 5.7992 - val_loss: 39.8776\n",
      "Epoch 106/400\n",
      "104179/104179 [==============================] - 9s 89us/sample - loss: 5.5828 - val_loss: 38.2567\n",
      "Epoch 107/400\n",
      "104179/104179 [==============================] - 9s 89us/sample - loss: 5.6529 - val_loss: 38.2668\n",
      "Epoch 108/400\n",
      "104179/104179 [==============================] - 9s 89us/sample - loss: 5.7329 - val_loss: 41.4691\n",
      "Epoch 109/400\n",
      "104179/104179 [==============================] - 13s 129us/sample - loss: 5.6124 - val_loss: 38.5357\n",
      "Epoch 110/400\n",
      "104179/104179 [==============================] - 10s 95us/sample - loss: 5.6059 - val_loss: 40.1889\n",
      "Epoch 111/400\n",
      "104179/104179 [==============================] - 9s 88us/sample - loss: 5.6041 - val_loss: 37.4585\n",
      "Epoch 112/400\n",
      "104179/104179 [==============================] - 9s 91us/sample - loss: 5.3736 - val_loss: 38.5706\n",
      "Epoch 113/400\n",
      "104179/104179 [==============================] - 9s 89us/sample - loss: 5.6036 - val_loss: 38.0317\n",
      "Epoch 114/400\n",
      "104179/104179 [==============================] - 9s 90us/sample - loss: 5.4737 - val_loss: 38.3011\n",
      "Epoch 115/400\n",
      "104179/104179 [==============================] - 10s 98us/sample - loss: 5.3400 - val_loss: 38.3560\n",
      "Epoch 116/400\n",
      "104179/104179 [==============================] - 10s 98us/sample - loss: 5.4899 - val_loss: 37.9998\n",
      "Epoch 117/400\n",
      "104179/104179 [==============================] - 10s 95us/sample - loss: 5.0707 - val_loss: 37.8210\n",
      "Epoch 118/400\n",
      "104179/104179 [==============================] - 10s 99us/sample - loss: 5.3454 - val_loss: 38.0806\n",
      "Epoch 119/400\n",
      "104179/104179 [==============================] - 11s 106us/sample - loss: 5.5212 - val_loss: 38.2532\n",
      "Epoch 120/400\n",
      "104179/104179 [==============================] - 12s 114us/sample - loss: 4.8631 - val_loss: 38.1706\n",
      "Epoch 121/400\n",
      "104179/104179 [==============================] - 10s 95us/sample - loss: 5.3845 - val_loss: 37.4044\n",
      "Epoch 122/400\n",
      "104179/104179 [==============================] - 10s 93us/sample - loss: 5.1424 - val_loss: 37.4262\n",
      "Epoch 123/400\n",
      "104179/104179 [==============================] - 10s 94us/sample - loss: 5.3529 - val_loss: 36.8546\n",
      "Epoch 124/400\n",
      "104179/104179 [==============================] - 9s 89us/sample - loss: 4.8149 - val_loss: 37.0402\n",
      "Epoch 125/400\n",
      "104179/104179 [==============================] - 9s 90us/sample - loss: 5.1271 - val_loss: 36.2534\n",
      "Epoch 126/400\n",
      "104179/104179 [==============================] - 10s 95us/sample - loss: 4.9270 - val_loss: 36.3957\n",
      "Epoch 127/400\n",
      "104179/104179 [==============================] - 15s 142us/sample - loss: 5.3029 - val_loss: 36.7649\n",
      "Epoch 128/400\n",
      "104179/104179 [==============================] - 11s 102us/sample - loss: 4.7899 - val_loss: 36.5776\n",
      "Epoch 129/400\n",
      "104179/104179 [==============================] - 11s 103us/sample - loss: 4.9283 - val_loss: 38.2173\n",
      "Epoch 130/400\n",
      "104179/104179 [==============================] - 10s 100us/sample - loss: 4.9555 - val_loss: 37.7254\n",
      "Epoch 131/400\n",
      "104179/104179 [==============================] - 11s 106us/sample - loss: 4.7599 - val_loss: 36.2453\n",
      "Epoch 132/400\n",
      "104179/104179 [==============================] - 13s 123us/sample - loss: 4.8157 - val_loss: 36.3294\n",
      "Epoch 133/400\n",
      "104179/104179 [==============================] - 11s 109us/sample - loss: 4.7871 - val_loss: 36.2946\n",
      "Epoch 134/400\n",
      "104179/104179 [==============================] - 18s 176us/sample - loss: 5.0234 - val_loss: 38.9075\n",
      "Epoch 135/400\n",
      "104179/104179 [==============================] - 17s 159us/sample - loss: 4.6761 - val_loss: 36.1841\n",
      "Epoch 136/400\n",
      "104179/104179 [==============================] - 14s 131us/sample - loss: 4.7501 - val_loss: 37.0198\n",
      "Epoch 137/400\n",
      "104179/104179 [==============================] - 13s 121us/sample - loss: 4.8716 - val_loss: 36.3640\n",
      "Epoch 138/400\n",
      "104179/104179 [==============================] - 13s 120us/sample - loss: 4.7225 - val_loss: 35.7010\n",
      "Epoch 139/400\n",
      "104179/104179 [==============================] - 11s 105us/sample - loss: 4.3294 - val_loss: 35.7108\n",
      "Epoch 140/400\n",
      "104179/104179 [==============================] - 11s 103us/sample - loss: 4.5568 - val_loss: 35.8719\n",
      "Epoch 141/400\n",
      "104179/104179 [==============================] - 14s 138us/sample - loss: 4.8508 - val_loss: 36.2442\n",
      "Epoch 142/400\n",
      "104179/104179 [==============================] - 10s 96us/sample - loss: 4.4716 - val_loss: 35.9405\n",
      "Epoch 143/400\n",
      "104179/104179 [==============================] - 12s 114us/sample - loss: 4.6455 - val_loss: 38.7205\n",
      "Epoch 144/400\n",
      "104179/104179 [==============================] - 10s 97us/sample - loss: 4.5092 - val_loss: 36.8892\n",
      "Epoch 145/400\n"
     ]
    },
    {
     "name": "stdout",
     "output_type": "stream",
     "text": [
      "104179/104179 [==============================] - 10s 93us/sample - loss: 4.5048 - val_loss: 35.1748\n",
      "Epoch 146/400\n",
      "104179/104179 [==============================] - 10s 97us/sample - loss: 4.3998 - val_loss: 35.8677\n",
      "Epoch 147/400\n",
      "104179/104179 [==============================] - 10s 95us/sample - loss: 4.3116 - val_loss: 35.3116\n",
      "Epoch 148/400\n",
      "104179/104179 [==============================] - 10s 95us/sample - loss: 4.4369 - val_loss: 36.0205\n",
      "Epoch 149/400\n",
      "104179/104179 [==============================] - 10s 94us/sample - loss: 4.2973 - val_loss: 35.7842\n",
      "Epoch 150/400\n",
      "104179/104179 [==============================] - 10s 98us/sample - loss: 4.2499 - val_loss: 35.9293\n",
      "Epoch 151/400\n",
      "104179/104179 [==============================] - 10s 97us/sample - loss: 4.3068 - val_loss: 36.1284\n",
      "Epoch 152/400\n",
      "104179/104179 [==============================] - 10s 95us/sample - loss: 4.3412 - val_loss: 37.1295\n",
      "Epoch 153/400\n",
      "104179/104179 [==============================] - 10s 95us/sample - loss: 4.2171 - val_loss: 38.3712\n",
      "Epoch 154/400\n",
      "104179/104179 [==============================] - 10s 96us/sample - loss: 4.1287 - val_loss: 34.4304\n",
      "Epoch 155/400\n",
      "104179/104179 [==============================] - 10s 95us/sample - loss: 4.3884 - val_loss: 35.9206\n",
      "Epoch 156/400\n",
      "104179/104179 [==============================] - 10s 96us/sample - loss: 4.1837 - val_loss: 35.2128\n",
      "Epoch 157/400\n",
      "104179/104179 [==============================] - 10s 100us/sample - loss: 4.0524 - val_loss: 35.4328\n",
      "Epoch 158/400\n",
      "104179/104179 [==============================] - 10s 100us/sample - loss: 4.0899 - val_loss: 36.0201\n",
      "Epoch 159/400\n",
      "104179/104179 [==============================] - 10s 99us/sample - loss: 4.2458 - val_loss: 34.2186\n",
      "Epoch 160/400\n",
      "104179/104179 [==============================] - 10s 100us/sample - loss: 4.1451 - val_loss: 37.8046\n",
      "Epoch 161/400\n",
      "104179/104179 [==============================] - 13s 122us/sample - loss: 4.0812 - val_loss: 34.6239\n",
      "Epoch 162/400\n",
      "104179/104179 [==============================] - 12s 115us/sample - loss: 3.9837 - val_loss: 36.6841\n",
      "Epoch 163/400\n",
      "104179/104179 [==============================] - 12s 112us/sample - loss: 4.0174 - val_loss: 34.8127\n",
      "Epoch 164/400\n",
      "104179/104179 [==============================] - 10s 96us/sample - loss: 4.1408 - val_loss: 36.2526\n",
      "Epoch 165/400\n",
      "104179/104179 [==============================] - 11s 103us/sample - loss: 4.0142 - val_loss: 34.4791\n",
      "Epoch 166/400\n",
      "104179/104179 [==============================] - 11s 108us/sample - loss: 3.9085 - val_loss: 35.4138\n",
      "Epoch 167/400\n",
      "104179/104179 [==============================] - 9s 91us/sample - loss: 3.9560 - val_loss: 35.6851\n",
      "Epoch 168/400\n",
      "104179/104179 [==============================] - 9s 90us/sample - loss: 4.0450 - val_loss: 36.7935\n",
      "Epoch 169/400\n",
      "104179/104179 [==============================] - 10s 93us/sample - loss: 3.8210 - val_loss: 35.4206\n",
      "Epoch 170/400\n",
      "104179/104179 [==============================] - 9s 90us/sample - loss: 3.9040 - val_loss: 37.1120\n",
      "Epoch 171/400\n",
      "104179/104179 [==============================] - 9s 90us/sample - loss: 3.9390 - val_loss: 37.7248\n",
      "Epoch 172/400\n",
      "104179/104179 [==============================] - 10s 92us/sample - loss: 3.9922 - val_loss: 35.3047\n",
      "Epoch 173/400\n",
      "104179/104179 [==============================] - 9s 90us/sample - loss: 3.6199 - val_loss: 35.1851\n",
      "Epoch 174/400\n",
      "104179/104179 [==============================] - 9s 90us/sample - loss: 3.9938 - val_loss: 35.3344\n",
      "Epoch 175/400\n",
      "104179/104179 [==============================] - 9s 91us/sample - loss: 3.8761 - val_loss: 34.9963\n",
      "Epoch 176/400\n",
      "104179/104179 [==============================] - 10s 92us/sample - loss: 3.8004 - val_loss: 35.1144\n",
      "Epoch 177/400\n",
      "104179/104179 [==============================] - 10s 91us/sample - loss: 3.6867 - val_loss: 34.7463\n",
      "Epoch 178/400\n",
      "104179/104179 [==============================] - 9s 91us/sample - loss: 3.7840 - val_loss: 35.4553\n",
      "Epoch 179/400\n",
      "104179/104179 [==============================] - 10s 93us/sample - loss: 3.7833 - val_loss: 37.7245\n",
      "Epoch 180/400\n",
      "104179/104179 [==============================] - 9s 91us/sample - loss: 3.8684 - val_loss: 34.8968\n",
      "Epoch 181/400\n",
      "104179/104179 [==============================] - 9s 91us/sample - loss: 3.5787 - val_loss: 36.0315\n",
      "Epoch 182/400\n",
      "104179/104179 [==============================] - 11s 104us/sample - loss: 3.7446 - val_loss: 34.7701\n",
      "Epoch 183/400\n",
      "104179/104179 [==============================] - 10s 93us/sample - loss: 3.7634 - val_loss: 35.6300\n",
      "Epoch 184/400\n",
      "104179/104179 [==============================] - 9s 89us/sample - loss: 3.7075 - val_loss: 35.5515\n",
      "Epoch 185/400\n",
      "104179/104179 [==============================] - 9s 90us/sample - loss: 3.6743 - val_loss: 35.8491\n",
      "Epoch 186/400\n",
      "104179/104179 [==============================] - 9s 89us/sample - loss: 3.4430 - val_loss: 34.7597\n",
      "Epoch 187/400\n",
      "104179/104179 [==============================] - 11s 105us/sample - loss: 3.7409 - val_loss: 35.4996\n",
      "Epoch 188/400\n",
      "104179/104179 [==============================] - 10s 95us/sample - loss: 3.6537 - val_loss: 35.6629\n",
      "Epoch 189/400\n",
      "104179/104179 [==============================] - 11s 101us/sample - loss: 3.5248 - val_loss: 36.5821\n",
      "Epoch 190/400\n",
      "104179/104179 [==============================] - 10s 95us/sample - loss: 3.7453 - val_loss: 37.1968\n",
      "Epoch 191/400\n",
      "104179/104179 [==============================] - 11s 107us/sample - loss: 3.5582 - val_loss: 34.5892\n",
      "Epoch 192/400\n",
      "104179/104179 [==============================] - 11s 107us/sample - loss: 3.4159 - val_loss: 34.8429\n",
      "Epoch 193/400\n",
      "104179/104179 [==============================] - 10s 93us/sample - loss: 3.6588 - val_loss: 35.5502\n",
      "Epoch 194/400\n",
      "104179/104179 [==============================] - 12s 115us/sample - loss: 3.5201 - val_loss: 35.4994\n",
      "Epoch 195/400\n",
      "104179/104179 [==============================] - 10s 97us/sample - loss: 3.4293 - val_loss: 35.5266\n",
      "Epoch 196/400\n",
      "104179/104179 [==============================] - 10s 94us/sample - loss: 3.4693 - val_loss: 34.7471\n",
      "Epoch 197/400\n",
      "104179/104179 [==============================] - 10s 101us/sample - loss: 3.4735 - val_loss: 34.9578\n",
      "Epoch 198/400\n",
      "104179/104179 [==============================] - 15s 148us/sample - loss: 3.4624 - val_loss: 35.2796\n",
      "Epoch 199/400\n",
      "104179/104179 [==============================] - 12s 119us/sample - loss: 3.4931 - val_loss: 36.2649\n",
      "Epoch 200/400\n",
      "104179/104179 [==============================] - 14s 133us/sample - loss: 3.3441 - val_loss: 34.8587\n",
      "Epoch 201/400\n",
      "104179/104179 [==============================] - 17s 159us/sample - loss: 3.5018 - val_loss: 34.9178\n",
      "Epoch 202/400\n",
      "104179/104179 [==============================] - 12s 116us/sample - loss: 3.3290 - val_loss: 35.2930\n",
      "Epoch 203/400\n",
      "104179/104179 [==============================] - 11s 108us/sample - loss: 3.3209 - val_loss: 37.2232\n",
      "Epoch 204/400\n",
      "104179/104179 [==============================] - 10s 98us/sample - loss: 3.4322 - val_loss: 35.8489\n",
      "Epoch 205/400\n",
      "104179/104179 [==============================] - 10s 96us/sample - loss: 3.3542 - val_loss: 34.9143\n",
      "Epoch 206/400\n",
      "104179/104179 [==============================] - 10s 96us/sample - loss: 3.3514 - val_loss: 35.1877\n",
      "Epoch 207/400\n",
      "104179/104179 [==============================] - 12s 114us/sample - loss: 3.4002 - val_loss: 34.4642\n",
      "Epoch 208/400\n",
      "104179/104179 [==============================] - 10s 92us/sample - loss: 3.2852 - val_loss: 35.2923\n",
      "Epoch 209/400\n",
      "104179/104179 [==============================] - 10s 95us/sample - loss: 3.2695 - val_loss: 35.0169\n",
      "Epoch 210/400\n",
      "104179/104179 [==============================] - 11s 104us/sample - loss: 3.4764 - val_loss: 36.2875\n",
      "Epoch 211/400\n",
      "104179/104179 [==============================] - 10s 92us/sample - loss: 3.0949 - val_loss: 34.9307\n",
      "Epoch 212/400\n",
      "104179/104179 [==============================] - 9s 89us/sample - loss: 3.3231 - val_loss: 34.6867\n",
      "Epoch 213/400\n",
      "104179/104179 [==============================] - 10s 92us/sample - loss: 3.2280 - val_loss: 35.2547\n",
      "Epoch 214/400\n",
      "104179/104179 [==============================] - 9s 89us/sample - loss: 3.2401 - val_loss: 34.6398\n",
      "Epoch 215/400\n",
      "104179/104179 [==============================] - 10s 94us/sample - loss: 3.0732 - val_loss: 34.5270\n",
      "Epoch 216/400\n",
      "104179/104179 [==============================] - 9s 89us/sample - loss: 3.4304 - val_loss: 35.3050\n"
     ]
    },
    {
     "name": "stdout",
     "output_type": "stream",
     "text": [
      "Epoch 217/400\n",
      "104179/104179 [==============================] - 9s 87us/sample - loss: 3.1015 - val_loss: 34.8523\n",
      "Epoch 218/400\n",
      "104179/104179 [==============================] - 9s 89us/sample - loss: 3.0943 - val_loss: 35.3566\n",
      "Epoch 219/400\n",
      "104179/104179 [==============================] - 9s 89us/sample - loss: 3.1972 - val_loss: 34.8867\n",
      "Epoch 220/400\n",
      "104179/104179 [==============================] - 10s 93us/sample - loss: 3.1281 - val_loss: 34.3048\n",
      "Epoch 221/400\n",
      "104179/104179 [==============================] - 9s 88us/sample - loss: 3.0456 - val_loss: 34.3787\n",
      "Epoch 222/400\n",
      "104179/104179 [==============================] - 10s 98us/sample - loss: 3.1609 - val_loss: 35.1376\n",
      "Epoch 223/400\n",
      "104179/104179 [==============================] - 10s 95us/sample - loss: 3.0602 - val_loss: 34.9588\n",
      "Epoch 224/400\n",
      "104179/104179 [==============================] - 10s 92us/sample - loss: 3.1828 - val_loss: 35.7853\n",
      "Epoch 225/400\n",
      "104179/104179 [==============================] - 9s 90us/sample - loss: 2.9798 - val_loss: 33.9851\n",
      "Epoch 226/400\n",
      "104179/104179 [==============================] - 10s 96us/sample - loss: 3.0470 - val_loss: 34.3507\n",
      "Epoch 227/400\n",
      "104179/104179 [==============================] - 11s 103us/sample - loss: 2.9775 - val_loss: 34.4754\n",
      "Epoch 228/400\n",
      "104179/104179 [==============================] - 9s 91us/sample - loss: 3.2228 - val_loss: 34.3082\n",
      "Epoch 229/400\n",
      "104179/104179 [==============================] - 9s 91us/sample - loss: 2.9288 - val_loss: 34.0228\n",
      "Epoch 230/400\n",
      "104179/104179 [==============================] - 10s 92us/sample - loss: 3.0956 - val_loss: 33.8631\n",
      "Epoch 231/400\n",
      "104179/104179 [==============================] - 9s 89us/sample - loss: 3.0030 - val_loss: 34.1391\n",
      "Epoch 232/400\n",
      "104179/104179 [==============================] - 9s 90us/sample - loss: 3.0296 - val_loss: 34.1781\n",
      "Epoch 233/400\n",
      "104179/104179 [==============================] - 9s 88us/sample - loss: 2.9725 - val_loss: 34.6068\n",
      "Epoch 234/400\n",
      "104179/104179 [==============================] - 9s 90us/sample - loss: 3.0953 - val_loss: 34.0007\n",
      "Epoch 235/400\n",
      "104179/104179 [==============================] - 10s 99us/sample - loss: 2.8951 - val_loss: 34.1448\n",
      "Epoch 236/400\n",
      "104179/104179 [==============================] - 9s 90us/sample - loss: 2.9959 - val_loss: 34.1560\n",
      "Epoch 237/400\n",
      "104179/104179 [==============================] - 9s 90us/sample - loss: 2.9428 - val_loss: 33.9822\n",
      "Epoch 238/400\n",
      "104179/104179 [==============================] - 9s 89us/sample - loss: 2.8197 - val_loss: 34.2197\n",
      "Epoch 239/400\n",
      "104179/104179 [==============================] - 10s 95us/sample - loss: 3.0518 - val_loss: 34.3053\n",
      "Epoch 240/400\n",
      "104179/104179 [==============================] - 9s 90us/sample - loss: 2.7833 - val_loss: 34.6161\n",
      "Epoch 241/400\n",
      "104179/104179 [==============================] - 9s 88us/sample - loss: 2.9747 - val_loss: 34.0994\n",
      "Epoch 242/400\n",
      "104179/104179 [==============================] - 9s 88us/sample - loss: 2.9548 - val_loss: 35.1686\n",
      "Epoch 243/400\n",
      "104179/104179 [==============================] - 9s 87us/sample - loss: 2.8042 - val_loss: 34.5694\n",
      "Epoch 244/400\n",
      "104179/104179 [==============================] - 10s 94us/sample - loss: 2.8575 - val_loss: 35.3439\n",
      "Epoch 245/400\n",
      "104179/104179 [==============================] - 9s 90us/sample - loss: 2.9346 - val_loss: 34.3018\n",
      "Epoch 246/400\n",
      "104179/104179 [==============================] - 9s 89us/sample - loss: 2.7589 - val_loss: 33.9222\n",
      "Epoch 247/400\n",
      "104179/104179 [==============================] - 9s 89us/sample - loss: 2.8631 - val_loss: 35.1017\n",
      "Epoch 248/400\n",
      "104179/104179 [==============================] - 9s 88us/sample - loss: 2.7809 - val_loss: 34.5406\n",
      "Epoch 249/400\n",
      "104179/104179 [==============================] - 9s 88us/sample - loss: 2.9239 - val_loss: 34.6400\n",
      "Epoch 250/400\n",
      "104179/104179 [==============================] - 9s 91us/sample - loss: 2.7645 - val_loss: 34.6168\n",
      "Epoch 251/400\n",
      "104179/104179 [==============================] - 10s 93us/sample - loss: 2.8088 - val_loss: 34.7775\n",
      "Epoch 252/400\n",
      "104179/104179 [==============================] - 10s 93us/sample - loss: 2.8554 - val_loss: 33.8128\n",
      "Epoch 253/400\n",
      "104179/104179 [==============================] - 10s 93us/sample - loss: 2.8731 - val_loss: 34.7059\n",
      "Epoch 254/400\n",
      "104179/104179 [==============================] - 9s 91us/sample - loss: 2.6256 - val_loss: 35.4548\n",
      "Epoch 255/400\n",
      "104179/104179 [==============================] - 9s 90us/sample - loss: 2.9296 - val_loss: 35.0573\n",
      "Epoch 256/400\n",
      "104179/104179 [==============================] - 9s 89us/sample - loss: 2.7164 - val_loss: 34.5550\n",
      "Epoch 257/400\n",
      "104179/104179 [==============================] - 9s 88us/sample - loss: 2.6813 - val_loss: 34.0265\n",
      "Epoch 258/400\n",
      "104179/104179 [==============================] - 9s 90us/sample - loss: 2.8273 - val_loss: 34.9081\n",
      "Epoch 259/400\n",
      "104179/104179 [==============================] - 9s 87us/sample - loss: 2.7741 - val_loss: 34.3867\n",
      "Epoch 260/400\n",
      "104179/104179 [==============================] - 9s 88us/sample - loss: 2.6386 - val_loss: 34.2364\n",
      "Epoch 261/400\n",
      "104179/104179 [==============================] - 9s 87us/sample - loss: 2.7344 - val_loss: 34.4614\n",
      "Epoch 262/400\n",
      "104179/104179 [==============================] - 9s 88us/sample - loss: 2.7312 - val_loss: 34.3608\n",
      "Epoch 263/400\n",
      "104179/104179 [==============================] - 9s 89us/sample - loss: 2.6333 - val_loss: 34.2908\n",
      "Epoch 264/400\n",
      "104179/104179 [==============================] - 9s 88us/sample - loss: 2.6321 - val_loss: 34.4087\n",
      "Epoch 265/400\n",
      "104179/104179 [==============================] - 9s 90us/sample - loss: 2.8027 - val_loss: 34.0553\n",
      "Epoch 266/400\n",
      "104179/104179 [==============================] - 10s 98us/sample - loss: 2.6808 - val_loss: 35.0657\n",
      "Epoch 267/400\n",
      "104179/104179 [==============================] - 10s 92us/sample - loss: 2.5593 - val_loss: 34.0788\n",
      "Epoch 268/400\n",
      "104179/104179 [==============================] - 9s 90us/sample - loss: 2.7471 - val_loss: 34.4529\n",
      "Epoch 269/400\n",
      "104179/104179 [==============================] - 11s 101us/sample - loss: 2.5745 - val_loss: 33.6025\n",
      "Epoch 270/400\n",
      "104179/104179 [==============================] - 10s 91us/sample - loss: 2.7381 - val_loss: 34.1754\n",
      "Epoch 271/400\n",
      "104179/104179 [==============================] - 11s 104us/sample - loss: 2.5172 - val_loss: 34.6678\n",
      "Epoch 272/400\n",
      "104179/104179 [==============================] - 10s 94us/sample - loss: 2.6116 - val_loss: 33.8003\n",
      "Epoch 273/400\n",
      "104179/104179 [==============================] - 9s 90us/sample - loss: 2.5714 - val_loss: 33.8624\n",
      "Epoch 274/400\n",
      "104179/104179 [==============================] - 9s 90us/sample - loss: 2.6991 - val_loss: 34.5306\n",
      "Epoch 275/400\n",
      "104179/104179 [==============================] - 12s 111us/sample - loss: 2.5146 - val_loss: 33.3206\n",
      "Epoch 276/400\n",
      "104179/104179 [==============================] - 14s 131us/sample - loss: 2.5405 - val_loss: 33.9626\n",
      "Epoch 277/400\n",
      "104179/104179 [==============================] - 11s 102us/sample - loss: 2.5279 - val_loss: 34.0501\n",
      "Epoch 278/400\n",
      "104179/104179 [==============================] - 11s 105us/sample - loss: 2.7137 - val_loss: 34.1244\n",
      "Epoch 279/400\n",
      "104179/104179 [==============================] - 12s 113us/sample - loss: 2.4997 - val_loss: 34.3830\n",
      "Epoch 280/400\n",
      "104179/104179 [==============================] - 10s 98us/sample - loss: 2.5778 - val_loss: 33.4000\n",
      "Epoch 281/400\n",
      "104179/104179 [==============================] - 10s 95us/sample - loss: 2.5262 - val_loss: 34.0052\n",
      "Epoch 282/400\n",
      "104179/104179 [==============================] - 10s 96us/sample - loss: 2.4779 - val_loss: 33.7132\n",
      "Epoch 283/400\n",
      "104179/104179 [==============================] - 10s 95us/sample - loss: 2.6589 - val_loss: 33.6349\n",
      "Epoch 284/400\n",
      "104179/104179 [==============================] - 10s 97us/sample - loss: 2.5044 - val_loss: 35.4267\n",
      "Epoch 285/400\n",
      "104179/104179 [==============================] - 10s 92us/sample - loss: 2.4829 - val_loss: 33.5264\n",
      "Epoch 286/400\n",
      "104179/104179 [==============================] - 10s 95us/sample - loss: 2.4584 - val_loss: 34.8004\n",
      "Epoch 287/400\n",
      "104179/104179 [==============================] - 10s 93us/sample - loss: 2.5791 - val_loss: 34.9055\n",
      "Epoch 288/400\n",
      "104179/104179 [==============================] - 10s 93us/sample - loss: 2.4168 - val_loss: 33.6022\n",
      "Epoch 289/400\n",
      "104179/104179 [==============================] - 10s 96us/sample - loss: 2.4960 - val_loss: 33.6862\n",
      "Epoch 290/400\n",
      "104179/104179 [==============================] - 12s 112us/sample - loss: 2.5039 - val_loss: 32.6003\n",
      "Epoch 291/400\n",
      "104179/104179 [==============================] - 10s 93us/sample - loss: 2.5428 - val_loss: 33.3212\n",
      "Epoch 292/400\n",
      "104179/104179 [==============================] - 10s 93us/sample - loss: 2.5320 - val_loss: 33.4767\n",
      "Epoch 293/400\n",
      "104179/104179 [==============================] - 10s 94us/sample - loss: 2.4207 - val_loss: 33.5086\n",
      "Epoch 294/400\n",
      "104179/104179 [==============================] - 10s 94us/sample - loss: 2.2365 - val_loss: 33.1344\n",
      "Epoch 295/400\n",
      "104179/104179 [==============================] - 10s 98us/sample - loss: 2.4263 - val_loss: 33.8413\n",
      "Epoch 296/400\n",
      "104179/104179 [==============================] - 10s 95us/sample - loss: 2.5269 - val_loss: 34.3551\n",
      "Epoch 297/400\n",
      "104179/104179 [==============================] - 10s 95us/sample - loss: 2.5011 - val_loss: 33.5608\n",
      "Epoch 298/400\n",
      "104179/104179 [==============================] - 10s 99us/sample - loss: 2.3724 - val_loss: 33.5430\n",
      "Epoch 299/400\n",
      "104179/104179 [==============================] - 10s 95us/sample - loss: 2.4162 - val_loss: 33.8438\n",
      "Epoch 300/400\n",
      "104179/104179 [==============================] - 10s 93us/sample - loss: 2.4517 - val_loss: 32.4548\n",
      "Epoch 301/400\n",
      "104179/104179 [==============================] - 10s 95us/sample - loss: 2.2956 - val_loss: 33.4512\n",
      "Epoch 302/400\n",
      "104179/104179 [==============================] - 10s 93us/sample - loss: 2.3807 - val_loss: 33.3995\n",
      "Epoch 303/400\n",
      "104179/104179 [==============================] - 10s 96us/sample - loss: 2.4789 - val_loss: 34.1628\n",
      "Epoch 304/400\n",
      "104179/104179 [==============================] - 10s 93us/sample - loss: 2.3936 - val_loss: 34.3815\n",
      "Epoch 305/400\n",
      "104179/104179 [==============================] - 10s 95us/sample - loss: 2.4405 - val_loss: 33.6690\n",
      "Epoch 306/400\n",
      "104179/104179 [==============================] - 11s 109us/sample - loss: 2.3220 - val_loss: 33.3098\n",
      "Epoch 307/400\n",
      "104179/104179 [==============================] - 10s 91us/sample - loss: 2.3743 - val_loss: 33.2726\n",
      "Epoch 308/400\n",
      "104179/104179 [==============================] - 10s 92us/sample - loss: 2.3147 - val_loss: 33.4416\n",
      "Epoch 309/400\n",
      "104179/104179 [==============================] - 10s 97us/sample - loss: 2.3676 - val_loss: 33.0745\n",
      "Epoch 310/400\n",
      "104179/104179 [==============================] - 9s 91us/sample - loss: 2.3694 - val_loss: 33.6990\n",
      "Epoch 311/400\n",
      "104179/104179 [==============================] - 10s 92us/sample - loss: 2.3039 - val_loss: 32.7647\n",
      "Epoch 312/400\n",
      "104179/104179 [==============================] - 9s 90us/sample - loss: 2.3425 - val_loss: 33.1828\n",
      "Epoch 313/400\n",
      "104179/104179 [==============================] - 10s 93us/sample - loss: 2.3127 - val_loss: 32.8473\n",
      "Epoch 314/400\n",
      "104179/104179 [==============================] - 10s 92us/sample - loss: 2.3629 - val_loss: 32.7597\n",
      "Epoch 315/400\n",
      "104179/104179 [==============================] - 10s 91us/sample - loss: 2.3179 - val_loss: 34.1054\n",
      "Epoch 316/400\n",
      "104179/104179 [==============================] - 9s 89us/sample - loss: 2.2566 - val_loss: 32.4380\n",
      "Epoch 317/400\n",
      "104179/104179 [==============================] - 10s 92us/sample - loss: 2.3100 - val_loss: 33.0709\n",
      "Epoch 318/400\n",
      "104179/104179 [==============================] - 10s 93us/sample - loss: 2.2592 - val_loss: 33.0191\n",
      "Epoch 319/400\n",
      "104179/104179 [==============================] - 10s 93us/sample - loss: 2.3600 - val_loss: 32.9292\n",
      "Epoch 320/400\n",
      "104179/104179 [==============================] - 10s 93us/sample - loss: 2.3291 - val_loss: 33.1754\n",
      "Epoch 321/400\n",
      "104179/104179 [==============================] - 10s 91us/sample - loss: 2.3036 - val_loss: 32.5805\n",
      "Epoch 322/400\n",
      "104179/104179 [==============================] - 10s 91us/sample - loss: 2.1997 - val_loss: 34.1988\n",
      "Epoch 323/400\n",
      "104179/104179 [==============================] - 10s 93us/sample - loss: 2.2274 - val_loss: 32.6401\n",
      "Epoch 324/400\n",
      "104179/104179 [==============================] - 10s 98us/sample - loss: 2.2673 - val_loss: 32.7040\n",
      "Epoch 325/400\n",
      "104179/104179 [==============================] - 10s 93us/sample - loss: 2.3013 - val_loss: 32.8595\n",
      "Epoch 326/400\n",
      "104179/104179 [==============================] - 10s 98us/sample - loss: 2.2005 - val_loss: 32.9660\n",
      "Epoch 327/400\n",
      "104179/104179 [==============================] - 10s 95us/sample - loss: 2.1560 - val_loss: 33.1505\n",
      "Epoch 328/400\n",
      "104179/104179 [==============================] - 10s 92us/sample - loss: 2.3166 - val_loss: 32.6149\n",
      "Epoch 329/400\n",
      "104179/104179 [==============================] - 10s 95us/sample - loss: 2.1689 - val_loss: 33.4353\n",
      "Epoch 330/400\n",
      "104179/104179 [==============================] - 10s 92us/sample - loss: 2.1409 - val_loss: 32.7029\n",
      "Epoch 331/400\n",
      "104179/104179 [==============================] - 10s 96us/sample - loss: 2.2148 - val_loss: 32.4795\n",
      "Epoch 332/400\n",
      "104179/104179 [==============================] - 10s 91us/sample - loss: 2.2848 - val_loss: 32.5858\n",
      "Epoch 333/400\n",
      "104179/104179 [==============================] - 10s 98us/sample - loss: 2.1403 - val_loss: 33.2890\n",
      "Epoch 334/400\n",
      "104179/104179 [==============================] - 10s 92us/sample - loss: 2.1288 - val_loss: 32.2317\n",
      "Epoch 335/400\n",
      "104179/104179 [==============================] - 10s 91us/sample - loss: 2.2394 - val_loss: 32.4166\n",
      "Epoch 336/400\n",
      "104179/104179 [==============================] - 10s 94us/sample - loss: 2.1280 - val_loss: 32.4318\n",
      "Epoch 337/400\n",
      "104179/104179 [==============================] - 10s 92us/sample - loss: 2.1410 - val_loss: 32.7190\n",
      "Epoch 338/400\n",
      "104179/104179 [==============================] - 10s 93us/sample - loss: 2.1289 - val_loss: 33.3051\n",
      "Epoch 339/400\n",
      "104179/104179 [==============================] - 10s 93us/sample - loss: 2.1556 - val_loss: 32.7315\n",
      "Epoch 340/400\n",
      "104179/104179 [==============================] - 10s 94us/sample - loss: 2.2883 - val_loss: 32.6407\n",
      "Epoch 341/400\n",
      "104179/104179 [==============================] - 9s 91us/sample - loss: 2.1165 - val_loss: 32.5808\n",
      "Epoch 342/400\n",
      "104179/104179 [==============================] - 10s 91us/sample - loss: 2.1243 - val_loss: 32.6765\n",
      "Epoch 343/400\n",
      "104179/104179 [==============================] - 9s 91us/sample - loss: 2.2503 - val_loss: 32.2528\n",
      "Epoch 344/400\n",
      "104179/104179 [==============================] - 10s 92us/sample - loss: 2.1709 - val_loss: 32.5104\n",
      "Epoch 345/400\n",
      "104179/104179 [==============================] - 10s 92us/sample - loss: 2.0671 - val_loss: 32.2617\n",
      "Epoch 346/400\n",
      "104179/104179 [==============================] - 10s 92us/sample - loss: 2.2139 - val_loss: 32.3179\n",
      "Epoch 347/400\n",
      "104179/104179 [==============================] - 9s 90us/sample - loss: 2.0987 - val_loss: 32.9086\n",
      "Epoch 348/400\n",
      "104179/104179 [==============================] - 10s 92us/sample - loss: 2.0116 - val_loss: 32.6743\n",
      "Epoch 349/400\n",
      "104179/104179 [==============================] - 10s 91us/sample - loss: 2.1521 - val_loss: 32.6668\n",
      "Epoch 350/400\n",
      "104179/104179 [==============================] - 9s 91us/sample - loss: 2.0996 - val_loss: 32.5796\n",
      "Epoch 351/400\n",
      "104179/104179 [==============================] - 9s 91us/sample - loss: 2.0539 - val_loss: 32.6537\n",
      "Epoch 352/400\n",
      "104179/104179 [==============================] - 10s 93us/sample - loss: 2.0830 - val_loss: 32.9052\n",
      "Epoch 353/400\n",
      "104179/104179 [==============================] - 9s 90us/sample - loss: 2.1009 - val_loss: 32.6236\n",
      "Epoch 354/400\n",
      "104179/104179 [==============================] - 9s 91us/sample - loss: 2.1223 - val_loss: 32.3174\n",
      "Epoch 355/400\n",
      "104179/104179 [==============================] - 9s 91us/sample - loss: 2.0588 - val_loss: 32.7764\n",
      "Epoch 356/400\n",
      "104179/104179 [==============================] - 9s 91us/sample - loss: 2.1186 - val_loss: 32.8717\n",
      "Epoch 357/400\n",
      "104179/104179 [==============================] - 10s 92us/sample - loss: 1.9832 - val_loss: 32.5775\n",
      "Epoch 358/400\n",
      "104179/104179 [==============================] - 10s 93us/sample - loss: 2.1178 - val_loss: 32.2185\n",
      "Epoch 359/400\n",
      "104179/104179 [==============================] - 10s 92us/sample - loss: 1.9511 - val_loss: 32.8134\n",
      "Epoch 360/400\n",
      "104179/104179 [==============================] - 11s 101us/sample - loss: 2.0786 - val_loss: 32.8878\n",
      "Epoch 361/400\n"
     ]
    },
    {
     "name": "stdout",
     "output_type": "stream",
     "text": [
      "104179/104179 [==============================] - 10s 92us/sample - loss: 2.0711 - val_loss: 32.4676\n",
      "Epoch 362/400\n",
      "104179/104179 [==============================] - 9s 90us/sample - loss: 2.0863 - val_loss: 32.6556\n",
      "Epoch 363/400\n",
      "104179/104179 [==============================] - 9s 90us/sample - loss: 1.9868 - val_loss: 32.5245\n",
      "Epoch 364/400\n",
      "104179/104179 [==============================] - 9s 90us/sample - loss: 2.0430 - val_loss: 32.7168\n",
      "Epoch 365/400\n",
      "104179/104179 [==============================] - 9s 91us/sample - loss: 2.0418 - val_loss: 32.8328\n",
      "Epoch 366/400\n",
      "104179/104179 [==============================] - 10s 96us/sample - loss: 2.0661 - val_loss: 32.7701\n",
      "Epoch 367/400\n",
      "104179/104179 [==============================] - 9s 89us/sample - loss: 2.0649 - val_loss: 31.9975\n",
      "Epoch 368/400\n",
      "104179/104179 [==============================] - 9s 91us/sample - loss: 1.9215 - val_loss: 32.5425\n",
      "Epoch 369/400\n",
      "104179/104179 [==============================] - 9s 89us/sample - loss: 2.1149 - val_loss: 32.5057\n",
      "Epoch 370/400\n",
      "104179/104179 [==============================] - 10s 95us/sample - loss: 1.9861 - val_loss: 32.5003\n",
      "Epoch 371/400\n",
      "104179/104179 [==============================] - 11s 103us/sample - loss: 2.0301 - val_loss: 32.5462\n",
      "Epoch 372/400\n",
      "104179/104179 [==============================] - 10s 97us/sample - loss: 1.9171 - val_loss: 32.7258\n",
      "Epoch 373/400\n",
      "104179/104179 [==============================] - 10s 96us/sample - loss: 1.9692 - val_loss: 32.4827\n",
      "Epoch 374/400\n",
      "104179/104179 [==============================] - 9s 90us/sample - loss: 2.0101 - val_loss: 33.0552\n",
      "Epoch 375/400\n",
      "104179/104179 [==============================] - 9s 91us/sample - loss: 1.9935 - val_loss: 32.8382\n",
      "Epoch 376/400\n",
      "104179/104179 [==============================] - 9s 89us/sample - loss: 1.9661 - val_loss: 33.1329\n",
      "Epoch 377/400\n",
      "104179/104179 [==============================] - 9s 90us/sample - loss: 1.9439 - val_loss: 32.6442\n",
      "Epoch 378/400\n",
      "104179/104179 [==============================] - 9s 89us/sample - loss: 1.9388 - val_loss: 32.6213\n",
      "Epoch 379/400\n",
      "104179/104179 [==============================] - 9s 88us/sample - loss: 1.9610 - val_loss: 32.7290\n",
      "Epoch 380/400\n",
      "104179/104179 [==============================] - 9s 88us/sample - loss: 1.9962 - val_loss: 34.1106\n",
      "Epoch 381/400\n",
      "104179/104179 [==============================] - 9s 89us/sample - loss: 1.9254 - val_loss: 32.7617\n",
      "Epoch 382/400\n",
      "104179/104179 [==============================] - 9s 89us/sample - loss: 2.0554 - val_loss: 32.7542\n",
      "Epoch 383/400\n",
      "104179/104179 [==============================] - 9s 89us/sample - loss: 1.8949 - val_loss: 32.3854\n",
      "Epoch 384/400\n",
      "104179/104179 [==============================] - 9s 91us/sample - loss: 1.9198 - val_loss: 32.3918\n",
      "Epoch 385/400\n",
      "104179/104179 [==============================] - 9s 90us/sample - loss: 1.8713 - val_loss: 33.1526\n",
      "Epoch 386/400\n",
      "104179/104179 [==============================] - 9s 89us/sample - loss: 1.9007 - val_loss: 32.7469\n",
      "Epoch 387/400\n",
      "104179/104179 [==============================] - 9s 89us/sample - loss: 1.9444 - val_loss: 32.5605\n",
      "Epoch 388/400\n",
      "104179/104179 [==============================] - 10s 95us/sample - loss: 2.0028 - val_loss: 32.7890\n",
      "Epoch 389/400\n",
      "104179/104179 [==============================] - 9s 89us/sample - loss: 1.8786 - val_loss: 32.7490\n",
      "Epoch 390/400\n",
      "104179/104179 [==============================] - 9s 91us/sample - loss: 1.8971 - val_loss: 32.6734\n",
      "Epoch 391/400\n",
      "104179/104179 [==============================] - 9s 89us/sample - loss: 1.8754 - val_loss: 32.3537\n",
      "Epoch 392/400\n",
      "104179/104179 [==============================] - 9s 89us/sample - loss: 1.9561 - val_loss: 32.6403\n",
      "Epoch 393/400\n",
      "104179/104179 [==============================] - 9s 89us/sample - loss: 1.9016 - val_loss: 32.0736\n",
      "Epoch 394/400\n",
      "104179/104179 [==============================] - 9s 89us/sample - loss: 1.9295 - val_loss: 32.5935\n",
      "Epoch 395/400\n",
      "104179/104179 [==============================] - 9s 91us/sample - loss: 1.8684 - val_loss: 32.0621\n",
      "Epoch 396/400\n",
      "104179/104179 [==============================] - 9s 90us/sample - loss: 1.8540 - val_loss: 31.9462\n",
      "Epoch 397/400\n",
      "104179/104179 [==============================] - 10s 91us/sample - loss: 1.9097 - val_loss: 31.8511\n",
      "Epoch 398/400\n",
      "104179/104179 [==============================] - 9s 89us/sample - loss: 1.8211 - val_loss: 32.5020\n",
      "Epoch 399/400\n",
      "104179/104179 [==============================] - 9s 91us/sample - loss: 1.9236 - val_loss: 31.7304\n",
      "Epoch 400/400\n",
      "104179/104179 [==============================] - 9s 89us/sample - loss: 1.9294 - val_loss: 31.6717\n"
     ]
    },
    {
     "data": {
      "text/plain": [
       "<tensorflow.python.keras.callbacks.History at 0x2cabcd107c8>"
      ]
     },
     "execution_count": 47,
     "metadata": {},
     "output_type": "execute_result"
    }
   ],
   "source": [
    "model.fit(x=X_train,y=y_train.values,\n",
    "          validation_data=(X_test,y_test.values),\n",
    "          batch_size=128,epochs=400)"
   ]
  },
  {
   "cell_type": "code",
   "execution_count": 127,
   "id": "6002aada",
   "metadata": {},
   "outputs": [],
   "source": [
    "losses = pd.DataFrame(model.history.history)"
   ]
  },
  {
   "cell_type": "code",
   "execution_count": 128,
   "id": "7f1d79fa",
   "metadata": {},
   "outputs": [
    {
     "data": {
      "text/plain": [
       "<AxesSubplot:>"
      ]
     },
     "execution_count": 128,
     "metadata": {},
     "output_type": "execute_result"
    },
    {
     "data": {
      "image/png": "[encoded data removed]",
      "text/plain": [
       "<Figure size 432x288 with 1 Axes>"
      ]
     },
     "metadata": {
      "needs_background": "light"
     },
     "output_type": "display_data"
    }
   ],
   "source": [
    "losses.plot()"
   ]
  },
  {
   "cell_type": "markdown",
   "id": "41a9667c",
   "metadata": {},
   "source": [
    "### Evaluation of the model"
   ]
  },
  {
   "cell_type": "code",
   "execution_count": 129,
   "id": "d4bc5cd9",
   "metadata": {},
   "outputs": [],
   "source": [
    "from sklearn.metrics import mean_squared_error,mean_absolute_error,explained_variance_score"
   ]
  },
  {
   "cell_type": "code",
   "execution_count": 130,
   "id": "0fc749fc",
   "metadata": {},
   "outputs": [
    {
     "data": {
      "text/plain": [
       "array([[0.01488643, 0.01459854, 0.        , ..., 0.56707254, 0.41566644,\n",
       "        0.41566644],\n",
       "       [0.01474831, 0.00912409, 0.        , ..., 0.91559449, 0.70236054,\n",
       "        0.70236054],\n",
       "       [0.01491713, 0.10036496, 0.        , ..., 0.87171881, 0.70030293,\n",
       "        0.70030293],\n",
       "       ...,\n",
       "       [0.01493247, 0.00547445, 0.        , ..., 0.51571177, 0.36971308,\n",
       "        0.36971308],\n",
       "       [0.01474678, 0.01094891, 0.        , ..., 0.73591804, 0.55418381,\n",
       "        0.55418381],\n",
       "       [0.01519337, 0.02372263, 0.        , ..., 0.5662447 , 0.41840992,\n",
       "        0.41840992]])"
      ]
     },
     "execution_count": 130,
     "metadata": {},
     "output_type": "execute_result"
    }
   ],
   "source": [
    "X_test"
   ]
  },
  {
   "cell_type": "code",
   "execution_count": 131,
   "id": "824bd256",
   "metadata": {},
   "outputs": [
    {
     "name": "stdout",
     "output_type": "stream",
     "text": [
      "998/998 [==============================] - 1s 1ms/step\n"
     ]
    }
   ],
   "source": [
    "predictions = model.predict(X_test)"
   ]
  },
  {
   "cell_type": "code",
   "execution_count": 132,
   "id": "a504d2a0",
   "metadata": {},
   "outputs": [
    {
     "data": {
      "text/plain": [
       "20.638851828946944"
      ]
     },
     "execution_count": 132,
     "metadata": {},
     "output_type": "execute_result"
    }
   ],
   "source": [
    "mean_absolute_error(y_test,predictions)"
   ]
  },
  {
   "cell_type": "code",
   "execution_count": 133,
   "id": "0ac4d55b",
   "metadata": {},
   "outputs": [
    {
     "data": {
      "text/plain": [
       "36.778551320872154"
      ]
     },
     "execution_count": 133,
     "metadata": {},
     "output_type": "execute_result"
    }
   ],
   "source": [
    "np.sqrt(mean_squared_error(y_test,predictions))"
   ]
  },
  {
   "cell_type": "code",
   "execution_count": 134,
   "id": "c0441ef3",
   "metadata": {},
   "outputs": [
    {
     "data": {
      "text/plain": [
       "0.671765621443486"
      ]
     },
     "execution_count": 134,
     "metadata": {},
     "output_type": "execute_result"
    }
   ],
   "source": [
    "explained_variance_score(y_test,predictions)"
   ]
  },
  {
   "cell_type": "code",
   "execution_count": 135,
   "id": "45db5018",
   "metadata": {},
   "outputs": [
    {
     "data": {
      "text/plain": [
       "50.154075425218835"
      ]
     },
     "execution_count": 135,
     "metadata": {},
     "output_type": "execute_result"
    }
   ],
   "source": [
    "df3['Shipping LT'].mean()"
   ]
  },
  {
   "cell_type": "code",
   "execution_count": 136,
   "id": "16faa8f1",
   "metadata": {},
   "outputs": [
    {
     "data": {
      "text/plain": [
       "26.0"
      ]
     },
     "execution_count": 136,
     "metadata": {},
     "output_type": "execute_result"
    }
   ],
   "source": [
    "df3['Shipping LT'].median()"
   ]
  },
  {
   "cell_type": "code",
   "execution_count": 137,
   "id": "41435da0",
   "metadata": {},
   "outputs": [
    {
     "data": {
      "text/plain": [
       "[<matplotlib.lines.Line2D at 0x1a435ba2e48>]"
      ]
     },
     "execution_count": 137,
     "metadata": {},
     "output_type": "execute_result"
    },
    {
     "data": {
      "image/png": "[encoded data removed]",
      "text/plain": [
       "<Figure size 432x288 with 1 Axes>"
      ]
     },
     "metadata": {
      "needs_background": "light"
     },
     "output_type": "display_data"
    }
   ],
   "source": [
    "# Our predictions\n",
    "plt.scatter(y_test,predictions)\n",
    "\n",
    "# Perfect predictions\n",
    "plt.plot(y_test,y_test,'r')"
   ]
  },
  {
   "cell_type": "code",
   "execution_count": 138,
   "id": "7deaa858",
   "metadata": {},
   "outputs": [],
   "source": [
    "errors = y_test.values.reshape(31908, 1) - predictions"
   ]
  },
  {
   "cell_type": "code",
   "execution_count": 139,
   "id": "9bd71204",
   "metadata": {},
   "outputs": [
    {
     "name": "stderr",
     "output_type": "stream",
     "text": [
      "C:\\Users\\te521690\\Anaconda3\\lib\\site-packages\\seaborn\\distributions.py:2619: FutureWarning: `distplot` is a deprecated function and will be removed in a future version. Please adapt your code to use either `displot` (a figure-level function with similar flexibility) or `histplot` (an axes-level function for histograms).\n",
      "  warnings.warn(msg, FutureWarning)\n"
     ]
    },
    {
     "data": {
      "text/plain": [
       "<AxesSubplot:ylabel='Density'>"
      ]
     },
     "execution_count": 139,
     "metadata": {},
     "output_type": "execute_result"
    },
    {
     "data": {
      "image/png": "[encoded data removed]",
      "text/plain": [
       "<Figure size 432x288 with 1 Axes>"
      ]
     },
     "metadata": {
      "needs_background": "light"
     },
     "output_type": "display_data"
    }
   ],
   "source": [
    "sns.distplot(errors)"
   ]
  },
  {
   "cell_type": "markdown",
   "id": "4d6b0ed5",
   "metadata": {},
   "source": [
    "### Predicting on a brand new house"
   ]
  },
  {
   "cell_type": "code",
   "execution_count": 140,
   "id": "d3d26692",
   "metadata": {},
   "outputs": [],
   "source": [
    "log4 = log3.drop(['SO_Ord_date','Req_Date','Due_Date'], axis=1)"
   ]
  },
  {
   "cell_type": "code",
   "execution_count": 141,
   "id": "b9c6a3d4",
   "metadata": {},
   "outputs": [],
   "source": [
    "X1 = log4.drop('Shipping LT',axis=1)\n",
    "y1 = log4['Shipping LT']"
   ]
  },
  {
   "cell_type": "code",
   "execution_count": 142,
   "id": "c8512389",
   "metadata": {},
   "outputs": [],
   "source": [
    "# X1= scaler.fit_transform(X1)"
   ]
  },
  {
   "cell_type": "code",
   "execution_count": 143,
   "id": "aa1e7efe",
   "metadata": {},
   "outputs": [],
   "source": [
    "X1=pd.DataFrame(X1)"
   ]
  },
  {
   "cell_type": "code",
   "execution_count": 144,
   "id": "61fa2af5",
   "metadata": {},
   "outputs": [
    {
     "data": {
      "text/html": [
       "<div>\n",
       "<style scoped>\n",
       "    .dataframe tbody tr th:only-of-type {\n",
       "        vertical-align: middle;\n",
       "    }\n",
       "\n",
       "    .dataframe tbody tr th {\n",
       "        vertical-align: top;\n",
       "    }\n",
       "\n",
       "    .dataframe thead th {\n",
       "        text-align: right;\n",
       "    }\n",
       "</style>\n",
       "<table border=\"1\" class=\"dataframe\">\n",
       "  <thead>\n",
       "    <tr style=\"text-align: right;\">\n",
       "      <th></th>\n",
       "      <th>QtyInvoiced</th>\n",
       "      <th>Customer LT</th>\n",
       "      <th>Ord_dt_Euc</th>\n",
       "      <th>Part_000144-000</th>\n",
       "      <th>Part_004049-000</th>\n",
       "      <th>Part_004354-000</th>\n",
       "      <th>Part_007356-000</th>\n",
       "      <th>Part_008440-000</th>\n",
       "      <th>Part_011589-000</th>\n",
       "      <th>Part_014670-000</th>\n",
       "      <th>...</th>\n",
       "      <th>OTTO-GPL_JA2</th>\n",
       "      <th>OTTO-GPL_K93</th>\n",
       "      <th>OTTO-GPL_KB1</th>\n",
       "      <th>OTTO-GPL_Z63</th>\n",
       "      <th>OTTO-GPL_Z72</th>\n",
       "      <th>Part Type_ATO</th>\n",
       "      <th>Part Type_COMP</th>\n",
       "      <th>Part Type_MTO</th>\n",
       "      <th>Part Type_MTS</th>\n",
       "      <th>Part Type_MTSQS</th>\n",
       "    </tr>\n",
       "  </thead>\n",
       "  <tbody>\n",
       "    <tr>\n",
       "      <th>0</th>\n",
       "      <td>2725.0</td>\n",
       "      <td>14</td>\n",
       "      <td>1.685938e+09</td>\n",
       "      <td>0</td>\n",
       "      <td>0</td>\n",
       "      <td>0</td>\n",
       "      <td>0</td>\n",
       "      <td>0</td>\n",
       "      <td>0</td>\n",
       "      <td>0</td>\n",
       "      <td>...</td>\n",
       "      <td>0</td>\n",
       "      <td>0</td>\n",
       "      <td>0</td>\n",
       "      <td>0</td>\n",
       "      <td>0</td>\n",
       "      <td>0</td>\n",
       "      <td>0</td>\n",
       "      <td>0</td>\n",
       "      <td>1</td>\n",
       "      <td>0</td>\n",
       "    </tr>\n",
       "    <tr>\n",
       "      <th>1</th>\n",
       "      <td>250.0</td>\n",
       "      <td>3</td>\n",
       "      <td>1.685419e+09</td>\n",
       "      <td>0</td>\n",
       "      <td>0</td>\n",
       "      <td>0</td>\n",
       "      <td>0</td>\n",
       "      <td>0</td>\n",
       "      <td>0</td>\n",
       "      <td>0</td>\n",
       "      <td>...</td>\n",
       "      <td>0</td>\n",
       "      <td>0</td>\n",
       "      <td>0</td>\n",
       "      <td>0</td>\n",
       "      <td>0</td>\n",
       "      <td>0</td>\n",
       "      <td>0</td>\n",
       "      <td>0</td>\n",
       "      <td>1</td>\n",
       "      <td>0</td>\n",
       "    </tr>\n",
       "    <tr>\n",
       "      <th>2</th>\n",
       "      <td>70000.0</td>\n",
       "      <td>17</td>\n",
       "      <td>1.684469e+09</td>\n",
       "      <td>0</td>\n",
       "      <td>0</td>\n",
       "      <td>0</td>\n",
       "      <td>0</td>\n",
       "      <td>0</td>\n",
       "      <td>0</td>\n",
       "      <td>0</td>\n",
       "      <td>...</td>\n",
       "      <td>0</td>\n",
       "      <td>0</td>\n",
       "      <td>0</td>\n",
       "      <td>0</td>\n",
       "      <td>0</td>\n",
       "      <td>0</td>\n",
       "      <td>0</td>\n",
       "      <td>0</td>\n",
       "      <td>1</td>\n",
       "      <td>0</td>\n",
       "    </tr>\n",
       "    <tr>\n",
       "      <th>3</th>\n",
       "      <td>138000.0</td>\n",
       "      <td>17</td>\n",
       "      <td>1.684469e+09</td>\n",
       "      <td>0</td>\n",
       "      <td>0</td>\n",
       "      <td>0</td>\n",
       "      <td>0</td>\n",
       "      <td>0</td>\n",
       "      <td>0</td>\n",
       "      <td>0</td>\n",
       "      <td>...</td>\n",
       "      <td>0</td>\n",
       "      <td>0</td>\n",
       "      <td>0</td>\n",
       "      <td>0</td>\n",
       "      <td>0</td>\n",
       "      <td>0</td>\n",
       "      <td>0</td>\n",
       "      <td>0</td>\n",
       "      <td>1</td>\n",
       "      <td>0</td>\n",
       "    </tr>\n",
       "    <tr>\n",
       "      <th>4</th>\n",
       "      <td>25.0</td>\n",
       "      <td>49</td>\n",
       "      <td>1.683605e+09</td>\n",
       "      <td>0</td>\n",
       "      <td>0</td>\n",
       "      <td>0</td>\n",
       "      <td>0</td>\n",
       "      <td>0</td>\n",
       "      <td>0</td>\n",
       "      <td>0</td>\n",
       "      <td>...</td>\n",
       "      <td>0</td>\n",
       "      <td>0</td>\n",
       "      <td>0</td>\n",
       "      <td>0</td>\n",
       "      <td>0</td>\n",
       "      <td>0</td>\n",
       "      <td>0</td>\n",
       "      <td>0</td>\n",
       "      <td>1</td>\n",
       "      <td>0</td>\n",
       "    </tr>\n",
       "  </tbody>\n",
       "</table>\n",
       "<p>5 rows × 2226 columns</p>\n",
       "</div>"
      ],
      "text/plain": [
       "   QtyInvoiced  Customer LT    Ord_dt_Euc  Part_000144-000  Part_004049-000  \\\n",
       "0       2725.0           14  1.685938e+09                0                0   \n",
       "1        250.0            3  1.685419e+09                0                0   \n",
       "2      70000.0           17  1.684469e+09                0                0   \n",
       "3     138000.0           17  1.684469e+09                0                0   \n",
       "4         25.0           49  1.683605e+09                0                0   \n",
       "\n",
       "   Part_004354-000  Part_007356-000  Part_008440-000  Part_011589-000  \\\n",
       "0                0                0                0                0   \n",
       "1                0                0                0                0   \n",
       "2                0                0                0                0   \n",
       "3                0                0                0                0   \n",
       "4                0                0                0                0   \n",
       "\n",
       "   Part_014670-000  ...  OTTO-GPL_JA2  OTTO-GPL_K93  OTTO-GPL_KB1  \\\n",
       "0                0  ...             0             0             0   \n",
       "1                0  ...             0             0             0   \n",
       "2                0  ...             0             0             0   \n",
       "3                0  ...             0             0             0   \n",
       "4                0  ...             0             0             0   \n",
       "\n",
       "   OTTO-GPL_Z63  OTTO-GPL_Z72  Part Type_ATO  Part Type_COMP  Part Type_MTO  \\\n",
       "0             0             0              0               0              0   \n",
       "1             0             0              0               0              0   \n",
       "2             0             0              0               0              0   \n",
       "3             0             0              0               0              0   \n",
       "4             0             0              0               0              0   \n",
       "\n",
       "   Part Type_MTS  Part Type_MTSQS  \n",
       "0              1                0  \n",
       "1              1                0  \n",
       "2              1                0  \n",
       "3              1                0  \n",
       "4              1                0  \n",
       "\n",
       "[5 rows x 2226 columns]"
      ]
     },
     "execution_count": 144,
     "metadata": {},
     "output_type": "execute_result"
    }
   ],
   "source": [
    "X1.head()"
   ]
  },
  {
   "cell_type": "code",
   "execution_count": 145,
   "id": "1bac4ee6",
   "metadata": {},
   "outputs": [
    {
     "data": {
      "text/plain": [
       "(8092, 2226)"
      ]
     },
     "execution_count": 145,
     "metadata": {},
     "output_type": "execute_result"
    }
   ],
   "source": [
    "X1.shape"
   ]
  },
  {
   "cell_type": "code",
   "execution_count": 146,
   "id": "ccac9654",
   "metadata": {},
   "outputs": [
    {
     "name": "stdout",
     "output_type": "stream",
     "text": [
      "Model: \"sequential\"\n",
      "_________________________________________________________________\n",
      " Layer (type)                Output Shape              Param #   \n",
      "=================================================================\n",
      " dense (Dense)               (None, 100)               221900    \n",
      "                                                                 \n",
      " dense_1 (Dense)             (None, 75)                7575      \n",
      "                                                                 \n",
      " dense_2 (Dense)             (None, 50)                3800      \n",
      "                                                                 \n",
      " dense_3 (Dense)             (None, 50)                2550      \n",
      "                                                                 \n",
      " dense_4 (Dense)             (None, 25)                1275      \n",
      "                                                                 \n",
      " dense_5 (Dense)             (None, 19)                494       \n",
      "                                                                 \n",
      " dense_6 (Dense)             (None, 1)                 20        \n",
      "                                                                 \n",
      "=================================================================\n",
      "Total params: 237,614\n",
      "Trainable params: 237,614\n",
      "Non-trainable params: 0\n",
      "_________________________________________________________________\n"
     ]
    }
   ],
   "source": [
    "model.summary()"
   ]
  },
  {
   "cell_type": "code",
   "execution_count": 147,
   "id": "f5d15ef2",
   "metadata": {
    "scrolled": true
   },
   "outputs": [
    {
     "ename": "ValueError",
     "evalue": "in user code:\n\n    File \"C:\\Users\\te521690\\Anaconda3\\lib\\site-packages\\keras\\engine\\training.py\", line 1845, in predict_function  *\n        return step_function(self, iterator)\n    File \"C:\\Users\\te521690\\Anaconda3\\lib\\site-packages\\keras\\engine\\training.py\", line 1834, in step_function  **\n        outputs = model.distribute_strategy.run(run_step, args=(data,))\n    File \"C:\\Users\\te521690\\Anaconda3\\lib\\site-packages\\keras\\engine\\training.py\", line 1823, in run_step  **\n        outputs = model.predict_step(data)\n    File \"C:\\Users\\te521690\\Anaconda3\\lib\\site-packages\\keras\\engine\\training.py\", line 1791, in predict_step\n        return self(x, training=False)\n    File \"C:\\Users\\te521690\\Anaconda3\\lib\\site-packages\\keras\\utils\\traceback_utils.py\", line 67, in error_handler\n        raise e.with_traceback(filtered_tb) from None\n    File \"C:\\Users\\te521690\\Anaconda3\\lib\\site-packages\\keras\\engine\\input_spec.py\", line 249, in assert_input_compatibility\n        f'Input {input_index} of layer \"{layer_name}\" is '\n\n    ValueError: Exception encountered when calling layer \"sequential\" (type Sequential).\n    \n    Input 0 of layer \"dense\" is incompatible with the layer: expected axis -1 of input shape to have value 2218, but received input with shape (None, 2226)\n    \n    Call arguments received by layer \"sequential\" (type Sequential):\n      • inputs=tf.Tensor(shape=(None, 2226), dtype=float64)\n      • training=False\n      • mask=None\n",
     "output_type": "error",
     "traceback": [
      "\u001b[1;31m---------------------------------------------------------------------------\u001b[0m",
      "\u001b[1;31mValueError\u001b[0m                                Traceback (most recent call last)",
      "\u001b[1;32m~\\AppData\\Local\\Temp\\ipykernel_18008\\1049349012.py\u001b[0m in \u001b[0;36m<module>\u001b[1;34m\u001b[0m\n\u001b[1;32m----> 1\u001b[1;33m \u001b[0mpredictions_X1\u001b[0m\u001b[1;33m=\u001b[0m\u001b[0mmodel\u001b[0m\u001b[1;33m.\u001b[0m\u001b[0mpredict\u001b[0m\u001b[1;33m(\u001b[0m\u001b[0mX1\u001b[0m\u001b[1;33m)\u001b[0m\u001b[1;33m\u001b[0m\u001b[1;33m\u001b[0m\u001b[0m\n\u001b[0m",
      "\u001b[1;32m~\\Anaconda3\\lib\\site-packages\\keras\\utils\\traceback_utils.py\u001b[0m in \u001b[0;36merror_handler\u001b[1;34m(*args, **kwargs)\u001b[0m\n\u001b[0;32m     65\u001b[0m     \u001b[1;32mexcept\u001b[0m \u001b[0mException\u001b[0m \u001b[1;32mas\u001b[0m \u001b[0me\u001b[0m\u001b[1;33m:\u001b[0m  \u001b[1;31m# pylint: disable=broad-except\u001b[0m\u001b[1;33m\u001b[0m\u001b[1;33m\u001b[0m\u001b[0m\n\u001b[0;32m     66\u001b[0m       \u001b[0mfiltered_tb\u001b[0m \u001b[1;33m=\u001b[0m \u001b[0m_process_traceback_frames\u001b[0m\u001b[1;33m(\u001b[0m\u001b[0me\u001b[0m\u001b[1;33m.\u001b[0m\u001b[0m__traceback__\u001b[0m\u001b[1;33m)\u001b[0m\u001b[1;33m\u001b[0m\u001b[1;33m\u001b[0m\u001b[0m\n\u001b[1;32m---> 67\u001b[1;33m       \u001b[1;32mraise\u001b[0m \u001b[0me\u001b[0m\u001b[1;33m.\u001b[0m\u001b[0mwith_traceback\u001b[0m\u001b[1;33m(\u001b[0m\u001b[0mfiltered_tb\u001b[0m\u001b[1;33m)\u001b[0m \u001b[1;32mfrom\u001b[0m \u001b[1;32mNone\u001b[0m\u001b[1;33m\u001b[0m\u001b[1;33m\u001b[0m\u001b[0m\n\u001b[0m\u001b[0;32m     68\u001b[0m     \u001b[1;32mfinally\u001b[0m\u001b[1;33m:\u001b[0m\u001b[1;33m\u001b[0m\u001b[1;33m\u001b[0m\u001b[0m\n\u001b[0;32m     69\u001b[0m       \u001b[1;32mdel\u001b[0m \u001b[0mfiltered_tb\u001b[0m\u001b[1;33m\u001b[0m\u001b[1;33m\u001b[0m\u001b[0m\n",
      "\u001b[1;32m~\\Anaconda3\\lib\\site-packages\\keras\\engine\\training.py\u001b[0m in \u001b[0;36mtf__predict_function\u001b[1;34m(iterator)\u001b[0m\n\u001b[0;32m     13\u001b[0m                 \u001b[1;32mtry\u001b[0m\u001b[1;33m:\u001b[0m\u001b[1;33m\u001b[0m\u001b[1;33m\u001b[0m\u001b[0m\n\u001b[0;32m     14\u001b[0m                     \u001b[0mdo_return\u001b[0m \u001b[1;33m=\u001b[0m \u001b[1;32mTrue\u001b[0m\u001b[1;33m\u001b[0m\u001b[1;33m\u001b[0m\u001b[0m\n\u001b[1;32m---> 15\u001b[1;33m                     \u001b[0mretval_\u001b[0m \u001b[1;33m=\u001b[0m \u001b[0mag__\u001b[0m\u001b[1;33m.\u001b[0m\u001b[0mconverted_call\u001b[0m\u001b[1;33m(\u001b[0m\u001b[0mag__\u001b[0m\u001b[1;33m.\u001b[0m\u001b[0mld\u001b[0m\u001b[1;33m(\u001b[0m\u001b[0mstep_function\u001b[0m\u001b[1;33m)\u001b[0m\u001b[1;33m,\u001b[0m \u001b[1;33m(\u001b[0m\u001b[0mag__\u001b[0m\u001b[1;33m.\u001b[0m\u001b[0mld\u001b[0m\u001b[1;33m(\u001b[0m\u001b[0mself\u001b[0m\u001b[1;33m)\u001b[0m\u001b[1;33m,\u001b[0m \u001b[0mag__\u001b[0m\u001b[1;33m.\u001b[0m\u001b[0mld\u001b[0m\u001b[1;33m(\u001b[0m\u001b[0miterator\u001b[0m\u001b[1;33m)\u001b[0m\u001b[1;33m)\u001b[0m\u001b[1;33m,\u001b[0m \u001b[1;32mNone\u001b[0m\u001b[1;33m,\u001b[0m \u001b[0mfscope\u001b[0m\u001b[1;33m)\u001b[0m\u001b[1;33m\u001b[0m\u001b[1;33m\u001b[0m\u001b[0m\n\u001b[0m\u001b[0;32m     16\u001b[0m                 \u001b[1;32mexcept\u001b[0m\u001b[1;33m:\u001b[0m\u001b[1;33m\u001b[0m\u001b[1;33m\u001b[0m\u001b[0m\n\u001b[0;32m     17\u001b[0m                     \u001b[0mdo_return\u001b[0m \u001b[1;33m=\u001b[0m \u001b[1;32mFalse\u001b[0m\u001b[1;33m\u001b[0m\u001b[1;33m\u001b[0m\u001b[0m\n",
      "\u001b[1;31mValueError\u001b[0m: in user code:\n\n    File \"C:\\Users\\te521690\\Anaconda3\\lib\\site-packages\\keras\\engine\\training.py\", line 1845, in predict_function  *\n        return step_function(self, iterator)\n    File \"C:\\Users\\te521690\\Anaconda3\\lib\\site-packages\\keras\\engine\\training.py\", line 1834, in step_function  **\n        outputs = model.distribute_strategy.run(run_step, args=(data,))\n    File \"C:\\Users\\te521690\\Anaconda3\\lib\\site-packages\\keras\\engine\\training.py\", line 1823, in run_step  **\n        outputs = model.predict_step(data)\n    File \"C:\\Users\\te521690\\Anaconda3\\lib\\site-packages\\keras\\engine\\training.py\", line 1791, in predict_step\n        return self(x, training=False)\n    File \"C:\\Users\\te521690\\Anaconda3\\lib\\site-packages\\keras\\utils\\traceback_utils.py\", line 67, in error_handler\n        raise e.with_traceback(filtered_tb) from None\n    File \"C:\\Users\\te521690\\Anaconda3\\lib\\site-packages\\keras\\engine\\input_spec.py\", line 249, in assert_input_compatibility\n        f'Input {input_index} of layer \"{layer_name}\" is '\n\n    ValueError: Exception encountered when calling layer \"sequential\" (type Sequential).\n    \n    Input 0 of layer \"dense\" is incompatible with the layer: expected axis -1 of input shape to have value 2218, but received input with shape (None, 2226)\n    \n    Call arguments received by layer \"sequential\" (type Sequential):\n      • inputs=tf.Tensor(shape=(None, 2226), dtype=float64)\n      • training=False\n      • mask=None\n"
     ]
    }
   ],
   "source": [
    "predictions_X1=model.predict(X1)"
   ]
  },
  {
   "cell_type": "code",
   "execution_count": null,
   "id": "5cc96eb2",
   "metadata": {},
   "outputs": [],
   "source": []
  },
  {
   "cell_type": "code",
   "execution_count": 148,
   "id": "21a0628c",
   "metadata": {
    "scrolled": false
   },
   "outputs": [],
   "source": [
    "# X.to_excel(directory +  '/train_predict_data.xlsx', sheet_name = 'Train_Data')"
   ]
  },
  {
   "cell_type": "code",
   "execution_count": 149,
   "id": "db849ec0",
   "metadata": {},
   "outputs": [],
   "source": [
    "X2 = X1.transpose()"
   ]
  },
  {
   "cell_type": "code",
   "execution_count": 150,
   "id": "e884c45d",
   "metadata": {},
   "outputs": [],
   "source": [
    "X3 = X2.iloc[:,0]"
   ]
  },
  {
   "cell_type": "code",
   "execution_count": 151,
   "id": "c7b50762",
   "metadata": {},
   "outputs": [
    {
     "data": {
      "text/plain": [
       "QtyInvoiced        2.725000e+03\n",
       "Customer LT        1.400000e+01\n",
       "Ord_dt_Euc         1.685938e+09\n",
       "Part_000144-000    0.000000e+00\n",
       "Part_004049-000    0.000000e+00\n",
       "Name: 0, dtype: float64"
      ]
     },
     "execution_count": 151,
     "metadata": {},
     "output_type": "execute_result"
    }
   ],
   "source": [
    "X3.head()"
   ]
  },
  {
   "cell_type": "code",
   "execution_count": 153,
   "id": "99174e03",
   "metadata": {},
   "outputs": [],
   "source": [
    "X3.to_excel(directory +  '/train_predict_data.xlsx', sheet_name = 'Predict_data')"
   ]
  },
  {
   "cell_type": "code",
   "execution_count": 154,
   "id": "9500a894",
   "metadata": {},
   "outputs": [],
   "source": [
    "df4 = X.transpose().iloc[:,0]"
   ]
  },
  {
   "cell_type": "code",
   "execution_count": 155,
   "id": "e1401ae0",
   "metadata": {},
   "outputs": [],
   "source": [
    "with pd.ExcelWriter (directory + '/train_predict_data.xlsx', engine ='openpyxl',\n",
    "                    mode='a') as writer:\n",
    "                        df4.to_excel(writer, sheet_name = 'Test_Data')"
   ]
  },
  {
   "cell_type": "code",
   "execution_count": null,
   "id": "baed7695",
   "metadata": {},
   "outputs": [],
   "source": []
  }
 ],
 "metadata": {
  "kernelspec": {
   "display_name": "Python 3 (ipykernel)",
   "language": "python",
   "name": "python3"
  },
  "language_info": {
   "codemirror_mode": {
    "name": "ipython",
    "version": 3
   },
   "file_extension": ".py",
   "mimetype": "text/x-python",
   "name": "python",
   "nbconvert_exporter": "python",
   "pygments_lexer": "ipython3",
   "version": "3.7.13"
  }
 },
 "nbformat": 4,
 "nbformat_minor": 5
}
