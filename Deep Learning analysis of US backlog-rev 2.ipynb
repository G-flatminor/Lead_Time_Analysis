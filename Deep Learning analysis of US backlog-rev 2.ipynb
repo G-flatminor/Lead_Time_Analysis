{
 "cells": [
  {
   "cell_type": "markdown",
   "id": "c2b3bc77",
   "metadata": {},
   "source": [
    "## New file to resolve the issue stemming from the training DF size and the prediction DF size.\n",
    "1. Training DF = 7241 columns\n",
    "2. Prediction DF = 2216 columns"
   ]
  },
  {
   "cell_type": "code",
   "execution_count": 3,
   "id": "ecf4c63b",
   "metadata": {},
   "outputs": [],
   "source": [
    "import pandas as pd\n",
    "import numpy as np\n",
    "import matplotlib.pyplot as plt\n",
    "import seaborn as sns"
   ]
  },
  {
   "cell_type": "code",
   "execution_count": 4,
   "id": "4d40ff09",
   "metadata": {},
   "outputs": [],
   "source": [
    "# reference: 01-Keras-Regression (section7: ANN)"
   ]
  },
  {
   "cell_type": "code",
   "execution_count": 5,
   "id": "52a7a1c0",
   "metadata": {},
   "outputs": [],
   "source": [
    "directory = 'C:/Users/te521690/OneDrive - TE Connectivity/Desktop/Canada Backlog/46. Jun 15, 2023/'"
   ]
  },
  {
   "cell_type": "markdown",
   "id": "040dd520",
   "metadata": {},
   "source": [
    "### Import Training file"
   ]
  },
  {
   "cell_type": "code",
   "execution_count": 6,
   "id": "7517538f",
   "metadata": {},
   "outputs": [],
   "source": [
    "df = pd.read_excel(directory + 'MFG 2 yr sales.xlsx', engine='openpyxl')"
   ]
  },
  {
   "cell_type": "code",
   "execution_count": 7,
   "id": "09ace623",
   "metadata": {},
   "outputs": [
    {
     "name": "stdout",
     "output_type": "stream",
     "text": [
      "SITE                           int64\n",
      "Invoice#                      object\n",
      "InvoiceDt             datetime64[ns]\n",
      "Invoice-Year#Month            object\n",
      "SO#                           object\n",
      "                           ...      \n",
      "Ship-B4                       object\n",
      "EDI Order                     object\n",
      "SO-Userid                     object\n",
      "Part Type                     object\n",
      "StdLT                        float64\n",
      "Length: 110, dtype: object\n"
     ]
    }
   ],
   "source": [
    "print(df.dtypes)"
   ]
  },
  {
   "cell_type": "code",
   "execution_count": 8,
   "id": "498ebbcc",
   "metadata": {},
   "outputs": [],
   "source": [
    "# # Replace '?' with a default value\n",
    "# df['Desc1'].replace('+', '&', inplace=True)\n",
    "# df['Desc2'].replace('+', '&', inplace=True)"
   ]
  },
  {
   "cell_type": "code",
   "execution_count": 9,
   "id": "fec90589",
   "metadata": {},
   "outputs": [],
   "source": [
    "#df.info()"
   ]
  },
  {
   "cell_type": "code",
   "execution_count": 10,
   "id": "e0d8d401",
   "metadata": {},
   "outputs": [
    {
     "data": {
      "text/html": [
       "<div>\n",
       "<style scoped>\n",
       "    .dataframe tbody tr th:only-of-type {\n",
       "        vertical-align: middle;\n",
       "    }\n",
       "\n",
       "    .dataframe tbody tr th {\n",
       "        vertical-align: top;\n",
       "    }\n",
       "\n",
       "    .dataframe thead th {\n",
       "        text-align: right;\n",
       "    }\n",
       "</style>\n",
       "<table border=\"1\" class=\"dataframe\">\n",
       "  <thead>\n",
       "    <tr style=\"text-align: right;\">\n",
       "      <th></th>\n",
       "      <th>SITE</th>\n",
       "      <th>Invoice#</th>\n",
       "      <th>InvoiceDt</th>\n",
       "      <th>Invoice-Year#Month</th>\n",
       "      <th>SO#</th>\n",
       "      <th>InvLine</th>\n",
       "      <th>Ord-Dt</th>\n",
       "      <th>CustPO</th>\n",
       "      <th>Buyer as of 1.4.17</th>\n",
       "      <th>Group</th>\n",
       "      <th>...</th>\n",
       "      <th>Hot Order</th>\n",
       "      <th>Hot Type</th>\n",
       "      <th>Due Date Changed Count</th>\n",
       "      <th>Original Due Date</th>\n",
       "      <th>Customer Class</th>\n",
       "      <th>Ship-B4</th>\n",
       "      <th>EDI Order</th>\n",
       "      <th>SO-Userid</th>\n",
       "      <th>Part Type</th>\n",
       "      <th>StdLT</th>\n",
       "    </tr>\n",
       "  </thead>\n",
       "  <tbody>\n",
       "    <tr>\n",
       "      <th>0</th>\n",
       "      <td>2230</td>\n",
       "      <td>RJ723838</td>\n",
       "      <td>2021-06-14</td>\n",
       "      <td>21#06</td>\n",
       "      <td>RV101441</td>\n",
       "      <td>1</td>\n",
       "      <td>2021-04-29</td>\n",
       "      <td>12263</td>\n",
       "      <td>FVPP4</td>\n",
       "      <td>NaN</td>\n",
       "      <td>...</td>\n",
       "      <td>nothot</td>\n",
       "      <td>nothot</td>\n",
       "      <td>2</td>\n",
       "      <td>2021-05-11 00:00:00</td>\n",
       "      <td>2378</td>\n",
       "      <td>yes</td>\n",
       "      <td>no</td>\n",
       "      <td>cron</td>\n",
       "      <td>MTS</td>\n",
       "      <td>3.0</td>\n",
       "    </tr>\n",
       "    <tr>\n",
       "      <th>1</th>\n",
       "      <td>2230</td>\n",
       "      <td>RJ723839</td>\n",
       "      <td>2021-06-14</td>\n",
       "      <td>21#06</td>\n",
       "      <td>16381680</td>\n",
       "      <td>1</td>\n",
       "      <td>2021-05-07</td>\n",
       "      <td>2716381680</td>\n",
       "      <td>FVPP4</td>\n",
       "      <td>MVCC</td>\n",
       "      <td>...</td>\n",
       "      <td>nothot</td>\n",
       "      <td>nothot</td>\n",
       "      <td>1</td>\n",
       "      <td>2021-05-28 00:00:00</td>\n",
       "      <td>1151</td>\n",
       "      <td>yes</td>\n",
       "      <td>no</td>\n",
       "      <td>cron</td>\n",
       "      <td>ATO</td>\n",
       "      <td>36.0</td>\n",
       "    </tr>\n",
       "    <tr>\n",
       "      <th>2</th>\n",
       "      <td>2230</td>\n",
       "      <td>RJ723840</td>\n",
       "      <td>2021-06-14</td>\n",
       "      <td>21#06</td>\n",
       "      <td>RV104788</td>\n",
       "      <td>1</td>\n",
       "      <td>2021-06-09</td>\n",
       "      <td>7442122</td>\n",
       "      <td>FVMP1</td>\n",
       "      <td>MTO1</td>\n",
       "      <td>...</td>\n",
       "      <td>nothot</td>\n",
       "      <td>nothot</td>\n",
       "      <td>0</td>\n",
       "      <td>2021-06-14 00:00:00</td>\n",
       "      <td>OMNI</td>\n",
       "      <td>yes</td>\n",
       "      <td>no</td>\n",
       "      <td>us055525</td>\n",
       "      <td>MTSQS</td>\n",
       "      <td>3.0</td>\n",
       "    </tr>\n",
       "    <tr>\n",
       "      <th>3</th>\n",
       "      <td>2230</td>\n",
       "      <td>RJ723841</td>\n",
       "      <td>2021-06-14</td>\n",
       "      <td>21#06</td>\n",
       "      <td>RV104767</td>\n",
       "      <td>3</td>\n",
       "      <td>2021-06-09</td>\n",
       "      <td>178266-2</td>\n",
       "      <td>FVMP1</td>\n",
       "      <td>MTO1</td>\n",
       "      <td>...</td>\n",
       "      <td>nothot</td>\n",
       "      <td>nothot</td>\n",
       "      <td>0</td>\n",
       "      <td>2021-06-14 00:00:00</td>\n",
       "      <td>OMNI</td>\n",
       "      <td>yes</td>\n",
       "      <td>no</td>\n",
       "      <td>te414937</td>\n",
       "      <td>MTSQS</td>\n",
       "      <td>3.0</td>\n",
       "    </tr>\n",
       "    <tr>\n",
       "      <th>4</th>\n",
       "      <td>2244</td>\n",
       "      <td>RJ723842</td>\n",
       "      <td>2021-06-14</td>\n",
       "      <td>21#06</td>\n",
       "      <td>RV104609</td>\n",
       "      <td>1</td>\n",
       "      <td>2021-06-08</td>\n",
       "      <td>2716735604</td>\n",
       "      <td>JZFGP7</td>\n",
       "      <td>AMPSMINI</td>\n",
       "      <td>...</td>\n",
       "      <td>nothot</td>\n",
       "      <td>nothot</td>\n",
       "      <td>1</td>\n",
       "      <td>2021-06-14 00:00:00</td>\n",
       "      <td>1914</td>\n",
       "      <td>yes</td>\n",
       "      <td>no</td>\n",
       "      <td>te322973</td>\n",
       "      <td>MTS</td>\n",
       "      <td>108.0</td>\n",
       "    </tr>\n",
       "  </tbody>\n",
       "</table>\n",
       "<p>5 rows × 110 columns</p>\n",
       "</div>"
      ],
      "text/plain": [
       "   SITE  Invoice#  InvoiceDt Invoice-Year#Month       SO#  InvLine     Ord-Dt  \\\n",
       "0  2230  RJ723838 2021-06-14              21#06  RV101441        1 2021-04-29   \n",
       "1  2230  RJ723839 2021-06-14              21#06  16381680        1 2021-05-07   \n",
       "2  2230  RJ723840 2021-06-14              21#06  RV104788        1 2021-06-09   \n",
       "3  2230  RJ723841 2021-06-14              21#06  RV104767        3 2021-06-09   \n",
       "4  2244  RJ723842 2021-06-14              21#06  RV104609        1 2021-06-08   \n",
       "\n",
       "       CustPO Buyer as of 1.4.17     Group  ... Hot Order Hot Type  \\\n",
       "0       12263              FVPP4       NaN  ...    nothot   nothot   \n",
       "1  2716381680              FVPP4      MVCC  ...    nothot   nothot   \n",
       "2     7442122              FVMP1      MTO1  ...    nothot   nothot   \n",
       "3    178266-2              FVMP1      MTO1  ...    nothot   nothot   \n",
       "4  2716735604             JZFGP7  AMPSMINI  ...    nothot   nothot   \n",
       "\n",
       "  Due Date Changed Count    Original Due Date Customer Class Ship-B4  \\\n",
       "0                      2  2021-05-11 00:00:00           2378     yes   \n",
       "1                      1  2021-05-28 00:00:00           1151     yes   \n",
       "2                      0  2021-06-14 00:00:00           OMNI     yes   \n",
       "3                      0  2021-06-14 00:00:00           OMNI     yes   \n",
       "4                      1  2021-06-14 00:00:00           1914     yes   \n",
       "\n",
       "  EDI Order  SO-Userid Part Type  StdLT  \n",
       "0  no             cron       MTS    3.0  \n",
       "1  no             cron       ATO   36.0  \n",
       "2  no         us055525     MTSQS    3.0  \n",
       "3  no         te414937     MTSQS    3.0  \n",
       "4  no         te322973       MTS  108.0  \n",
       "\n",
       "[5 rows x 110 columns]"
      ]
     },
     "execution_count": 10,
     "metadata": {},
     "output_type": "execute_result"
    }
   ],
   "source": [
    "df.head()"
   ]
  },
  {
   "cell_type": "code",
   "execution_count": 11,
   "id": "fb1e7ebd",
   "metadata": {},
   "outputs": [],
   "source": [
    "df1 = df.iloc[:,[4,5,22,24,89,108,30,6,26,28,2]]"
   ]
  },
  {
   "cell_type": "code",
   "execution_count": 12,
   "id": "53e24adc",
   "metadata": {},
   "outputs": [
    {
     "data": {
      "text/html": [
       "<div>\n",
       "<style scoped>\n",
       "    .dataframe tbody tr th:only-of-type {\n",
       "        vertical-align: middle;\n",
       "    }\n",
       "\n",
       "    .dataframe tbody tr th {\n",
       "        vertical-align: top;\n",
       "    }\n",
       "\n",
       "    .dataframe thead th {\n",
       "        text-align: right;\n",
       "    }\n",
       "</style>\n",
       "<table border=\"1\" class=\"dataframe\">\n",
       "  <thead>\n",
       "    <tr style=\"text-align: right;\">\n",
       "      <th></th>\n",
       "      <th>SO#</th>\n",
       "      <th>InvLine</th>\n",
       "      <th>Part</th>\n",
       "      <th>Desc1</th>\n",
       "      <th>OTTO-GPL</th>\n",
       "      <th>Part Type</th>\n",
       "      <th>QtyInvoiced</th>\n",
       "      <th>Ord-Dt</th>\n",
       "      <th>ReqDt</th>\n",
       "      <th>DueDt</th>\n",
       "      <th>InvoiceDt</th>\n",
       "    </tr>\n",
       "  </thead>\n",
       "  <tbody>\n",
       "    <tr>\n",
       "      <th>0</th>\n",
       "      <td>RV101441</td>\n",
       "      <td>1</td>\n",
       "      <td>360954-000</td>\n",
       "      <td>AMPS-69338-1</td>\n",
       "      <td>364</td>\n",
       "      <td>MTS</td>\n",
       "      <td>11000.0</td>\n",
       "      <td>2021-04-29</td>\n",
       "      <td>2021-05-18 00:00:00</td>\n",
       "      <td>2021-06-01 00:00:00</td>\n",
       "      <td>2021-06-14</td>\n",
       "    </tr>\n",
       "    <tr>\n",
       "      <th>1</th>\n",
       "      <td>16381680</td>\n",
       "      <td>1</td>\n",
       "      <td>CZ1481-000</td>\n",
       "      <td>MVCC-25/1.0(S7)</td>\n",
       "      <td>760</td>\n",
       "      <td>ATO</td>\n",
       "      <td>49.0</td>\n",
       "      <td>2021-05-07</td>\n",
       "      <td>2021-05-14 00:00:00</td>\n",
       "      <td>2021-06-11 00:00:00</td>\n",
       "      <td>2021-06-14</td>\n",
       "    </tr>\n",
       "    <tr>\n",
       "      <th>2</th>\n",
       "      <td>RV104788</td>\n",
       "      <td>1</td>\n",
       "      <td>EE0446-000</td>\n",
       "      <td>WCSM-24/6-225-S-(B50)</td>\n",
       "      <td>755</td>\n",
       "      <td>MTSQS</td>\n",
       "      <td>100.0</td>\n",
       "      <td>2021-06-09</td>\n",
       "      <td>2021-06-11 00:00:00</td>\n",
       "      <td>2021-06-14 00:00:00</td>\n",
       "      <td>2021-06-14</td>\n",
       "    </tr>\n",
       "    <tr>\n",
       "      <th>3</th>\n",
       "      <td>RV104767</td>\n",
       "      <td>3</td>\n",
       "      <td>237497-000</td>\n",
       "      <td>CRSM-53/13-1200</td>\n",
       "      <td>755</td>\n",
       "      <td>MTSQS</td>\n",
       "      <td>5.0</td>\n",
       "      <td>2021-06-09</td>\n",
       "      <td>2021-06-14 00:00:00</td>\n",
       "      <td>2021-06-14 00:00:00</td>\n",
       "      <td>2021-06-14</td>\n",
       "    </tr>\n",
       "    <tr>\n",
       "      <th>4</th>\n",
       "      <td>RV104609</td>\n",
       "      <td>1</td>\n",
       "      <td>687866-000</td>\n",
       "      <td>AMPS-0-0083623-7</td>\n",
       "      <td>141</td>\n",
       "      <td>MTS</td>\n",
       "      <td>21600.0</td>\n",
       "      <td>2021-06-08</td>\n",
       "      <td>2021-07-26 00:00:00</td>\n",
       "      <td>2021-06-15 00:00:00</td>\n",
       "      <td>2021-06-14</td>\n",
       "    </tr>\n",
       "  </tbody>\n",
       "</table>\n",
       "</div>"
      ],
      "text/plain": [
       "        SO#  InvLine        Part                  Desc1 OTTO-GPL Part Type  \\\n",
       "0  RV101441        1  360954-000           AMPS-69338-1      364       MTS   \n",
       "1  16381680        1  CZ1481-000        MVCC-25/1.0(S7)      760       ATO   \n",
       "2  RV104788        1  EE0446-000  WCSM-24/6-225-S-(B50)      755     MTSQS   \n",
       "3  RV104767        3  237497-000        CRSM-53/13-1200      755     MTSQS   \n",
       "4  RV104609        1  687866-000       AMPS-0-0083623-7      141       MTS   \n",
       "\n",
       "   QtyInvoiced     Ord-Dt                ReqDt                DueDt  InvoiceDt  \n",
       "0      11000.0 2021-04-29  2021-05-18 00:00:00  2021-06-01 00:00:00 2021-06-14  \n",
       "1         49.0 2021-05-07  2021-05-14 00:00:00  2021-06-11 00:00:00 2021-06-14  \n",
       "2        100.0 2021-06-09  2021-06-11 00:00:00  2021-06-14 00:00:00 2021-06-14  \n",
       "3          5.0 2021-06-09  2021-06-14 00:00:00  2021-06-14 00:00:00 2021-06-14  \n",
       "4      21600.0 2021-06-08  2021-07-26 00:00:00  2021-06-15 00:00:00 2021-06-14  "
      ]
     },
     "execution_count": 12,
     "metadata": {},
     "output_type": "execute_result"
    }
   ],
   "source": [
    "df1.head()"
   ]
  },
  {
   "cell_type": "code",
   "execution_count": 13,
   "id": "f799f4b1",
   "metadata": {},
   "outputs": [
    {
     "name": "stderr",
     "output_type": "stream",
     "text": [
      "C:\\Users\\te521690\\Anaconda3\\lib\\site-packages\\ipykernel_launcher.py:1: SettingWithCopyWarning: \n",
      "A value is trying to be set on a copy of a slice from a DataFrame.\n",
      "Try using .loc[row_indexer,col_indexer] = value instead\n",
      "\n",
      "See the caveats in the documentation: https://pandas.pydata.org/pandas-docs/stable/user_guide/indexing.html#returning-a-view-versus-a-copy\n",
      "  \"\"\"Entry point for launching an IPython kernel.\n"
     ]
    }
   ],
   "source": [
    "df1['SO#'] = df1['SO#'].astype(str)"
   ]
  },
  {
   "cell_type": "code",
   "execution_count": 14,
   "id": "e1db73eb",
   "metadata": {},
   "outputs": [
    {
     "name": "stderr",
     "output_type": "stream",
     "text": [
      "C:\\Users\\te521690\\Anaconda3\\lib\\site-packages\\ipykernel_launcher.py:1: SettingWithCopyWarning: \n",
      "A value is trying to be set on a copy of a slice from a DataFrame.\n",
      "Try using .loc[row_indexer,col_indexer] = value instead\n",
      "\n",
      "See the caveats in the documentation: https://pandas.pydata.org/pandas-docs/stable/user_guide/indexing.html#returning-a-view-versus-a-copy\n",
      "  \"\"\"Entry point for launching an IPython kernel.\n"
     ]
    }
   ],
   "source": [
    "df1['Part'] = df1['Part'].astype(str)"
   ]
  },
  {
   "cell_type": "code",
   "execution_count": 15,
   "id": "543ba7dd",
   "metadata": {},
   "outputs": [
    {
     "name": "stderr",
     "output_type": "stream",
     "text": [
      "C:\\Users\\te521690\\Anaconda3\\lib\\site-packages\\ipykernel_launcher.py:1: SettingWithCopyWarning: \n",
      "A value is trying to be set on a copy of a slice from a DataFrame.\n",
      "Try using .loc[row_indexer,col_indexer] = value instead\n",
      "\n",
      "See the caveats in the documentation: https://pandas.pydata.org/pandas-docs/stable/user_guide/indexing.html#returning-a-view-versus-a-copy\n",
      "  \"\"\"Entry point for launching an IPython kernel.\n"
     ]
    }
   ],
   "source": [
    "df1['Desc1'] = df1['Desc1'].astype(str)"
   ]
  },
  {
   "cell_type": "code",
   "execution_count": 16,
   "id": "bf36efdd",
   "metadata": {},
   "outputs": [],
   "source": [
    "# df1['OTTO-GPL'] = df1['OTTO-GPL'].astype(str)"
   ]
  },
  {
   "cell_type": "code",
   "execution_count": 17,
   "id": "388dc312",
   "metadata": {},
   "outputs": [
    {
     "name": "stderr",
     "output_type": "stream",
     "text": [
      "C:\\Users\\te521690\\Anaconda3\\lib\\site-packages\\pandas\\core\\generic.py:6619: SettingWithCopyWarning: \n",
      "A value is trying to be set on a copy of a slice from a DataFrame\n",
      "\n",
      "See the caveats in the documentation: https://pandas.pydata.org/pandas-docs/stable/user_guide/indexing.html#returning-a-view-versus-a-copy\n",
      "  return self._update_inplace(result)\n",
      "C:\\Users\\te521690\\Anaconda3\\lib\\site-packages\\ipykernel_launcher.py:5: SettingWithCopyWarning: \n",
      "A value is trying to be set on a copy of a slice from a DataFrame.\n",
      "Try using .loc[row_indexer,col_indexer] = value instead\n",
      "\n",
      "See the caveats in the documentation: https://pandas.pydata.org/pandas-docs/stable/user_guide/indexing.html#returning-a-view-versus-a-copy\n",
      "  \"\"\"\n"
     ]
    }
   ],
   "source": [
    "# Replace '?' with a default value\n",
    "df1['ReqDt'].replace('?', '1970-01-01', inplace=True)\n",
    "\n",
    "# Convert to datetime64\n",
    "df1['ReqDt'] = pd.to_datetime(df1['ReqDt'], errors='coerce')\n"
   ]
  },
  {
   "cell_type": "code",
   "execution_count": 18,
   "id": "46a4662f",
   "metadata": {},
   "outputs": [
    {
     "name": "stderr",
     "output_type": "stream",
     "text": [
      "C:\\Users\\te521690\\Anaconda3\\lib\\site-packages\\ipykernel_launcher.py:5: SettingWithCopyWarning: \n",
      "A value is trying to be set on a copy of a slice from a DataFrame.\n",
      "Try using .loc[row_indexer,col_indexer] = value instead\n",
      "\n",
      "See the caveats in the documentation: https://pandas.pydata.org/pandas-docs/stable/user_guide/indexing.html#returning-a-view-versus-a-copy\n",
      "  \"\"\"\n"
     ]
    }
   ],
   "source": [
    "# Replace '?' with a default value\n",
    "df1['DueDt'].replace('?', '1970-01-01', inplace=True)\n",
    "\n",
    "# Convert to datetime64\n",
    "df1['DueDt'] = pd.to_datetime(df1['ReqDt'], errors='coerce')\n"
   ]
  },
  {
   "cell_type": "code",
   "execution_count": 19,
   "id": "2d377656",
   "metadata": {},
   "outputs": [
    {
     "name": "stdout",
     "output_type": "stream",
     "text": [
      "7\n"
     ]
    }
   ],
   "source": [
    "# Assuming you have a DataFrame called df1 with a column named 'Ord-Dt'\n",
    "count = df1['Ord-Dt'].astype(str).str.contains('1949-', na=False).sum()\n",
    "print(count)"
   ]
  },
  {
   "cell_type": "code",
   "execution_count": 20,
   "id": "b6db6cc2",
   "metadata": {},
   "outputs": [],
   "source": [
    "df1 = df1[df1['Ord-Dt']> '2000-01-01']"
   ]
  },
  {
   "cell_type": "code",
   "execution_count": 21,
   "id": "e17a58e1",
   "metadata": {},
   "outputs": [],
   "source": [
    "df1 = df1[df1['ReqDt']> '2000-01-01']"
   ]
  },
  {
   "cell_type": "code",
   "execution_count": 22,
   "id": "19f28e63",
   "metadata": {},
   "outputs": [],
   "source": [
    "df1 = df1[df1['DueDt']> '2000-01-01']"
   ]
  },
  {
   "cell_type": "code",
   "execution_count": 23,
   "id": "490a91c5",
   "metadata": {},
   "outputs": [],
   "source": [
    "df1 = df1[df1['InvoiceDt']> '2000-01-01']"
   ]
  },
  {
   "cell_type": "code",
   "execution_count": 24,
   "id": "bfb77905",
   "metadata": {
    "scrolled": true
   },
   "outputs": [
    {
     "data": {
      "text/plain": [
       "Timestamp('2021-06-14 00:00:00')"
      ]
     },
     "execution_count": 24,
     "metadata": {},
     "output_type": "execute_result"
    }
   ],
   "source": [
    "df1['InvoiceDt'].min()"
   ]
  },
  {
   "cell_type": "code",
   "execution_count": 25,
   "id": "b04d99d4",
   "metadata": {},
   "outputs": [
    {
     "data": {
      "text/plain": [
       "Index(['SO#', 'InvLine', 'Part', 'Desc1', 'OTTO-GPL', 'Part Type',\n",
       "       'QtyInvoiced', 'Ord-Dt', 'ReqDt', 'DueDt', 'InvoiceDt'],\n",
       "      dtype='object')"
      ]
     },
     "execution_count": 25,
     "metadata": {},
     "output_type": "execute_result"
    }
   ],
   "source": [
    "df1.columns"
   ]
  },
  {
   "cell_type": "code",
   "execution_count": 26,
   "id": "504e2b7e",
   "metadata": {},
   "outputs": [],
   "source": [
    "df1.drop(['SO#','InvLine','Desc1'], axis=1,inplace=True)"
   ]
  },
  {
   "cell_type": "code",
   "execution_count": 27,
   "id": "dc0e0fe5",
   "metadata": {},
   "outputs": [
    {
     "data": {
      "text/plain": [
       "Part                   object\n",
       "OTTO-GPL               object\n",
       "Part Type              object\n",
       "QtyInvoiced           float64\n",
       "Ord-Dt         datetime64[ns]\n",
       "ReqDt          datetime64[ns]\n",
       "DueDt          datetime64[ns]\n",
       "InvoiceDt      datetime64[ns]\n",
       "dtype: object"
      ]
     },
     "execution_count": 27,
     "metadata": {},
     "output_type": "execute_result"
    }
   ],
   "source": [
    "df1.dtypes"
   ]
  },
  {
   "cell_type": "code",
   "execution_count": 28,
   "id": "ac4c1450",
   "metadata": {},
   "outputs": [],
   "source": [
    "#set(df1['OTTO-GPL'])"
   ]
  },
  {
   "cell_type": "code",
   "execution_count": 29,
   "id": "6240e8eb",
   "metadata": {},
   "outputs": [
    {
     "data": {
      "text/plain": [
       "False    155949\n",
       "True          1\n",
       "Name: OTTO-GPL, dtype: int64"
      ]
     },
     "execution_count": 29,
     "metadata": {},
     "output_type": "execute_result"
    }
   ],
   "source": [
    "df1['OTTO-GPL'].isna().value_counts()"
   ]
  },
  {
   "cell_type": "code",
   "execution_count": 30,
   "id": "632dc446",
   "metadata": {},
   "outputs": [],
   "source": [
    "df1['Part Type'].replace({'mto':'MTO',\n",
    "                          'mts':'MTS'},\n",
    "                          inplace=True)"
   ]
  },
  {
   "cell_type": "code",
   "execution_count": 31,
   "id": "a4b8c106",
   "metadata": {},
   "outputs": [
    {
     "data": {
      "text/plain": [
       "{'(blank)', 103, 20, 21, 3, 'ATO', 'COMP', 'MTO', 'MTS', 'MTSQS', nan}"
      ]
     },
     "execution_count": 31,
     "metadata": {},
     "output_type": "execute_result"
    }
   ],
   "source": [
    "set(df1['Part Type'])"
   ]
  },
  {
   "cell_type": "code",
   "execution_count": 32,
   "id": "2a17faeb",
   "metadata": {},
   "outputs": [
    {
     "data": {
      "text/plain": [
       "False    155447\n",
       "True        503\n",
       "Name: Part Type, dtype: int64"
      ]
     },
     "execution_count": 32,
     "metadata": {},
     "output_type": "execute_result"
    }
   ],
   "source": [
    "df1['Part Type'].isna().value_counts()"
   ]
  },
  {
   "cell_type": "code",
   "execution_count": 33,
   "id": "fa81302d",
   "metadata": {},
   "outputs": [],
   "source": [
    "# dropna from DF1\n",
    "df1.dropna(subset=['Part Type'], inplace=True)"
   ]
  },
  {
   "cell_type": "code",
   "execution_count": 34,
   "id": "2c97064f",
   "metadata": {},
   "outputs": [],
   "source": [
    "df1 = df1[(df1['Part Type'] != 'NA') & (df1['Part Type'] != '(blank)')& (df1['Part Type'] != 3)& (df1['Part Type'] != 21)& (df1['Part Type'] != 103)& (df1['Part Type'] != 20)]"
   ]
  },
  {
   "cell_type": "code",
   "execution_count": 35,
   "id": "ce0a26ac",
   "metadata": {},
   "outputs": [
    {
     "data": {
      "text/plain": [
       "MTS      77301\n",
       "ATO      30517\n",
       "MTSQS    24183\n",
       "MTO      23333\n",
       "COMP        78\n",
       "Name: Part Type, dtype: int64"
      ]
     },
     "execution_count": 35,
     "metadata": {},
     "output_type": "execute_result"
    }
   ],
   "source": [
    "df1['Part Type'].value_counts()"
   ]
  },
  {
   "cell_type": "code",
   "execution_count": 36,
   "id": "569c7fdc",
   "metadata": {},
   "outputs": [
    {
     "data": {
      "text/plain": [
       "364    30366\n",
       "760    19409\n",
       "755    15323\n",
       "753    11293\n",
       "749    10019\n",
       "       ...  \n",
       "97         1\n",
       "826        1\n",
       "149        1\n",
       "250        1\n",
       "A28        1\n",
       "Name: OTTO-GPL, Length: 91, dtype: int64"
      ]
     },
     "execution_count": 36,
     "metadata": {},
     "output_type": "execute_result"
    }
   ],
   "source": [
    "df1['OTTO-GPL'].value_counts()"
   ]
  },
  {
   "cell_type": "code",
   "execution_count": 37,
   "id": "514e2ddb",
   "metadata": {},
   "outputs": [],
   "source": [
    "df1.dropna(subset=['OTTO-GPL'], inplace=True)"
   ]
  },
  {
   "cell_type": "code",
   "execution_count": 38,
   "id": "2495bd9b",
   "metadata": {},
   "outputs": [],
   "source": [
    "df1['Part'] = df1['Part'].str.upper()"
   ]
  },
  {
   "cell_type": "code",
   "execution_count": 39,
   "id": "05c79589",
   "metadata": {},
   "outputs": [
    {
     "data": {
      "text/plain": [
       "{'164440-000',\n",
       " '022528-000',\n",
       " 'ED9190-000',\n",
       " 'EN4520-283',\n",
       " 'EN8286-000',\n",
       " 'EM8904-000',\n",
       " 'ER0915-000',\n",
       " '2382312-4',\n",
       " 'E52584-000',\n",
       " 'CT0217-000',\n",
       " 'ED9363-000',\n",
       " 'CT0288-000',\n",
       " '627073-000',\n",
       " 'ES3449-000',\n",
       " 'ER4520-189',\n",
       " '889593-000',\n",
       " '350414-000',\n",
       " '2382266-3',\n",
       " 'E07753-000',\n",
       " '958740-000',\n",
       " 'EL8740-000',\n",
       " '774589-000',\n",
       " 'EN3742-005',\n",
       " 'CL4213-000',\n",
       " 'EN6271-000',\n",
       " 'EM9022-000',\n",
       " '769815-000',\n",
       " 'EH6191-000',\n",
       " 'EJ5461-000',\n",
       " '470431-000',\n",
       " 'C28893-000',\n",
       " 'EB8589-000',\n",
       " '682397-000',\n",
       " 'EA7075-000',\n",
       " 'EN3751-165',\n",
       " 'CL5418-000',\n",
       " 'CT0065-000',\n",
       " 'EK3212-000',\n",
       " '840065-000',\n",
       " 'EN3750-167',\n",
       " '093852-000',\n",
       " '112981-000',\n",
       " 'EN3742-177',\n",
       " 'ER5399-000',\n",
       " 'EN1264-000',\n",
       " 'BM3885-000',\n",
       " 'C15487-000',\n",
       " 'EN5805-000',\n",
       " 'ED0490-000',\n",
       " '101147-000',\n",
       " 'D35653-000',\n",
       " 'CG3562-000',\n",
       " '2420274-1',\n",
       " 'EK1580-000',\n",
       " '848633-001',\n",
       " 'EN3749-008',\n",
       " 'EE0607-000',\n",
       " 'ED2737-000',\n",
       " '739764-000',\n",
       " 'CP8819-000',\n",
       " 'EN3750-427',\n",
       " '280549-000',\n",
       " 'ER3557-000',\n",
       " 'A30158-000',\n",
       " 'F33734-000',\n",
       " '028630-000',\n",
       " '214085-000',\n",
       " 'CS3036-000',\n",
       " 'C03225-000',\n",
       " '308507-003',\n",
       " 'C51711-000',\n",
       " 'EH5769-000',\n",
       " 'EN3746-042',\n",
       " 'ER8667-000',\n",
       " '267989-000',\n",
       " 'C26475-000',\n",
       " 'EK0859-027',\n",
       " 'EH2118-000',\n",
       " '358408-000',\n",
       " '365194-000',\n",
       " 'ER0917-000',\n",
       " 'EK0742-005',\n",
       " '439695-000',\n",
       " 'EB8229-000',\n",
       " 'EP4980-000',\n",
       " '283844-000',\n",
       " '2182587-8',\n",
       " '253963-000',\n",
       " 'ER6571-000',\n",
       " '548643-000',\n",
       " '2182994-6',\n",
       " 'E31878-000',\n",
       " 'EB0181-000',\n",
       " '880788-000',\n",
       " '2380454-1',\n",
       " '872263-000',\n",
       " 'CL5416-000',\n",
       " '206814-000',\n",
       " 'CG3625-000',\n",
       " '834711-000',\n",
       " 'EK1147-000',\n",
       " '995861-000',\n",
       " '2378413-6',\n",
       " '317927-000',\n",
       " '562328-000',\n",
       " 'ES8426-000',\n",
       " 'ER8818-000',\n",
       " '480347-000',\n",
       " 'ES2996-000',\n",
       " 'CP9713-000',\n",
       " 'EL6016-000',\n",
       " 'F70187-000',\n",
       " 'D83009-000',\n",
       " 'D70973-000',\n",
       " 'EH3362-000',\n",
       " 'EN3311-000',\n",
       " 'EN3751-282',\n",
       " 'EP0808-000',\n",
       " 'BM3911-000',\n",
       " 'CG3828-000',\n",
       " 'CP8592-000',\n",
       " 'ES3315-000',\n",
       " 'EN3750-162',\n",
       " '271389-000',\n",
       " 'EN3750-903',\n",
       " 'ES0799-000',\n",
       " 'EH7460-000',\n",
       " 'EB0265-000',\n",
       " '597801-000',\n",
       " 'CT0182-000',\n",
       " 'ES1116-000',\n",
       " '748558-000',\n",
       " 'FG1237-000',\n",
       " 'EP9670-000',\n",
       " '2407524-4',\n",
       " 'EM8311-000',\n",
       " 'EH2154-000',\n",
       " 'ED9086-000',\n",
       " '068635-000',\n",
       " '2382290-2',\n",
       " 'EA9799-000',\n",
       " 'EB0314-000',\n",
       " '183128-000',\n",
       " 'CG3559-000',\n",
       " 'EE0468-000',\n",
       " '518793-000',\n",
       " 'EP9394-000',\n",
       " 'EE0445-000',\n",
       " 'EN3750-922',\n",
       " '916606-000',\n",
       " 'EP6505-000',\n",
       " 'ER3567-000',\n",
       " 'CR1442-000',\n",
       " '959911-000',\n",
       " 'C60380-000',\n",
       " 'CG9912-000',\n",
       " '811978-000',\n",
       " '267154-000',\n",
       " '2374772-2',\n",
       " '861763-000',\n",
       " 'EN2803-000',\n",
       " 'CG3526-000',\n",
       " 'EN1225-000',\n",
       " '642409-000',\n",
       " 'D45693-000',\n",
       " '839083-000',\n",
       " '266938-000',\n",
       " '315865-000',\n",
       " '2389706-3',\n",
       " '2395755-4',\n",
       " '676791-000',\n",
       " 'ED2776-000',\n",
       " 'EP6511-000',\n",
       " 'EK0859-041',\n",
       " '629423-000',\n",
       " 'EP8393-000',\n",
       " '141744-000',\n",
       " '253609-000',\n",
       " 'ER9547-000',\n",
       " '917273-000',\n",
       " 'ED9151-000',\n",
       " 'EE0599-000',\n",
       " '978582-000',\n",
       " 'ES0365-000',\n",
       " 'CG3755-000',\n",
       " 'ED0131-000',\n",
       " '2384402-3',\n",
       " 'F20283-000',\n",
       " 'EB0285-000',\n",
       " 'ES2911-000',\n",
       " 'E73481-000',\n",
       " 'EN3084-000',\n",
       " 'ER4020-000',\n",
       " 'CJ8964-000',\n",
       " 'ER1790-000',\n",
       " 'ED9179-000',\n",
       " '2405559-1',\n",
       " 'CS6755-000',\n",
       " 'F94578-000',\n",
       " 'ES1216-000',\n",
       " '505941-000',\n",
       " 'D12018-000',\n",
       " 'EE1125-000',\n",
       " 'F15372-000',\n",
       " 'D54504-000',\n",
       " '2197150-5',\n",
       " 'CA0963-005',\n",
       " 'EL7130-000',\n",
       " '2378929-9',\n",
       " 'A30155-000',\n",
       " '2403945-1',\n",
       " 'EE0475-000',\n",
       " '782758-000',\n",
       " 'EN3750-267',\n",
       " 'EN3742-018',\n",
       " '602089-3',\n",
       " 'CF9286-000',\n",
       " 'EK9856-000',\n",
       " 'CT0200-000',\n",
       " 'EE0471-000',\n",
       " 'CP9912-000',\n",
       " '690096-000',\n",
       " 'EK9388-000',\n",
       " 'EK4368-000',\n",
       " 'A12712-000',\n",
       " 'C14850-000',\n",
       " '324033-000',\n",
       " 'EP3537-000',\n",
       " 'EN3742-313',\n",
       " 'ER9005-000',\n",
       " 'ES0434-000',\n",
       " '2392186-2',\n",
       " 'EP8092-000',\n",
       " '199565-000',\n",
       " '917970-000',\n",
       " 'EN3742-045',\n",
       " '618951-000',\n",
       " 'EN3750-386',\n",
       " 'C48363-000',\n",
       " 'EN8125-000',\n",
       " 'CR2759-000',\n",
       " 'EM9218-000',\n",
       " '852974-000',\n",
       " 'CT0154-000',\n",
       " 'ES2785-000',\n",
       " '468596-000',\n",
       " 'EN3742-056',\n",
       " '2404877-9',\n",
       " '637932-000',\n",
       " 'EN0509-000',\n",
       " 'CT0053-000',\n",
       " '2182587-3',\n",
       " '837225-000',\n",
       " 'CT0103-000',\n",
       " 'EN0228-000',\n",
       " 'D00425-000',\n",
       " '357819-000',\n",
       " 'ER2762-000',\n",
       " 'BM7956-000',\n",
       " 'E22500-000',\n",
       " '645775-000',\n",
       " 'EN8986-000',\n",
       " 'EN3750-679',\n",
       " 'A11216-000',\n",
       " 'EN8709-000',\n",
       " '2402302-1',\n",
       " 'FG1283-000',\n",
       " 'CT0163-000',\n",
       " '304478-000',\n",
       " 'EP3510-011',\n",
       " 'EP0046-000',\n",
       " 'EE1128-000',\n",
       " 'EN3750-573',\n",
       " 'EB8676-000',\n",
       " 'E43398-000',\n",
       " 'ER5419-000',\n",
       " 'CN5576-000',\n",
       " 'EE5627-000',\n",
       " 'ER3315-000',\n",
       " 'CF2960-000',\n",
       " '266460-000',\n",
       " '244890-000',\n",
       " '996775-000',\n",
       " 'D93089-000',\n",
       " 'CT0019-000',\n",
       " 'CL2591-000',\n",
       " 'E30021-000',\n",
       " '904093-000',\n",
       " 'EE3639-000',\n",
       " '469209-000',\n",
       " 'EE0601-000',\n",
       " 'ED9044-000',\n",
       " '460075-000',\n",
       " 'ES0616-000',\n",
       " 'ES8420-000',\n",
       " '594300-005',\n",
       " 'EK0859-002',\n",
       " '2197049-2',\n",
       " 'ER4207-000',\n",
       " 'EN3742-196',\n",
       " '507650-000',\n",
       " 'EH3424-000',\n",
       " 'FG1359-000',\n",
       " 'EN1818-000',\n",
       " 'CZ9934-000',\n",
       " 'CU6002-000',\n",
       " 'EK8174-000',\n",
       " '771796-000',\n",
       " 'ER4564-000',\n",
       " 'CS0961-000',\n",
       " 'D26390-000',\n",
       " 'CL8618-000',\n",
       " 'ED9357-000',\n",
       " 'CR1292-000',\n",
       " '606854-000',\n",
       " 'CG3542-000',\n",
       " '562513-000',\n",
       " 'D96124-000',\n",
       " 'EN3751-100',\n",
       " 'A52835-000',\n",
       " 'ES1998-000',\n",
       " 'EN2456-000',\n",
       " '2404877-4',\n",
       " '2382313-9',\n",
       " '131520-000',\n",
       " 'ED8989-000',\n",
       " 'ED9352-000',\n",
       " '761007-000',\n",
       " 'EL6973-000',\n",
       " '929618-000',\n",
       " 'CM0598-000',\n",
       " '798261-000',\n",
       " '679413N001',\n",
       " 'EP0945-000',\n",
       " '575297-011',\n",
       " 'BM7662-000',\n",
       " '996042-000',\n",
       " 'EE0487-000',\n",
       " 'EB1046-000',\n",
       " 'ER3695-000',\n",
       " 'ES0615-000',\n",
       " '2382290-5',\n",
       " 'ES2046-000',\n",
       " 'EN3751-168',\n",
       " 'FG1457-000',\n",
       " 'CM6538-000',\n",
       " '907379-000',\n",
       " 'CT0343-000',\n",
       " 'CG3763-000',\n",
       " '2418068-7',\n",
       " 'CM3886-000',\n",
       " 'EN1088-001',\n",
       " 'BM1381-000',\n",
       " 'D93040N001',\n",
       " 'CT0136-000',\n",
       " '737071-000',\n",
       " '922712-000',\n",
       " 'ED5514-000',\n",
       " 'ER4208-000',\n",
       " 'CF9557-000',\n",
       " 'CN4130-000',\n",
       " '534292-000',\n",
       " '163334-001',\n",
       " 'EN3751-090',\n",
       " 'EN3750-659',\n",
       " '1099994-1',\n",
       " '475879-000',\n",
       " 'FG1572-000',\n",
       " 'ES2044-000',\n",
       " 'FC9558-000',\n",
       " 'EN4520-027',\n",
       " '131750-000',\n",
       " '519394-000',\n",
       " 'E95954-000',\n",
       " 'ER0079-000',\n",
       " 'EN0211-000',\n",
       " 'EN1174-000',\n",
       " 'EE0434-000',\n",
       " 'FG1749-000',\n",
       " '2182973-2',\n",
       " 'EP8017-000',\n",
       " 'ER4614-000',\n",
       " 'EB8712-000',\n",
       " 'EP2188-000',\n",
       " '137260-000',\n",
       " 'E23133-000',\n",
       " '2410368-4',\n",
       " '750456-000',\n",
       " '733372-000',\n",
       " 'ER6538-000',\n",
       " '2182994-3',\n",
       " 'EP5022-000',\n",
       " '011551-000',\n",
       " 'EN0029-000',\n",
       " '174026-000',\n",
       " '366560-000',\n",
       " 'EF8403-000',\n",
       " 'A37105-000',\n",
       " '2382266-8',\n",
       " 'ER3566-000',\n",
       " '2418067-2',\n",
       " '145685-000',\n",
       " 'CR1318-000',\n",
       " 'ED9024-000',\n",
       " '900210-000',\n",
       " 'D93334-000',\n",
       " 'CN2355-000',\n",
       " '166319-000',\n",
       " 'EN3742-174',\n",
       " 'CU0739-000',\n",
       " 'EA7093-000',\n",
       " '975849-000',\n",
       " 'A35355-000',\n",
       " 'EB8571-000',\n",
       " 'EL6976-000',\n",
       " 'CP5228-000',\n",
       " '289089-000',\n",
       " 'EK0649-000',\n",
       " 'CG3863-000',\n",
       " '384896-000',\n",
       " '493910-000',\n",
       " 'ES0622-000',\n",
       " '205901-000',\n",
       " 'CS9433-000',\n",
       " 'BM7155-000',\n",
       " 'EL7132-000',\n",
       " 'EN3751-137',\n",
       " 'EN3750-323',\n",
       " '846868-000',\n",
       " 'CN7230-000',\n",
       " 'CG3896-000',\n",
       " 'EP7765-000',\n",
       " 'CS3227-000',\n",
       " 'F88779-000',\n",
       " 'EP7750-000',\n",
       " '776152-000',\n",
       " 'C77668-000',\n",
       " 'ER4568-000',\n",
       " 'D05683-000',\n",
       " 'EE0423-000',\n",
       " 'CG3884-000',\n",
       " '2384479-6',\n",
       " 'EN6511-000',\n",
       " 'ER2422-000',\n",
       " 'BM2095-000',\n",
       " '664086-000',\n",
       " '397293-000',\n",
       " 'F64591-000',\n",
       " 'CR4499-000',\n",
       " 'EN7838-000',\n",
       " '063942-000',\n",
       " 'EN3750-914',\n",
       " '959837-000',\n",
       " '2084632-4',\n",
       " '1-2364039-3',\n",
       " '911184-000',\n",
       " 'ER2559-000',\n",
       " 'EK9867-000',\n",
       " 'ED1298-000',\n",
       " 'CU5155-000',\n",
       " '337774-000',\n",
       " 'ER9859-000',\n",
       " 'EP8090-000',\n",
       " 'ER0776-025',\n",
       " 'CJ0565-000',\n",
       " 'EA3552-000',\n",
       " 'ER7559-000',\n",
       " 'EP7640-000',\n",
       " 'EA7549-000',\n",
       " '927126-000',\n",
       " 'EN8283-000',\n",
       " '485626-000',\n",
       " 'ED7077-000',\n",
       " 'ES1847-000',\n",
       " 'EE0441-000',\n",
       " '028372-000',\n",
       " 'BM6118-000',\n",
       " 'EN3751-169',\n",
       " 'CR1297-000',\n",
       " 'EE0704-000',\n",
       " 'ER7449-000',\n",
       " 'D41410-000',\n",
       " 'EN3750-265',\n",
       " '2213759-3',\n",
       " 'ES2036-000',\n",
       " 'GF1239-000',\n",
       " '636479-000',\n",
       " '2405270-1',\n",
       " '960955-000',\n",
       " 'EN4558-000',\n",
       " 'D20934-000',\n",
       " '949490-000',\n",
       " '000144-000',\n",
       " 'CX3928-000',\n",
       " '731710-000',\n",
       " 'EP8926-000',\n",
       " 'EK0863-004',\n",
       " 'ER0789-076',\n",
       " 'E17231-000',\n",
       " 'CA7066-000',\n",
       " 'D43567-000',\n",
       " 'GF1234-000',\n",
       " 'CM4248-000',\n",
       " 'A30157-000',\n",
       " 'EP9471-000',\n",
       " '226240-000',\n",
       " 'EK3691-000',\n",
       " 'EE0484-000',\n",
       " 'ER7620-000',\n",
       " 'EP7989-000',\n",
       " '385369N001',\n",
       " 'ER0776-018',\n",
       " '228774-000',\n",
       " 'EN8973-000',\n",
       " '727751-000',\n",
       " 'CR1337-000',\n",
       " 'FG1534-000',\n",
       " '797970-000',\n",
       " 'CG3886-000',\n",
       " 'EN1523-000',\n",
       " 'EN3008-000',\n",
       " '283821-000',\n",
       " 'CN6933-000',\n",
       " 'EM7878-000',\n",
       " 'EE0466-000',\n",
       " 'CG3904-000',\n",
       " 'F36901-000',\n",
       " 'EF8410-000',\n",
       " 'ES2336-000',\n",
       " 'ER0789-075',\n",
       " 'CR0371-000',\n",
       " 'EE0624-000',\n",
       " 'EA911Z-000',\n",
       " '677296-000',\n",
       " 'EA3548-000',\n",
       " 'ED0110-000',\n",
       " '770361-000',\n",
       " 'ES2040-000',\n",
       " '673189-000',\n",
       " 'EM8614-000',\n",
       " 'EB8586-000',\n",
       " 'EN6512-000',\n",
       " 'F11983N001',\n",
       " 'CP4638-000',\n",
       " 'CG3555-000',\n",
       " 'BM1377-000',\n",
       " '895543-000',\n",
       " '21244H-000',\n",
       " '1099446-1',\n",
       " '533270-000',\n",
       " 'ER7561-000',\n",
       " '2365258-1',\n",
       " '906322-000',\n",
       " '595643-000',\n",
       " '2388830-9',\n",
       " '431513-000',\n",
       " 'EN8287-000',\n",
       " 'ED2778-000',\n",
       " '1-2182448-8',\n",
       " 'EN0147-000',\n",
       " 'ES8419-000',\n",
       " 'CG3668-000',\n",
       " 'CS2897-000',\n",
       " 'CA3278-000',\n",
       " 'CZ1122-000',\n",
       " 'EN3751-276',\n",
       " '2378437-6',\n",
       " 'CU7203-000',\n",
       " 'EN5682-034',\n",
       " 'CT0308-000',\n",
       " 'ER6542-000',\n",
       " 'ES2371-000',\n",
       " 'EB8646-000',\n",
       " '2384730-6',\n",
       " '429842-000',\n",
       " '494711-000',\n",
       " 'EN3750-322',\n",
       " '709157-000',\n",
       " 'CL4211-000',\n",
       " '2418067-4',\n",
       " 'EN4404-000',\n",
       " '068359-000',\n",
       " 'EN3409-000',\n",
       " 'CF9552-000',\n",
       " '2457355-8',\n",
       " 'EP1756-000',\n",
       " 'EP9470-000',\n",
       " 'ES0118-000',\n",
       " '2395755-1',\n",
       " 'ED5500-000',\n",
       " 'EE5625-000',\n",
       " 'CG3772-000',\n",
       " 'EP7993-000',\n",
       " '870316-000',\n",
       " 'CU0084-000',\n",
       " '166070-000',\n",
       " 'ES3000-000',\n",
       " 'CJ3981-000',\n",
       " 'EN3742-200',\n",
       " 'CP4753-000',\n",
       " 'CG3784-000',\n",
       " 'EL8769-000',\n",
       " 'ER2701-000',\n",
       " '746740-000',\n",
       " 'CG3889-000',\n",
       " '968084-000',\n",
       " '981353-000',\n",
       " '774473-000',\n",
       " 'CJ7027-000',\n",
       " 'GF2136-000',\n",
       " 'EB8659-000',\n",
       " 'EB8265-000',\n",
       " '163424-000',\n",
       " 'EB0180-000',\n",
       " '546439-000',\n",
       " 'CG3874-000',\n",
       " 'B77596-000',\n",
       " 'EN3750-331',\n",
       " 'ES3091-000',\n",
       " '931172-000',\n",
       " 'ER6393-000',\n",
       " '066818-000',\n",
       " '095181-000',\n",
       " '619279-000',\n",
       " 'EB9340-000',\n",
       " 'ER4606-000',\n",
       " 'EN3750-329',\n",
       " '864059-000',\n",
       " '536002-000',\n",
       " 'A20963-000',\n",
       " 'EE0608-000',\n",
       " 'CA2416-000',\n",
       " '363962-000',\n",
       " '052134-000',\n",
       " '044469-000',\n",
       " 'BM4223-000',\n",
       " '182825-000',\n",
       " 'ER9002-000',\n",
       " '329444-000',\n",
       " '668137-000',\n",
       " 'EK5189-000',\n",
       " 'EE5624-000',\n",
       " 'EN3749-027',\n",
       " 'ED9349-000',\n",
       " '019600-000',\n",
       " '669543-000',\n",
       " 'EA3333-000',\n",
       " 'EN3133-000',\n",
       " 'ER6339-000',\n",
       " 'CT0043-000',\n",
       " 'CT0166-000',\n",
       " 'EE0703-000',\n",
       " 'F31055-000',\n",
       " '760924-000',\n",
       " 'CG3540-000',\n",
       " 'CR8955-000',\n",
       " '709794-000',\n",
       " 'CR3645-000',\n",
       " 'ED2770-000',\n",
       " 'CR9908-000',\n",
       " 'ER6572-000',\n",
       " 'ER2658-000',\n",
       " '855551-000',\n",
       " 'EB8682-000',\n",
       " '2378450-6',\n",
       " 'CR4185-000',\n",
       " 'EN3750-461',\n",
       " '702886-000',\n",
       " '945683-000',\n",
       " '943193-000',\n",
       " '566244-000',\n",
       " '022731-000',\n",
       " 'F40656-000',\n",
       " 'CL9239-000',\n",
       " '248424-000',\n",
       " 'A19323-000',\n",
       " 'CG8865-000',\n",
       " '939678-000',\n",
       " 'EA5214-000',\n",
       " 'ED9098-000',\n",
       " 'ED5503-000',\n",
       " 'EN4685-000',\n",
       " 'CR7380-000',\n",
       " 'A36977-000',\n",
       " '923706-000',\n",
       " '812332-000',\n",
       " 'ES2047-000',\n",
       " 'C18709-000',\n",
       " 'CR1341-000',\n",
       " 'CG3712-000',\n",
       " '717826-000',\n",
       " 'FG1608-000',\n",
       " 'EE0438-000',\n",
       " '775717-000',\n",
       " 'CB2315-000',\n",
       " 'EE0606-000',\n",
       " '1443351-2',\n",
       " '2430006-1',\n",
       " 'EP7752-000',\n",
       " 'ES3557-000',\n",
       " 'C60779-000',\n",
       " '190407-000',\n",
       " '386264-000',\n",
       " '525222-000',\n",
       " '557176-000',\n",
       " 'CA4105-000',\n",
       " 'EA9810-000',\n",
       " '828695-000',\n",
       " '137501-002',\n",
       " 'EA3326-000',\n",
       " 'EL9030-000',\n",
       " 'ED8814-000',\n",
       " 'ED2751-000',\n",
       " 'ER3464-000',\n",
       " 'EP8014-000',\n",
       " '128958-000',\n",
       " '2384732-3',\n",
       " 'EH8455-000',\n",
       " '702944-000',\n",
       " '510695-000',\n",
       " 'EK9851-000',\n",
       " 'EL6980-000',\n",
       " '978928-000',\n",
       " '2-2374923-2',\n",
       " 'EB8580-000',\n",
       " 'BM1495-000',\n",
       " 'ES3204-000',\n",
       " 'BM1372-000',\n",
       " 'ER3555-000',\n",
       " '2404877-5',\n",
       " '2376750-3',\n",
       " '1-2182448-3',\n",
       " '2424190-2',\n",
       " 'ER0186-000',\n",
       " '2388457-4',\n",
       " 'CG3640-000',\n",
       " '734510-000',\n",
       " '1-83866-2',\n",
       " '734803-000',\n",
       " 'EB0269-000',\n",
       " 'EN3750-911',\n",
       " '947620-000',\n",
       " 'CR1303-000',\n",
       " 'FG1337-000',\n",
       " 'EN1266-000',\n",
       " '987321-000',\n",
       " 'ES0458-000',\n",
       " 'EE0605-000',\n",
       " 'BM7954-019',\n",
       " 'CT0173-000',\n",
       " 'ES2289-000',\n",
       " '919170-000',\n",
       " 'EE0706-000',\n",
       " '434779-000',\n",
       " 'ED5988-000',\n",
       " '905176-000',\n",
       " 'CR2121-011',\n",
       " 'EN8934-000',\n",
       " '979130-000',\n",
       " 'EN1482-000',\n",
       " 'ER6503-000',\n",
       " 'EA3545-000',\n",
       " '2392176-5',\n",
       " 'EN3750-396',\n",
       " 'CG3844-000',\n",
       " 'EB0303-000',\n",
       " 'EE5641-000',\n",
       " 'EN3742-002',\n",
       " '224208-000',\n",
       " '882660-000',\n",
       " 'BM6032-000',\n",
       " '721679N002',\n",
       " 'CN1305-000',\n",
       " 'ER9727-000',\n",
       " 'EN5885-000',\n",
       " 'FG1493-000',\n",
       " 'ED9358-000',\n",
       " '972168-000',\n",
       " '779140-011',\n",
       " '2374772-3',\n",
       " '2296544-3',\n",
       " 'CN9688-000',\n",
       " 'ED9093-000',\n",
       " 'ER3104-000',\n",
       " 'F50629-000',\n",
       " 'CP9670-000',\n",
       " '298363-000',\n",
       " 'CS3240-000',\n",
       " '804722-000',\n",
       " 'ER3709-000',\n",
       " '663468-005',\n",
       " 'CM7568-000',\n",
       " '973208-000',\n",
       " '533560-000',\n",
       " 'EB8295-000',\n",
       " 'ER6380-000',\n",
       " '122369-000',\n",
       " 'EN3742-004',\n",
       " 'EN5680-000',\n",
       " 'CR1285-000',\n",
       " 'BM3934-000',\n",
       " '538347-000',\n",
       " '137009-000',\n",
       " '4Z9454-000',\n",
       " 'E88941-000',\n",
       " '874584-000',\n",
       " 'ER5142-000',\n",
       " 'CG3649-000',\n",
       " 'EE0501-000',\n",
       " '246858-000',\n",
       " '137205-000',\n",
       " '454312-000',\n",
       " 'CH6895-000',\n",
       " 'ER4902-000',\n",
       " '2378413-2',\n",
       " 'EE5628-000',\n",
       " 'ED6742-000',\n",
       " 'CR1327-000',\n",
       " 'F33141-000',\n",
       " 'EP3645-000',\n",
       " '217058-000',\n",
       " 'EK0742-023',\n",
       " '717045-000',\n",
       " '2232228-1',\n",
       " 'ED8813-000',\n",
       " '406490-000',\n",
       " '544355-000',\n",
       " '167138-000',\n",
       " '2395755-7',\n",
       " 'EB1047-000',\n",
       " '262299-000',\n",
       " 'ER1059-000',\n",
       " '054822-000',\n",
       " 'CL0771-000',\n",
       " 'EN3750-896',\n",
       " '483263-000',\n",
       " '015475-000',\n",
       " '588830-000',\n",
       " '834666-000',\n",
       " 'E49399-000',\n",
       " 'EP1620-000',\n",
       " 'P00001-007',\n",
       " 'EN3434-000',\n",
       " 'FG1282-000',\n",
       " 'CN0930-000',\n",
       " 'CR1449-000',\n",
       " '2374899-4',\n",
       " '2387491-1',\n",
       " '720704-000',\n",
       " 'EA4106-000',\n",
       " 'EP4292-000',\n",
       " '2418068-6',\n",
       " 'CG3799-000',\n",
       " 'EK9866-000',\n",
       " 'ED0130-000',\n",
       " 'F84027N001',\n",
       " '682520-000',\n",
       " '2395638-1',\n",
       " '707093-000',\n",
       " 'CU3834-000',\n",
       " '2384479-3',\n",
       " 'EE0427-000',\n",
       " 'EP6680-000',\n",
       " 'EP8022-000',\n",
       " '828962N002',\n",
       " '2316181-6',\n",
       " 'EP9916-000',\n",
       " 'CG3627-000',\n",
       " '912718-000',\n",
       " 'EN3750-362',\n",
       " '909849-000',\n",
       " 'ED9158-000',\n",
       " 'BM0504-000',\n",
       " '722298-000',\n",
       " '139469-000',\n",
       " 'EA7079-000',\n",
       " 'A67870-000',\n",
       " '256288-000',\n",
       " 'EN5867-005',\n",
       " '208755-000',\n",
       " '385273-000',\n",
       " 'F62708-000',\n",
       " '349729-000',\n",
       " 'EH8559-000',\n",
       " 'D61534-000',\n",
       " 'EN3676-000',\n",
       " 'EN3742-028',\n",
       " '867866-000',\n",
       " 'E03187-000',\n",
       " 'EA3542-000',\n",
       " 'BM9568-000',\n",
       " '2378929-4',\n",
       " 'ES1316-000',\n",
       " 'CR1294-000',\n",
       " 'C68970-000',\n",
       " 'CJ1003-000',\n",
       " '1974142-1',\n",
       " 'ER1711-000',\n",
       " 'EL6017-000',\n",
       " 'CR1290-000',\n",
       " 'CR1334-000',\n",
       " 'EP8020-000',\n",
       " 'ED8877-000',\n",
       " 'D35254-000',\n",
       " 'EN0142-000',\n",
       " '155713-000',\n",
       " 'EN3750-373',\n",
       " 'CM6536-000',\n",
       " 'ES3313-000',\n",
       " '303496-000',\n",
       " '360954-000',\n",
       " '470390-000',\n",
       " 'FG1627-000',\n",
       " 'CT0111-000',\n",
       " 'EN3742-014',\n",
       " 'EP5859-000',\n",
       " 'CM3885-000',\n",
       " 'CR1421-000',\n",
       " 'EN0614-000',\n",
       " '2316246-1',\n",
       " 'EE0481-000',\n",
       " 'BM2100-000',\n",
       " 'CS8230-000',\n",
       " '885156-000',\n",
       " '579867-000',\n",
       " 'A92811-000',\n",
       " 'EN3750-366',\n",
       " 'CU9287-000',\n",
       " '483721-000',\n",
       " 'ER4284-000',\n",
       " 'F85774-000',\n",
       " 'CL5677-000',\n",
       " '636635-000',\n",
       " 'EN6119-000',\n",
       " '120520-000',\n",
       " 'EN4520-287',\n",
       " '989849-000',\n",
       " 'NB18222001',\n",
       " 'ES2757-000',\n",
       " 'ED1707-000',\n",
       " 'EP8395-000',\n",
       " 'CM4645-000',\n",
       " 'CR7866-011',\n",
       " 'EN6010-000',\n",
       " 'ER4605-000',\n",
       " '885157-000',\n",
       " '631108-000',\n",
       " '623313-000',\n",
       " 'CR8503-000',\n",
       " '184926-000',\n",
       " 'C42905-000',\n",
       " '212501-000',\n",
       " 'CB2513-000',\n",
       " 'EH5775-000',\n",
       " 'EL5493-000',\n",
       " 'EH7831-000',\n",
       " 'CG3912-000',\n",
       " 'EK0742-012',\n",
       " 'CJ6972-000',\n",
       " '766063N001',\n",
       " 'ES3684-000',\n",
       " '993648-000',\n",
       " 'CM8108-000',\n",
       " 'ES3387-000',\n",
       " '724639-000',\n",
       " 'EN3751-264',\n",
       " '133071-000',\n",
       " '658290-005',\n",
       " 'CG3864-000',\n",
       " 'BM1562-000',\n",
       " 'ER6379-000',\n",
       " 'EN3742-157',\n",
       " 'EH7172-000',\n",
       " '163334-002',\n",
       " 'EP7992-000',\n",
       " 'EP5862-000',\n",
       " '2395755-8',\n",
       " 'FG1256-000',\n",
       " '770058-000',\n",
       " 'CT0265-000',\n",
       " 'ED0108-000',\n",
       " '095057-000',\n",
       " 'CR1289-000',\n",
       " 'CV4317-000',\n",
       " 'CR1312-000',\n",
       " 'EL6223-000',\n",
       " 'ER1693-000',\n",
       " 'A64685-000',\n",
       " 'CT0018-000',\n",
       " 'CX4517-000',\n",
       " 'ES1311-000',\n",
       " 'FG1745-000',\n",
       " 'BM7447-000',\n",
       " '5019024-2',\n",
       " 'F59269-000',\n",
       " 'EN4520-167',\n",
       " '2384732-2',\n",
       " 'CG5639-000',\n",
       " 'CG3717-000',\n",
       " 'FG1871-000',\n",
       " ...}"
      ]
     },
     "execution_count": 39,
     "metadata": {},
     "output_type": "execute_result"
    }
   ],
   "source": [
    "set(df1['Part'])"
   ]
  },
  {
   "cell_type": "code",
   "execution_count": 40,
   "id": "e006ae16",
   "metadata": {},
   "outputs": [
    {
     "data": {
      "text/plain": [
       "False    155411\n",
       "Name: Part, dtype: int64"
      ]
     },
     "execution_count": 40,
     "metadata": {},
     "output_type": "execute_result"
    }
   ],
   "source": [
    "df1['Part'].isna().value_counts()"
   ]
  },
  {
   "cell_type": "code",
   "execution_count": 41,
   "id": "05059309",
   "metadata": {},
   "outputs": [
    {
     "data": {
      "text/plain": [
       "871788-000    1683\n",
       "360954-000    1432\n",
       "197886-000     978\n",
       "268120-000     916\n",
       "244890-000     830\n",
       "              ... \n",
       "CR5554-000       1\n",
       "CR4856-000       1\n",
       "CV4615-000       1\n",
       "CM3140-000       1\n",
       "2832476-2        1\n",
       "Name: Part, Length: 7212, dtype: int64"
      ]
     },
     "execution_count": 41,
     "metadata": {},
     "output_type": "execute_result"
    }
   ],
   "source": [
    "df1['Part'].value_counts()"
   ]
  },
  {
   "cell_type": "code",
   "execution_count": 42,
   "id": "dac4161f",
   "metadata": {},
   "outputs": [],
   "source": [
    "# C_LT = []\n",
    "# for i in range(len(df1['ReqDt'])):\n",
    "#     timedelta = df1['ReqDt'][i] - df1['Ord-Dt'][i]\n",
    "#     timedelta_days = timedelta.days  # Extract the number of days from the timedelta object\n",
    "#     if -1000 < timedelta_days < 1000:\n",
    "#         C_LT.append(timedelta_days)\n",
    "#     else:\n",
    "#         C_LT.append(0)\n",
    "\n",
    "# df1['Customer LT'] = C_LT"
   ]
  },
  {
   "cell_type": "code",
   "execution_count": 43,
   "id": "69826fe2",
   "metadata": {},
   "outputs": [],
   "source": [
    "D_LT = []\n",
    "for index, row in df1.iterrows():\n",
    "    timedelta = row['DueDt'] - row['Ord-Dt']\n",
    "    timedelta_days = timedelta.days  # Extract the number of days from the timedelta object\n",
    "    if -1000 < timedelta_days < 1000:\n",
    "        D_LT.append(timedelta_days)\n",
    "    else:\n",
    "        D_LT.append(0)\n",
    "\n",
    "df1['TE_ship LT'] = D_LT\n"
   ]
  },
  {
   "cell_type": "code",
   "execution_count": 44,
   "id": "b74ea38f",
   "metadata": {},
   "outputs": [],
   "source": [
    "C_LT = []\n",
    "for index, row in df1.iterrows():\n",
    "    timedelta = row['ReqDt'] - row['Ord-Dt']\n",
    "    timedelta_days = timedelta.days  # Extract the number of days from the timedelta object\n",
    "    if -1000 < timedelta_days < 1000:\n",
    "        C_LT.append(timedelta_days)\n",
    "    else:\n",
    "        C_LT.append(0)\n",
    "\n",
    "df1['Customer LT'] = C_LT\n"
   ]
  },
  {
   "cell_type": "code",
   "execution_count": 45,
   "id": "53430c89",
   "metadata": {},
   "outputs": [],
   "source": [
    "S_LT = []\n",
    "for index, row in df1.iterrows():\n",
    "    timedelta = row['InvoiceDt'] - row['Ord-Dt']\n",
    "    timedelta_days = timedelta.days  # Extract the number of days from the timedelta object\n",
    "    if -1000 < timedelta_days < 1000:\n",
    "        S_LT.append(timedelta_days)\n",
    "    else:\n",
    "        S_LT.append(0)\n",
    "\n",
    "df1['Shipping LT'] = S_LT\n"
   ]
  },
  {
   "cell_type": "code",
   "execution_count": 46,
   "id": "62e7cdcf",
   "metadata": {},
   "outputs": [
    {
     "data": {
      "text/plain": [
       "1      11207\n",
       "3       6048\n",
       "5       5485\n",
       "0       5462\n",
       "2       5063\n",
       "       ...  \n",
       "699        1\n",
       "844        1\n",
       "843        1\n",
       "589        1\n",
       "759        1\n",
       "Name: Shipping LT, Length: 654, dtype: int64"
      ]
     },
     "execution_count": 46,
     "metadata": {},
     "output_type": "execute_result"
    }
   ],
   "source": [
    "df1['Shipping LT'].value_counts()"
   ]
  },
  {
   "cell_type": "code",
   "execution_count": 47,
   "id": "6ff681b4",
   "metadata": {},
   "outputs": [
    {
     "name": "stdout",
     "output_type": "stream",
     "text": [
      "<class 'pandas.core.frame.DataFrame'>\n",
      "Int64Index: 155411 entries, 0 to 156918\n",
      "Data columns (total 11 columns):\n",
      " #   Column       Non-Null Count   Dtype         \n",
      "---  ------       --------------   -----         \n",
      " 0   Part         155411 non-null  object        \n",
      " 1   OTTO-GPL     155411 non-null  object        \n",
      " 2   Part Type    155411 non-null  object        \n",
      " 3   QtyInvoiced  155411 non-null  float64       \n",
      " 4   Ord-Dt       155411 non-null  datetime64[ns]\n",
      " 5   ReqDt        155411 non-null  datetime64[ns]\n",
      " 6   DueDt        155411 non-null  datetime64[ns]\n",
      " 7   InvoiceDt    155411 non-null  datetime64[ns]\n",
      " 8   TE_ship LT   155411 non-null  int64         \n",
      " 9   Customer LT  155411 non-null  int64         \n",
      " 10  Shipping LT  155411 non-null  int64         \n",
      "dtypes: datetime64[ns](4), float64(1), int64(3), object(3)\n",
      "memory usage: 14.2+ MB\n"
     ]
    }
   ],
   "source": [
    "df1.info()"
   ]
  },
  {
   "cell_type": "markdown",
   "id": "9b881470",
   "metadata": {},
   "source": [
    "### ここで一旦Training DF のプロセスを止めて、Prediction DFを取り込む。そしてTraining DFの部品数とPrediction DFの部品数を合わせる。そうすることで最初のファイルで発生したエラーを解消できる。"
   ]
  },
  {
   "cell_type": "code",
   "execution_count": 48,
   "id": "4daa1699",
   "metadata": {},
   "outputs": [],
   "source": [
    "log = pd.read_excel(directory + 'MFG PRO backlog.xlsx', engine='openpyxl')"
   ]
  },
  {
   "cell_type": "code",
   "execution_count": 49,
   "id": "bb7d255a",
   "metadata": {},
   "outputs": [],
   "source": [
    "log1 = log.iloc[:,[12,91,59,111,8,35,37]]"
   ]
  },
  {
   "cell_type": "code",
   "execution_count": 50,
   "id": "24066b4a",
   "metadata": {},
   "outputs": [
    {
     "name": "stdout",
     "output_type": "stream",
     "text": [
      "<class 'pandas.core.frame.DataFrame'>\n",
      "RangeIndex: 8595 entries, 0 to 8594\n",
      "Data columns (total 7 columns):\n",
      " #   Column       Non-Null Count  Dtype         \n",
      "---  ------       --------------  -----         \n",
      " 0   Part         8595 non-null   object        \n",
      " 1   OTTO-GPL     8593 non-null   object        \n",
      " 2   Part-Type    8554 non-null   object        \n",
      " 3   Qty Ordered  8595 non-null   float64       \n",
      " 4   SO-Ord_date  8595 non-null   datetime64[ns]\n",
      " 5   Req-Date     8595 non-null   datetime64[ns]\n",
      " 6   Due-Date     8595 non-null   datetime64[ns]\n",
      "dtypes: datetime64[ns](3), float64(1), object(3)\n",
      "memory usage: 470.2+ KB\n"
     ]
    }
   ],
   "source": [
    "log1.info()"
   ]
  },
  {
   "cell_type": "code",
   "execution_count": 51,
   "id": "ce7cd7ea",
   "metadata": {},
   "outputs": [
    {
     "name": "stderr",
     "output_type": "stream",
     "text": [
      "C:\\Users\\te521690\\Anaconda3\\lib\\site-packages\\pandas\\core\\generic.py:6619: SettingWithCopyWarning: \n",
      "A value is trying to be set on a copy of a slice from a DataFrame\n",
      "\n",
      "See the caveats in the documentation: https://pandas.pydata.org/pandas-docs/stable/user_guide/indexing.html#returning-a-view-versus-a-copy\n",
      "  return self._update_inplace(result)\n"
     ]
    }
   ],
   "source": [
    "log1['Part-Type'].replace({'mto':'MTO',\n",
    "                           'mto ':'MTO',\n",
    "                           'mts':'MTS'},inplace=True)"
   ]
  },
  {
   "cell_type": "code",
   "execution_count": 52,
   "id": "ae1efcb6",
   "metadata": {},
   "outputs": [
    {
     "name": "stderr",
     "output_type": "stream",
     "text": [
      "C:\\Users\\te521690\\Anaconda3\\lib\\site-packages\\ipykernel_launcher.py:1: SettingWithCopyWarning: \n",
      "A value is trying to be set on a copy of a slice from a DataFrame.\n",
      "Try using .loc[row_indexer,col_indexer] = value instead\n",
      "\n",
      "See the caveats in the documentation: https://pandas.pydata.org/pandas-docs/stable/user_guide/indexing.html#returning-a-view-versus-a-copy\n",
      "  \"\"\"Entry point for launching an IPython kernel.\n"
     ]
    }
   ],
   "source": [
    "log1['Part'] = log1['Part'].str.upper()"
   ]
  },
  {
   "cell_type": "code",
   "execution_count": 53,
   "id": "56743ecf",
   "metadata": {},
   "outputs": [
    {
     "name": "stderr",
     "output_type": "stream",
     "text": [
      "C:\\Users\\te521690\\Anaconda3\\lib\\site-packages\\ipykernel_launcher.py:1: SettingWithCopyWarning: \n",
      "A value is trying to be set on a copy of a slice from a DataFrame.\n",
      "Try using .loc[row_indexer,col_indexer] = value instead\n",
      "\n",
      "See the caveats in the documentation: https://pandas.pydata.org/pandas-docs/stable/user_guide/indexing.html#returning-a-view-versus-a-copy\n",
      "  \"\"\"Entry point for launching an IPython kernel.\n"
     ]
    }
   ],
   "source": [
    "log1['Part-Type'] = log1['Part-Type'].str.upper()"
   ]
  },
  {
   "cell_type": "code",
   "execution_count": 54,
   "id": "a5fc8d1f",
   "metadata": {},
   "outputs": [
    {
     "name": "stderr",
     "output_type": "stream",
     "text": [
      "C:\\Users\\te521690\\Anaconda3\\lib\\site-packages\\pandas\\core\\frame.py:5047: SettingWithCopyWarning: \n",
      "A value is trying to be set on a copy of a slice from a DataFrame\n",
      "\n",
      "See the caveats in the documentation: https://pandas.pydata.org/pandas-docs/stable/user_guide/indexing.html#returning-a-view-versus-a-copy\n",
      "  errors=errors,\n"
     ]
    }
   ],
   "source": [
    "log1.rename(columns={'SO-Ord_date':'SO_Ord_date','Req-Date':'Req_Date','Due-Date':'Due_Date','Part-Type':'Part Type'}, inplace=True)"
   ]
  },
  {
   "cell_type": "code",
   "execution_count": 55,
   "id": "46859a7d",
   "metadata": {},
   "outputs": [
    {
     "data": {
      "text/plain": [
       "False    8554\n",
       "True       41\n",
       "Name: Part Type, dtype: int64"
      ]
     },
     "execution_count": 55,
     "metadata": {},
     "output_type": "execute_result"
    }
   ],
   "source": [
    "log1['Part Type'].isna().value_counts()"
   ]
  },
  {
   "cell_type": "code",
   "execution_count": 56,
   "id": "e088301e",
   "metadata": {},
   "outputs": [
    {
     "name": "stderr",
     "output_type": "stream",
     "text": [
      "C:\\Users\\te521690\\Anaconda3\\lib\\site-packages\\pandas\\util\\_decorators.py:311: SettingWithCopyWarning: \n",
      "A value is trying to be set on a copy of a slice from a DataFrame\n",
      "\n",
      "See the caveats in the documentation: https://pandas.pydata.org/pandas-docs/stable/user_guide/indexing.html#returning-a-view-versus-a-copy\n",
      "  return func(*args, **kwargs)\n"
     ]
    }
   ],
   "source": [
    "log1.dropna(subset=['Part Type'],inplace=True)"
   ]
  },
  {
   "cell_type": "code",
   "execution_count": 57,
   "id": "d1e3702f",
   "metadata": {},
   "outputs": [],
   "source": [
    "log1['Part Type'].replace('MTO ','MTO', inplace=True)"
   ]
  },
  {
   "cell_type": "code",
   "execution_count": 58,
   "id": "6dcb94f5",
   "metadata": {},
   "outputs": [
    {
     "data": {
      "text/plain": [
       "MTS      3928\n",
       "ATO      2161\n",
       "MTO      1648\n",
       "MTSQS     814\n",
       "COMP        3\n",
       "Name: Part Type, dtype: int64"
      ]
     },
     "execution_count": 58,
     "metadata": {},
     "output_type": "execute_result"
    }
   ],
   "source": [
    "log1['Part Type'].value_counts()"
   ]
  },
  {
   "cell_type": "code",
   "execution_count": 59,
   "id": "de294913",
   "metadata": {},
   "outputs": [
    {
     "data": {
      "text/plain": [
       "False    8554\n",
       "Name: Part, dtype: int64"
      ]
     },
     "execution_count": 59,
     "metadata": {},
     "output_type": "execute_result"
    }
   ],
   "source": [
    "log1['Part'].isna().value_counts()"
   ]
  },
  {
   "cell_type": "code",
   "execution_count": 60,
   "id": "47038bfa",
   "metadata": {},
   "outputs": [
    {
     "data": {
      "text/plain": [
       "False    8552\n",
       "True        2\n",
       "Name: OTTO-GPL, dtype: int64"
      ]
     },
     "execution_count": 60,
     "metadata": {},
     "output_type": "execute_result"
    }
   ],
   "source": [
    "log1['OTTO-GPL'].isna().value_counts()"
   ]
  },
  {
   "cell_type": "code",
   "execution_count": 61,
   "id": "6b0c77e7",
   "metadata": {},
   "outputs": [],
   "source": [
    "log1.dropna(subset=['OTTO-GPL'], inplace=True)"
   ]
  },
  {
   "cell_type": "code",
   "execution_count": 62,
   "id": "67e34a66",
   "metadata": {},
   "outputs": [
    {
     "data": {
      "text/plain": [
       "364    1614\n",
       "760     716\n",
       "758     691\n",
       "753     681\n",
       "755     551\n",
       "141     499\n",
       "750     420\n",
       "752     380\n",
       "151     362\n",
       "751     343\n",
       "J71     317\n",
       "749     290\n",
       "757     262\n",
       "B82     191\n",
       "Z72     183\n",
       "E82     182\n",
       "814     152\n",
       "KB1     137\n",
       "761      63\n",
       "AA5      56\n",
       "C08      52\n",
       "Z63      46\n",
       "822      44\n",
       "JA2      40\n",
       "748      36\n",
       "AF8      35\n",
       "827      34\n",
       "E78      32\n",
       "E33      21\n",
       "819      21\n",
       "A27      19\n",
       "813      17\n",
       "435      14\n",
       "K93      11\n",
       "G38       6\n",
       "C04       6\n",
       "A26       4\n",
       "E34       3\n",
       "AI9       2\n",
       "A60       2\n",
       "607       1\n",
       "E77       1\n",
       "44        1\n",
       "710       1\n",
       "A46       1\n",
       "F14       1\n",
       "B95       1\n",
       "806       1\n",
       "210       1\n",
       "F30       1\n",
       "566       1\n",
       "E21       1\n",
       "1         1\n",
       "817       1\n",
       "652       1\n",
       "C88       1\n",
       "82        1\n",
       "Name: OTTO-GPL, dtype: int64"
      ]
     },
     "execution_count": 62,
     "metadata": {},
     "output_type": "execute_result"
    }
   ],
   "source": [
    "log1['OTTO-GPL'].value_counts()"
   ]
  },
  {
   "cell_type": "code",
   "execution_count": 63,
   "id": "6ca715f6",
   "metadata": {},
   "outputs": [
    {
     "name": "stderr",
     "output_type": "stream",
     "text": [
      "C:\\Users\\te521690\\Anaconda3\\lib\\site-packages\\ipykernel_launcher.py:10: SettingWithCopyWarning: \n",
      "A value is trying to be set on a copy of a slice from a DataFrame.\n",
      "Try using .loc[row_indexer,col_indexer] = value instead\n",
      "\n",
      "See the caveats in the documentation: https://pandas.pydata.org/pandas-docs/stable/user_guide/indexing.html#returning-a-view-versus-a-copy\n",
      "  # Remove the CWD from sys.path while we load stuff.\n"
     ]
    }
   ],
   "source": [
    "C_LT = []\n",
    "for index, row in log1.iterrows():\n",
    "    timedelta = row['Req_Date'] - row['SO_Ord_date']\n",
    "    timedelta_days = timedelta.days  # Extract the number of days from the timedelta object\n",
    "    if -1000 < timedelta_days < 1000:\n",
    "        C_LT.append(timedelta_days)\n",
    "    else:\n",
    "        C_LT.append(0)\n",
    "\n",
    "log1['Customer LT'] = C_LT\n"
   ]
  },
  {
   "cell_type": "code",
   "execution_count": 64,
   "id": "d2e42307",
   "metadata": {},
   "outputs": [
    {
     "name": "stderr",
     "output_type": "stream",
     "text": [
      "C:\\Users\\te521690\\Anaconda3\\lib\\site-packages\\ipykernel_launcher.py:10: SettingWithCopyWarning: \n",
      "A value is trying to be set on a copy of a slice from a DataFrame.\n",
      "Try using .loc[row_indexer,col_indexer] = value instead\n",
      "\n",
      "See the caveats in the documentation: https://pandas.pydata.org/pandas-docs/stable/user_guide/indexing.html#returning-a-view-versus-a-copy\n",
      "  # Remove the CWD from sys.path while we load stuff.\n"
     ]
    }
   ],
   "source": [
    "S_LT = []\n",
    "for index, row in log1.iterrows():\n",
    "    timedelta = row['Due_Date'] - row['SO_Ord_date']\n",
    "    timedelta_days = timedelta.days  # Extract the number of days from the timedelta object\n",
    "    if -1000 < timedelta_days < 1000:\n",
    "        S_LT.append(timedelta_days)\n",
    "    else:\n",
    "        S_LT.append(0)\n",
    "\n",
    "log1['TE_ship LT'] = S_LT"
   ]
  },
  {
   "cell_type": "code",
   "execution_count": 65,
   "id": "75432572",
   "metadata": {},
   "outputs": [],
   "source": [
    "log1['Part Type'].replace(['Part Type_MTO ','Part Type_MTO'], inplace=True)"
   ]
  },
  {
   "cell_type": "code",
   "execution_count": 66,
   "id": "d81a3bd5",
   "metadata": {},
   "outputs": [
    {
     "name": "stdout",
     "output_type": "stream",
     "text": [
      "<class 'pandas.core.frame.DataFrame'>\n",
      "Int64Index: 8552 entries, 0 to 8594\n",
      "Data columns (total 9 columns):\n",
      " #   Column       Non-Null Count  Dtype         \n",
      "---  ------       --------------  -----         \n",
      " 0   Part         8552 non-null   object        \n",
      " 1   OTTO-GPL     8552 non-null   object        \n",
      " 2   Part Type    8552 non-null   object        \n",
      " 3   Qty Ordered  8552 non-null   float64       \n",
      " 4   SO_Ord_date  8552 non-null   datetime64[ns]\n",
      " 5   Req_Date     8552 non-null   datetime64[ns]\n",
      " 6   Due_Date     8552 non-null   datetime64[ns]\n",
      " 7   Customer LT  8552 non-null   int64         \n",
      " 8   TE_ship LT   8552 non-null   int64         \n",
      "dtypes: datetime64[ns](3), float64(1), int64(2), object(3)\n",
      "memory usage: 668.1+ KB\n"
     ]
    }
   ],
   "source": [
    "log1.info()"
   ]
  },
  {
   "cell_type": "code",
   "execution_count": 67,
   "id": "782b5d87",
   "metadata": {},
   "outputs": [],
   "source": [
    "# Training DF内の項目数との確認が始まる\n",
    "import pandas as pd\n",
    "\n",
    "# 1. Create a dataframe based on df1['Part'] then remove duplicates.\n",
    "Part_no = df1['Part']\n",
    "Part_no = Part_no.drop_duplicates()"
   ]
  },
  {
   "cell_type": "code",
   "execution_count": 68,
   "id": "a3a35dec",
   "metadata": {},
   "outputs": [],
   "source": [
    "Part_no=pd.DataFrame(Part_no)"
   ]
  },
  {
   "cell_type": "code",
   "execution_count": 69,
   "id": "0867cb17",
   "metadata": {},
   "outputs": [
    {
     "data": {
      "text/plain": [
       "Part      \n",
       "000144-000    1\n",
       "EE0477-000    1\n",
       "ED9936-000    1\n",
       "ED9934-000    1\n",
       "ED9931-000    1\n",
       "             ..\n",
       "996042-000    1\n",
       "995861-000    1\n",
       "993648-000    1\n",
       "993314-000    1\n",
       "Y12345-000    1\n",
       "Length: 7212, dtype: int64"
      ]
     },
     "execution_count": 69,
     "metadata": {},
     "output_type": "execute_result"
    }
   ],
   "source": [
    "Part_no.value_counts()"
   ]
  },
  {
   "cell_type": "code",
   "execution_count": 70,
   "id": "72dc006a",
   "metadata": {},
   "outputs": [
    {
     "name": "stdout",
     "output_type": "stream",
     "text": [
      "<class 'pandas.core.frame.DataFrame'>\n",
      "Int64Index: 7212 entries, 0 to 156840\n",
      "Data columns (total 1 columns):\n",
      " #   Column  Non-Null Count  Dtype \n",
      "---  ------  --------------  ----- \n",
      " 0   Part    7212 non-null   object\n",
      "dtypes: object(1)\n",
      "memory usage: 112.7+ KB\n"
     ]
    }
   ],
   "source": [
    "Part_no.info()"
   ]
  },
  {
   "cell_type": "code",
   "execution_count": 71,
   "id": "b5d2365f",
   "metadata": {},
   "outputs": [],
   "source": [
    "df1_GPL = df1['OTTO-GPL'].drop_duplicates()"
   ]
  },
  {
   "cell_type": "code",
   "execution_count": 72,
   "id": "9f96a6ab",
   "metadata": {},
   "outputs": [],
   "source": [
    "df1_GPL = pd.DataFrame(df1_GPL)"
   ]
  },
  {
   "cell_type": "code",
   "execution_count": 73,
   "id": "2905577c",
   "metadata": {},
   "outputs": [
    {
     "data": {
      "text/plain": [
       "OTTO-GPL\n",
       "1           1\n",
       "C08         1\n",
       "B95         1\n",
       "B82         1\n",
       "AN8         1\n",
       "           ..\n",
       "749         1\n",
       "748         1\n",
       "746         1\n",
       "731         1\n",
       "Z72         1\n",
       "Length: 91, dtype: int64"
      ]
     },
     "execution_count": 73,
     "metadata": {},
     "output_type": "execute_result"
    }
   ],
   "source": [
    "df1_GPL.value_counts()"
   ]
  },
  {
   "cell_type": "code",
   "execution_count": 74,
   "id": "dc6b8bc7",
   "metadata": {},
   "outputs": [],
   "source": [
    "Part_T = df1['Part Type'].drop_duplicates()"
   ]
  },
  {
   "cell_type": "code",
   "execution_count": 75,
   "id": "c7e67556",
   "metadata": {},
   "outputs": [
    {
     "data": {
      "text/plain": [
       "MTS      1\n",
       "ATO      1\n",
       "MTSQS    1\n",
       "MTO      1\n",
       "COMP     1\n",
       "Name: Part Type, dtype: int64"
      ]
     },
     "execution_count": 75,
     "metadata": {},
     "output_type": "execute_result"
    }
   ],
   "source": [
    "Part_T.value_counts()"
   ]
  },
  {
   "cell_type": "code",
   "execution_count": null,
   "id": "6bf8ae3a",
   "metadata": {},
   "outputs": [],
   "source": []
  },
  {
   "cell_type": "code",
   "execution_count": 76,
   "id": "a85c3622",
   "metadata": {},
   "outputs": [],
   "source": [
    "# df1のpart list, GPL list, part type listをここで統合すること！"
   ]
  },
  {
   "cell_type": "code",
   "execution_count": 77,
   "id": "4fc11814",
   "metadata": {},
   "outputs": [],
   "source": [
    "# ここでは、part, GPL, part type, LTを指定するべき？\n",
    "\n",
    "log2 = pd.merge(Part_no, log1, on='Part', how='inner')"
   ]
  },
  {
   "cell_type": "code",
   "execution_count": 78,
   "id": "01e067b4",
   "metadata": {},
   "outputs": [
    {
     "name": "stdout",
     "output_type": "stream",
     "text": [
      "<class 'pandas.core.frame.DataFrame'>\n",
      "Int64Index: 8090 entries, 0 to 8089\n",
      "Data columns (total 9 columns):\n",
      " #   Column       Non-Null Count  Dtype         \n",
      "---  ------       --------------  -----         \n",
      " 0   Part         8090 non-null   object        \n",
      " 1   OTTO-GPL     8090 non-null   object        \n",
      " 2   Part Type    8090 non-null   object        \n",
      " 3   Qty Ordered  8090 non-null   float64       \n",
      " 4   SO_Ord_date  8090 non-null   datetime64[ns]\n",
      " 5   Req_Date     8090 non-null   datetime64[ns]\n",
      " 6   Due_Date     8090 non-null   datetime64[ns]\n",
      " 7   Customer LT  8090 non-null   int64         \n",
      " 8   TE_ship LT   8090 non-null   int64         \n",
      "dtypes: datetime64[ns](3), float64(1), int64(2), object(3)\n",
      "memory usage: 632.0+ KB\n"
     ]
    }
   ],
   "source": [
    "log2.info()"
   ]
  },
  {
   "cell_type": "code",
   "execution_count": 79,
   "id": "70bd2077",
   "metadata": {},
   "outputs": [],
   "source": [
    "# log2 = pd.merge(Part_no.to_frame(), log1, on='Part', how='inner')"
   ]
  },
  {
   "cell_type": "code",
   "execution_count": 80,
   "id": "a5e7b77d",
   "metadata": {},
   "outputs": [],
   "source": [
    "log2 = pd.merge(df1_GPL, log2, on='OTTO-GPL', how='inner')"
   ]
  },
  {
   "cell_type": "code",
   "execution_count": 81,
   "id": "ebfe2b06",
   "metadata": {},
   "outputs": [],
   "source": [
    "log2 = pd.merge(Part_T, log2, on='Part Type', how='inner')"
   ]
  },
  {
   "cell_type": "code",
   "execution_count": 82,
   "id": "ce1d8db7",
   "metadata": {},
   "outputs": [],
   "source": [
    "# このコードを流すとlog2のケース数が8000件から1000件に激減する→修正した\n",
    "# log2 = pd.merge(df1_GPL.to_frame(), log2, on='OTTO-GPL', how='inner')"
   ]
  },
  {
   "cell_type": "code",
   "execution_count": 83,
   "id": "e8f97a2c",
   "metadata": {},
   "outputs": [
    {
     "name": "stdout",
     "output_type": "stream",
     "text": [
      "<class 'pandas.core.frame.DataFrame'>\n",
      "Int64Index: 8090 entries, 0 to 8089\n",
      "Data columns (total 9 columns):\n",
      " #   Column       Non-Null Count  Dtype         \n",
      "---  ------       --------------  -----         \n",
      " 0   Part Type    8090 non-null   object        \n",
      " 1   OTTO-GPL     8090 non-null   object        \n",
      " 2   Part         8090 non-null   object        \n",
      " 3   Qty Ordered  8090 non-null   float64       \n",
      " 4   SO_Ord_date  8090 non-null   datetime64[ns]\n",
      " 5   Req_Date     8090 non-null   datetime64[ns]\n",
      " 6   Due_Date     8090 non-null   datetime64[ns]\n",
      " 7   Customer LT  8090 non-null   int64         \n",
      " 8   TE_ship LT   8090 non-null   int64         \n",
      "dtypes: datetime64[ns](3), float64(1), int64(2), object(3)\n",
      "memory usage: 632.0+ KB\n"
     ]
    }
   ],
   "source": [
    "log2.info()"
   ]
  },
  {
   "cell_type": "code",
   "execution_count": 84,
   "id": "110e05e4",
   "metadata": {},
   "outputs": [],
   "source": [
    "# training df用のパーツリスト作成\n",
    "Final_PartNo = log2['Part'].drop_duplicates()"
   ]
  },
  {
   "cell_type": "code",
   "execution_count": 85,
   "id": "368977ec",
   "metadata": {},
   "outputs": [],
   "source": [
    "Final_PartNo = pd.DataFrame(Final_PartNo)"
   ]
  },
  {
   "cell_type": "code",
   "execution_count": 86,
   "id": "df50576d",
   "metadata": {},
   "outputs": [
    {
     "data": {
      "text/plain": [
       "Part      \n",
       "000144-000    1\n",
       "D43092-000    1\n",
       "D90494-000    1\n",
       "D83074-000    1\n",
       "D83008-000    1\n",
       "             ..\n",
       "754259-000    1\n",
       "752305-000    1\n",
       "749076-000    1\n",
       "748558-000    1\n",
       "Y12345-000    1\n",
       "Length: 2164, dtype: int64"
      ]
     },
     "execution_count": 86,
     "metadata": {},
     "output_type": "execute_result"
    }
   ],
   "source": [
    "Final_PartNo.value_counts()"
   ]
  },
  {
   "cell_type": "code",
   "execution_count": 87,
   "id": "48c6f496",
   "metadata": {},
   "outputs": [],
   "source": [
    "Final_GPL = log2['OTTO-GPL'].drop_duplicates()"
   ]
  },
  {
   "cell_type": "code",
   "execution_count": 88,
   "id": "b7155218",
   "metadata": {},
   "outputs": [],
   "source": [
    "Final_GPL = pd.DataFrame(Final_GPL)"
   ]
  },
  {
   "cell_type": "code",
   "execution_count": 89,
   "id": "0b198f77",
   "metadata": {},
   "outputs": [],
   "source": [
    "df2 = pd.merge(Final_PartNo, df1, on='Part', how='left')"
   ]
  },
  {
   "cell_type": "code",
   "execution_count": 90,
   "id": "d92c13f8",
   "metadata": {},
   "outputs": [
    {
     "name": "stdout",
     "output_type": "stream",
     "text": [
      "<class 'pandas.core.frame.DataFrame'>\n",
      "Int64Index: 111603 entries, 0 to 111602\n",
      "Data columns (total 11 columns):\n",
      " #   Column       Non-Null Count   Dtype         \n",
      "---  ------       --------------   -----         \n",
      " 0   Part         111603 non-null  object        \n",
      " 1   OTTO-GPL     111603 non-null  object        \n",
      " 2   Part Type    111603 non-null  object        \n",
      " 3   QtyInvoiced  111603 non-null  float64       \n",
      " 4   Ord-Dt       111603 non-null  datetime64[ns]\n",
      " 5   ReqDt        111603 non-null  datetime64[ns]\n",
      " 6   DueDt        111603 non-null  datetime64[ns]\n",
      " 7   InvoiceDt    111603 non-null  datetime64[ns]\n",
      " 8   TE_ship LT   111603 non-null  int64         \n",
      " 9   Customer LT  111603 non-null  int64         \n",
      " 10  Shipping LT  111603 non-null  int64         \n",
      "dtypes: datetime64[ns](4), float64(1), int64(3), object(3)\n",
      "memory usage: 10.2+ MB\n"
     ]
    }
   ],
   "source": [
    "df2.info()"
   ]
  },
  {
   "cell_type": "code",
   "execution_count": 91,
   "id": "671e319f",
   "metadata": {},
   "outputs": [],
   "source": [
    "df2 = pd.merge(Final_GPL, df2, on='OTTO-GPL', how='left')"
   ]
  },
  {
   "cell_type": "code",
   "execution_count": 92,
   "id": "ac615c57",
   "metadata": {},
   "outputs": [],
   "source": [
    "# df2 = df2[df2['Customer LT']>0]"
   ]
  },
  {
   "cell_type": "code",
   "execution_count": 93,
   "id": "c436cf79",
   "metadata": {},
   "outputs": [
    {
     "name": "stdout",
     "output_type": "stream",
     "text": [
      "<class 'pandas.core.frame.DataFrame'>\n",
      "Int64Index: 111603 entries, 0 to 111602\n",
      "Data columns (total 11 columns):\n",
      " #   Column       Non-Null Count   Dtype         \n",
      "---  ------       --------------   -----         \n",
      " 0   OTTO-GPL     111603 non-null  object        \n",
      " 1   Part         111603 non-null  object        \n",
      " 2   Part Type    111603 non-null  object        \n",
      " 3   QtyInvoiced  111603 non-null  float64       \n",
      " 4   Ord-Dt       111603 non-null  datetime64[ns]\n",
      " 5   ReqDt        111603 non-null  datetime64[ns]\n",
      " 6   DueDt        111603 non-null  datetime64[ns]\n",
      " 7   InvoiceDt    111603 non-null  datetime64[ns]\n",
      " 8   TE_ship LT   111603 non-null  int64         \n",
      " 9   Customer LT  111603 non-null  int64         \n",
      " 10  Shipping LT  111603 non-null  int64         \n",
      "dtypes: datetime64[ns](4), float64(1), int64(3), object(3)\n",
      "memory usage: 10.2+ MB\n"
     ]
    }
   ],
   "source": [
    "df2.info()"
   ]
  },
  {
   "cell_type": "code",
   "execution_count": 94,
   "id": "88a42870",
   "metadata": {},
   "outputs": [
    {
     "data": {
      "text/plain": [
       "871788-000    1683\n",
       "360954-000    1432\n",
       "197886-000     978\n",
       "268120-000     916\n",
       "244890-000     830\n",
       "              ... \n",
       "D39778-000       1\n",
       "EN3750-922       1\n",
       "EP9920-000       1\n",
       "EP9912-000       1\n",
       "536353-000       1\n",
       "Name: Part, Length: 2164, dtype: int64"
      ]
     },
     "execution_count": 94,
     "metadata": {},
     "output_type": "execute_result"
    }
   ],
   "source": [
    "df2['Part'].value_counts()"
   ]
  },
  {
   "cell_type": "code",
   "execution_count": 95,
   "id": "64de1195",
   "metadata": {},
   "outputs": [
    {
     "data": {
      "text/plain": [
       "364    26418\n",
       "760    16856\n",
       "755     9898\n",
       "753     9500\n",
       "749     6917\n",
       "752     6275\n",
       "751     4799\n",
       "758     4420\n",
       "750     3868\n",
       "141     3798\n",
       "151     3056\n",
       "814     2985\n",
       "J71     2180\n",
       "Z72     1798\n",
       "761     1394\n",
       "E82     1231\n",
       "757      932\n",
       "C08      928\n",
       "KB1      811\n",
       "B82      549\n",
       "E33      529\n",
       "AA5      329\n",
       "822      294\n",
       "819      265\n",
       "748      220\n",
       "435      197\n",
       "Z63      197\n",
       "JA2      174\n",
       "F14      168\n",
       "A27      127\n",
       "E78       85\n",
       "813       79\n",
       "E34       71\n",
       "G38       65\n",
       "AF8       41\n",
       "C04       37\n",
       "827       31\n",
       "AI9       18\n",
       "K93       17\n",
       "566        8\n",
       "210        7\n",
       "B95        6\n",
       "C88        5\n",
       "1          4\n",
       "806        3\n",
       "A26        2\n",
       "A46        2\n",
       "82         2\n",
       "44         2\n",
       "E77        2\n",
       "817        2\n",
       "F30        1\n",
       "Name: OTTO-GPL, dtype: int64"
      ]
     },
     "execution_count": 95,
     "metadata": {},
     "output_type": "execute_result"
    }
   ],
   "source": [
    "df2['OTTO-GPL'].value_counts()"
   ]
  },
  {
   "cell_type": "markdown",
   "id": "68580205",
   "metadata": {},
   "source": [
    "### ↑ training用とpredict用のデータセットで部品数、Part Type、GPLが一致した。"
   ]
  },
  {
   "cell_type": "code",
   "execution_count": null,
   "id": "246ff16c",
   "metadata": {},
   "outputs": [],
   "source": []
  },
  {
   "cell_type": "code",
   "execution_count": 96,
   "id": "13f4f75c",
   "metadata": {},
   "outputs": [
    {
     "name": "stdout",
     "output_type": "stream",
     "text": [
      "<class 'pandas.core.frame.DataFrame'>\n",
      "Int64Index: 8090 entries, 0 to 8089\n",
      "Data columns (total 9 columns):\n",
      " #   Column       Non-Null Count  Dtype         \n",
      "---  ------       --------------  -----         \n",
      " 0   Part Type    8090 non-null   object        \n",
      " 1   OTTO-GPL     8090 non-null   object        \n",
      " 2   Part         8090 non-null   object        \n",
      " 3   Qty Ordered  8090 non-null   float64       \n",
      " 4   SO_Ord_date  8090 non-null   datetime64[ns]\n",
      " 5   Req_Date     8090 non-null   datetime64[ns]\n",
      " 6   Due_Date     8090 non-null   datetime64[ns]\n",
      " 7   Customer LT  8090 non-null   int64         \n",
      " 8   TE_ship LT   8090 non-null   int64         \n",
      "dtypes: datetime64[ns](3), float64(1), int64(2), object(3)\n",
      "memory usage: 632.0+ KB\n"
     ]
    }
   ],
   "source": [
    "log2.info()"
   ]
  },
  {
   "cell_type": "code",
   "execution_count": 97,
   "id": "263cfdeb",
   "metadata": {},
   "outputs": [],
   "source": [
    "# ↓このコードに問題がある"
   ]
  },
  {
   "cell_type": "code",
   "execution_count": 98,
   "id": "cb53571c",
   "metadata": {},
   "outputs": [
    {
     "name": "stderr",
     "output_type": "stream",
     "text": [
      "C:\\Users\\te521690\\Anaconda3\\lib\\site-packages\\ipykernel_launcher.py:5: FutureWarning: casting datetime64[ns] values to int64 with .astype(...) is deprecated and will raise in a future version. Use .view(...) instead.\n",
      "  \"\"\"\n"
     ]
    }
   ],
   "source": [
    "# Convert 'Req_Date' column to datetime\n",
    "log2['Req_Date'] = pd.to_datetime(log2['Req_Date'])\n",
    "\n",
    "# Convert datetime to Unix timestamp\n",
    "log2['ReqDt_Euc'] = (log2['Req_Date'].astype('int64') // 10**9).astype('int')"
   ]
  },
  {
   "cell_type": "code",
   "execution_count": 99,
   "id": "af456498",
   "metadata": {},
   "outputs": [
    {
     "data": {
      "text/plain": [
       "-636854400     252\n",
       " 1687132800    163\n",
       " 1686873600    163\n",
       " 1686787200    149\n",
       " 1687824000    119\n",
       "              ... \n",
       " 1711411200      1\n",
       " 1624406400      1\n",
       " 1679702400      1\n",
       " 1717027200      1\n",
       " 1704067200      1\n",
       "Name: ReqDt_Euc, Length: 591, dtype: int64"
      ]
     },
     "execution_count": 99,
     "metadata": {},
     "output_type": "execute_result"
    }
   ],
   "source": [
    "log2['ReqDt_Euc'].value_counts()"
   ]
  },
  {
   "cell_type": "code",
   "execution_count": 100,
   "id": "7f6210e1",
   "metadata": {},
   "outputs": [
    {
     "name": "stderr",
     "output_type": "stream",
     "text": [
      "C:\\Users\\te521690\\Anaconda3\\lib\\site-packages\\ipykernel_launcher.py:6: FutureWarning: casting datetime64[ns] values to int64 with .astype(...) is deprecated and will raise in a future version. Use .view(...) instead.\n",
      "  \n",
      "C:\\Users\\te521690\\Anaconda3\\lib\\site-packages\\ipykernel_launcher.py:12: FutureWarning: casting datetime64[ns] values to int64 with .astype(...) is deprecated and will raise in a future version. Use .view(...) instead.\n",
      "  if sys.path[0] == '':\n"
     ]
    }
   ],
   "source": [
    "from datetime import datetime\n",
    "\n",
    "# Convert 'Ord-Dt' column to datetime\n",
    "log2['SO_Ord_date'] = pd.to_datetime(log2['SO_Ord_date'])\n",
    "# Convert datetime to Unix timestamp\n",
    "log2['Ord-dt_Euc'] = (log2['SO_Ord_date'].astype('int64') // 10**9).astype('int')\n",
    "\n",
    "\n",
    "# Convert 'Ord-Dt' column to datetime\n",
    "log2['Due_Date'] = pd.to_datetime(log2['Due_Date'])\n",
    "# Convert datetime to Unix timestamp\n",
    "log2['DueDt_Euc'] = (log2['Due_Date'].astype('int64') // 10**9).astype('int')"
   ]
  },
  {
   "cell_type": "code",
   "execution_count": 101,
   "id": "738b98fe",
   "metadata": {},
   "outputs": [
    {
     "data": {
      "text/plain": [
       "{'ATO', 'COMP', 'MTO', 'MTS', 'MTSQS'}"
      ]
     },
     "execution_count": 101,
     "metadata": {},
     "output_type": "execute_result"
    }
   ],
   "source": [
    "set(log2['Part Type'])"
   ]
  },
  {
   "cell_type": "code",
   "execution_count": 102,
   "id": "62273326",
   "metadata": {},
   "outputs": [
    {
     "data": {
      "text/plain": [
       "721359-000    85\n",
       "254436-000    84\n",
       "A30156-000    82\n",
       "489356-000    69\n",
       "444622-000    69\n",
       "              ..\n",
       "606854-000     1\n",
       "EE0439-000     1\n",
       "319384-000     1\n",
       "033233-000     1\n",
       "CB2603-000     1\n",
       "Name: Part, Length: 2164, dtype: int64"
      ]
     },
     "execution_count": 102,
     "metadata": {},
     "output_type": "execute_result"
    }
   ],
   "source": [
    "log2['Part'].value_counts()"
   ]
  },
  {
   "cell_type": "code",
   "execution_count": 103,
   "id": "3a58fc6d",
   "metadata": {},
   "outputs": [
    {
     "data": {
      "text/plain": [
       "364    1576\n",
       "760     701\n",
       "753     671\n",
       "758     659\n",
       "755     542\n",
       "141     493\n",
       "750     391\n",
       "752     377\n",
       "151     351\n",
       "751     326\n",
       "749     284\n",
       "J71     274\n",
       "757     235\n",
       "B82     179\n",
       "Z72     169\n",
       "814     141\n",
       "KB1     125\n",
       "E82     102\n",
       "761      54\n",
       "AA5      50\n",
       "C08      50\n",
       "822      40\n",
       "JA2      35\n",
       "Z63      34\n",
       "AF8      33\n",
       "748      28\n",
       "E78      25\n",
       "E33      21\n",
       "819      19\n",
       "A27      18\n",
       "813      16\n",
       "827      15\n",
       "435      13\n",
       "K93      11\n",
       "G38       6\n",
       "C04       6\n",
       "E34       3\n",
       "AI9       2\n",
       "A26       2\n",
       "210       1\n",
       "A46       1\n",
       "44        1\n",
       "F14       1\n",
       "E77       1\n",
       "C88       1\n",
       "82        1\n",
       "806       1\n",
       "566       1\n",
       "F30       1\n",
       "1         1\n",
       "B95       1\n",
       "817       1\n",
       "Name: OTTO-GPL, dtype: int64"
      ]
     },
     "execution_count": 103,
     "metadata": {},
     "output_type": "execute_result"
    }
   ],
   "source": [
    "log2['OTTO-GPL'].value_counts()"
   ]
  },
  {
   "cell_type": "code",
   "execution_count": 104,
   "id": "d62e42bb",
   "metadata": {},
   "outputs": [],
   "source": [
    "# Identify the columns containing string variables\n",
    "string_columns = ['Part', 'OTTO-GPL', 'Part Type']\n",
    "\n",
    "# Perform one-hot encoding\n",
    "dummy_variables = pd.get_dummies(log2[string_columns])\n",
    "\n",
    "# Concatenate the dummy variables with the original dataset\n",
    "log1_encoded = pd.concat([log2, dummy_variables], axis=1)\n",
    "\n",
    "# Drop the original string columns if needed\n",
    "log3 = log1_encoded.drop(string_columns, axis=1)\n"
   ]
  },
  {
   "cell_type": "code",
   "execution_count": 105,
   "id": "2138e4ca",
   "metadata": {},
   "outputs": [
    {
     "name": "stdout",
     "output_type": "stream",
     "text": [
      "<class 'pandas.core.frame.DataFrame'>\n",
      "Int64Index: 8090 entries, 0 to 8089\n",
      "Columns: 2230 entries, Qty Ordered to Part Type_MTSQS\n",
      "dtypes: datetime64[ns](3), float64(1), int32(3), int64(2), uint8(2221)\n",
      "memory usage: 17.7 MB\n"
     ]
    }
   ],
   "source": [
    "log3.info()"
   ]
  },
  {
   "cell_type": "code",
   "execution_count": 106,
   "id": "4a2ed8fa",
   "metadata": {},
   "outputs": [],
   "source": [
    "log3.rename(columns={'Part-Type':'Part_Type',\n",
    "                     'OTTO-GPL':'OTTO_GPL',\n",
    "                     'Qty Ordered':'QtyInvoiced',\n",
    "                     'Part_Type_(blank)':'Part Type_(blank)',\n",
    "                     'Part_Type_ATO':'Part Type_ATO',\n",
    "                     'Part_Type_COMP':'Part Type_COMP',\n",
    "                     'Part_Type_MTS':'Part Type_MTS',\n",
    "                     'Part_Type_MTSQS':'Part Type_MTSQS',\n",
    "                     'SO_Ord_date_Euc':'Ord-Dt_Euc',\n",
    "                     'Req_Date_Euc':'ReqDt_Euc',\n",
    "                     'Due_Date_Euc':'DueDt_Euc'}, inplace=True)"
   ]
  },
  {
   "cell_type": "code",
   "execution_count": 107,
   "id": "dbb9888a",
   "metadata": {},
   "outputs": [],
   "source": [
    "# given from ChatGPT as a solution for the code above, but it still doesn't work."
   ]
  },
  {
   "cell_type": "code",
   "execution_count": 108,
   "id": "7e7d9e20",
   "metadata": {
    "scrolled": true
   },
   "outputs": [],
   "source": [
    "\n",
    "\n",
    "# from datetime import datetime\n",
    "\n",
    "# # Convert 'Ord-Dt' column to datetime\n",
    "# log3['SO_Ord_date'] = pd.to_datetime(log3['SO_Ord_date'])\n",
    "# # Convert datetime to Unix timestamp\n",
    "# log3['SO_Ord_date_Euc'] = log3['SO_Ord_date'].apply(lambda x: x.to_pydatetime().timestamp() if pd.notnull(x) else None)\n",
    "\n",
    "# # Convert 'Req_Date' column to datetime\n",
    "# log3['Req_Date'] = pd.to_datetime(log3['Req_Date'])\n",
    "# # Convert datetime to Unix timestamp\n",
    "# log3['Req_Date_Euc'] = log3['Req_Date'].apply(lambda x: x.to_pydatetime().timestamp() if pd.notnull(x) else None)\n",
    "\n",
    "# # Convert 'Due_Date' column to datetime\n",
    "# log3['Due_Date'] = pd.to_datetime(log3['Due_Date'])\n",
    "# # Convert datetime to Unix timestamp\n",
    "# log3['Due_Date_Euc'] = log3['Due_Date'].apply(lambda x: x.to_pydatetime().timestamp() if pd.notnull(x) else None)\n"
   ]
  },
  {
   "cell_type": "code",
   "execution_count": null,
   "id": "a04cc57b",
   "metadata": {},
   "outputs": [],
   "source": []
  },
  {
   "cell_type": "code",
   "execution_count": null,
   "id": "d5c1eb03",
   "metadata": {},
   "outputs": [],
   "source": []
  },
  {
   "cell_type": "markdown",
   "id": "c4753400",
   "metadata": {},
   "source": [
    "### Training DFとPrediction DFの項目数を合わせた後で、Training DFの残りのプロセスと学習を始める"
   ]
  },
  {
   "cell_type": "code",
   "execution_count": null,
   "id": "a4b99b10",
   "metadata": {},
   "outputs": [],
   "source": []
  },
  {
   "cell_type": "code",
   "execution_count": 109,
   "id": "6688f2f3",
   "metadata": {},
   "outputs": [
    {
     "data": {
      "text/plain": [
       "871788-000    1683\n",
       "360954-000    1432\n",
       "197886-000     978\n",
       "268120-000     916\n",
       "244890-000     830\n",
       "              ... \n",
       "D39778-000       1\n",
       "EN3750-922       1\n",
       "EP9920-000       1\n",
       "EP9912-000       1\n",
       "536353-000       1\n",
       "Name: Part, Length: 2164, dtype: int64"
      ]
     },
     "execution_count": 109,
     "metadata": {},
     "output_type": "execute_result"
    }
   ],
   "source": [
    "df2['Part'].value_counts()"
   ]
  },
  {
   "cell_type": "code",
   "execution_count": 110,
   "id": "321e9b3d",
   "metadata": {},
   "outputs": [
    {
     "data": {
      "text/plain": [
       "MTS      64289\n",
       "MTSQS    20836\n",
       "ATO      19083\n",
       "MTO       7390\n",
       "COMP         5\n",
       "Name: Part Type, dtype: int64"
      ]
     },
     "execution_count": 110,
     "metadata": {},
     "output_type": "execute_result"
    }
   ],
   "source": [
    "df2['Part Type'].value_counts()"
   ]
  },
  {
   "cell_type": "code",
   "execution_count": 111,
   "id": "47d4427a",
   "metadata": {},
   "outputs": [
    {
     "data": {
      "text/plain": [
       "364    26418\n",
       "760    16856\n",
       "755     9898\n",
       "753     9500\n",
       "749     6917\n",
       "752     6275\n",
       "751     4799\n",
       "758     4420\n",
       "750     3868\n",
       "141     3798\n",
       "151     3056\n",
       "814     2985\n",
       "J71     2180\n",
       "Z72     1798\n",
       "761     1394\n",
       "E82     1231\n",
       "757      932\n",
       "C08      928\n",
       "KB1      811\n",
       "B82      549\n",
       "E33      529\n",
       "AA5      329\n",
       "822      294\n",
       "819      265\n",
       "748      220\n",
       "435      197\n",
       "Z63      197\n",
       "JA2      174\n",
       "F14      168\n",
       "A27      127\n",
       "E78       85\n",
       "813       79\n",
       "E34       71\n",
       "G38       65\n",
       "AF8       41\n",
       "C04       37\n",
       "827       31\n",
       "AI9       18\n",
       "K93       17\n",
       "566        8\n",
       "210        7\n",
       "B95        6\n",
       "C88        5\n",
       "1          4\n",
       "806        3\n",
       "A26        2\n",
       "A46        2\n",
       "82         2\n",
       "44         2\n",
       "E77        2\n",
       "817        2\n",
       "F30        1\n",
       "Name: OTTO-GPL, dtype: int64"
      ]
     },
     "execution_count": 111,
     "metadata": {},
     "output_type": "execute_result"
    }
   ],
   "source": [
    "df2['OTTO-GPL'].value_counts()"
   ]
  },
  {
   "cell_type": "code",
   "execution_count": 112,
   "id": "887fa238",
   "metadata": {},
   "outputs": [
    {
     "data": {
      "text/html": [
       "<div>\n",
       "<style scoped>\n",
       "    .dataframe tbody tr th:only-of-type {\n",
       "        vertical-align: middle;\n",
       "    }\n",
       "\n",
       "    .dataframe tbody tr th {\n",
       "        vertical-align: top;\n",
       "    }\n",
       "\n",
       "    .dataframe thead th {\n",
       "        text-align: right;\n",
       "    }\n",
       "</style>\n",
       "<table border=\"1\" class=\"dataframe\">\n",
       "  <thead>\n",
       "    <tr style=\"text-align: right;\">\n",
       "      <th></th>\n",
       "      <th>count</th>\n",
       "      <th>mean</th>\n",
       "      <th>std</th>\n",
       "      <th>min</th>\n",
       "      <th>25%</th>\n",
       "      <th>50%</th>\n",
       "      <th>75%</th>\n",
       "      <th>max</th>\n",
       "    </tr>\n",
       "  </thead>\n",
       "  <tbody>\n",
       "    <tr>\n",
       "      <th>QtyInvoiced</th>\n",
       "      <td>111603.0</td>\n",
       "      <td>615.887971</td>\n",
       "      <td>7856.581456</td>\n",
       "      <td>-120000.0</td>\n",
       "      <td>10.0</td>\n",
       "      <td>40.0</td>\n",
       "      <td>150.0</td>\n",
       "      <td>642000.0</td>\n",
       "    </tr>\n",
       "    <tr>\n",
       "      <th>TE_ship LT</th>\n",
       "      <td>111603.0</td>\n",
       "      <td>28.069344</td>\n",
       "      <td>40.027039</td>\n",
       "      <td>-709.0</td>\n",
       "      <td>5.0</td>\n",
       "      <td>14.0</td>\n",
       "      <td>35.0</td>\n",
       "      <td>677.0</td>\n",
       "    </tr>\n",
       "    <tr>\n",
       "      <th>Customer LT</th>\n",
       "      <td>111603.0</td>\n",
       "      <td>28.069344</td>\n",
       "      <td>40.027039</td>\n",
       "      <td>-709.0</td>\n",
       "      <td>5.0</td>\n",
       "      <td>14.0</td>\n",
       "      <td>35.0</td>\n",
       "      <td>677.0</td>\n",
       "    </tr>\n",
       "    <tr>\n",
       "      <th>Shipping LT</th>\n",
       "      <td>111603.0</td>\n",
       "      <td>49.039990</td>\n",
       "      <td>63.530880</td>\n",
       "      <td>0.0</td>\n",
       "      <td>6.0</td>\n",
       "      <td>25.0</td>\n",
       "      <td>69.0</td>\n",
       "      <td>818.0</td>\n",
       "    </tr>\n",
       "  </tbody>\n",
       "</table>\n",
       "</div>"
      ],
      "text/plain": [
       "                count        mean          std       min   25%   50%    75%  \\\n",
       "QtyInvoiced  111603.0  615.887971  7856.581456 -120000.0  10.0  40.0  150.0   \n",
       "TE_ship LT   111603.0   28.069344    40.027039    -709.0   5.0  14.0   35.0   \n",
       "Customer LT  111603.0   28.069344    40.027039    -709.0   5.0  14.0   35.0   \n",
       "Shipping LT  111603.0   49.039990    63.530880       0.0   6.0  25.0   69.0   \n",
       "\n",
       "                  max  \n",
       "QtyInvoiced  642000.0  \n",
       "TE_ship LT      677.0  \n",
       "Customer LT     677.0  \n",
       "Shipping LT     818.0  "
      ]
     },
     "execution_count": 112,
     "metadata": {},
     "output_type": "execute_result"
    }
   ],
   "source": [
    "df2.describe().transpose()"
   ]
  },
  {
   "cell_type": "code",
   "execution_count": 113,
   "id": "9b02a204",
   "metadata": {},
   "outputs": [
    {
     "data": {
      "text/html": [
       "<div>\n",
       "<style scoped>\n",
       "    .dataframe tbody tr th:only-of-type {\n",
       "        vertical-align: middle;\n",
       "    }\n",
       "\n",
       "    .dataframe tbody tr th {\n",
       "        vertical-align: top;\n",
       "    }\n",
       "\n",
       "    .dataframe thead th {\n",
       "        text-align: right;\n",
       "    }\n",
       "</style>\n",
       "<table border=\"1\" class=\"dataframe\">\n",
       "  <thead>\n",
       "    <tr style=\"text-align: right;\">\n",
       "      <th></th>\n",
       "      <th>Part</th>\n",
       "      <th>QtyInvoiced</th>\n",
       "      <th>TE_ship LT</th>\n",
       "      <th>Customer LT</th>\n",
       "      <th>Shipping LT</th>\n",
       "    </tr>\n",
       "  </thead>\n",
       "  <tbody>\n",
       "    <tr>\n",
       "      <th>0</th>\n",
       "      <td>000144-000</td>\n",
       "      <td>25.875000</td>\n",
       "      <td>65.687500</td>\n",
       "      <td>65.687500</td>\n",
       "      <td>252.875000</td>\n",
       "    </tr>\n",
       "    <tr>\n",
       "      <th>1</th>\n",
       "      <td>004049-000</td>\n",
       "      <td>68.400000</td>\n",
       "      <td>48.333333</td>\n",
       "      <td>48.333333</td>\n",
       "      <td>68.266667</td>\n",
       "    </tr>\n",
       "    <tr>\n",
       "      <th>2</th>\n",
       "      <td>004354-000</td>\n",
       "      <td>251.500000</td>\n",
       "      <td>24.000000</td>\n",
       "      <td>24.000000</td>\n",
       "      <td>77.333333</td>\n",
       "    </tr>\n",
       "    <tr>\n",
       "      <th>3</th>\n",
       "      <td>007356-000</td>\n",
       "      <td>179.595092</td>\n",
       "      <td>36.717791</td>\n",
       "      <td>36.717791</td>\n",
       "      <td>48.773006</td>\n",
       "    </tr>\n",
       "    <tr>\n",
       "      <th>4</th>\n",
       "      <td>008440-000</td>\n",
       "      <td>789.332707</td>\n",
       "      <td>32.560150</td>\n",
       "      <td>32.560150</td>\n",
       "      <td>50.693609</td>\n",
       "    </tr>\n",
       "    <tr>\n",
       "      <th>...</th>\n",
       "      <td>...</td>\n",
       "      <td>...</td>\n",
       "      <td>...</td>\n",
       "      <td>...</td>\n",
       "      <td>...</td>\n",
       "    </tr>\n",
       "    <tr>\n",
       "      <th>2159</th>\n",
       "      <td>PA2222-000</td>\n",
       "      <td>9.263158</td>\n",
       "      <td>58.578947</td>\n",
       "      <td>58.578947</td>\n",
       "      <td>66.473684</td>\n",
       "    </tr>\n",
       "    <tr>\n",
       "      <th>2160</th>\n",
       "      <td>R35123-000</td>\n",
       "      <td>9.642857</td>\n",
       "      <td>31.000000</td>\n",
       "      <td>31.000000</td>\n",
       "      <td>15.142857</td>\n",
       "    </tr>\n",
       "    <tr>\n",
       "      <th>2161</th>\n",
       "      <td>RG3521-000</td>\n",
       "      <td>5.600000</td>\n",
       "      <td>28.266667</td>\n",
       "      <td>28.266667</td>\n",
       "      <td>13.066667</td>\n",
       "    </tr>\n",
       "    <tr>\n",
       "      <th>2162</th>\n",
       "      <td>TH7438-000</td>\n",
       "      <td>111.733333</td>\n",
       "      <td>85.600000</td>\n",
       "      <td>85.600000</td>\n",
       "      <td>71.466667</td>\n",
       "    </tr>\n",
       "    <tr>\n",
       "      <th>2163</th>\n",
       "      <td>Y12345-000</td>\n",
       "      <td>632.224719</td>\n",
       "      <td>21.235955</td>\n",
       "      <td>21.235955</td>\n",
       "      <td>37.303371</td>\n",
       "    </tr>\n",
       "  </tbody>\n",
       "</table>\n",
       "<p>2164 rows × 5 columns</p>\n",
       "</div>"
      ],
      "text/plain": [
       "            Part  QtyInvoiced  TE_ship LT  Customer LT  Shipping LT\n",
       "0     000144-000    25.875000   65.687500    65.687500   252.875000\n",
       "1     004049-000    68.400000   48.333333    48.333333    68.266667\n",
       "2     004354-000   251.500000   24.000000    24.000000    77.333333\n",
       "3     007356-000   179.595092   36.717791    36.717791    48.773006\n",
       "4     008440-000   789.332707   32.560150    32.560150    50.693609\n",
       "...          ...          ...         ...          ...          ...\n",
       "2159  PA2222-000     9.263158   58.578947    58.578947    66.473684\n",
       "2160  R35123-000     9.642857   31.000000    31.000000    15.142857\n",
       "2161  RG3521-000     5.600000   28.266667    28.266667    13.066667\n",
       "2162  TH7438-000   111.733333   85.600000    85.600000    71.466667\n",
       "2163  Y12345-000   632.224719   21.235955    21.235955    37.303371\n",
       "\n",
       "[2164 rows x 5 columns]"
      ]
     },
     "execution_count": 113,
     "metadata": {},
     "output_type": "execute_result"
    }
   ],
   "source": [
    "df2.groupby(by=['Part']).mean().reset_index()"
   ]
  },
  {
   "cell_type": "code",
   "execution_count": 114,
   "id": "e38ad636",
   "metadata": {},
   "outputs": [
    {
     "data": {
      "text/plain": [
       "871788-000    1683\n",
       "360954-000    1432\n",
       "197886-000     978\n",
       "268120-000     916\n",
       "244890-000     830\n",
       "              ... \n",
       "D39778-000       1\n",
       "EN3750-922       1\n",
       "EP9920-000       1\n",
       "EP9912-000       1\n",
       "536353-000       1\n",
       "Name: Part, Length: 2164, dtype: int64"
      ]
     },
     "execution_count": 114,
     "metadata": {},
     "output_type": "execute_result"
    }
   ],
   "source": [
    "df2['Part'].value_counts()"
   ]
  },
  {
   "cell_type": "code",
   "execution_count": 115,
   "id": "d78f7d5e",
   "metadata": {},
   "outputs": [
    {
     "name": "stderr",
     "output_type": "stream",
     "text": [
      "C:\\Users\\te521690\\Anaconda3\\lib\\site-packages\\seaborn\\distributions.py:2619: FutureWarning: `distplot` is a deprecated function and will be removed in a future version. Please adapt your code to use either `displot` (a figure-level function with similar flexibility) or `histplot` (an axes-level function for histograms).\n",
      "  warnings.warn(msg, FutureWarning)\n"
     ]
    },
    {
     "data": {
      "text/plain": [
       "<AxesSubplot:xlabel='Customer LT', ylabel='Density'>"
      ]
     },
     "execution_count": 115,
     "metadata": {},
     "output_type": "execute_result"
    },
    {
     "data": {
      "image/png": "[encoded data removed]",
      "text/plain": [
       "<Figure size 864x576 with 1 Axes>"
      ]
     },
     "metadata": {
      "needs_background": "light"
     },
     "output_type": "display_data"
    }
   ],
   "source": [
    "plt.figure(figsize=(12,8))\n",
    "sns.distplot(df2['Customer LT'])"
   ]
  },
  {
   "cell_type": "code",
   "execution_count": 116,
   "id": "5b40ed9d",
   "metadata": {},
   "outputs": [
    {
     "name": "stderr",
     "output_type": "stream",
     "text": [
      "C:\\Users\\te521690\\Anaconda3\\lib\\site-packages\\seaborn\\distributions.py:2619: FutureWarning: `distplot` is a deprecated function and will be removed in a future version. Please adapt your code to use either `displot` (a figure-level function with similar flexibility) or `histplot` (an axes-level function for histograms).\n",
      "  warnings.warn(msg, FutureWarning)\n"
     ]
    },
    {
     "data": {
      "text/plain": [
       "<AxesSubplot:xlabel='Shipping LT', ylabel='Density'>"
      ]
     },
     "execution_count": 116,
     "metadata": {},
     "output_type": "execute_result"
    },
    {
     "data": {
      "image/png": "[encoded data removed]",
      "text/plain": [
       "<Figure size 864x576 with 1 Axes>"
      ]
     },
     "metadata": {
      "needs_background": "light"
     },
     "output_type": "display_data"
    }
   ],
   "source": [
    "plt.figure(figsize=(12,8))\n",
    "sns.distplot(df2['Shipping LT'])"
   ]
  },
  {
   "cell_type": "code",
   "execution_count": 117,
   "id": "01dc5a0e",
   "metadata": {},
   "outputs": [
    {
     "data": {
      "text/plain": [
       "<AxesSubplot:xlabel='Customer LT', ylabel='Shipping LT'>"
      ]
     },
     "execution_count": 117,
     "metadata": {},
     "output_type": "execute_result"
    },
    {
     "data": {
      "image/png": "[encoded data removed]",
      "text/plain": [
       "<Figure size 864x576 with 1 Axes>"
      ]
     },
     "metadata": {
      "needs_background": "light"
     },
     "output_type": "display_data"
    }
   ],
   "source": [
    "plt.figure(figsize=(12,8))\n",
    "sns.scatterplot(x='Customer LT',y='Shipping LT',data=df2)"
   ]
  },
  {
   "cell_type": "code",
   "execution_count": 118,
   "id": "60a240d6",
   "metadata": {
    "scrolled": true
   },
   "outputs": [
    {
     "name": "stdout",
     "output_type": "stream",
     "text": [
      "<class 'pandas.core.frame.DataFrame'>\n",
      "Int64Index: 111603 entries, 0 to 111602\n",
      "Data columns (total 11 columns):\n",
      " #   Column       Non-Null Count   Dtype         \n",
      "---  ------       --------------   -----         \n",
      " 0   OTTO-GPL     111603 non-null  object        \n",
      " 1   Part         111603 non-null  object        \n",
      " 2   Part Type    111603 non-null  object        \n",
      " 3   QtyInvoiced  111603 non-null  float64       \n",
      " 4   Ord-Dt       111603 non-null  datetime64[ns]\n",
      " 5   ReqDt        111603 non-null  datetime64[ns]\n",
      " 6   DueDt        111603 non-null  datetime64[ns]\n",
      " 7   InvoiceDt    111603 non-null  datetime64[ns]\n",
      " 8   TE_ship LT   111603 non-null  int64         \n",
      " 9   Customer LT  111603 non-null  int64         \n",
      " 10  Shipping LT  111603 non-null  int64         \n",
      "dtypes: datetime64[ns](4), float64(1), int64(3), object(3)\n",
      "memory usage: 10.2+ MB\n"
     ]
    }
   ],
   "source": [
    "df2.info()"
   ]
  },
  {
   "cell_type": "code",
   "execution_count": 119,
   "id": "d227a829",
   "metadata": {},
   "outputs": [],
   "source": [
    "# Identify the columns containing string variables\n",
    "string_columns = ['Part', 'OTTO-GPL', 'Part Type']\n",
    "\n",
    "# Convert columns to string data type. added on June 27, 2023\n",
    "#df2[string_columns] = df2[string_columns].astype(str)\n",
    "\n",
    "# Perform one-hot encoding\n",
    "dummy_variables = pd.get_dummies(df2[string_columns])\n",
    "\n",
    "# Concatenate the dummy variables with the original dataset\n",
    "df_encoded = pd.concat([df2, dummy_variables], axis=1)\n",
    "\n",
    "# Drop the original string columns if needed\n",
    "df3 = df_encoded.drop(string_columns, axis=1)\n"
   ]
  },
  {
   "cell_type": "code",
   "execution_count": 120,
   "id": "a610a307",
   "metadata": {},
   "outputs": [],
   "source": [
    "from datetime import datetime\n",
    "\n",
    "# Convert 'Ord-Dt' column to datetime\n",
    "df3['Ord-Dt'] = pd.to_datetime(df3['Ord-Dt'])\n",
    "# Convert datetime to Unix timestamp\n",
    "df3['Ord-Dt_Euc'] = df3['Ord-Dt'].apply(lambda x: x.to_pydatetime().timestamp())\n",
    "\n",
    "# Convert 'Ord-Dt' column to datetime\n",
    "df3['ReqDt'] = pd.to_datetime(df3['ReqDt'])\n",
    "# Convert datetime to Unix timestamp\n",
    "df3['ReqDt_Euc'] = df3['ReqDt'].apply(lambda x: x.to_pydatetime().timestamp())\n",
    "\n",
    "# Convert 'Ord-Dt' column to datetime\n",
    "df3['DueDt'] = pd.to_datetime(df3['DueDt'])\n",
    "# Convert datetime to Unix timestamp\n",
    "df3['DueDt_Euc'] = df3['DueDt'].apply(lambda x: x.to_pydatetime().timestamp())\n",
    "\n",
    "# # Convert 'Ord-Dt' column to datetime\n",
    "# df3['InvoiceDt'] = pd.to_datetime(df3['InvoiceDt'])\n",
    "# # Convert datetime to Unix timestamp\n",
    "# df3['InvoiceDt_Euc'] = df3['InvoiceDt'].apply(lambda x: x.to_pydatetime().timestamp())\n",
    "\n"
   ]
  },
  {
   "cell_type": "code",
   "execution_count": 121,
   "id": "79eb47dc",
   "metadata": {},
   "outputs": [],
   "source": [
    "df3 = df3.drop(['Ord-Dt','ReqDt','DueDt','InvoiceDt'], axis=1)"
   ]
  },
  {
   "cell_type": "code",
   "execution_count": 122,
   "id": "1f050c21",
   "metadata": {},
   "outputs": [
    {
     "data": {
      "text/plain": [
       "871788-000    1683\n",
       "360954-000    1432\n",
       "197886-000     978\n",
       "268120-000     916\n",
       "244890-000     830\n",
       "              ... \n",
       "D39778-000       1\n",
       "EN3750-922       1\n",
       "EP9920-000       1\n",
       "EP9912-000       1\n",
       "536353-000       1\n",
       "Name: Part, Length: 2164, dtype: int64"
      ]
     },
     "execution_count": 122,
     "metadata": {},
     "output_type": "execute_result"
    }
   ],
   "source": [
    "df2['Part'].value_counts()"
   ]
  },
  {
   "cell_type": "code",
   "execution_count": 123,
   "id": "32c541de",
   "metadata": {},
   "outputs": [
    {
     "name": "stdout",
     "output_type": "stream",
     "text": [
      "<class 'pandas.core.frame.DataFrame'>\n",
      "Int64Index: 111603 entries, 0 to 111602\n",
      "Columns: 2228 entries, QtyInvoiced to DueDt_Euc\n",
      "dtypes: float64(4), int64(3), uint8(2221)\n",
      "memory usage: 243.2 MB\n"
     ]
    }
   ],
   "source": [
    "df3.info()"
   ]
  },
  {
   "cell_type": "code",
   "execution_count": 124,
   "id": "5cb896d0",
   "metadata": {
    "scrolled": true
   },
   "outputs": [
    {
     "data": {
      "text/plain": [
       "Index(['QtyInvoiced', 'TE_ship LT', 'Customer LT', 'Shipping LT',\n",
       "       'Part_000144-000', 'Part_004049-000', 'Part_004354-000',\n",
       "       'Part_007356-000', 'Part_008440-000', 'Part_011589-000',\n",
       "       ...\n",
       "       'OTTO-GPL_Z63', 'OTTO-GPL_Z72', 'Part Type_ATO', 'Part Type_COMP',\n",
       "       'Part Type_MTO', 'Part Type_MTS', 'Part Type_MTSQS', 'Ord-Dt_Euc',\n",
       "       'ReqDt_Euc', 'DueDt_Euc'],\n",
       "      dtype='object', length=2228)"
      ]
     },
     "execution_count": 124,
     "metadata": {},
     "output_type": "execute_result"
    }
   ],
   "source": [
    "df3.columns"
   ]
  },
  {
   "cell_type": "code",
   "execution_count": 125,
   "id": "70684f80",
   "metadata": {},
   "outputs": [],
   "source": [
    "X = df3.drop('Shipping LT',axis=1)\n",
    "y = df3['Shipping LT']"
   ]
  },
  {
   "cell_type": "code",
   "execution_count": 126,
   "id": "7f62a63c",
   "metadata": {},
   "outputs": [],
   "source": [
    "from sklearn.model_selection import train_test_split"
   ]
  },
  {
   "cell_type": "code",
   "execution_count": 127,
   "id": "031df71f",
   "metadata": {},
   "outputs": [],
   "source": [
    "X_train_0, X_test, y_train, y_test = train_test_split(X,y,test_size=0.3,random_state=101)"
   ]
  },
  {
   "cell_type": "markdown",
   "id": "0b6e5671",
   "metadata": {},
   "source": [
    "### Scaling"
   ]
  },
  {
   "cell_type": "code",
   "execution_count": 128,
   "id": "7055e226",
   "metadata": {},
   "outputs": [],
   "source": [
    "from sklearn.preprocessing import MinMaxScaler"
   ]
  },
  {
   "cell_type": "code",
   "execution_count": 129,
   "id": "3f614c37",
   "metadata": {},
   "outputs": [],
   "source": [
    "scaler = MinMaxScaler()"
   ]
  },
  {
   "cell_type": "code",
   "execution_count": 130,
   "id": "ff20883b",
   "metadata": {},
   "outputs": [
    {
     "name": "stdout",
     "output_type": "stream",
     "text": [
      "QtyInvoiced        float64\n",
      "TE_ship LT           int64\n",
      "Customer LT          int64\n",
      "Part_000144-000      uint8\n",
      "Part_004049-000      uint8\n",
      "                    ...   \n",
      "Part Type_MTS        uint8\n",
      "Part Type_MTSQS      uint8\n",
      "Ord-Dt_Euc         float64\n",
      "ReqDt_Euc          float64\n",
      "DueDt_Euc          float64\n",
      "Length: 2227, dtype: object\n"
     ]
    }
   ],
   "source": [
    "print(X_train_0.dtypes)"
   ]
  },
  {
   "cell_type": "code",
   "execution_count": 131,
   "id": "7938f627",
   "metadata": {},
   "outputs": [],
   "source": [
    "X_train= scaler.fit_transform(X_train_0)"
   ]
  },
  {
   "cell_type": "code",
   "execution_count": 132,
   "id": "15a408f9",
   "metadata": {},
   "outputs": [],
   "source": [
    "X_test = scaler.transform(X_test)"
   ]
  },
  {
   "cell_type": "code",
   "execution_count": 133,
   "id": "f910f906",
   "metadata": {},
   "outputs": [
    {
     "data": {
      "text/plain": [
       "(78122, 2227)"
      ]
     },
     "execution_count": 133,
     "metadata": {},
     "output_type": "execute_result"
    }
   ],
   "source": [
    "X_train.shape"
   ]
  },
  {
   "cell_type": "code",
   "execution_count": 134,
   "id": "9ff9c90c",
   "metadata": {},
   "outputs": [
    {
     "data": {
      "text/plain": [
       "(33481, 2227)"
      ]
     },
     "execution_count": 134,
     "metadata": {},
     "output_type": "execute_result"
    }
   ],
   "source": [
    "X_test.shape"
   ]
  },
  {
   "cell_type": "markdown",
   "id": "9a1ae9b1",
   "metadata": {},
   "source": [
    "### Creating a model"
   ]
  },
  {
   "cell_type": "code",
   "execution_count": 135,
   "id": "243e9d3a",
   "metadata": {},
   "outputs": [],
   "source": [
    "from tensorflow.keras.models import Sequential\n",
    "from tensorflow.keras.layers import Dense, Activation\n",
    "from tensorflow.keras.optimizers import Adam"
   ]
  },
  {
   "cell_type": "code",
   "execution_count": 136,
   "id": "61302565",
   "metadata": {},
   "outputs": [],
   "source": [
    "model = Sequential()\n",
    "\n",
    "model.add(Dense(100,activation='relu'))\n",
    "model.add(Dense(75,activation='relu'))\n",
    "model.add(Dense(50,activation='relu'))\n",
    "model.add(Dense(50,activation='relu'))\n",
    "model.add(Dense(25,activation='relu'))\n",
    "model.add(Dense(19,activation='relu'))\n",
    "model.add(Dense(1,activation='linear'))\n",
    "\n",
    "model.compile(optimizer='adam',loss='mse')"
   ]
  },
  {
   "cell_type": "markdown",
   "id": "9fccaf87",
   "metadata": {},
   "source": [
    "### Training the model"
   ]
  },
  {
   "cell_type": "code",
   "execution_count": 137,
   "id": "b70194a4",
   "metadata": {
    "scrolled": true
   },
   "outputs": [
    {
     "name": "stdout",
     "output_type": "stream",
     "text": [
      "Epoch 1/400\n",
      "611/611 [==============================] - 4s 6ms/step - loss: 3072.1086 - val_loss: 2409.2031\n",
      "Epoch 2/400\n",
      "611/611 [==============================] - 3s 5ms/step - loss: 2364.1765 - val_loss: 2276.2854\n",
      "Epoch 3/400\n",
      "611/611 [==============================] - 3s 5ms/step - loss: 2238.7676 - val_loss: 2210.9846\n",
      "Epoch 4/400\n",
      "611/611 [==============================] - 3s 4ms/step - loss: 2156.9404 - val_loss: 2170.5862\n",
      "Epoch 5/400\n",
      "611/611 [==============================] - 3s 4ms/step - loss: 2096.8118 - val_loss: 2124.1821\n",
      "Epoch 6/400\n",
      "611/611 [==============================] - 3s 4ms/step - loss: 2038.4613 - val_loss: 2096.9368\n",
      "Epoch 7/400\n",
      "611/611 [==============================] - 3s 5ms/step - loss: 1949.8048 - val_loss: 1972.6611\n",
      "Epoch 8/400\n",
      "611/611 [==============================] - 3s 5ms/step - loss: 1784.7306 - val_loss: 1832.7628\n",
      "Epoch 9/400\n",
      "611/611 [==============================] - 3s 5ms/step - loss: 1650.3208 - val_loss: 1756.0631\n",
      "Epoch 10/400\n",
      "611/611 [==============================] - 3s 6ms/step - loss: 1552.1875 - val_loss: 1712.5302\n",
      "Epoch 11/400\n",
      "611/611 [==============================] - 3s 5ms/step - loss: 1480.9067 - val_loss: 1701.4442\n",
      "Epoch 12/400\n",
      "611/611 [==============================] - 3s 5ms/step - loss: 1427.7240 - val_loss: 1713.8745\n",
      "Epoch 13/400\n",
      "611/611 [==============================] - 3s 5ms/step - loss: 1379.1136 - val_loss: 1612.4984\n",
      "Epoch 14/400\n",
      "611/611 [==============================] - 4s 6ms/step - loss: 1335.3096 - val_loss: 1577.1997\n",
      "Epoch 15/400\n",
      "611/611 [==============================] - 5s 7ms/step - loss: 1300.3156 - val_loss: 1562.6240\n",
      "Epoch 16/400\n",
      "611/611 [==============================] - 4s 6ms/step - loss: 1272.2987 - val_loss: 1545.8031\n",
      "Epoch 17/400\n",
      "611/611 [==============================] - 3s 5ms/step - loss: 1241.1838 - val_loss: 1521.6133\n",
      "Epoch 18/400\n",
      "611/611 [==============================] - 3s 5ms/step - loss: 1210.2822 - val_loss: 1511.6810\n",
      "Epoch 19/400\n",
      "611/611 [==============================] - 3s 5ms/step - loss: 1204.2806 - val_loss: 1491.7411\n",
      "Epoch 20/400\n",
      "611/611 [==============================] - 3s 5ms/step - loss: 1178.3241 - val_loss: 1472.9229\n",
      "Epoch 21/400\n",
      "611/611 [==============================] - 3s 5ms/step - loss: 1162.1086 - val_loss: 1469.8627\n",
      "Epoch 22/400\n",
      "611/611 [==============================] - 4s 7ms/step - loss: 1148.1093 - val_loss: 1456.7220\n",
      "Epoch 23/400\n",
      "611/611 [==============================] - 3s 5ms/step - loss: 1132.5669 - val_loss: 1465.7996\n",
      "Epoch 24/400\n",
      "611/611 [==============================] - 4s 6ms/step - loss: 1125.6923 - val_loss: 1446.1870\n",
      "Epoch 25/400\n",
      "611/611 [==============================] - 4s 6ms/step - loss: 1117.3011 - val_loss: 1434.8027\n",
      "Epoch 26/400\n",
      "611/611 [==============================] - 3s 5ms/step - loss: 1103.7560 - val_loss: 1436.7223\n",
      "Epoch 27/400\n",
      "611/611 [==============================] - 3s 6ms/step - loss: 1096.9227 - val_loss: 1426.7566\n",
      "Epoch 28/400\n",
      "611/611 [==============================] - 3s 6ms/step - loss: 1084.9448 - val_loss: 1500.0530\n",
      "Epoch 29/400\n",
      "611/611 [==============================] - 3s 5ms/step - loss: 1069.4315 - val_loss: 1434.0638\n",
      "Epoch 30/400\n",
      "611/611 [==============================] - 3s 5ms/step - loss: 1064.1370 - val_loss: 1442.9647\n",
      "Epoch 31/400\n",
      "611/611 [==============================] - 3s 5ms/step - loss: 1065.7843 - val_loss: 1427.6775\n",
      "Epoch 32/400\n",
      "611/611 [==============================] - 3s 6ms/step - loss: 1057.5175 - val_loss: 1470.3630\n",
      "Epoch 33/400\n",
      "611/611 [==============================] - 3s 5ms/step - loss: 1047.9745 - val_loss: 1410.8198\n",
      "Epoch 34/400\n",
      "611/611 [==============================] - 4s 6ms/step - loss: 1040.6202 - val_loss: 1418.5450\n",
      "Epoch 35/400\n",
      "611/611 [==============================] - 3s 6ms/step - loss: 1035.8127 - val_loss: 1406.0375\n",
      "Epoch 36/400\n",
      "611/611 [==============================] - 3s 5ms/step - loss: 1029.0917 - val_loss: 1396.9452\n",
      "Epoch 37/400\n",
      "611/611 [==============================] - 3s 5ms/step - loss: 1017.1736 - val_loss: 1444.2981\n",
      "Epoch 38/400\n",
      "611/611 [==============================] - 3s 5ms/step - loss: 1015.4811 - val_loss: 1424.3113\n",
      "Epoch 39/400\n",
      "611/611 [==============================] - 3s 5ms/step - loss: 1022.8965 - val_loss: 1408.1858\n",
      "Epoch 40/400\n",
      "611/611 [==============================] - 3s 5ms/step - loss: 1004.6228 - val_loss: 1372.7908\n",
      "Epoch 41/400\n",
      "611/611 [==============================] - 3s 5ms/step - loss: 998.6511 - val_loss: 1434.7069\n",
      "Epoch 42/400\n",
      "611/611 [==============================] - 3s 5ms/step - loss: 988.6714 - val_loss: 1454.5757\n",
      "Epoch 43/400\n",
      "611/611 [==============================] - 3s 5ms/step - loss: 1000.6620 - val_loss: 1405.9015\n",
      "Epoch 44/400\n",
      "611/611 [==============================] - 3s 5ms/step - loss: 989.3870 - val_loss: 1380.9542\n",
      "Epoch 45/400\n",
      "611/611 [==============================] - 3s 5ms/step - loss: 975.5399 - val_loss: 1390.2045\n",
      "Epoch 46/400\n",
      "611/611 [==============================] - 3s 5ms/step - loss: 981.3818 - val_loss: 1419.8317\n",
      "Epoch 47/400\n",
      "611/611 [==============================] - 3s 6ms/step - loss: 971.2547 - val_loss: 1415.2466\n",
      "Epoch 48/400\n",
      "611/611 [==============================] - 3s 5ms/step - loss: 974.8724 - val_loss: 1418.4377\n",
      "Epoch 49/400\n",
      "611/611 [==============================] - 3s 5ms/step - loss: 962.0102 - val_loss: 1403.2791\n",
      "Epoch 50/400\n",
      "611/611 [==============================] - 3s 5ms/step - loss: 961.8106 - val_loss: 1373.6143\n"
     ]
    },
    {
     "data": {
      "text/plain": [
       "<keras.callbacks.History at 0x1e30ea83688>"
      ]
     },
     "execution_count": 137,
     "metadata": {},
     "output_type": "execute_result"
    }
   ],
   "source": [
    "from keras.callbacks import EarlyStopping\n",
    "\n",
    "# Define the early stopping callback\n",
    "early_stopping = EarlyStopping(monitor='val_loss', patience=10)\n",
    "\n",
    "# Train the model with early stopping\n",
    "model.fit(x=X_train, y=y_train.values,\n",
    "          validation_data=(X_test, y_test.values),\n",
    "          batch_size=128, epochs=400, callbacks=[early_stopping])\n"
   ]
  },
  {
   "cell_type": "code",
   "execution_count": 47,
   "id": "be16091d",
   "metadata": {},
   "outputs": [
    {
     "name": "stdout",
     "output_type": "stream",
     "text": [
      "Train on 104179 samples, validate on 44649 samples\n",
      "Epoch 1/400\n",
      "104179/104179 [==============================] - 16s 155us/sample - loss: 3799.3488 - val_loss: 1360.9240\n",
      "Epoch 2/400\n",
      "104179/104179 [==============================] - 10s 99us/sample - loss: 511.8905 - val_loss: 133.5825\n",
      "Epoch 3/400\n",
      "104179/104179 [==============================] - 11s 108us/sample - loss: 66.9861 - val_loss: 70.4991\n",
      "Epoch 4/400\n",
      "104179/104179 [==============================] - 10s 100us/sample - loss: 36.4038 - val_loss: 67.4166\n",
      "Epoch 5/400\n",
      "104179/104179 [==============================] - 9s 89us/sample - loss: 36.5008 - val_loss: 69.5106\n",
      "Epoch 6/400\n",
      "104179/104179 [==============================] - 9s 88us/sample - loss: 37.7434 - val_loss: 79.9948\n",
      "Epoch 7/400\n",
      "104179/104179 [==============================] - 9s 88us/sample - loss: 36.8089 - val_loss: 69.6018\n",
      "Epoch 8/400\n",
      "104179/104179 [==============================] - 11s 106us/sample - loss: 35.6235 - val_loss: 68.4739\n",
      "Epoch 9/400\n",
      "104179/104179 [==============================] - 10s 96us/sample - loss: 32.8907 - val_loss: 65.2772\n",
      "Epoch 10/400\n",
      "104179/104179 [==============================] - 13s 128us/sample - loss: 30.9339 - val_loss: 65.3738\n",
      "Epoch 11/400\n",
      "104179/104179 [==============================] - 11s 106us/sample - loss: 29.0171 - val_loss: 63.4030\n",
      "Epoch 12/400\n",
      "104179/104179 [==============================] - 11s 103us/sample - loss: 26.8999 - val_loss: 56.9907\n",
      "Epoch 13/400\n",
      "104179/104179 [==============================] - 9s 91us/sample - loss: 25.1114 - val_loss: 59.9100\n",
      "Epoch 14/400\n",
      "104179/104179 [==============================] - 9s 90us/sample - loss: 24.2424 - val_loss: 54.3169\n",
      "Epoch 15/400\n",
      "104179/104179 [==============================] - 11s 106us/sample - loss: 22.5708 - val_loss: 54.0787\n",
      "Epoch 16/400\n",
      "104179/104179 [==============================] - 12s 118us/sample - loss: 22.4097 - val_loss: 54.5601\n",
      "Epoch 17/400\n",
      "104179/104179 [==============================] - 11s 103us/sample - loss: 19.7886 - val_loss: 52.4890\n",
      "Epoch 18/400\n",
      "104179/104179 [==============================] - 9s 89us/sample - loss: 19.5752 - val_loss: 54.2896\n",
      "Epoch 19/400\n",
      "104179/104179 [==============================] - 11s 101us/sample - loss: 19.9647 - val_loss: 54.0158\n",
      "Epoch 20/400\n",
      "104179/104179 [==============================] - 11s 101us/sample - loss: 19.0531 - val_loss: 56.2362\n",
      "Epoch 21/400\n",
      "104179/104179 [==============================] - 10s 91us/sample - loss: 17.3692 - val_loss: 52.1716\n",
      "Epoch 22/400\n",
      "104179/104179 [==============================] - 10s 91us/sample - loss: 17.6684 - val_loss: 52.4587\n",
      "Epoch 23/400\n",
      "104179/104179 [==============================] - 10s 92us/sample - loss: 17.7264 - val_loss: 51.7454\n",
      "Epoch 24/400\n",
      "104179/104179 [==============================] - 10s 94us/sample - loss: 16.6541 - val_loss: 52.4216\n",
      "Epoch 25/400\n",
      "104179/104179 [==============================] - 10s 95us/sample - loss: 15.8637 - val_loss: 53.6993\n",
      "Epoch 26/400\n",
      "104179/104179 [==============================] - 10s 98us/sample - loss: 15.5863 - val_loss: 55.7219\n",
      "Epoch 27/400\n",
      "104179/104179 [==============================] - 9s 89us/sample - loss: 16.0740 - val_loss: 50.0562\n",
      "Epoch 28/400\n",
      "104179/104179 [==============================] - 9s 88us/sample - loss: 14.9849 - val_loss: 51.9006\n",
      "Epoch 29/400\n",
      "104179/104179 [==============================] - 9s 88us/sample - loss: 14.4967 - val_loss: 50.9110\n",
      "Epoch 30/400\n",
      "104179/104179 [==============================] - 9s 87us/sample - loss: 15.2428 - val_loss: 49.5548\n",
      "Epoch 31/400\n",
      "104179/104179 [==============================] - 10s 92us/sample - loss: 14.0626 - val_loss: 49.6586\n",
      "Epoch 32/400\n",
      "104179/104179 [==============================] - 9s 90us/sample - loss: 13.7808 - val_loss: 50.7064\n",
      "Epoch 33/400\n",
      "104179/104179 [==============================] - 9s 89us/sample - loss: 13.8084 - val_loss: 50.4955\n",
      "Epoch 34/400\n",
      "104179/104179 [==============================] - 9s 90us/sample - loss: 12.9606 - val_loss: 50.2231\n",
      "Epoch 35/400\n",
      "104179/104179 [==============================] - 9s 90us/sample - loss: 12.9326 - val_loss: 48.6934\n",
      "Epoch 36/400\n",
      "104179/104179 [==============================] - 9s 88us/sample - loss: 13.1518 - val_loss: 49.5749\n",
      "Epoch 37/400\n",
      "104179/104179 [==============================] - 9s 88us/sample - loss: 12.7115 - val_loss: 47.3971\n",
      "Epoch 38/400\n",
      "104179/104179 [==============================] - 9s 88us/sample - loss: 11.6593 - val_loss: 48.8530\n",
      "Epoch 39/400\n",
      "104179/104179 [==============================] - 11s 109us/sample - loss: 12.6951 - val_loss: 47.8091\n",
      "Epoch 40/400\n",
      "104179/104179 [==============================] - 10s 92us/sample - loss: 11.9983 - val_loss: 46.8289\n",
      "Epoch 41/400\n",
      "104179/104179 [==============================] - 9s 91us/sample - loss: 11.7511 - val_loss: 46.1499\n",
      "Epoch 42/400\n",
      "104179/104179 [==============================] - 10s 93us/sample - loss: 11.3430 - val_loss: 47.2708\n",
      "Epoch 43/400\n",
      "104179/104179 [==============================] - 10s 98us/sample - loss: 11.2009 - val_loss: 46.4896\n",
      "Epoch 44/400\n",
      "104179/104179 [==============================] - 10s 98us/sample - loss: 11.1861 - val_loss: 47.4436\n",
      "Epoch 45/400\n",
      "104179/104179 [==============================] - 10s 99us/sample - loss: 10.7526 - val_loss: 46.9611\n",
      "Epoch 46/400\n",
      "104179/104179 [==============================] - 9s 89us/sample - loss: 11.0269 - val_loss: 45.5767\n",
      "Epoch 47/400\n",
      "104179/104179 [==============================] - 9s 89us/sample - loss: 11.0831 - val_loss: 45.8555\n",
      "Epoch 48/400\n",
      "104179/104179 [==============================] - 10s 92us/sample - loss: 10.8523 - val_loss: 44.5171\n",
      "Epoch 49/400\n",
      "104179/104179 [==============================] - 10s 92us/sample - loss: 10.0451 - val_loss: 44.1075\n",
      "Epoch 50/400\n",
      "104179/104179 [==============================] - 10s 92us/sample - loss: 10.3830 - val_loss: 47.0060\n",
      "Epoch 51/400\n",
      "104179/104179 [==============================] - 10s 92us/sample - loss: 10.1566 - val_loss: 43.6761\n",
      "Epoch 52/400\n",
      "104179/104179 [==============================] - 10s 95us/sample - loss: 9.6702 - val_loss: 43.9977\n",
      "Epoch 53/400\n",
      "104179/104179 [==============================] - 10s 98us/sample - loss: 9.9248 - val_loss: 44.5617\n",
      "Epoch 54/400\n",
      "104179/104179 [==============================] - 10s 92us/sample - loss: 9.9861 - val_loss: 45.2196\n",
      "Epoch 55/400\n",
      "104179/104179 [==============================] - 9s 90us/sample - loss: 9.6446 - val_loss: 44.4540\n",
      "Epoch 56/400\n",
      "104179/104179 [==============================] - 9s 89us/sample - loss: 9.1473 - val_loss: 45.1130\n",
      "Epoch 57/400\n",
      "104179/104179 [==============================] - 10s 92us/sample - loss: 9.3232 - val_loss: 45.2864\n",
      "Epoch 58/400\n",
      "104179/104179 [==============================] - 11s 102us/sample - loss: 9.5964 - val_loss: 43.9303\n",
      "Epoch 59/400\n",
      "104179/104179 [==============================] - 9s 89us/sample - loss: 8.6120 - val_loss: 42.9166\n",
      "Epoch 60/400\n",
      "104179/104179 [==============================] - 9s 90us/sample - loss: 8.8522 - val_loss: 43.8828\n",
      "Epoch 61/400\n",
      "104179/104179 [==============================] - 9s 88us/sample - loss: 9.0317 - val_loss: 43.0319\n",
      "Epoch 62/400\n",
      "104179/104179 [==============================] - 9s 87us/sample - loss: 8.5506 - val_loss: 42.1738\n",
      "Epoch 63/400\n",
      "104179/104179 [==============================] - 9s 86us/sample - loss: 8.8398 - val_loss: 42.3912\n",
      "Epoch 64/400\n",
      "104179/104179 [==============================] - 9s 89us/sample - loss: 8.6316 - val_loss: 43.1969\n",
      "Epoch 65/400\n",
      "104179/104179 [==============================] - 9s 87us/sample - loss: 8.2231 - val_loss: 42.0694\n",
      "Epoch 66/400\n",
      "104179/104179 [==============================] - 9s 87us/sample - loss: 8.4324 - val_loss: 42.8498\n",
      "Epoch 67/400\n",
      "104179/104179 [==============================] - 9s 86us/sample - loss: 8.0025 - val_loss: 43.1460\n",
      "Epoch 68/400\n",
      "104179/104179 [==============================] - 9s 86us/sample - loss: 8.0394 - val_loss: 41.8129\n",
      "Epoch 69/400\n",
      "104179/104179 [==============================] - 9s 87us/sample - loss: 8.3537 - val_loss: 41.5836\n",
      "Epoch 70/400\n",
      "104179/104179 [==============================] - 9s 86us/sample - loss: 7.8879 - val_loss: 42.2556\n",
      "Epoch 71/400\n",
      "104179/104179 [==============================] - 10s 91us/sample - loss: 7.6263 - val_loss: 41.7888\n",
      "Epoch 72/400\n",
      "104179/104179 [==============================] - 9s 87us/sample - loss: 7.9882 - val_loss: 41.1680\n"
     ]
    },
    {
     "name": "stdout",
     "output_type": "stream",
     "text": [
      "Epoch 73/400\n",
      "104179/104179 [==============================] - 10s 91us/sample - loss: 7.5052 - val_loss: 41.6478\n",
      "Epoch 74/400\n",
      "104179/104179 [==============================] - 9s 88us/sample - loss: 7.9051 - val_loss: 42.8773\n",
      "Epoch 75/400\n",
      "104179/104179 [==============================] - 9s 89us/sample - loss: 7.4629 - val_loss: 41.1441\n",
      "Epoch 76/400\n",
      "104179/104179 [==============================] - 9s 85us/sample - loss: 7.2885 - val_loss: 41.8485\n",
      "Epoch 77/400\n",
      "104179/104179 [==============================] - 9s 88us/sample - loss: 7.5120 - val_loss: 40.4715\n",
      "Epoch 78/400\n",
      "104179/104179 [==============================] - 10s 94us/sample - loss: 7.4583 - val_loss: 41.7609\n",
      "Epoch 79/400\n",
      "104179/104179 [==============================] - 11s 107us/sample - loss: 7.0733 - val_loss: 40.2185\n",
      "Epoch 80/400\n",
      "104179/104179 [==============================] - 10s 98us/sample - loss: 7.3409 - val_loss: 41.3495\n",
      "Epoch 81/400\n",
      "104179/104179 [==============================] - 10s 93us/sample - loss: 7.4177 - val_loss: 39.1231\n",
      "Epoch 82/400\n",
      "104179/104179 [==============================] - 9s 90us/sample - loss: 6.8015 - val_loss: 40.0088\n",
      "Epoch 83/400\n",
      "104179/104179 [==============================] - 9s 89us/sample - loss: 7.3149 - val_loss: 39.8752\n",
      "Epoch 84/400\n",
      "104179/104179 [==============================] - 10s 100us/sample - loss: 6.5823 - val_loss: 39.4771\n",
      "Epoch 85/400\n",
      "104179/104179 [==============================] - 10s 98us/sample - loss: 6.9024 - val_loss: 40.8212\n",
      "Epoch 86/400\n",
      "104179/104179 [==============================] - 10s 92us/sample - loss: 6.9384 - val_loss: 41.9106\n",
      "Epoch 87/400\n",
      "104179/104179 [==============================] - 9s 91us/sample - loss: 6.6922 - val_loss: 39.6127\n",
      "Epoch 88/400\n",
      "104179/104179 [==============================] - 10s 94us/sample - loss: 6.8144 - val_loss: 40.6082\n",
      "Epoch 89/400\n",
      "104179/104179 [==============================] - 10s 97us/sample - loss: 6.4583 - val_loss: 39.4530\n",
      "Epoch 90/400\n",
      "104179/104179 [==============================] - 10s 95us/sample - loss: 6.6527 - val_loss: 39.4870\n",
      "Epoch 91/400\n",
      "104179/104179 [==============================] - 9s 88us/sample - loss: 6.4910 - val_loss: 40.6277\n",
      "Epoch 92/400\n",
      "104179/104179 [==============================] - 9s 88us/sample - loss: 6.3177 - val_loss: 41.1448\n",
      "Epoch 93/400\n",
      "104179/104179 [==============================] - 10s 92us/sample - loss: 6.5476 - val_loss: 40.2316\n",
      "Epoch 94/400\n",
      "104179/104179 [==============================] - 9s 89us/sample - loss: 6.2729 - val_loss: 39.4466\n",
      "Epoch 95/400\n",
      "104179/104179 [==============================] - 9s 89us/sample - loss: 6.4158 - val_loss: 39.5370\n",
      "Epoch 96/400\n",
      "104179/104179 [==============================] - 9s 91us/sample - loss: 6.0486 - val_loss: 41.1836\n",
      "Epoch 97/400\n",
      "104179/104179 [==============================] - 11s 101us/sample - loss: 6.3270 - val_loss: 39.1315\n",
      "Epoch 98/400\n",
      "104179/104179 [==============================] - 10s 100us/sample - loss: 6.1023 - val_loss: 39.0531\n",
      "Epoch 99/400\n",
      "104179/104179 [==============================] - 10s 94us/sample - loss: 5.9395 - val_loss: 40.2721\n",
      "Epoch 100/400\n",
      "104179/104179 [==============================] - 10s 96us/sample - loss: 6.0320 - val_loss: 38.8769\n",
      "Epoch 101/400\n",
      "104179/104179 [==============================] - 9s 89us/sample - loss: 6.0360 - val_loss: 39.5881\n",
      "Epoch 102/400\n",
      "104179/104179 [==============================] - 9s 87us/sample - loss: 5.8196 - val_loss: 39.8686\n",
      "Epoch 103/400\n",
      "104179/104179 [==============================] - 10s 96us/sample - loss: 6.1759 - val_loss: 40.0736\n",
      "Epoch 104/400\n",
      "104179/104179 [==============================] - 9s 87us/sample - loss: 5.7746 - val_loss: 38.9017\n",
      "Epoch 105/400\n",
      "104179/104179 [==============================] - 9s 87us/sample - loss: 5.7992 - val_loss: 39.8776\n",
      "Epoch 106/400\n",
      "104179/104179 [==============================] - 9s 89us/sample - loss: 5.5828 - val_loss: 38.2567\n",
      "Epoch 107/400\n",
      "104179/104179 [==============================] - 9s 89us/sample - loss: 5.6529 - val_loss: 38.2668\n",
      "Epoch 108/400\n",
      "104179/104179 [==============================] - 9s 89us/sample - loss: 5.7329 - val_loss: 41.4691\n",
      "Epoch 109/400\n",
      "104179/104179 [==============================] - 13s 129us/sample - loss: 5.6124 - val_loss: 38.5357\n",
      "Epoch 110/400\n",
      "104179/104179 [==============================] - 10s 95us/sample - loss: 5.6059 - val_loss: 40.1889\n",
      "Epoch 111/400\n",
      "104179/104179 [==============================] - 9s 88us/sample - loss: 5.6041 - val_loss: 37.4585\n",
      "Epoch 112/400\n",
      "104179/104179 [==============================] - 9s 91us/sample - loss: 5.3736 - val_loss: 38.5706\n",
      "Epoch 113/400\n",
      "104179/104179 [==============================] - 9s 89us/sample - loss: 5.6036 - val_loss: 38.0317\n",
      "Epoch 114/400\n",
      "104179/104179 [==============================] - 9s 90us/sample - loss: 5.4737 - val_loss: 38.3011\n",
      "Epoch 115/400\n",
      "104179/104179 [==============================] - 10s 98us/sample - loss: 5.3400 - val_loss: 38.3560\n",
      "Epoch 116/400\n",
      "104179/104179 [==============================] - 10s 98us/sample - loss: 5.4899 - val_loss: 37.9998\n",
      "Epoch 117/400\n",
      "104179/104179 [==============================] - 10s 95us/sample - loss: 5.0707 - val_loss: 37.8210\n",
      "Epoch 118/400\n",
      "104179/104179 [==============================] - 10s 99us/sample - loss: 5.3454 - val_loss: 38.0806\n",
      "Epoch 119/400\n",
      "104179/104179 [==============================] - 11s 106us/sample - loss: 5.5212 - val_loss: 38.2532\n",
      "Epoch 120/400\n",
      "104179/104179 [==============================] - 12s 114us/sample - loss: 4.8631 - val_loss: 38.1706\n",
      "Epoch 121/400\n",
      "104179/104179 [==============================] - 10s 95us/sample - loss: 5.3845 - val_loss: 37.4044\n",
      "Epoch 122/400\n",
      "104179/104179 [==============================] - 10s 93us/sample - loss: 5.1424 - val_loss: 37.4262\n",
      "Epoch 123/400\n",
      "104179/104179 [==============================] - 10s 94us/sample - loss: 5.3529 - val_loss: 36.8546\n",
      "Epoch 124/400\n",
      "104179/104179 [==============================] - 9s 89us/sample - loss: 4.8149 - val_loss: 37.0402\n",
      "Epoch 125/400\n",
      "104179/104179 [==============================] - 9s 90us/sample - loss: 5.1271 - val_loss: 36.2534\n",
      "Epoch 126/400\n",
      "104179/104179 [==============================] - 10s 95us/sample - loss: 4.9270 - val_loss: 36.3957\n",
      "Epoch 127/400\n",
      "104179/104179 [==============================] - 15s 142us/sample - loss: 5.3029 - val_loss: 36.7649\n",
      "Epoch 128/400\n",
      "104179/104179 [==============================] - 11s 102us/sample - loss: 4.7899 - val_loss: 36.5776\n",
      "Epoch 129/400\n",
      "104179/104179 [==============================] - 11s 103us/sample - loss: 4.9283 - val_loss: 38.2173\n",
      "Epoch 130/400\n",
      "104179/104179 [==============================] - 10s 100us/sample - loss: 4.9555 - val_loss: 37.7254\n",
      "Epoch 131/400\n",
      "104179/104179 [==============================] - 11s 106us/sample - loss: 4.7599 - val_loss: 36.2453\n",
      "Epoch 132/400\n",
      "104179/104179 [==============================] - 13s 123us/sample - loss: 4.8157 - val_loss: 36.3294\n",
      "Epoch 133/400\n",
      "104179/104179 [==============================] - 11s 109us/sample - loss: 4.7871 - val_loss: 36.2946\n",
      "Epoch 134/400\n",
      "104179/104179 [==============================] - 18s 176us/sample - loss: 5.0234 - val_loss: 38.9075\n",
      "Epoch 135/400\n",
      "104179/104179 [==============================] - 17s 159us/sample - loss: 4.6761 - val_loss: 36.1841\n",
      "Epoch 136/400\n",
      "104179/104179 [==============================] - 14s 131us/sample - loss: 4.7501 - val_loss: 37.0198\n",
      "Epoch 137/400\n",
      "104179/104179 [==============================] - 13s 121us/sample - loss: 4.8716 - val_loss: 36.3640\n",
      "Epoch 138/400\n",
      "104179/104179 [==============================] - 13s 120us/sample - loss: 4.7225 - val_loss: 35.7010\n",
      "Epoch 139/400\n",
      "104179/104179 [==============================] - 11s 105us/sample - loss: 4.3294 - val_loss: 35.7108\n",
      "Epoch 140/400\n",
      "104179/104179 [==============================] - 11s 103us/sample - loss: 4.5568 - val_loss: 35.8719\n",
      "Epoch 141/400\n",
      "104179/104179 [==============================] - 14s 138us/sample - loss: 4.8508 - val_loss: 36.2442\n",
      "Epoch 142/400\n",
      "104179/104179 [==============================] - 10s 96us/sample - loss: 4.4716 - val_loss: 35.9405\n",
      "Epoch 143/400\n",
      "104179/104179 [==============================] - 12s 114us/sample - loss: 4.6455 - val_loss: 38.7205\n",
      "Epoch 144/400\n",
      "104179/104179 [==============================] - 10s 97us/sample - loss: 4.5092 - val_loss: 36.8892\n",
      "Epoch 145/400\n"
     ]
    },
    {
     "name": "stdout",
     "output_type": "stream",
     "text": [
      "104179/104179 [==============================] - 10s 93us/sample - loss: 4.5048 - val_loss: 35.1748\n",
      "Epoch 146/400\n",
      "104179/104179 [==============================] - 10s 97us/sample - loss: 4.3998 - val_loss: 35.8677\n",
      "Epoch 147/400\n",
      "104179/104179 [==============================] - 10s 95us/sample - loss: 4.3116 - val_loss: 35.3116\n",
      "Epoch 148/400\n",
      "104179/104179 [==============================] - 10s 95us/sample - loss: 4.4369 - val_loss: 36.0205\n",
      "Epoch 149/400\n",
      "104179/104179 [==============================] - 10s 94us/sample - loss: 4.2973 - val_loss: 35.7842\n",
      "Epoch 150/400\n",
      "104179/104179 [==============================] - 10s 98us/sample - loss: 4.2499 - val_loss: 35.9293\n",
      "Epoch 151/400\n",
      "104179/104179 [==============================] - 10s 97us/sample - loss: 4.3068 - val_loss: 36.1284\n",
      "Epoch 152/400\n",
      "104179/104179 [==============================] - 10s 95us/sample - loss: 4.3412 - val_loss: 37.1295\n",
      "Epoch 153/400\n",
      "104179/104179 [==============================] - 10s 95us/sample - loss: 4.2171 - val_loss: 38.3712\n",
      "Epoch 154/400\n",
      "104179/104179 [==============================] - 10s 96us/sample - loss: 4.1287 - val_loss: 34.4304\n",
      "Epoch 155/400\n",
      "104179/104179 [==============================] - 10s 95us/sample - loss: 4.3884 - val_loss: 35.9206\n",
      "Epoch 156/400\n",
      "104179/104179 [==============================] - 10s 96us/sample - loss: 4.1837 - val_loss: 35.2128\n",
      "Epoch 157/400\n",
      "104179/104179 [==============================] - 10s 100us/sample - loss: 4.0524 - val_loss: 35.4328\n",
      "Epoch 158/400\n",
      "104179/104179 [==============================] - 10s 100us/sample - loss: 4.0899 - val_loss: 36.0201\n",
      "Epoch 159/400\n",
      "104179/104179 [==============================] - 10s 99us/sample - loss: 4.2458 - val_loss: 34.2186\n",
      "Epoch 160/400\n",
      "104179/104179 [==============================] - 10s 100us/sample - loss: 4.1451 - val_loss: 37.8046\n",
      "Epoch 161/400\n",
      "104179/104179 [==============================] - 13s 122us/sample - loss: 4.0812 - val_loss: 34.6239\n",
      "Epoch 162/400\n",
      "104179/104179 [==============================] - 12s 115us/sample - loss: 3.9837 - val_loss: 36.6841\n",
      "Epoch 163/400\n",
      "104179/104179 [==============================] - 12s 112us/sample - loss: 4.0174 - val_loss: 34.8127\n",
      "Epoch 164/400\n",
      "104179/104179 [==============================] - 10s 96us/sample - loss: 4.1408 - val_loss: 36.2526\n",
      "Epoch 165/400\n",
      "104179/104179 [==============================] - 11s 103us/sample - loss: 4.0142 - val_loss: 34.4791\n",
      "Epoch 166/400\n",
      "104179/104179 [==============================] - 11s 108us/sample - loss: 3.9085 - val_loss: 35.4138\n",
      "Epoch 167/400\n",
      "104179/104179 [==============================] - 9s 91us/sample - loss: 3.9560 - val_loss: 35.6851\n",
      "Epoch 168/400\n",
      "104179/104179 [==============================] - 9s 90us/sample - loss: 4.0450 - val_loss: 36.7935\n",
      "Epoch 169/400\n",
      "104179/104179 [==============================] - 10s 93us/sample - loss: 3.8210 - val_loss: 35.4206\n",
      "Epoch 170/400\n",
      "104179/104179 [==============================] - 9s 90us/sample - loss: 3.9040 - val_loss: 37.1120\n",
      "Epoch 171/400\n",
      "104179/104179 [==============================] - 9s 90us/sample - loss: 3.9390 - val_loss: 37.7248\n",
      "Epoch 172/400\n",
      "104179/104179 [==============================] - 10s 92us/sample - loss: 3.9922 - val_loss: 35.3047\n",
      "Epoch 173/400\n",
      "104179/104179 [==============================] - 9s 90us/sample - loss: 3.6199 - val_loss: 35.1851\n",
      "Epoch 174/400\n",
      "104179/104179 [==============================] - 9s 90us/sample - loss: 3.9938 - val_loss: 35.3344\n",
      "Epoch 175/400\n",
      "104179/104179 [==============================] - 9s 91us/sample - loss: 3.8761 - val_loss: 34.9963\n",
      "Epoch 176/400\n",
      "104179/104179 [==============================] - 10s 92us/sample - loss: 3.8004 - val_loss: 35.1144\n",
      "Epoch 177/400\n",
      "104179/104179 [==============================] - 10s 91us/sample - loss: 3.6867 - val_loss: 34.7463\n",
      "Epoch 178/400\n",
      "104179/104179 [==============================] - 9s 91us/sample - loss: 3.7840 - val_loss: 35.4553\n",
      "Epoch 179/400\n",
      "104179/104179 [==============================] - 10s 93us/sample - loss: 3.7833 - val_loss: 37.7245\n",
      "Epoch 180/400\n",
      "104179/104179 [==============================] - 9s 91us/sample - loss: 3.8684 - val_loss: 34.8968\n",
      "Epoch 181/400\n",
      "104179/104179 [==============================] - 9s 91us/sample - loss: 3.5787 - val_loss: 36.0315\n",
      "Epoch 182/400\n",
      "104179/104179 [==============================] - 11s 104us/sample - loss: 3.7446 - val_loss: 34.7701\n",
      "Epoch 183/400\n",
      "104179/104179 [==============================] - 10s 93us/sample - loss: 3.7634 - val_loss: 35.6300\n",
      "Epoch 184/400\n",
      "104179/104179 [==============================] - 9s 89us/sample - loss: 3.7075 - val_loss: 35.5515\n",
      "Epoch 185/400\n",
      "104179/104179 [==============================] - 9s 90us/sample - loss: 3.6743 - val_loss: 35.8491\n",
      "Epoch 186/400\n",
      "104179/104179 [==============================] - 9s 89us/sample - loss: 3.4430 - val_loss: 34.7597\n",
      "Epoch 187/400\n",
      "104179/104179 [==============================] - 11s 105us/sample - loss: 3.7409 - val_loss: 35.4996\n",
      "Epoch 188/400\n",
      "104179/104179 [==============================] - 10s 95us/sample - loss: 3.6537 - val_loss: 35.6629\n",
      "Epoch 189/400\n",
      "104179/104179 [==============================] - 11s 101us/sample - loss: 3.5248 - val_loss: 36.5821\n",
      "Epoch 190/400\n",
      "104179/104179 [==============================] - 10s 95us/sample - loss: 3.7453 - val_loss: 37.1968\n",
      "Epoch 191/400\n",
      "104179/104179 [==============================] - 11s 107us/sample - loss: 3.5582 - val_loss: 34.5892\n",
      "Epoch 192/400\n",
      "104179/104179 [==============================] - 11s 107us/sample - loss: 3.4159 - val_loss: 34.8429\n",
      "Epoch 193/400\n",
      "104179/104179 [==============================] - 10s 93us/sample - loss: 3.6588 - val_loss: 35.5502\n",
      "Epoch 194/400\n",
      "104179/104179 [==============================] - 12s 115us/sample - loss: 3.5201 - val_loss: 35.4994\n",
      "Epoch 195/400\n",
      "104179/104179 [==============================] - 10s 97us/sample - loss: 3.4293 - val_loss: 35.5266\n",
      "Epoch 196/400\n",
      "104179/104179 [==============================] - 10s 94us/sample - loss: 3.4693 - val_loss: 34.7471\n",
      "Epoch 197/400\n",
      "104179/104179 [==============================] - 10s 101us/sample - loss: 3.4735 - val_loss: 34.9578\n",
      "Epoch 198/400\n",
      "104179/104179 [==============================] - 15s 148us/sample - loss: 3.4624 - val_loss: 35.2796\n",
      "Epoch 199/400\n",
      "104179/104179 [==============================] - 12s 119us/sample - loss: 3.4931 - val_loss: 36.2649\n",
      "Epoch 200/400\n",
      "104179/104179 [==============================] - 14s 133us/sample - loss: 3.3441 - val_loss: 34.8587\n",
      "Epoch 201/400\n",
      "104179/104179 [==============================] - 17s 159us/sample - loss: 3.5018 - val_loss: 34.9178\n",
      "Epoch 202/400\n",
      "104179/104179 [==============================] - 12s 116us/sample - loss: 3.3290 - val_loss: 35.2930\n",
      "Epoch 203/400\n",
      "104179/104179 [==============================] - 11s 108us/sample - loss: 3.3209 - val_loss: 37.2232\n",
      "Epoch 204/400\n",
      "104179/104179 [==============================] - 10s 98us/sample - loss: 3.4322 - val_loss: 35.8489\n",
      "Epoch 205/400\n",
      "104179/104179 [==============================] - 10s 96us/sample - loss: 3.3542 - val_loss: 34.9143\n",
      "Epoch 206/400\n",
      "104179/104179 [==============================] - 10s 96us/sample - loss: 3.3514 - val_loss: 35.1877\n",
      "Epoch 207/400\n",
      "104179/104179 [==============================] - 12s 114us/sample - loss: 3.4002 - val_loss: 34.4642\n",
      "Epoch 208/400\n",
      "104179/104179 [==============================] - 10s 92us/sample - loss: 3.2852 - val_loss: 35.2923\n",
      "Epoch 209/400\n",
      "104179/104179 [==============================] - 10s 95us/sample - loss: 3.2695 - val_loss: 35.0169\n",
      "Epoch 210/400\n",
      "104179/104179 [==============================] - 11s 104us/sample - loss: 3.4764 - val_loss: 36.2875\n",
      "Epoch 211/400\n",
      "104179/104179 [==============================] - 10s 92us/sample - loss: 3.0949 - val_loss: 34.9307\n",
      "Epoch 212/400\n",
      "104179/104179 [==============================] - 9s 89us/sample - loss: 3.3231 - val_loss: 34.6867\n",
      "Epoch 213/400\n",
      "104179/104179 [==============================] - 10s 92us/sample - loss: 3.2280 - val_loss: 35.2547\n",
      "Epoch 214/400\n",
      "104179/104179 [==============================] - 9s 89us/sample - loss: 3.2401 - val_loss: 34.6398\n",
      "Epoch 215/400\n",
      "104179/104179 [==============================] - 10s 94us/sample - loss: 3.0732 - val_loss: 34.5270\n",
      "Epoch 216/400\n",
      "104179/104179 [==============================] - 9s 89us/sample - loss: 3.4304 - val_loss: 35.3050\n"
     ]
    },
    {
     "name": "stdout",
     "output_type": "stream",
     "text": [
      "Epoch 217/400\n",
      "104179/104179 [==============================] - 9s 87us/sample - loss: 3.1015 - val_loss: 34.8523\n",
      "Epoch 218/400\n",
      "104179/104179 [==============================] - 9s 89us/sample - loss: 3.0943 - val_loss: 35.3566\n",
      "Epoch 219/400\n",
      "104179/104179 [==============================] - 9s 89us/sample - loss: 3.1972 - val_loss: 34.8867\n",
      "Epoch 220/400\n",
      "104179/104179 [==============================] - 10s 93us/sample - loss: 3.1281 - val_loss: 34.3048\n",
      "Epoch 221/400\n",
      "104179/104179 [==============================] - 9s 88us/sample - loss: 3.0456 - val_loss: 34.3787\n",
      "Epoch 222/400\n",
      "104179/104179 [==============================] - 10s 98us/sample - loss: 3.1609 - val_loss: 35.1376\n",
      "Epoch 223/400\n",
      "104179/104179 [==============================] - 10s 95us/sample - loss: 3.0602 - val_loss: 34.9588\n",
      "Epoch 224/400\n",
      "104179/104179 [==============================] - 10s 92us/sample - loss: 3.1828 - val_loss: 35.7853\n",
      "Epoch 225/400\n",
      "104179/104179 [==============================] - 9s 90us/sample - loss: 2.9798 - val_loss: 33.9851\n",
      "Epoch 226/400\n",
      "104179/104179 [==============================] - 10s 96us/sample - loss: 3.0470 - val_loss: 34.3507\n",
      "Epoch 227/400\n",
      "104179/104179 [==============================] - 11s 103us/sample - loss: 2.9775 - val_loss: 34.4754\n",
      "Epoch 228/400\n",
      "104179/104179 [==============================] - 9s 91us/sample - loss: 3.2228 - val_loss: 34.3082\n",
      "Epoch 229/400\n",
      "104179/104179 [==============================] - 9s 91us/sample - loss: 2.9288 - val_loss: 34.0228\n",
      "Epoch 230/400\n",
      "104179/104179 [==============================] - 10s 92us/sample - loss: 3.0956 - val_loss: 33.8631\n",
      "Epoch 231/400\n",
      "104179/104179 [==============================] - 9s 89us/sample - loss: 3.0030 - val_loss: 34.1391\n",
      "Epoch 232/400\n",
      "104179/104179 [==============================] - 9s 90us/sample - loss: 3.0296 - val_loss: 34.1781\n",
      "Epoch 233/400\n",
      "104179/104179 [==============================] - 9s 88us/sample - loss: 2.9725 - val_loss: 34.6068\n",
      "Epoch 234/400\n",
      "104179/104179 [==============================] - 9s 90us/sample - loss: 3.0953 - val_loss: 34.0007\n",
      "Epoch 235/400\n",
      "104179/104179 [==============================] - 10s 99us/sample - loss: 2.8951 - val_loss: 34.1448\n",
      "Epoch 236/400\n",
      "104179/104179 [==============================] - 9s 90us/sample - loss: 2.9959 - val_loss: 34.1560\n",
      "Epoch 237/400\n",
      "104179/104179 [==============================] - 9s 90us/sample - loss: 2.9428 - val_loss: 33.9822\n",
      "Epoch 238/400\n",
      "104179/104179 [==============================] - 9s 89us/sample - loss: 2.8197 - val_loss: 34.2197\n",
      "Epoch 239/400\n",
      "104179/104179 [==============================] - 10s 95us/sample - loss: 3.0518 - val_loss: 34.3053\n",
      "Epoch 240/400\n",
      "104179/104179 [==============================] - 9s 90us/sample - loss: 2.7833 - val_loss: 34.6161\n",
      "Epoch 241/400\n",
      "104179/104179 [==============================] - 9s 88us/sample - loss: 2.9747 - val_loss: 34.0994\n",
      "Epoch 242/400\n",
      "104179/104179 [==============================] - 9s 88us/sample - loss: 2.9548 - val_loss: 35.1686\n",
      "Epoch 243/400\n",
      "104179/104179 [==============================] - 9s 87us/sample - loss: 2.8042 - val_loss: 34.5694\n",
      "Epoch 244/400\n",
      "104179/104179 [==============================] - 10s 94us/sample - loss: 2.8575 - val_loss: 35.3439\n",
      "Epoch 245/400\n",
      "104179/104179 [==============================] - 9s 90us/sample - loss: 2.9346 - val_loss: 34.3018\n",
      "Epoch 246/400\n",
      "104179/104179 [==============================] - 9s 89us/sample - loss: 2.7589 - val_loss: 33.9222\n",
      "Epoch 247/400\n",
      "104179/104179 [==============================] - 9s 89us/sample - loss: 2.8631 - val_loss: 35.1017\n",
      "Epoch 248/400\n",
      "104179/104179 [==============================] - 9s 88us/sample - loss: 2.7809 - val_loss: 34.5406\n",
      "Epoch 249/400\n",
      "104179/104179 [==============================] - 9s 88us/sample - loss: 2.9239 - val_loss: 34.6400\n",
      "Epoch 250/400\n",
      "104179/104179 [==============================] - 9s 91us/sample - loss: 2.7645 - val_loss: 34.6168\n",
      "Epoch 251/400\n",
      "104179/104179 [==============================] - 10s 93us/sample - loss: 2.8088 - val_loss: 34.7775\n",
      "Epoch 252/400\n",
      "104179/104179 [==============================] - 10s 93us/sample - loss: 2.8554 - val_loss: 33.8128\n",
      "Epoch 253/400\n",
      "104179/104179 [==============================] - 10s 93us/sample - loss: 2.8731 - val_loss: 34.7059\n",
      "Epoch 254/400\n",
      "104179/104179 [==============================] - 9s 91us/sample - loss: 2.6256 - val_loss: 35.4548\n",
      "Epoch 255/400\n",
      "104179/104179 [==============================] - 9s 90us/sample - loss: 2.9296 - val_loss: 35.0573\n",
      "Epoch 256/400\n",
      "104179/104179 [==============================] - 9s 89us/sample - loss: 2.7164 - val_loss: 34.5550\n",
      "Epoch 257/400\n",
      "104179/104179 [==============================] - 9s 88us/sample - loss: 2.6813 - val_loss: 34.0265\n",
      "Epoch 258/400\n",
      "104179/104179 [==============================] - 9s 90us/sample - loss: 2.8273 - val_loss: 34.9081\n",
      "Epoch 259/400\n",
      "104179/104179 [==============================] - 9s 87us/sample - loss: 2.7741 - val_loss: 34.3867\n",
      "Epoch 260/400\n",
      "104179/104179 [==============================] - 9s 88us/sample - loss: 2.6386 - val_loss: 34.2364\n",
      "Epoch 261/400\n",
      "104179/104179 [==============================] - 9s 87us/sample - loss: 2.7344 - val_loss: 34.4614\n",
      "Epoch 262/400\n",
      "104179/104179 [==============================] - 9s 88us/sample - loss: 2.7312 - val_loss: 34.3608\n",
      "Epoch 263/400\n",
      "104179/104179 [==============================] - 9s 89us/sample - loss: 2.6333 - val_loss: 34.2908\n",
      "Epoch 264/400\n",
      "104179/104179 [==============================] - 9s 88us/sample - loss: 2.6321 - val_loss: 34.4087\n",
      "Epoch 265/400\n",
      "104179/104179 [==============================] - 9s 90us/sample - loss: 2.8027 - val_loss: 34.0553\n",
      "Epoch 266/400\n",
      "104179/104179 [==============================] - 10s 98us/sample - loss: 2.6808 - val_loss: 35.0657\n",
      "Epoch 267/400\n",
      "104179/104179 [==============================] - 10s 92us/sample - loss: 2.5593 - val_loss: 34.0788\n",
      "Epoch 268/400\n",
      "104179/104179 [==============================] - 9s 90us/sample - loss: 2.7471 - val_loss: 34.4529\n",
      "Epoch 269/400\n",
      "104179/104179 [==============================] - 11s 101us/sample - loss: 2.5745 - val_loss: 33.6025\n",
      "Epoch 270/400\n",
      "104179/104179 [==============================] - 10s 91us/sample - loss: 2.7381 - val_loss: 34.1754\n",
      "Epoch 271/400\n",
      "104179/104179 [==============================] - 11s 104us/sample - loss: 2.5172 - val_loss: 34.6678\n",
      "Epoch 272/400\n",
      "104179/104179 [==============================] - 10s 94us/sample - loss: 2.6116 - val_loss: 33.8003\n",
      "Epoch 273/400\n",
      "104179/104179 [==============================] - 9s 90us/sample - loss: 2.5714 - val_loss: 33.8624\n",
      "Epoch 274/400\n",
      "104179/104179 [==============================] - 9s 90us/sample - loss: 2.6991 - val_loss: 34.5306\n",
      "Epoch 275/400\n",
      "104179/104179 [==============================] - 12s 111us/sample - loss: 2.5146 - val_loss: 33.3206\n",
      "Epoch 276/400\n",
      "104179/104179 [==============================] - 14s 131us/sample - loss: 2.5405 - val_loss: 33.9626\n",
      "Epoch 277/400\n",
      "104179/104179 [==============================] - 11s 102us/sample - loss: 2.5279 - val_loss: 34.0501\n",
      "Epoch 278/400\n",
      "104179/104179 [==============================] - 11s 105us/sample - loss: 2.7137 - val_loss: 34.1244\n",
      "Epoch 279/400\n",
      "104179/104179 [==============================] - 12s 113us/sample - loss: 2.4997 - val_loss: 34.3830\n",
      "Epoch 280/400\n",
      "104179/104179 [==============================] - 10s 98us/sample - loss: 2.5778 - val_loss: 33.4000\n",
      "Epoch 281/400\n",
      "104179/104179 [==============================] - 10s 95us/sample - loss: 2.5262 - val_loss: 34.0052\n",
      "Epoch 282/400\n",
      "104179/104179 [==============================] - 10s 96us/sample - loss: 2.4779 - val_loss: 33.7132\n",
      "Epoch 283/400\n",
      "104179/104179 [==============================] - 10s 95us/sample - loss: 2.6589 - val_loss: 33.6349\n",
      "Epoch 284/400\n",
      "104179/104179 [==============================] - 10s 97us/sample - loss: 2.5044 - val_loss: 35.4267\n",
      "Epoch 285/400\n",
      "104179/104179 [==============================] - 10s 92us/sample - loss: 2.4829 - val_loss: 33.5264\n",
      "Epoch 286/400\n",
      "104179/104179 [==============================] - 10s 95us/sample - loss: 2.4584 - val_loss: 34.8004\n",
      "Epoch 287/400\n",
      "104179/104179 [==============================] - 10s 93us/sample - loss: 2.5791 - val_loss: 34.9055\n",
      "Epoch 288/400\n",
      "104179/104179 [==============================] - 10s 93us/sample - loss: 2.4168 - val_loss: 33.6022\n",
      "Epoch 289/400\n",
      "104179/104179 [==============================] - 10s 96us/sample - loss: 2.4960 - val_loss: 33.6862\n",
      "Epoch 290/400\n",
      "104179/104179 [==============================] - 12s 112us/sample - loss: 2.5039 - val_loss: 32.6003\n",
      "Epoch 291/400\n",
      "104179/104179 [==============================] - 10s 93us/sample - loss: 2.5428 - val_loss: 33.3212\n",
      "Epoch 292/400\n",
      "104179/104179 [==============================] - 10s 93us/sample - loss: 2.5320 - val_loss: 33.4767\n",
      "Epoch 293/400\n",
      "104179/104179 [==============================] - 10s 94us/sample - loss: 2.4207 - val_loss: 33.5086\n",
      "Epoch 294/400\n",
      "104179/104179 [==============================] - 10s 94us/sample - loss: 2.2365 - val_loss: 33.1344\n",
      "Epoch 295/400\n",
      "104179/104179 [==============================] - 10s 98us/sample - loss: 2.4263 - val_loss: 33.8413\n",
      "Epoch 296/400\n",
      "104179/104179 [==============================] - 10s 95us/sample - loss: 2.5269 - val_loss: 34.3551\n",
      "Epoch 297/400\n",
      "104179/104179 [==============================] - 10s 95us/sample - loss: 2.5011 - val_loss: 33.5608\n",
      "Epoch 298/400\n",
      "104179/104179 [==============================] - 10s 99us/sample - loss: 2.3724 - val_loss: 33.5430\n",
      "Epoch 299/400\n",
      "104179/104179 [==============================] - 10s 95us/sample - loss: 2.4162 - val_loss: 33.8438\n",
      "Epoch 300/400\n",
      "104179/104179 [==============================] - 10s 93us/sample - loss: 2.4517 - val_loss: 32.4548\n",
      "Epoch 301/400\n",
      "104179/104179 [==============================] - 10s 95us/sample - loss: 2.2956 - val_loss: 33.4512\n",
      "Epoch 302/400\n",
      "104179/104179 [==============================] - 10s 93us/sample - loss: 2.3807 - val_loss: 33.3995\n",
      "Epoch 303/400\n",
      "104179/104179 [==============================] - 10s 96us/sample - loss: 2.4789 - val_loss: 34.1628\n",
      "Epoch 304/400\n",
      "104179/104179 [==============================] - 10s 93us/sample - loss: 2.3936 - val_loss: 34.3815\n",
      "Epoch 305/400\n",
      "104179/104179 [==============================] - 10s 95us/sample - loss: 2.4405 - val_loss: 33.6690\n",
      "Epoch 306/400\n",
      "104179/104179 [==============================] - 11s 109us/sample - loss: 2.3220 - val_loss: 33.3098\n",
      "Epoch 307/400\n",
      "104179/104179 [==============================] - 10s 91us/sample - loss: 2.3743 - val_loss: 33.2726\n",
      "Epoch 308/400\n",
      "104179/104179 [==============================] - 10s 92us/sample - loss: 2.3147 - val_loss: 33.4416\n",
      "Epoch 309/400\n",
      "104179/104179 [==============================] - 10s 97us/sample - loss: 2.3676 - val_loss: 33.0745\n",
      "Epoch 310/400\n",
      "104179/104179 [==============================] - 9s 91us/sample - loss: 2.3694 - val_loss: 33.6990\n",
      "Epoch 311/400\n",
      "104179/104179 [==============================] - 10s 92us/sample - loss: 2.3039 - val_loss: 32.7647\n",
      "Epoch 312/400\n",
      "104179/104179 [==============================] - 9s 90us/sample - loss: 2.3425 - val_loss: 33.1828\n",
      "Epoch 313/400\n",
      "104179/104179 [==============================] - 10s 93us/sample - loss: 2.3127 - val_loss: 32.8473\n",
      "Epoch 314/400\n",
      "104179/104179 [==============================] - 10s 92us/sample - loss: 2.3629 - val_loss: 32.7597\n",
      "Epoch 315/400\n",
      "104179/104179 [==============================] - 10s 91us/sample - loss: 2.3179 - val_loss: 34.1054\n",
      "Epoch 316/400\n",
      "104179/104179 [==============================] - 9s 89us/sample - loss: 2.2566 - val_loss: 32.4380\n",
      "Epoch 317/400\n",
      "104179/104179 [==============================] - 10s 92us/sample - loss: 2.3100 - val_loss: 33.0709\n",
      "Epoch 318/400\n",
      "104179/104179 [==============================] - 10s 93us/sample - loss: 2.2592 - val_loss: 33.0191\n",
      "Epoch 319/400\n",
      "104179/104179 [==============================] - 10s 93us/sample - loss: 2.3600 - val_loss: 32.9292\n",
      "Epoch 320/400\n",
      "104179/104179 [==============================] - 10s 93us/sample - loss: 2.3291 - val_loss: 33.1754\n",
      "Epoch 321/400\n",
      "104179/104179 [==============================] - 10s 91us/sample - loss: 2.3036 - val_loss: 32.5805\n",
      "Epoch 322/400\n",
      "104179/104179 [==============================] - 10s 91us/sample - loss: 2.1997 - val_loss: 34.1988\n",
      "Epoch 323/400\n",
      "104179/104179 [==============================] - 10s 93us/sample - loss: 2.2274 - val_loss: 32.6401\n",
      "Epoch 324/400\n",
      "104179/104179 [==============================] - 10s 98us/sample - loss: 2.2673 - val_loss: 32.7040\n",
      "Epoch 325/400\n",
      "104179/104179 [==============================] - 10s 93us/sample - loss: 2.3013 - val_loss: 32.8595\n",
      "Epoch 326/400\n",
      "104179/104179 [==============================] - 10s 98us/sample - loss: 2.2005 - val_loss: 32.9660\n",
      "Epoch 327/400\n",
      "104179/104179 [==============================] - 10s 95us/sample - loss: 2.1560 - val_loss: 33.1505\n",
      "Epoch 328/400\n",
      "104179/104179 [==============================] - 10s 92us/sample - loss: 2.3166 - val_loss: 32.6149\n",
      "Epoch 329/400\n",
      "104179/104179 [==============================] - 10s 95us/sample - loss: 2.1689 - val_loss: 33.4353\n",
      "Epoch 330/400\n",
      "104179/104179 [==============================] - 10s 92us/sample - loss: 2.1409 - val_loss: 32.7029\n",
      "Epoch 331/400\n",
      "104179/104179 [==============================] - 10s 96us/sample - loss: 2.2148 - val_loss: 32.4795\n",
      "Epoch 332/400\n",
      "104179/104179 [==============================] - 10s 91us/sample - loss: 2.2848 - val_loss: 32.5858\n",
      "Epoch 333/400\n",
      "104179/104179 [==============================] - 10s 98us/sample - loss: 2.1403 - val_loss: 33.2890\n",
      "Epoch 334/400\n",
      "104179/104179 [==============================] - 10s 92us/sample - loss: 2.1288 - val_loss: 32.2317\n",
      "Epoch 335/400\n",
      "104179/104179 [==============================] - 10s 91us/sample - loss: 2.2394 - val_loss: 32.4166\n",
      "Epoch 336/400\n",
      "104179/104179 [==============================] - 10s 94us/sample - loss: 2.1280 - val_loss: 32.4318\n",
      "Epoch 337/400\n",
      "104179/104179 [==============================] - 10s 92us/sample - loss: 2.1410 - val_loss: 32.7190\n",
      "Epoch 338/400\n",
      "104179/104179 [==============================] - 10s 93us/sample - loss: 2.1289 - val_loss: 33.3051\n",
      "Epoch 339/400\n",
      "104179/104179 [==============================] - 10s 93us/sample - loss: 2.1556 - val_loss: 32.7315\n",
      "Epoch 340/400\n",
      "104179/104179 [==============================] - 10s 94us/sample - loss: 2.2883 - val_loss: 32.6407\n",
      "Epoch 341/400\n",
      "104179/104179 [==============================] - 9s 91us/sample - loss: 2.1165 - val_loss: 32.5808\n",
      "Epoch 342/400\n",
      "104179/104179 [==============================] - 10s 91us/sample - loss: 2.1243 - val_loss: 32.6765\n",
      "Epoch 343/400\n",
      "104179/104179 [==============================] - 9s 91us/sample - loss: 2.2503 - val_loss: 32.2528\n",
      "Epoch 344/400\n",
      "104179/104179 [==============================] - 10s 92us/sample - loss: 2.1709 - val_loss: 32.5104\n",
      "Epoch 345/400\n",
      "104179/104179 [==============================] - 10s 92us/sample - loss: 2.0671 - val_loss: 32.2617\n",
      "Epoch 346/400\n",
      "104179/104179 [==============================] - 10s 92us/sample - loss: 2.2139 - val_loss: 32.3179\n",
      "Epoch 347/400\n",
      "104179/104179 [==============================] - 9s 90us/sample - loss: 2.0987 - val_loss: 32.9086\n",
      "Epoch 348/400\n",
      "104179/104179 [==============================] - 10s 92us/sample - loss: 2.0116 - val_loss: 32.6743\n",
      "Epoch 349/400\n",
      "104179/104179 [==============================] - 10s 91us/sample - loss: 2.1521 - val_loss: 32.6668\n",
      "Epoch 350/400\n",
      "104179/104179 [==============================] - 9s 91us/sample - loss: 2.0996 - val_loss: 32.5796\n",
      "Epoch 351/400\n",
      "104179/104179 [==============================] - 9s 91us/sample - loss: 2.0539 - val_loss: 32.6537\n",
      "Epoch 352/400\n",
      "104179/104179 [==============================] - 10s 93us/sample - loss: 2.0830 - val_loss: 32.9052\n",
      "Epoch 353/400\n",
      "104179/104179 [==============================] - 9s 90us/sample - loss: 2.1009 - val_loss: 32.6236\n",
      "Epoch 354/400\n",
      "104179/104179 [==============================] - 9s 91us/sample - loss: 2.1223 - val_loss: 32.3174\n",
      "Epoch 355/400\n",
      "104179/104179 [==============================] - 9s 91us/sample - loss: 2.0588 - val_loss: 32.7764\n",
      "Epoch 356/400\n",
      "104179/104179 [==============================] - 9s 91us/sample - loss: 2.1186 - val_loss: 32.8717\n",
      "Epoch 357/400\n",
      "104179/104179 [==============================] - 10s 92us/sample - loss: 1.9832 - val_loss: 32.5775\n",
      "Epoch 358/400\n",
      "104179/104179 [==============================] - 10s 93us/sample - loss: 2.1178 - val_loss: 32.2185\n",
      "Epoch 359/400\n",
      "104179/104179 [==============================] - 10s 92us/sample - loss: 1.9511 - val_loss: 32.8134\n",
      "Epoch 360/400\n",
      "104179/104179 [==============================] - 11s 101us/sample - loss: 2.0786 - val_loss: 32.8878\n",
      "Epoch 361/400\n"
     ]
    },
    {
     "name": "stdout",
     "output_type": "stream",
     "text": [
      "104179/104179 [==============================] - 10s 92us/sample - loss: 2.0711 - val_loss: 32.4676\n",
      "Epoch 362/400\n",
      "104179/104179 [==============================] - 9s 90us/sample - loss: 2.0863 - val_loss: 32.6556\n",
      "Epoch 363/400\n",
      "104179/104179 [==============================] - 9s 90us/sample - loss: 1.9868 - val_loss: 32.5245\n",
      "Epoch 364/400\n",
      "104179/104179 [==============================] - 9s 90us/sample - loss: 2.0430 - val_loss: 32.7168\n",
      "Epoch 365/400\n",
      "104179/104179 [==============================] - 9s 91us/sample - loss: 2.0418 - val_loss: 32.8328\n",
      "Epoch 366/400\n",
      "104179/104179 [==============================] - 10s 96us/sample - loss: 2.0661 - val_loss: 32.7701\n",
      "Epoch 367/400\n",
      "104179/104179 [==============================] - 9s 89us/sample - loss: 2.0649 - val_loss: 31.9975\n",
      "Epoch 368/400\n",
      "104179/104179 [==============================] - 9s 91us/sample - loss: 1.9215 - val_loss: 32.5425\n",
      "Epoch 369/400\n",
      "104179/104179 [==============================] - 9s 89us/sample - loss: 2.1149 - val_loss: 32.5057\n",
      "Epoch 370/400\n",
      "104179/104179 [==============================] - 10s 95us/sample - loss: 1.9861 - val_loss: 32.5003\n",
      "Epoch 371/400\n",
      "104179/104179 [==============================] - 11s 103us/sample - loss: 2.0301 - val_loss: 32.5462\n",
      "Epoch 372/400\n",
      "104179/104179 [==============================] - 10s 97us/sample - loss: 1.9171 - val_loss: 32.7258\n",
      "Epoch 373/400\n",
      "104179/104179 [==============================] - 10s 96us/sample - loss: 1.9692 - val_loss: 32.4827\n",
      "Epoch 374/400\n",
      "104179/104179 [==============================] - 9s 90us/sample - loss: 2.0101 - val_loss: 33.0552\n",
      "Epoch 375/400\n",
      "104179/104179 [==============================] - 9s 91us/sample - loss: 1.9935 - val_loss: 32.8382\n",
      "Epoch 376/400\n",
      "104179/104179 [==============================] - 9s 89us/sample - loss: 1.9661 - val_loss: 33.1329\n",
      "Epoch 377/400\n",
      "104179/104179 [==============================] - 9s 90us/sample - loss: 1.9439 - val_loss: 32.6442\n",
      "Epoch 378/400\n",
      "104179/104179 [==============================] - 9s 89us/sample - loss: 1.9388 - val_loss: 32.6213\n",
      "Epoch 379/400\n",
      "104179/104179 [==============================] - 9s 88us/sample - loss: 1.9610 - val_loss: 32.7290\n",
      "Epoch 380/400\n",
      "104179/104179 [==============================] - 9s 88us/sample - loss: 1.9962 - val_loss: 34.1106\n",
      "Epoch 381/400\n",
      "104179/104179 [==============================] - 9s 89us/sample - loss: 1.9254 - val_loss: 32.7617\n",
      "Epoch 382/400\n",
      "104179/104179 [==============================] - 9s 89us/sample - loss: 2.0554 - val_loss: 32.7542\n",
      "Epoch 383/400\n",
      "104179/104179 [==============================] - 9s 89us/sample - loss: 1.8949 - val_loss: 32.3854\n",
      "Epoch 384/400\n",
      "104179/104179 [==============================] - 9s 91us/sample - loss: 1.9198 - val_loss: 32.3918\n",
      "Epoch 385/400\n",
      "104179/104179 [==============================] - 9s 90us/sample - loss: 1.8713 - val_loss: 33.1526\n",
      "Epoch 386/400\n",
      "104179/104179 [==============================] - 9s 89us/sample - loss: 1.9007 - val_loss: 32.7469\n",
      "Epoch 387/400\n",
      "104179/104179 [==============================] - 9s 89us/sample - loss: 1.9444 - val_loss: 32.5605\n",
      "Epoch 388/400\n",
      "104179/104179 [==============================] - 10s 95us/sample - loss: 2.0028 - val_loss: 32.7890\n",
      "Epoch 389/400\n",
      "104179/104179 [==============================] - 9s 89us/sample - loss: 1.8786 - val_loss: 32.7490\n",
      "Epoch 390/400\n",
      "104179/104179 [==============================] - 9s 91us/sample - loss: 1.8971 - val_loss: 32.6734\n",
      "Epoch 391/400\n",
      "104179/104179 [==============================] - 9s 89us/sample - loss: 1.8754 - val_loss: 32.3537\n",
      "Epoch 392/400\n",
      "104179/104179 [==============================] - 9s 89us/sample - loss: 1.9561 - val_loss: 32.6403\n",
      "Epoch 393/400\n",
      "104179/104179 [==============================] - 9s 89us/sample - loss: 1.9016 - val_loss: 32.0736\n",
      "Epoch 394/400\n",
      "104179/104179 [==============================] - 9s 89us/sample - loss: 1.9295 - val_loss: 32.5935\n",
      "Epoch 395/400\n",
      "104179/104179 [==============================] - 9s 91us/sample - loss: 1.8684 - val_loss: 32.0621\n",
      "Epoch 396/400\n",
      "104179/104179 [==============================] - 9s 90us/sample - loss: 1.8540 - val_loss: 31.9462\n",
      "Epoch 397/400\n",
      "104179/104179 [==============================] - 10s 91us/sample - loss: 1.9097 - val_loss: 31.8511\n",
      "Epoch 398/400\n",
      "104179/104179 [==============================] - 9s 89us/sample - loss: 1.8211 - val_loss: 32.5020\n",
      "Epoch 399/400\n",
      "104179/104179 [==============================] - 9s 91us/sample - loss: 1.9236 - val_loss: 31.7304\n",
      "Epoch 400/400\n",
      "104179/104179 [==============================] - 9s 89us/sample - loss: 1.9294 - val_loss: 31.6717\n"
     ]
    },
    {
     "data": {
      "text/plain": [
       "<tensorflow.python.keras.callbacks.History at 0x2cabcd107c8>"
      ]
     },
     "execution_count": 47,
     "metadata": {},
     "output_type": "execute_result"
    }
   ],
   "source": [
    "model.fit(x=X_train,y=y_train.values,\n",
    "          validation_data=(X_test,y_test.values),\n",
    "          batch_size=128,epochs=400)"
   ]
  },
  {
   "cell_type": "code",
   "execution_count": 138,
   "id": "6002aada",
   "metadata": {},
   "outputs": [],
   "source": [
    "losses = pd.DataFrame(model.history.history)"
   ]
  },
  {
   "cell_type": "code",
   "execution_count": 139,
   "id": "7f1d79fa",
   "metadata": {},
   "outputs": [
    {
     "data": {
      "text/plain": [
       "<AxesSubplot:>"
      ]
     },
     "execution_count": 139,
     "metadata": {},
     "output_type": "execute_result"
    },
    {
     "data": {
      "image/png": "[encoded data removed]",
      "text/plain": [
       "<Figure size 432x288 with 1 Axes>"
      ]
     },
     "metadata": {
      "needs_background": "light"
     },
     "output_type": "display_data"
    }
   ],
   "source": [
    "losses.plot()"
   ]
  },
  {
   "cell_type": "markdown",
   "id": "41a9667c",
   "metadata": {},
   "source": [
    "### Evaluation of the model"
   ]
  },
  {
   "cell_type": "code",
   "execution_count": 140,
   "id": "d4bc5cd9",
   "metadata": {},
   "outputs": [],
   "source": [
    "from sklearn.metrics import mean_squared_error,mean_absolute_error,explained_variance_score"
   ]
  },
  {
   "cell_type": "code",
   "execution_count": 141,
   "id": "0fc749fc",
   "metadata": {},
   "outputs": [
    {
     "data": {
      "text/plain": [
       "array([[0.16672222, 0.51370851, 0.51370851, ..., 0.84204722, 0.76086188,\n",
       "        0.76086188],\n",
       "       [0.16670139, 0.51515152, 0.51515152, ..., 0.69312425, 0.7430843 ,\n",
       "        0.7430843 ],\n",
       "       [0.16667083, 0.51515152, 0.51515152, ..., 0.46234706, 0.71522597,\n",
       "        0.71522597],\n",
       "       ...,\n",
       "       [0.166675  , 0.51659452, 0.51659452, ..., 0.50287782, 0.72031836,\n",
       "        0.72031836],\n",
       "       [0.16944444, 0.52308802, 0.52308802, ..., 0.60217129, 0.73320325,\n",
       "        0.73320325],\n",
       "       [0.166675  , 0.57647908, 0.57647908, ..., 0.78576598, 0.76275904,\n",
       "        0.76275904]])"
      ]
     },
     "execution_count": 141,
     "metadata": {},
     "output_type": "execute_result"
    }
   ],
   "source": [
    "X_test"
   ]
  },
  {
   "cell_type": "code",
   "execution_count": 142,
   "id": "824bd256",
   "metadata": {},
   "outputs": [
    {
     "name": "stdout",
     "output_type": "stream",
     "text": [
      "1047/1047 [==============================] - 1s 1ms/step\n"
     ]
    }
   ],
   "source": [
    "predictions = model.predict(X_test)"
   ]
  },
  {
   "cell_type": "code",
   "execution_count": 143,
   "id": "a504d2a0",
   "metadata": {},
   "outputs": [
    {
     "data": {
      "text/plain": [
       "21.886337553484832"
      ]
     },
     "execution_count": 143,
     "metadata": {},
     "output_type": "execute_result"
    }
   ],
   "source": [
    "mean_absolute_error(y_test,predictions)"
   ]
  },
  {
   "cell_type": "code",
   "execution_count": 144,
   "id": "0ac4d55b",
   "metadata": {},
   "outputs": [
    {
     "data": {
      "text/plain": [
       "37.06230123703159"
      ]
     },
     "execution_count": 144,
     "metadata": {},
     "output_type": "execute_result"
    }
   ],
   "source": [
    "np.sqrt(mean_squared_error(y_test,predictions))"
   ]
  },
  {
   "cell_type": "code",
   "execution_count": 145,
   "id": "c0441ef3",
   "metadata": {},
   "outputs": [
    {
     "data": {
      "text/plain": [
       "0.6519447008340052"
      ]
     },
     "execution_count": 145,
     "metadata": {},
     "output_type": "execute_result"
    }
   ],
   "source": [
    "explained_variance_score(y_test,predictions)"
   ]
  },
  {
   "cell_type": "code",
   "execution_count": 146,
   "id": "45db5018",
   "metadata": {},
   "outputs": [
    {
     "data": {
      "text/plain": [
       "49.03998996442748"
      ]
     },
     "execution_count": 146,
     "metadata": {},
     "output_type": "execute_result"
    }
   ],
   "source": [
    "df3['Shipping LT'].mean()"
   ]
  },
  {
   "cell_type": "code",
   "execution_count": 147,
   "id": "16faa8f1",
   "metadata": {},
   "outputs": [
    {
     "data": {
      "text/plain": [
       "25.0"
      ]
     },
     "execution_count": 147,
     "metadata": {},
     "output_type": "execute_result"
    }
   ],
   "source": [
    "df3['Shipping LT'].median()"
   ]
  },
  {
   "cell_type": "code",
   "execution_count": 148,
   "id": "41435da0",
   "metadata": {},
   "outputs": [
    {
     "data": {
      "text/plain": [
       "[<matplotlib.lines.Line2D at 0x1e30ee0e8c8>]"
      ]
     },
     "execution_count": 148,
     "metadata": {},
     "output_type": "execute_result"
    },
    {
     "data": {
      "image/png": "[encoded data removed]",
      "text/plain": [
       "<Figure size 432x288 with 1 Axes>"
      ]
     },
     "metadata": {
      "needs_background": "light"
     },
     "output_type": "display_data"
    }
   ],
   "source": [
    "# Our predictions\n",
    "plt.scatter(y_test,predictions)\n",
    "\n",
    "# Perfect predictions\n",
    "plt.plot(y_test,y_test,'r')"
   ]
  },
  {
   "cell_type": "code",
   "execution_count": 149,
   "id": "7deaa858",
   "metadata": {},
   "outputs": [],
   "source": [
    "errors = y_test.values.reshape(33481, 1) - predictions"
   ]
  },
  {
   "cell_type": "code",
   "execution_count": 150,
   "id": "9bd71204",
   "metadata": {},
   "outputs": [
    {
     "name": "stderr",
     "output_type": "stream",
     "text": [
      "C:\\Users\\te521690\\Anaconda3\\lib\\site-packages\\seaborn\\distributions.py:2619: FutureWarning: `distplot` is a deprecated function and will be removed in a future version. Please adapt your code to use either `displot` (a figure-level function with similar flexibility) or `histplot` (an axes-level function for histograms).\n",
      "  warnings.warn(msg, FutureWarning)\n"
     ]
    },
    {
     "data": {
      "text/plain": [
       "<AxesSubplot:ylabel='Density'>"
      ]
     },
     "execution_count": 150,
     "metadata": {},
     "output_type": "execute_result"
    },
    {
     "data": {
      "image/png": "[encoded data removed]",
      "text/plain": [
       "<Figure size 432x288 with 1 Axes>"
      ]
     },
     "metadata": {
      "needs_background": "light"
     },
     "output_type": "display_data"
    }
   ],
   "source": [
    "sns.distplot(errors)"
   ]
  },
  {
   "cell_type": "markdown",
   "id": "4d6b0ed5",
   "metadata": {},
   "source": [
    "### Predicting on backlog shipping LT"
   ]
  },
  {
   "cell_type": "code",
   "execution_count": 179,
   "id": "d3d26692",
   "metadata": {},
   "outputs": [],
   "source": [
    "log4 = log3.drop(['SO_Ord_date','Req_Date','Due_Date'], axis=1)"
   ]
  },
  {
   "cell_type": "code",
   "execution_count": 180,
   "id": "b9c6a3d4",
   "metadata": {},
   "outputs": [],
   "source": [
    "#X1 = log4\n",
    "# y1 = log4['Shipping LT']"
   ]
  },
  {
   "cell_type": "code",
   "execution_count": 181,
   "id": "aa1e7efe",
   "metadata": {},
   "outputs": [],
   "source": [
    "X1=pd.DataFrame(log4)"
   ]
  },
  {
   "cell_type": "code",
   "execution_count": 182,
   "id": "c8512389",
   "metadata": {},
   "outputs": [],
   "source": [
    "# X1= scaler.fit_transform(X1)"
   ]
  },
  {
   "cell_type": "code",
   "execution_count": 183,
   "id": "61fa2af5",
   "metadata": {},
   "outputs": [
    {
     "data": {
      "text/html": [
       "<div>\n",
       "<style scoped>\n",
       "    .dataframe tbody tr th:only-of-type {\n",
       "        vertical-align: middle;\n",
       "    }\n",
       "\n",
       "    .dataframe tbody tr th {\n",
       "        vertical-align: top;\n",
       "    }\n",
       "\n",
       "    .dataframe thead th {\n",
       "        text-align: right;\n",
       "    }\n",
       "</style>\n",
       "<table border=\"1\" class=\"dataframe\">\n",
       "  <thead>\n",
       "    <tr style=\"text-align: right;\">\n",
       "      <th></th>\n",
       "      <th>QtyInvoiced</th>\n",
       "      <th>Customer LT</th>\n",
       "      <th>TE_ship LT</th>\n",
       "      <th>ReqDt_Euc</th>\n",
       "      <th>Ord-dt_Euc</th>\n",
       "      <th>DueDt_Euc</th>\n",
       "      <th>Part_000144-000</th>\n",
       "      <th>Part_004049-000</th>\n",
       "      <th>Part_004354-000</th>\n",
       "      <th>Part_007356-000</th>\n",
       "      <th>...</th>\n",
       "      <th>OTTO-GPL_K93</th>\n",
       "      <th>OTTO-GPL_KB1</th>\n",
       "      <th>OTTO-GPL_Z63</th>\n",
       "      <th>OTTO-GPL_Z72</th>\n",
       "      <th>Part Type_ATO</th>\n",
       "      <th>Part Type_COMP</th>\n",
       "      <th>Part Type_MTO</th>\n",
       "      <th>Part Type_MTS</th>\n",
       "      <th>Part Type_MTSQS</th>\n",
       "      <th>Predicted_Shipping_LT</th>\n",
       "    </tr>\n",
       "  </thead>\n",
       "  <tbody>\n",
       "    <tr>\n",
       "      <th>0</th>\n",
       "      <td>2725.0</td>\n",
       "      <td>14</td>\n",
       "      <td>45</td>\n",
       "      <td>1687132800</td>\n",
       "      <td>1685923200</td>\n",
       "      <td>1689811200</td>\n",
       "      <td>0</td>\n",
       "      <td>0</td>\n",
       "      <td>0</td>\n",
       "      <td>0</td>\n",
       "      <td>...</td>\n",
       "      <td>0</td>\n",
       "      <td>0</td>\n",
       "      <td>0</td>\n",
       "      <td>0</td>\n",
       "      <td>0</td>\n",
       "      <td>0</td>\n",
       "      <td>0</td>\n",
       "      <td>1</td>\n",
       "      <td>0</td>\n",
       "      <td>8.801520e+10</td>\n",
       "    </tr>\n",
       "    <tr>\n",
       "      <th>1</th>\n",
       "      <td>250.0</td>\n",
       "      <td>3</td>\n",
       "      <td>51</td>\n",
       "      <td>1685664000</td>\n",
       "      <td>1685404800</td>\n",
       "      <td>1689811200</td>\n",
       "      <td>0</td>\n",
       "      <td>0</td>\n",
       "      <td>0</td>\n",
       "      <td>0</td>\n",
       "      <td>...</td>\n",
       "      <td>0</td>\n",
       "      <td>0</td>\n",
       "      <td>0</td>\n",
       "      <td>0</td>\n",
       "      <td>0</td>\n",
       "      <td>0</td>\n",
       "      <td>0</td>\n",
       "      <td>1</td>\n",
       "      <td>0</td>\n",
       "      <td>8.793967e+10</td>\n",
       "    </tr>\n",
       "    <tr>\n",
       "      <th>2</th>\n",
       "      <td>70000.0</td>\n",
       "      <td>17</td>\n",
       "      <td>49</td>\n",
       "      <td>1685923200</td>\n",
       "      <td>1684454400</td>\n",
       "      <td>1688688000</td>\n",
       "      <td>0</td>\n",
       "      <td>0</td>\n",
       "      <td>0</td>\n",
       "      <td>0</td>\n",
       "      <td>...</td>\n",
       "      <td>0</td>\n",
       "      <td>0</td>\n",
       "      <td>0</td>\n",
       "      <td>0</td>\n",
       "      <td>0</td>\n",
       "      <td>0</td>\n",
       "      <td>0</td>\n",
       "      <td>1</td>\n",
       "      <td>0</td>\n",
       "      <td>8.796433e+10</td>\n",
       "    </tr>\n",
       "    <tr>\n",
       "      <th>3</th>\n",
       "      <td>138000.0</td>\n",
       "      <td>17</td>\n",
       "      <td>49</td>\n",
       "      <td>1685923200</td>\n",
       "      <td>1684454400</td>\n",
       "      <td>1688688000</td>\n",
       "      <td>0</td>\n",
       "      <td>0</td>\n",
       "      <td>0</td>\n",
       "      <td>0</td>\n",
       "      <td>...</td>\n",
       "      <td>0</td>\n",
       "      <td>0</td>\n",
       "      <td>0</td>\n",
       "      <td>0</td>\n",
       "      <td>0</td>\n",
       "      <td>0</td>\n",
       "      <td>0</td>\n",
       "      <td>1</td>\n",
       "      <td>0</td>\n",
       "      <td>8.796670e+10</td>\n",
       "    </tr>\n",
       "    <tr>\n",
       "      <th>4</th>\n",
       "      <td>25.0</td>\n",
       "      <td>49</td>\n",
       "      <td>49</td>\n",
       "      <td>1687824000</td>\n",
       "      <td>1683590400</td>\n",
       "      <td>1687824000</td>\n",
       "      <td>0</td>\n",
       "      <td>0</td>\n",
       "      <td>0</td>\n",
       "      <td>0</td>\n",
       "      <td>...</td>\n",
       "      <td>0</td>\n",
       "      <td>0</td>\n",
       "      <td>0</td>\n",
       "      <td>0</td>\n",
       "      <td>0</td>\n",
       "      <td>0</td>\n",
       "      <td>0</td>\n",
       "      <td>1</td>\n",
       "      <td>0</td>\n",
       "      <td>8.808880e+10</td>\n",
       "    </tr>\n",
       "  </tbody>\n",
       "</table>\n",
       "<p>5 rows × 2228 columns</p>\n",
       "</div>"
      ],
      "text/plain": [
       "   QtyInvoiced  Customer LT  TE_ship LT   ReqDt_Euc  Ord-dt_Euc   DueDt_Euc  \\\n",
       "0       2725.0           14          45  1687132800  1685923200  1689811200   \n",
       "1        250.0            3          51  1685664000  1685404800  1689811200   \n",
       "2      70000.0           17          49  1685923200  1684454400  1688688000   \n",
       "3     138000.0           17          49  1685923200  1684454400  1688688000   \n",
       "4         25.0           49          49  1687824000  1683590400  1687824000   \n",
       "\n",
       "   Part_000144-000  Part_004049-000  Part_004354-000  Part_007356-000  ...  \\\n",
       "0                0                0                0                0  ...   \n",
       "1                0                0                0                0  ...   \n",
       "2                0                0                0                0  ...   \n",
       "3                0                0                0                0  ...   \n",
       "4                0                0                0                0  ...   \n",
       "\n",
       "   OTTO-GPL_K93  OTTO-GPL_KB1  OTTO-GPL_Z63  OTTO-GPL_Z72  Part Type_ATO  \\\n",
       "0             0             0             0             0              0   \n",
       "1             0             0             0             0              0   \n",
       "2             0             0             0             0              0   \n",
       "3             0             0             0             0              0   \n",
       "4             0             0             0             0              0   \n",
       "\n",
       "   Part Type_COMP  Part Type_MTO  Part Type_MTS  Part Type_MTSQS  \\\n",
       "0               0              0              1                0   \n",
       "1               0              0              1                0   \n",
       "2               0              0              1                0   \n",
       "3               0              0              1                0   \n",
       "4               0              0              1                0   \n",
       "\n",
       "   Predicted_Shipping_LT  \n",
       "0           8.801520e+10  \n",
       "1           8.793967e+10  \n",
       "2           8.796433e+10  \n",
       "3           8.796670e+10  \n",
       "4           8.808880e+10  \n",
       "\n",
       "[5 rows x 2228 columns]"
      ]
     },
     "execution_count": 183,
     "metadata": {},
     "output_type": "execute_result"
    }
   ],
   "source": [
    "X1.head()"
   ]
  },
  {
   "cell_type": "code",
   "execution_count": 168,
   "id": "1bac4ee6",
   "metadata": {},
   "outputs": [
    {
     "data": {
      "text/plain": [
       "(8090, 2227)"
      ]
     },
     "execution_count": 168,
     "metadata": {},
     "output_type": "execute_result"
    }
   ],
   "source": [
    "X1.shape"
   ]
  },
  {
   "cell_type": "code",
   "execution_count": 169,
   "id": "ccac9654",
   "metadata": {},
   "outputs": [
    {
     "name": "stdout",
     "output_type": "stream",
     "text": [
      "Model: \"sequential\"\n",
      "_________________________________________________________________\n",
      " Layer (type)                Output Shape              Param #   \n",
      "=================================================================\n",
      " dense (Dense)               (None, 100)               222800    \n",
      "                                                                 \n",
      " dense_1 (Dense)             (None, 75)                7575      \n",
      "                                                                 \n",
      " dense_2 (Dense)             (None, 50)                3800      \n",
      "                                                                 \n",
      " dense_3 (Dense)             (None, 50)                2550      \n",
      "                                                                 \n",
      " dense_4 (Dense)             (None, 25)                1275      \n",
      "                                                                 \n",
      " dense_5 (Dense)             (None, 19)                494       \n",
      "                                                                 \n",
      " dense_6 (Dense)             (None, 1)                 20        \n",
      "                                                                 \n",
      "=================================================================\n",
      "Total params: 238,514\n",
      "Trainable params: 238,514\n",
      "Non-trainable params: 0\n",
      "_________________________________________________________________\n"
     ]
    }
   ],
   "source": [
    "model.summary()"
   ]
  },
  {
   "cell_type": "code",
   "execution_count": 170,
   "id": "f5d15ef2",
   "metadata": {
    "scrolled": true
   },
   "outputs": [
    {
     "name": "stdout",
     "output_type": "stream",
     "text": [
      "253/253 [==============================] - 0s 1ms/step\n"
     ]
    }
   ],
   "source": [
    "predictions_X1=model.predict(X1)"
   ]
  },
  {
   "cell_type": "code",
   "execution_count": 171,
   "id": "5cc96eb2",
   "metadata": {},
   "outputs": [],
   "source": [
    "log3['Predicted_Shipping_LT'] = predictions_X1"
   ]
  },
  {
   "cell_type": "code",
   "execution_count": 172,
   "id": "0241f870",
   "metadata": {},
   "outputs": [
    {
     "data": {
      "text/html": [
       "<div>\n",
       "<style scoped>\n",
       "    .dataframe tbody tr th:only-of-type {\n",
       "        vertical-align: middle;\n",
       "    }\n",
       "\n",
       "    .dataframe tbody tr th {\n",
       "        vertical-align: top;\n",
       "    }\n",
       "\n",
       "    .dataframe thead th {\n",
       "        text-align: right;\n",
       "    }\n",
       "</style>\n",
       "<table border=\"1\" class=\"dataframe\">\n",
       "  <thead>\n",
       "    <tr style=\"text-align: right;\">\n",
       "      <th></th>\n",
       "      <th>QtyInvoiced</th>\n",
       "      <th>SO_Ord_date</th>\n",
       "      <th>Req_Date</th>\n",
       "      <th>Due_Date</th>\n",
       "      <th>Customer LT</th>\n",
       "      <th>TE_ship LT</th>\n",
       "      <th>ReqDt_Euc</th>\n",
       "      <th>Ord-dt_Euc</th>\n",
       "      <th>DueDt_Euc</th>\n",
       "      <th>Part_000144-000</th>\n",
       "      <th>...</th>\n",
       "      <th>OTTO-GPL_K93</th>\n",
       "      <th>OTTO-GPL_KB1</th>\n",
       "      <th>OTTO-GPL_Z63</th>\n",
       "      <th>OTTO-GPL_Z72</th>\n",
       "      <th>Part Type_ATO</th>\n",
       "      <th>Part Type_COMP</th>\n",
       "      <th>Part Type_MTO</th>\n",
       "      <th>Part Type_MTS</th>\n",
       "      <th>Part Type_MTSQS</th>\n",
       "      <th>Predicted_Shipping_LT</th>\n",
       "    </tr>\n",
       "  </thead>\n",
       "  <tbody>\n",
       "    <tr>\n",
       "      <th>0</th>\n",
       "      <td>2725.0</td>\n",
       "      <td>2023-06-05</td>\n",
       "      <td>2023-06-19</td>\n",
       "      <td>2023-07-20</td>\n",
       "      <td>14</td>\n",
       "      <td>45</td>\n",
       "      <td>1687132800</td>\n",
       "      <td>1685923200</td>\n",
       "      <td>1689811200</td>\n",
       "      <td>0</td>\n",
       "      <td>...</td>\n",
       "      <td>0</td>\n",
       "      <td>0</td>\n",
       "      <td>0</td>\n",
       "      <td>0</td>\n",
       "      <td>0</td>\n",
       "      <td>0</td>\n",
       "      <td>0</td>\n",
       "      <td>1</td>\n",
       "      <td>0</td>\n",
       "      <td>8.801520e+10</td>\n",
       "    </tr>\n",
       "    <tr>\n",
       "      <th>1</th>\n",
       "      <td>250.0</td>\n",
       "      <td>2023-05-30</td>\n",
       "      <td>2023-06-02</td>\n",
       "      <td>2023-07-20</td>\n",
       "      <td>3</td>\n",
       "      <td>51</td>\n",
       "      <td>1685664000</td>\n",
       "      <td>1685404800</td>\n",
       "      <td>1689811200</td>\n",
       "      <td>0</td>\n",
       "      <td>...</td>\n",
       "      <td>0</td>\n",
       "      <td>0</td>\n",
       "      <td>0</td>\n",
       "      <td>0</td>\n",
       "      <td>0</td>\n",
       "      <td>0</td>\n",
       "      <td>0</td>\n",
       "      <td>1</td>\n",
       "      <td>0</td>\n",
       "      <td>8.793967e+10</td>\n",
       "    </tr>\n",
       "    <tr>\n",
       "      <th>2</th>\n",
       "      <td>70000.0</td>\n",
       "      <td>2023-05-19</td>\n",
       "      <td>2023-06-05</td>\n",
       "      <td>2023-07-07</td>\n",
       "      <td>17</td>\n",
       "      <td>49</td>\n",
       "      <td>1685923200</td>\n",
       "      <td>1684454400</td>\n",
       "      <td>1688688000</td>\n",
       "      <td>0</td>\n",
       "      <td>...</td>\n",
       "      <td>0</td>\n",
       "      <td>0</td>\n",
       "      <td>0</td>\n",
       "      <td>0</td>\n",
       "      <td>0</td>\n",
       "      <td>0</td>\n",
       "      <td>0</td>\n",
       "      <td>1</td>\n",
       "      <td>0</td>\n",
       "      <td>8.796433e+10</td>\n",
       "    </tr>\n",
       "    <tr>\n",
       "      <th>3</th>\n",
       "      <td>138000.0</td>\n",
       "      <td>2023-05-19</td>\n",
       "      <td>2023-06-05</td>\n",
       "      <td>2023-07-07</td>\n",
       "      <td>17</td>\n",
       "      <td>49</td>\n",
       "      <td>1685923200</td>\n",
       "      <td>1684454400</td>\n",
       "      <td>1688688000</td>\n",
       "      <td>0</td>\n",
       "      <td>...</td>\n",
       "      <td>0</td>\n",
       "      <td>0</td>\n",
       "      <td>0</td>\n",
       "      <td>0</td>\n",
       "      <td>0</td>\n",
       "      <td>0</td>\n",
       "      <td>0</td>\n",
       "      <td>1</td>\n",
       "      <td>0</td>\n",
       "      <td>8.796670e+10</td>\n",
       "    </tr>\n",
       "    <tr>\n",
       "      <th>4</th>\n",
       "      <td>25.0</td>\n",
       "      <td>2023-05-09</td>\n",
       "      <td>2023-06-27</td>\n",
       "      <td>2023-06-27</td>\n",
       "      <td>49</td>\n",
       "      <td>49</td>\n",
       "      <td>1687824000</td>\n",
       "      <td>1683590400</td>\n",
       "      <td>1687824000</td>\n",
       "      <td>0</td>\n",
       "      <td>...</td>\n",
       "      <td>0</td>\n",
       "      <td>0</td>\n",
       "      <td>0</td>\n",
       "      <td>0</td>\n",
       "      <td>0</td>\n",
       "      <td>0</td>\n",
       "      <td>0</td>\n",
       "      <td>1</td>\n",
       "      <td>0</td>\n",
       "      <td>8.808880e+10</td>\n",
       "    </tr>\n",
       "  </tbody>\n",
       "</table>\n",
       "<p>5 rows × 2231 columns</p>\n",
       "</div>"
      ],
      "text/plain": [
       "   QtyInvoiced SO_Ord_date   Req_Date   Due_Date  Customer LT  TE_ship LT  \\\n",
       "0       2725.0  2023-06-05 2023-06-19 2023-07-20           14          45   \n",
       "1        250.0  2023-05-30 2023-06-02 2023-07-20            3          51   \n",
       "2      70000.0  2023-05-19 2023-06-05 2023-07-07           17          49   \n",
       "3     138000.0  2023-05-19 2023-06-05 2023-07-07           17          49   \n",
       "4         25.0  2023-05-09 2023-06-27 2023-06-27           49          49   \n",
       "\n",
       "    ReqDt_Euc  Ord-dt_Euc   DueDt_Euc  Part_000144-000  ...  OTTO-GPL_K93  \\\n",
       "0  1687132800  1685923200  1689811200                0  ...             0   \n",
       "1  1685664000  1685404800  1689811200                0  ...             0   \n",
       "2  1685923200  1684454400  1688688000                0  ...             0   \n",
       "3  1685923200  1684454400  1688688000                0  ...             0   \n",
       "4  1687824000  1683590400  1687824000                0  ...             0   \n",
       "\n",
       "   OTTO-GPL_KB1  OTTO-GPL_Z63  OTTO-GPL_Z72  Part Type_ATO  Part Type_COMP  \\\n",
       "0             0             0             0              0               0   \n",
       "1             0             0             0              0               0   \n",
       "2             0             0             0              0               0   \n",
       "3             0             0             0              0               0   \n",
       "4             0             0             0              0               0   \n",
       "\n",
       "   Part Type_MTO  Part Type_MTS  Part Type_MTSQS  Predicted_Shipping_LT  \n",
       "0              0              1                0           8.801520e+10  \n",
       "1              0              1                0           8.793967e+10  \n",
       "2              0              1                0           8.796433e+10  \n",
       "3              0              1                0           8.796670e+10  \n",
       "4              0              1                0           8.808880e+10  \n",
       "\n",
       "[5 rows x 2231 columns]"
      ]
     },
     "execution_count": 172,
     "metadata": {},
     "output_type": "execute_result"
    }
   ],
   "source": [
    "log3.head()"
   ]
  },
  {
   "cell_type": "code",
   "execution_count": 173,
   "id": "21f882ab",
   "metadata": {},
   "outputs": [],
   "source": [
    "log5 = log3.iloc[:,[0,1,2,3,4,5,6,7,8,2230]]"
   ]
  },
  {
   "cell_type": "code",
   "execution_count": 174,
   "id": "83e8fa78",
   "metadata": {},
   "outputs": [],
   "source": [
    "log5.to_excel(directory +  '/Shipping_LT_predicition.xlsx', sheet_name = 'Predicted_Ship_LT')"
   ]
  },
  {
   "cell_type": "code",
   "execution_count": 148,
   "id": "21a0628c",
   "metadata": {
    "scrolled": false
   },
   "outputs": [],
   "source": [
    "# X.to_excel(directory +  '/train_predict_data.xlsx', sheet_name = 'Train_Data')"
   ]
  },
  {
   "cell_type": "code",
   "execution_count": 289,
   "id": "db849ec0",
   "metadata": {},
   "outputs": [],
   "source": [
    "# X2 = X1.transpose()"
   ]
  },
  {
   "cell_type": "code",
   "execution_count": 290,
   "id": "e884c45d",
   "metadata": {},
   "outputs": [],
   "source": [
    "# X3 = X2.iloc[:,0]"
   ]
  },
  {
   "cell_type": "code",
   "execution_count": 291,
   "id": "c7b50762",
   "metadata": {},
   "outputs": [
    {
     "data": {
      "text/plain": [
       "QtyInvoiced    2.725000e+03\n",
       "Customer LT    1.400000e+01\n",
       "Shipping LT    4.500000e+01\n",
       "Ord-dt_Euc     1.685923e+09\n",
       "ReqDt_Euc      1.687133e+09\n",
       "Name: 0, dtype: float64"
      ]
     },
     "execution_count": 291,
     "metadata": {},
     "output_type": "execute_result"
    }
   ],
   "source": [
    "# X3.head()"
   ]
  },
  {
   "cell_type": "code",
   "execution_count": 292,
   "id": "99174e03",
   "metadata": {},
   "outputs": [],
   "source": [
    "# X3.to_excel(directory +  '/train_predict_data.xlsx', sheet_name = 'Predict_data')"
   ]
  },
  {
   "cell_type": "code",
   "execution_count": 293,
   "id": "9500a894",
   "metadata": {},
   "outputs": [],
   "source": [
    "# df4 = X.transpose().iloc[:,0]"
   ]
  },
  {
   "cell_type": "code",
   "execution_count": 294,
   "id": "e1401ae0",
   "metadata": {},
   "outputs": [],
   "source": [
    "# with pd.ExcelWriter (directory + '/train_predict_data.xlsx', engine ='openpyxl',\n",
    "#                     mode='a') as writer:\n",
    "#                         df4.to_excel(writer, sheet_name = 'Test_Data')"
   ]
  },
  {
   "cell_type": "code",
   "execution_count": null,
   "id": "baed7695",
   "metadata": {},
   "outputs": [],
   "source": []
  }
 ],
 "metadata": {
  "kernelspec": {
   "display_name": "Python 3 (ipykernel)",
   "language": "python",
   "name": "python3"
  },
  "language_info": {
   "codemirror_mode": {
    "name": "ipython",
    "version": 3
   },
   "file_extension": ".py",
   "mimetype": "text/x-python",
   "name": "python",
   "nbconvert_exporter": "python",
   "pygments_lexer": "ipython3",
   "version": "3.7.13"
  }
 },
 "nbformat": 4,
 "nbformat_minor": 5
}
