{
 "cells": [
  {
   "cell_type": "markdown",
   "id": "c2b3bc77",
   "metadata": {},
   "source": [
    "## New file to resolve the issue stemming from the training DF size and the prediction DF size.\n",
    "1. Training DF = 7241 columns\n",
    "2. Prediction DF = 2216 columns"
   ]
  },
  {
   "cell_type": "code",
   "execution_count": 1,
   "id": "ecf4c63b",
   "metadata": {},
   "outputs": [],
   "source": [
    "import pandas as pd\n",
    "import numpy as np\n",
    "import matplotlib.pyplot as plt\n",
    "import seaborn as sns"
   ]
  },
  {
   "cell_type": "code",
   "execution_count": 2,
   "id": "4d40ff09",
   "metadata": {},
   "outputs": [],
   "source": [
    "# reference: 01-Keras-Regression (section7: ANN)"
   ]
  },
  {
   "cell_type": "code",
   "execution_count": 3,
   "id": "52a7a1c0",
   "metadata": {},
   "outputs": [],
   "source": [
    "#directory = 'C:/Users/te521690/OneDrive - TE Connectivity/Desktop/Canada Backlog/46. Jun 15, 2023/'\n",
    "directory = 'C:/Users/te521690/OneDrive - TE Connectivity/Desktop/Canada Backlog/10. Feb 9, 2023/'"
   ]
  },
  {
   "cell_type": "markdown",
   "id": "040dd520",
   "metadata": {},
   "source": [
    "### Import Training file"
   ]
  },
  {
   "cell_type": "code",
   "execution_count": 4,
   "id": "7517538f",
   "metadata": {},
   "outputs": [],
   "source": [
    "df = pd.read_excel(directory + 'MFG 2 yr sales.xlsx', engine='openpyxl')"
   ]
  },
  {
   "cell_type": "code",
   "execution_count": 5,
   "id": "09ace623",
   "metadata": {},
   "outputs": [
    {
     "name": "stdout",
     "output_type": "stream",
     "text": [
      "SITE                           int64\n",
      "Invoice#                      object\n",
      "InvoiceDt             datetime64[ns]\n",
      "Invoice-Year#Month            object\n",
      "SO#                           object\n",
      "                           ...      \n",
      "Ship-B4                       object\n",
      "EDI Order                     object\n",
      "SO-Userid                     object\n",
      "Part Type                     object\n",
      "StdLT                        float64\n",
      "Length: 110, dtype: object\n"
     ]
    }
   ],
   "source": [
    "print(df.dtypes)"
   ]
  },
  {
   "cell_type": "code",
   "execution_count": 6,
   "id": "498ebbcc",
   "metadata": {},
   "outputs": [],
   "source": [
    "# # Replace '?' with a default value\n",
    "# df['Desc1'].replace('+', '&', inplace=True)\n",
    "# df['Desc2'].replace('+', '&', inplace=True)"
   ]
  },
  {
   "cell_type": "code",
   "execution_count": 7,
   "id": "fec90589",
   "metadata": {},
   "outputs": [],
   "source": [
    "#df.info()"
   ]
  },
  {
   "cell_type": "code",
   "execution_count": 8,
   "id": "e0d8d401",
   "metadata": {},
   "outputs": [
    {
     "data": {
      "text/html": [
       "<div>\n",
       "<style scoped>\n",
       "    .dataframe tbody tr th:only-of-type {\n",
       "        vertical-align: middle;\n",
       "    }\n",
       "\n",
       "    .dataframe tbody tr th {\n",
       "        vertical-align: top;\n",
       "    }\n",
       "\n",
       "    .dataframe thead th {\n",
       "        text-align: right;\n",
       "    }\n",
       "</style>\n",
       "<table border=\"1\" class=\"dataframe\">\n",
       "  <thead>\n",
       "    <tr style=\"text-align: right;\">\n",
       "      <th></th>\n",
       "      <th>SITE</th>\n",
       "      <th>Invoice#</th>\n",
       "      <th>InvoiceDt</th>\n",
       "      <th>Invoice-Year#Month</th>\n",
       "      <th>SO#</th>\n",
       "      <th>InvLine</th>\n",
       "      <th>Ord-Dt</th>\n",
       "      <th>CustPO</th>\n",
       "      <th>Buyer as of 1.4.17</th>\n",
       "      <th>Group</th>\n",
       "      <th>...</th>\n",
       "      <th>Hot Order</th>\n",
       "      <th>Hot Type</th>\n",
       "      <th>Due Date Changed Count</th>\n",
       "      <th>Original Due Date</th>\n",
       "      <th>Customer Class</th>\n",
       "      <th>Ship-B4</th>\n",
       "      <th>EDI Order</th>\n",
       "      <th>SO-Userid</th>\n",
       "      <th>Part Type</th>\n",
       "      <th>StdLT</th>\n",
       "    </tr>\n",
       "  </thead>\n",
       "  <tbody>\n",
       "    <tr>\n",
       "      <th>0</th>\n",
       "      <td>2230</td>\n",
       "      <td>RJ700818</td>\n",
       "      <td>2021-02-08</td>\n",
       "      <td>21#02</td>\n",
       "      <td>RS992611</td>\n",
       "      <td>3</td>\n",
       "      <td>2021-02-03</td>\n",
       "      <td>172547-2</td>\n",
       "      <td>FVPP2</td>\n",
       "      <td>MTO7</td>\n",
       "      <td>...</td>\n",
       "      <td>nothot</td>\n",
       "      <td>nothot</td>\n",
       "      <td>0</td>\n",
       "      <td>2021-02-08 00:00:00</td>\n",
       "      <td>OMNI</td>\n",
       "      <td>yes</td>\n",
       "      <td>no</td>\n",
       "      <td>TE422115</td>\n",
       "      <td>MTSQS</td>\n",
       "      <td>3.0</td>\n",
       "    </tr>\n",
       "    <tr>\n",
       "      <th>1</th>\n",
       "      <td>2245</td>\n",
       "      <td>RJ700819</td>\n",
       "      <td>2021-02-08</td>\n",
       "      <td>21#02</td>\n",
       "      <td>RS992625</td>\n",
       "      <td>2</td>\n",
       "      <td>2021-02-03</td>\n",
       "      <td>172550- 6</td>\n",
       "      <td>FVPP3</td>\n",
       "      <td>ALRP</td>\n",
       "      <td>...</td>\n",
       "      <td>nothot</td>\n",
       "      <td>nothot</td>\n",
       "      <td>0</td>\n",
       "      <td>2021-02-08 00:00:00</td>\n",
       "      <td>OMNI</td>\n",
       "      <td>yes</td>\n",
       "      <td>no</td>\n",
       "      <td>TE422115</td>\n",
       "      <td>MTS</td>\n",
       "      <td>3.0</td>\n",
       "    </tr>\n",
       "    <tr>\n",
       "      <th>2</th>\n",
       "      <td>2245</td>\n",
       "      <td>RJ700820</td>\n",
       "      <td>2021-02-08</td>\n",
       "      <td>21#02</td>\n",
       "      <td>RS992629</td>\n",
       "      <td>9</td>\n",
       "      <td>2021-02-03</td>\n",
       "      <td>172552-11</td>\n",
       "      <td>FVPP3</td>\n",
       "      <td>ALRP</td>\n",
       "      <td>...</td>\n",
       "      <td>nothot</td>\n",
       "      <td>nothot</td>\n",
       "      <td>0</td>\n",
       "      <td>2021-02-08 00:00:00</td>\n",
       "      <td>OMNI</td>\n",
       "      <td>yes</td>\n",
       "      <td>no</td>\n",
       "      <td>TE422115</td>\n",
       "      <td>MTS</td>\n",
       "      <td>3.0</td>\n",
       "    </tr>\n",
       "    <tr>\n",
       "      <th>3</th>\n",
       "      <td>2244</td>\n",
       "      <td>RJ700821</td>\n",
       "      <td>2021-02-08</td>\n",
       "      <td>21#02</td>\n",
       "      <td>14485431</td>\n",
       "      <td>1</td>\n",
       "      <td>2020-12-14</td>\n",
       "      <td>2714485431</td>\n",
       "      <td>JZFGP2</td>\n",
       "      <td>GEL02</td>\n",
       "      <td>...</td>\n",
       "      <td>nothot</td>\n",
       "      <td>nothot</td>\n",
       "      <td>2</td>\n",
       "      <td>2021-04-27 00:00:00</td>\n",
       "      <td>1151</td>\n",
       "      <td>yes</td>\n",
       "      <td>no</td>\n",
       "      <td>cron</td>\n",
       "      <td>MTO</td>\n",
       "      <td>134.0</td>\n",
       "    </tr>\n",
       "    <tr>\n",
       "      <th>4</th>\n",
       "      <td>2230</td>\n",
       "      <td>RJ700822</td>\n",
       "      <td>2021-02-08</td>\n",
       "      <td>21#02</td>\n",
       "      <td>RS992779</td>\n",
       "      <td>7</td>\n",
       "      <td>2021-02-04</td>\n",
       "      <td>7890-395350</td>\n",
       "      <td>FVMP1</td>\n",
       "      <td>MTO1</td>\n",
       "      <td>...</td>\n",
       "      <td>nothot</td>\n",
       "      <td>nothot</td>\n",
       "      <td>0</td>\n",
       "      <td>2021-02-08 00:00:00</td>\n",
       "      <td>ELITE</td>\n",
       "      <td>yes</td>\n",
       "      <td>no</td>\n",
       "      <td>us055686</td>\n",
       "      <td>MTSQS</td>\n",
       "      <td>3.0</td>\n",
       "    </tr>\n",
       "  </tbody>\n",
       "</table>\n",
       "<p>5 rows × 110 columns</p>\n",
       "</div>"
      ],
      "text/plain": [
       "   SITE  Invoice#  InvoiceDt Invoice-Year#Month       SO#  InvLine     Ord-Dt  \\\n",
       "0  2230  RJ700818 2021-02-08              21#02  RS992611        3 2021-02-03   \n",
       "1  2245  RJ700819 2021-02-08              21#02  RS992625        2 2021-02-03   \n",
       "2  2245  RJ700820 2021-02-08              21#02  RS992629        9 2021-02-03   \n",
       "3  2244  RJ700821 2021-02-08              21#02  14485431        1 2020-12-14   \n",
       "4  2230  RJ700822 2021-02-08              21#02  RS992779        7 2021-02-04   \n",
       "\n",
       "        CustPO Buyer as of 1.4.17  Group  ... Hot Order Hot Type  \\\n",
       "0     172547-2              FVPP2   MTO7  ...    nothot   nothot   \n",
       "1    172550- 6              FVPP3   ALRP  ...    nothot   nothot   \n",
       "2    172552-11              FVPP3   ALRP  ...    nothot   nothot   \n",
       "3   2714485431             JZFGP2  GEL02  ...    nothot   nothot   \n",
       "4  7890-395350              FVMP1   MTO1  ...    nothot   nothot   \n",
       "\n",
       "  Due Date Changed Count    Original Due Date Customer Class Ship-B4  \\\n",
       "0                      0  2021-02-08 00:00:00           OMNI     yes   \n",
       "1                      0  2021-02-08 00:00:00           OMNI     yes   \n",
       "2                      0  2021-02-08 00:00:00           OMNI     yes   \n",
       "3                      2  2021-04-27 00:00:00           1151     yes   \n",
       "4                      0  2021-02-08 00:00:00          ELITE     yes   \n",
       "\n",
       "  EDI Order  SO-Userid Part Type  StdLT  \n",
       "0  no         TE422115     MTSQS    3.0  \n",
       "1  no         TE422115       MTS    3.0  \n",
       "2  no         TE422115       MTS    3.0  \n",
       "3  no             cron       MTO  134.0  \n",
       "4  no         us055686     MTSQS    3.0  \n",
       "\n",
       "[5 rows x 110 columns]"
      ]
     },
     "execution_count": 8,
     "metadata": {},
     "output_type": "execute_result"
    }
   ],
   "source": [
    "df.head()"
   ]
  },
  {
   "cell_type": "code",
   "execution_count": 9,
   "id": "fb1e7ebd",
   "metadata": {},
   "outputs": [],
   "source": [
    "df1 = df.iloc[:,[4,5,22,24,89,108,30,6,26,103,2]]"
   ]
  },
  {
   "cell_type": "code",
   "execution_count": 10,
   "id": "53e24adc",
   "metadata": {},
   "outputs": [
    {
     "data": {
      "text/html": [
       "<div>\n",
       "<style scoped>\n",
       "    .dataframe tbody tr th:only-of-type {\n",
       "        vertical-align: middle;\n",
       "    }\n",
       "\n",
       "    .dataframe tbody tr th {\n",
       "        vertical-align: top;\n",
       "    }\n",
       "\n",
       "    .dataframe thead th {\n",
       "        text-align: right;\n",
       "    }\n",
       "</style>\n",
       "<table border=\"1\" class=\"dataframe\">\n",
       "  <thead>\n",
       "    <tr style=\"text-align: right;\">\n",
       "      <th></th>\n",
       "      <th>SO#</th>\n",
       "      <th>InvLine</th>\n",
       "      <th>Part</th>\n",
       "      <th>Desc1</th>\n",
       "      <th>OTTO-GPL</th>\n",
       "      <th>Part Type</th>\n",
       "      <th>QtyInvoiced</th>\n",
       "      <th>Ord-Dt</th>\n",
       "      <th>ReqDt</th>\n",
       "      <th>Original Due Date</th>\n",
       "      <th>InvoiceDt</th>\n",
       "    </tr>\n",
       "  </thead>\n",
       "  <tbody>\n",
       "    <tr>\n",
       "      <th>0</th>\n",
       "      <td>RS992611</td>\n",
       "      <td>3</td>\n",
       "      <td>618951-000</td>\n",
       "      <td>HVS-1521S</td>\n",
       "      <td>752</td>\n",
       "      <td>MTSQS</td>\n",
       "      <td>10.0</td>\n",
       "      <td>2021-02-03</td>\n",
       "      <td>2021-02-08 00:00:00</td>\n",
       "      <td>2021-02-08 00:00:00</td>\n",
       "      <td>2021-02-08</td>\n",
       "    </tr>\n",
       "    <tr>\n",
       "      <th>1</th>\n",
       "      <td>RS992625</td>\n",
       "      <td>2</td>\n",
       "      <td>499268-000</td>\n",
       "      <td>ALR-AA-105</td>\n",
       "      <td>C08</td>\n",
       "      <td>MTS</td>\n",
       "      <td>132.0</td>\n",
       "      <td>2021-02-03</td>\n",
       "      <td>2021-02-08 00:00:00</td>\n",
       "      <td>2021-02-08 00:00:00</td>\n",
       "      <td>2021-02-08</td>\n",
       "    </tr>\n",
       "    <tr>\n",
       "      <th>2</th>\n",
       "      <td>RS992629</td>\n",
       "      <td>9</td>\n",
       "      <td>984054-000</td>\n",
       "      <td>ALR-AT-30</td>\n",
       "      <td>C08</td>\n",
       "      <td>MTS</td>\n",
       "      <td>12.0</td>\n",
       "      <td>2021-02-03</td>\n",
       "      <td>2021-02-08 00:00:00</td>\n",
       "      <td>2021-02-08 00:00:00</td>\n",
       "      <td>2021-02-08</td>\n",
       "    </tr>\n",
       "    <tr>\n",
       "      <th>3</th>\n",
       "      <td>14485431</td>\n",
       "      <td>1</td>\n",
       "      <td>CN2770-000</td>\n",
       "      <td>GELCAP-3-BULK(B50)</td>\n",
       "      <td>749</td>\n",
       "      <td>MTO</td>\n",
       "      <td>1000.0</td>\n",
       "      <td>2020-12-14</td>\n",
       "      <td>2021-02-04 00:00:00</td>\n",
       "      <td>2021-04-27 00:00:00</td>\n",
       "      <td>2021-02-08</td>\n",
       "    </tr>\n",
       "    <tr>\n",
       "      <th>4</th>\n",
       "      <td>RS992779</td>\n",
       "      <td>7</td>\n",
       "      <td>EE0458-000</td>\n",
       "      <td>WCSM-34/8-225-S-(B50)</td>\n",
       "      <td>755</td>\n",
       "      <td>MTSQS</td>\n",
       "      <td>500.0</td>\n",
       "      <td>2021-02-04</td>\n",
       "      <td>2021-02-08 00:00:00</td>\n",
       "      <td>2021-02-08 00:00:00</td>\n",
       "      <td>2021-02-08</td>\n",
       "    </tr>\n",
       "  </tbody>\n",
       "</table>\n",
       "</div>"
      ],
      "text/plain": [
       "        SO#  InvLine        Part                  Desc1 OTTO-GPL Part Type  \\\n",
       "0  RS992611        3  618951-000              HVS-1521S      752     MTSQS   \n",
       "1  RS992625        2  499268-000             ALR-AA-105      C08       MTS   \n",
       "2  RS992629        9  984054-000             ALR-AT-30       C08       MTS   \n",
       "3  14485431        1  CN2770-000     GELCAP-3-BULK(B50)      749       MTO   \n",
       "4  RS992779        7  EE0458-000  WCSM-34/8-225-S-(B50)      755     MTSQS   \n",
       "\n",
       "   QtyInvoiced     Ord-Dt                ReqDt    Original Due Date  InvoiceDt  \n",
       "0         10.0 2021-02-03  2021-02-08 00:00:00  2021-02-08 00:00:00 2021-02-08  \n",
       "1        132.0 2021-02-03  2021-02-08 00:00:00  2021-02-08 00:00:00 2021-02-08  \n",
       "2         12.0 2021-02-03  2021-02-08 00:00:00  2021-02-08 00:00:00 2021-02-08  \n",
       "3       1000.0 2020-12-14  2021-02-04 00:00:00  2021-04-27 00:00:00 2021-02-08  \n",
       "4        500.0 2021-02-04  2021-02-08 00:00:00  2021-02-08 00:00:00 2021-02-08  "
      ]
     },
     "execution_count": 10,
     "metadata": {},
     "output_type": "execute_result"
    }
   ],
   "source": [
    "df1.head()"
   ]
  },
  {
   "cell_type": "code",
   "execution_count": 11,
   "id": "f799f4b1",
   "metadata": {},
   "outputs": [
    {
     "name": "stderr",
     "output_type": "stream",
     "text": [
      "C:\\Users\\te521690\\Anaconda3\\lib\\site-packages\\ipykernel_launcher.py:1: SettingWithCopyWarning: \n",
      "A value is trying to be set on a copy of a slice from a DataFrame.\n",
      "Try using .loc[row_indexer,col_indexer] = value instead\n",
      "\n",
      "See the caveats in the documentation: https://pandas.pydata.org/pandas-docs/stable/user_guide/indexing.html#returning-a-view-versus-a-copy\n",
      "  \"\"\"Entry point for launching an IPython kernel.\n"
     ]
    }
   ],
   "source": [
    "df1['SO#'] = df1['SO#'].astype(str)"
   ]
  },
  {
   "cell_type": "code",
   "execution_count": 12,
   "id": "e1db73eb",
   "metadata": {},
   "outputs": [
    {
     "name": "stderr",
     "output_type": "stream",
     "text": [
      "C:\\Users\\te521690\\Anaconda3\\lib\\site-packages\\ipykernel_launcher.py:1: SettingWithCopyWarning: \n",
      "A value is trying to be set on a copy of a slice from a DataFrame.\n",
      "Try using .loc[row_indexer,col_indexer] = value instead\n",
      "\n",
      "See the caveats in the documentation: https://pandas.pydata.org/pandas-docs/stable/user_guide/indexing.html#returning-a-view-versus-a-copy\n",
      "  \"\"\"Entry point for launching an IPython kernel.\n"
     ]
    }
   ],
   "source": [
    "df1['Part'] = df1['Part'].astype(str)"
   ]
  },
  {
   "cell_type": "code",
   "execution_count": 13,
   "id": "543ba7dd",
   "metadata": {},
   "outputs": [
    {
     "name": "stderr",
     "output_type": "stream",
     "text": [
      "C:\\Users\\te521690\\Anaconda3\\lib\\site-packages\\ipykernel_launcher.py:1: SettingWithCopyWarning: \n",
      "A value is trying to be set on a copy of a slice from a DataFrame.\n",
      "Try using .loc[row_indexer,col_indexer] = value instead\n",
      "\n",
      "See the caveats in the documentation: https://pandas.pydata.org/pandas-docs/stable/user_guide/indexing.html#returning-a-view-versus-a-copy\n",
      "  \"\"\"Entry point for launching an IPython kernel.\n"
     ]
    }
   ],
   "source": [
    "df1['Desc1'] = df1['Desc1'].astype(str)"
   ]
  },
  {
   "cell_type": "code",
   "execution_count": 14,
   "id": "bf36efdd",
   "metadata": {},
   "outputs": [],
   "source": [
    "# df1['OTTO-GPL'] = df1['OTTO-GPL'].astype(str)"
   ]
  },
  {
   "cell_type": "code",
   "execution_count": 15,
   "id": "388dc312",
   "metadata": {},
   "outputs": [
    {
     "name": "stderr",
     "output_type": "stream",
     "text": [
      "C:\\Users\\te521690\\Anaconda3\\lib\\site-packages\\pandas\\core\\generic.py:6619: SettingWithCopyWarning: \n",
      "A value is trying to be set on a copy of a slice from a DataFrame\n",
      "\n",
      "See the caveats in the documentation: https://pandas.pydata.org/pandas-docs/stable/user_guide/indexing.html#returning-a-view-versus-a-copy\n",
      "  return self._update_inplace(result)\n",
      "C:\\Users\\te521690\\Anaconda3\\lib\\site-packages\\ipykernel_launcher.py:5: SettingWithCopyWarning: \n",
      "A value is trying to be set on a copy of a slice from a DataFrame.\n",
      "Try using .loc[row_indexer,col_indexer] = value instead\n",
      "\n",
      "See the caveats in the documentation: https://pandas.pydata.org/pandas-docs/stable/user_guide/indexing.html#returning-a-view-versus-a-copy\n",
      "  \"\"\"\n"
     ]
    }
   ],
   "source": [
    "# Replace '?' with a default value\n",
    "df1['ReqDt'].replace('?', '1970-01-01', inplace=True)\n",
    "\n",
    "# Convert to datetime64\n",
    "df1['ReqDt'] = pd.to_datetime(df1['ReqDt'], errors='coerce')\n"
   ]
  },
  {
   "cell_type": "code",
   "execution_count": 16,
   "id": "46a4662f",
   "metadata": {},
   "outputs": [
    {
     "name": "stderr",
     "output_type": "stream",
     "text": [
      "C:\\Users\\te521690\\Anaconda3\\lib\\site-packages\\ipykernel_launcher.py:5: SettingWithCopyWarning: \n",
      "A value is trying to be set on a copy of a slice from a DataFrame.\n",
      "Try using .loc[row_indexer,col_indexer] = value instead\n",
      "\n",
      "See the caveats in the documentation: https://pandas.pydata.org/pandas-docs/stable/user_guide/indexing.html#returning-a-view-versus-a-copy\n",
      "  \"\"\"\n"
     ]
    }
   ],
   "source": [
    "# Replace '?' with a default value\n",
    "df1['Original Due Date'].replace('?', '1970-01-01', inplace=True)\n",
    "\n",
    "# Convert to datetime64\n",
    "df1['Original Due Date'] = pd.to_datetime(df1['Original Due Date'], errors='coerce')\n"
   ]
  },
  {
   "cell_type": "code",
   "execution_count": 17,
   "id": "2d377656",
   "metadata": {},
   "outputs": [
    {
     "name": "stdout",
     "output_type": "stream",
     "text": [
      "3\n"
     ]
    }
   ],
   "source": [
    "# Assuming you have a DataFrame called df1 with a column named 'Ord-Dt'\n",
    "count = df1['Ord-Dt'].astype(str).str.contains('1949-', na=False).sum()\n",
    "print(count)"
   ]
  },
  {
   "cell_type": "code",
   "execution_count": 18,
   "id": "b6db6cc2",
   "metadata": {},
   "outputs": [],
   "source": [
    "df1 = df1[df1['Ord-Dt']> '2000-01-01']"
   ]
  },
  {
   "cell_type": "code",
   "execution_count": 19,
   "id": "e17a58e1",
   "metadata": {},
   "outputs": [],
   "source": [
    "df1 = df1[df1['ReqDt']> '2000-01-01']"
   ]
  },
  {
   "cell_type": "code",
   "execution_count": 20,
   "id": "19f28e63",
   "metadata": {},
   "outputs": [],
   "source": [
    "df1 = df1[df1['Original Due Date']> '2000-01-01']"
   ]
  },
  {
   "cell_type": "code",
   "execution_count": 21,
   "id": "490a91c5",
   "metadata": {},
   "outputs": [],
   "source": [
    "df1 = df1[df1['InvoiceDt']> '2000-01-01']"
   ]
  },
  {
   "cell_type": "code",
   "execution_count": 22,
   "id": "bfb77905",
   "metadata": {
    "scrolled": true
   },
   "outputs": [
    {
     "data": {
      "text/plain": [
       "Timestamp('2021-02-08 00:00:00')"
      ]
     },
     "execution_count": 22,
     "metadata": {},
     "output_type": "execute_result"
    }
   ],
   "source": [
    "df1['InvoiceDt'].min()"
   ]
  },
  {
   "cell_type": "code",
   "execution_count": 23,
   "id": "b04d99d4",
   "metadata": {},
   "outputs": [
    {
     "data": {
      "text/plain": [
       "Index(['SO#', 'InvLine', 'Part', 'Desc1', 'OTTO-GPL', 'Part Type',\n",
       "       'QtyInvoiced', 'Ord-Dt', 'ReqDt', 'Original Due Date', 'InvoiceDt'],\n",
       "      dtype='object')"
      ]
     },
     "execution_count": 23,
     "metadata": {},
     "output_type": "execute_result"
    }
   ],
   "source": [
    "df1.columns"
   ]
  },
  {
   "cell_type": "code",
   "execution_count": 24,
   "id": "504e2b7e",
   "metadata": {},
   "outputs": [],
   "source": [
    "df1.drop(['SO#','InvLine','Desc1'], axis=1,inplace=True)"
   ]
  },
  {
   "cell_type": "code",
   "execution_count": 25,
   "id": "dc0e0fe5",
   "metadata": {},
   "outputs": [
    {
     "data": {
      "text/plain": [
       "Part                         object\n",
       "OTTO-GPL                     object\n",
       "Part Type                    object\n",
       "QtyInvoiced                 float64\n",
       "Ord-Dt               datetime64[ns]\n",
       "ReqDt                datetime64[ns]\n",
       "Original Due Date    datetime64[ns]\n",
       "InvoiceDt            datetime64[ns]\n",
       "dtype: object"
      ]
     },
     "execution_count": 25,
     "metadata": {},
     "output_type": "execute_result"
    }
   ],
   "source": [
    "df1.dtypes"
   ]
  },
  {
   "cell_type": "code",
   "execution_count": 26,
   "id": "ac4c1450",
   "metadata": {},
   "outputs": [],
   "source": [
    "#set(df1['OTTO-GPL'])"
   ]
  },
  {
   "cell_type": "code",
   "execution_count": 27,
   "id": "6240e8eb",
   "metadata": {},
   "outputs": [
    {
     "data": {
      "text/plain": [
       "False    162800\n",
       "Name: OTTO-GPL, dtype: int64"
      ]
     },
     "execution_count": 27,
     "metadata": {},
     "output_type": "execute_result"
    }
   ],
   "source": [
    "df1['OTTO-GPL'].isna().value_counts()"
   ]
  },
  {
   "cell_type": "code",
   "execution_count": 28,
   "id": "632dc446",
   "metadata": {},
   "outputs": [],
   "source": [
    "df1['Part Type'].replace({'mto':'MTO',\n",
    "                          'mts':'MTS'},\n",
    "                          inplace=True)"
   ]
  },
  {
   "cell_type": "code",
   "execution_count": 29,
   "id": "a4b8c106",
   "metadata": {},
   "outputs": [
    {
     "data": {
      "text/plain": [
       "{'(blank)', 3, 'ATO', 'COMP', 'MTO', 'MTS', 'MTSQS', nan}"
      ]
     },
     "execution_count": 29,
     "metadata": {},
     "output_type": "execute_result"
    }
   ],
   "source": [
    "set(df1['Part Type'])"
   ]
  },
  {
   "cell_type": "code",
   "execution_count": 30,
   "id": "2a17faeb",
   "metadata": {},
   "outputs": [
    {
     "data": {
      "text/plain": [
       "False    162313\n",
       "True        487\n",
       "Name: Part Type, dtype: int64"
      ]
     },
     "execution_count": 30,
     "metadata": {},
     "output_type": "execute_result"
    }
   ],
   "source": [
    "df1['Part Type'].isna().value_counts()"
   ]
  },
  {
   "cell_type": "code",
   "execution_count": 31,
   "id": "fa81302d",
   "metadata": {},
   "outputs": [],
   "source": [
    "# dropna from DF1\n",
    "df1.dropna(subset=['Part Type'], inplace=True)"
   ]
  },
  {
   "cell_type": "code",
   "execution_count": 32,
   "id": "2c97064f",
   "metadata": {},
   "outputs": [],
   "source": [
    "df1 = df1[(df1['Part Type'] != 'NA') & (df1['Part Type'] != '(blank)')& (df1['Part Type'] != 3)& (df1['Part Type'] != 21)& (df1['Part Type'] != 103)& (df1['Part Type'] != 20) & (df1['Part Type'] != 116)]"
   ]
  },
  {
   "cell_type": "code",
   "execution_count": 33,
   "id": "ce0a26ac",
   "metadata": {},
   "outputs": [
    {
     "data": {
      "text/plain": [
       "MTS      72404\n",
       "MTO      34092\n",
       "ATO      31177\n",
       "MTSQS    24532\n",
       "COMP        67\n",
       "Name: Part Type, dtype: int64"
      ]
     },
     "execution_count": 33,
     "metadata": {},
     "output_type": "execute_result"
    }
   ],
   "source": [
    "df1['Part Type'].value_counts()"
   ]
  },
  {
   "cell_type": "code",
   "execution_count": 34,
   "id": "569c7fdc",
   "metadata": {},
   "outputs": [
    {
     "data": {
      "text/plain": [
       "364    30043\n",
       "760    19188\n",
       "755    15518\n",
       "F14    14720\n",
       "753    11758\n",
       "749    10158\n",
       "752     8864\n",
       "751     6935\n",
       "758     6187\n",
       "750     4954\n",
       "J71     3987\n",
       "141     3928\n",
       "814     3740\n",
       "151     3515\n",
       "E82     2841\n",
       "Name: OTTO-GPL, dtype: int64"
      ]
     },
     "execution_count": 34,
     "metadata": {},
     "output_type": "execute_result"
    }
   ],
   "source": [
    "df1['OTTO-GPL'].value_counts().head(15)"
   ]
  },
  {
   "cell_type": "code",
   "execution_count": 35,
   "id": "514e2ddb",
   "metadata": {},
   "outputs": [],
   "source": [
    "df1.dropna(subset=['OTTO-GPL'], inplace=True)"
   ]
  },
  {
   "cell_type": "code",
   "execution_count": 36,
   "id": "2495bd9b",
   "metadata": {},
   "outputs": [],
   "source": [
    "df1['Part'] = df1['Part'].str.upper()"
   ]
  },
  {
   "cell_type": "code",
   "execution_count": 37,
   "id": "05c79589",
   "metadata": {},
   "outputs": [
    {
     "data": {
      "text/plain": [
       "{'EE0688-000',\n",
       " 'ES0946-000',\n",
       " 'ED2738-000',\n",
       " 'F85774-000',\n",
       " 'EB8247-000',\n",
       " 'EL6969-000',\n",
       " 'CN4340-000',\n",
       " '592965-000',\n",
       " '590637-000',\n",
       " '560390-005',\n",
       " '895543-000',\n",
       " 'EN3751-205',\n",
       " 'EP3218-000',\n",
       " 'EN3751-103',\n",
       " 'BM9015-000',\n",
       " 'CG8858-000',\n",
       " 'CR1317-000',\n",
       " 'ED9342-000',\n",
       " 'EA3333-000',\n",
       " '1-2182448-5',\n",
       " 'ER1735-004',\n",
       " '268120-000',\n",
       " 'EP6130-000',\n",
       " '797970-000',\n",
       " 'EE0620-000',\n",
       " 'EH7823-000',\n",
       " '814603-000',\n",
       " 'CF1442-000',\n",
       " 'EB8652-000',\n",
       " '155713-000',\n",
       " 'C46509-000',\n",
       " 'EN3750-333',\n",
       " 'EK4992-000',\n",
       " 'EK9065-000',\n",
       " 'ER1199-000',\n",
       " 'CR9908-000',\n",
       " 'CM3884-000',\n",
       " '1971903-1',\n",
       " 'E65650-000',\n",
       " 'CS8870-001',\n",
       " '2182994-6',\n",
       " '117171-000',\n",
       " '753589-000',\n",
       " 'ED0490-000',\n",
       " 'EP4990-000',\n",
       " '802234-000',\n",
       " '633125-000',\n",
       " 'EP6680-000',\n",
       " 'CG3600-000',\n",
       " '168622-000',\n",
       " 'CM9458-000',\n",
       " 'CM4248-000',\n",
       " 'CS8879-011',\n",
       " '83221F-000',\n",
       " 'CG3708-000',\n",
       " '760924-000',\n",
       " 'EP9673-000',\n",
       " '607477-000',\n",
       " 'EN3750-384',\n",
       " 'EE1121-000',\n",
       " '558424-000',\n",
       " '983034-000',\n",
       " 'EE0631-000',\n",
       " 'EN3742-051',\n",
       " '2405558-7',\n",
       " '044191-000',\n",
       " 'EK0859-006',\n",
       " 'EN3618-000',\n",
       " 'BM3909-000',\n",
       " 'EK9078-000',\n",
       " 'CB1978-000',\n",
       " 'A40169-000',\n",
       " '642817-000',\n",
       " 'EB0303-000',\n",
       " 'BM5510-000',\n",
       " 'CN9155-000',\n",
       " 'EN5682-010',\n",
       " 'ED2778-000',\n",
       " 'EM9214-000',\n",
       " 'EP2479-000',\n",
       " 'ED2769-000',\n",
       " 'EP9352-000',\n",
       " 'EN3742-313',\n",
       " 'D20450-000',\n",
       " '513513-000',\n",
       " 'EB1415-000',\n",
       " 'ES0611-000',\n",
       " '2197743-7',\n",
       " '951971-000',\n",
       " 'EP4925-000',\n",
       " 'EN4520-222',\n",
       " '208454-000',\n",
       " 'FG1876-000',\n",
       " 'ED9208-000',\n",
       " 'EN0968-000',\n",
       " 'D50461-000',\n",
       " '064130-000',\n",
       " '343233-002',\n",
       " 'EN3742-014',\n",
       " 'EN0142-000',\n",
       " 'A36977-000',\n",
       " 'EN5630-000',\n",
       " 'D67995-000',\n",
       " 'ER4616-000',\n",
       " 'ES2036-000',\n",
       " 'EK4282-000',\n",
       " 'ED1888-000',\n",
       " '380945-000',\n",
       " 'E93793-000',\n",
       " 'BM4863-000',\n",
       " 'EN3676-000',\n",
       " 'CN3159-000',\n",
       " '206814-000',\n",
       " '048802-000',\n",
       " 'EN3409-000',\n",
       " 'EE5627-000',\n",
       " 'C60779-000',\n",
       " 'BM4223-000',\n",
       " '848365-000',\n",
       " '2384736-2',\n",
       " '2405556-2',\n",
       " 'EE0661-000',\n",
       " 'EN5707-000',\n",
       " 'CF9809-000',\n",
       " 'BM9037-000',\n",
       " 'EN0148-000',\n",
       " 'EN7493-000',\n",
       " '2382310-2',\n",
       " '205901-000',\n",
       " 'CT0014-000',\n",
       " 'ER4592-000',\n",
       " 'CT0136-000',\n",
       " '2388446-1',\n",
       " 'ER2305-000',\n",
       " 'ED9367-000',\n",
       " '606854-005',\n",
       " '83396-2',\n",
       " 'ER8146-000',\n",
       " '2381133-3',\n",
       " '209749-000',\n",
       " 'EN3750-462',\n",
       " 'CG3733-000',\n",
       " '2-2374923-2',\n",
       " '676303-000',\n",
       " 'CP4754-000',\n",
       " '111371-000',\n",
       " '540908-000',\n",
       " '901284-000',\n",
       " 'ED0159-000',\n",
       " '2366270-3',\n",
       " 'BM9033-000',\n",
       " 'EN3462-000',\n",
       " '082053-000',\n",
       " 'D56792-000',\n",
       " 'ER0541-000',\n",
       " 'EA911Z-000',\n",
       " '591605-000',\n",
       " 'ED0115-000',\n",
       " 'ER4894-000',\n",
       " '141025-000',\n",
       " 'EN3742-020',\n",
       " '945176-000',\n",
       " '774767-000',\n",
       " 'F34241-000',\n",
       " 'EE0673-000',\n",
       " 'C86823-000',\n",
       " 'CR1439-000',\n",
       " 'EP4094-000',\n",
       " 'CS9990-000',\n",
       " '2382290-2',\n",
       " 'BM1958-000',\n",
       " 'E26051-000',\n",
       " 'EN5702-000',\n",
       " 'ER6569-000',\n",
       " '562486-000',\n",
       " '2315946-5',\n",
       " 'ER4549-000',\n",
       " '233864-000',\n",
       " 'EF1617-000',\n",
       " '125589-000',\n",
       " 'ER9306-000',\n",
       " 'ER1773-000',\n",
       " 'D14038-000',\n",
       " 'EA7105-000',\n",
       " '148582-000',\n",
       " '2387493-5',\n",
       " 'ED9162-000',\n",
       " 'CU3775-000',\n",
       " 'ER6393-000',\n",
       " 'EN3750-770',\n",
       " '629995-000',\n",
       " '916846-000',\n",
       " 'EF5521-000',\n",
       " 'EE0605-000',\n",
       " 'ER4611-000',\n",
       " 'F04413-000',\n",
       " '166070-000',\n",
       " 'CG3775-000',\n",
       " 'A15222-000',\n",
       " 'CG3865-000',\n",
       " '324607-000',\n",
       " '188193-000',\n",
       " 'CG3759-000',\n",
       " 'ED0151-000',\n",
       " 'EN3742-056',\n",
       " 'ER8441-000',\n",
       " 'CG3895-000',\n",
       " '408971-000',\n",
       " 'CH7109-000',\n",
       " 'ED0136-000',\n",
       " '628313-000',\n",
       " '709157-000',\n",
       " 'EP8937-000',\n",
       " '726426-000',\n",
       " 'ER0767-005',\n",
       " 'CG3716-000',\n",
       " 'CT0022-000',\n",
       " '774698-000',\n",
       " '021146-000',\n",
       " 'CL0782-000',\n",
       " 'ED0489-000',\n",
       " '2832033-1',\n",
       " '175361-000',\n",
       " 'ES0801-000',\n",
       " '415673-000',\n",
       " '1-2384479-0',\n",
       " 'CR5438-000',\n",
       " '361372-000',\n",
       " 'BM3040-000',\n",
       " 'EE5572-000',\n",
       " 'ER3468-000',\n",
       " 'EM9808-000',\n",
       " '2182332-5',\n",
       " 'BM6040-000',\n",
       " '035869-000',\n",
       " '882988-000',\n",
       " 'EP0841-000',\n",
       " '803821-000',\n",
       " 'EP3185-000',\n",
       " '2404877-2',\n",
       " '015490-000',\n",
       " '150452-000',\n",
       " 'EN0508-000',\n",
       " '1-83866-3',\n",
       " '1-2374923-5',\n",
       " '519108-000',\n",
       " 'EN7837-000',\n",
       " 'EL6162-003',\n",
       " 'EN2103-000',\n",
       " 'ER9268-000',\n",
       " 'FG1277-000',\n",
       " 'ES2450-000',\n",
       " '1-2374923-4',\n",
       " 'CR9380-000',\n",
       " 'CA3599-000',\n",
       " 'CT0037-000',\n",
       " 'EK4991-000',\n",
       " 'CU5155-000',\n",
       " 'CG3860-000',\n",
       " '335701-000',\n",
       " 'EP8941-000',\n",
       " 'CA0977-000',\n",
       " 'CS9414-000',\n",
       " '292284-000',\n",
       " 'EB0285-000',\n",
       " '989772-000',\n",
       " '207170-000',\n",
       " '570500-000',\n",
       " '506474-000',\n",
       " 'EK0863-003',\n",
       " 'EN3750-354',\n",
       " 'EN8709-000',\n",
       " '5J5271-000',\n",
       " '959837-000',\n",
       " 'EN2451-000',\n",
       " '2387491-8',\n",
       " 'CG3648-000',\n",
       " '822360-000',\n",
       " 'EK0859-014',\n",
       " 'ER4568-000',\n",
       " 'EN5867-004',\n",
       " 'E61614-000',\n",
       " 'EM9064-000',\n",
       " 'EB0314-000',\n",
       " 'CG3870-000',\n",
       " '861763-000',\n",
       " 'BM1390-000',\n",
       " '987323-000',\n",
       " 'CS2370-000',\n",
       " 'EN4790-000',\n",
       " 'CU0743-000',\n",
       " 'CX7109-000',\n",
       " '573886-000',\n",
       " 'D83008-000',\n",
       " 'EN4481-000',\n",
       " '297202-000',\n",
       " 'BM9903-000',\n",
       " 'E43398-000',\n",
       " 'CA6767-000',\n",
       " '798797-000',\n",
       " 'E57640-000',\n",
       " 'EN3742-016',\n",
       " 'ER1141-000',\n",
       " '163334-002',\n",
       " '095057-000',\n",
       " '900540-000',\n",
       " 'ED8092-000',\n",
       " 'CP2225-000',\n",
       " 'ED0133-000',\n",
       " '485870-000',\n",
       " '2384736-4',\n",
       " '132031-000',\n",
       " '2397034-1',\n",
       " '720819-000',\n",
       " 'CS1357-000',\n",
       " 'BM1385-000',\n",
       " 'A40196-000',\n",
       " 'ER3360-000',\n",
       " '2402893-1',\n",
       " 'CL9211-000',\n",
       " 'ED2782-000',\n",
       " 'ES0628-000',\n",
       " 'EK0755-007',\n",
       " '477807-001',\n",
       " '323146-000',\n",
       " '588290-000',\n",
       " 'EP5216-000',\n",
       " 'CN4811-000',\n",
       " '244890-000',\n",
       " 'CT0106-000',\n",
       " 'ER9908-000',\n",
       " 'CN9153-000',\n",
       " 'EB8646-000',\n",
       " 'EK8870-000',\n",
       " '500296-000',\n",
       " 'CJ8851-000',\n",
       " '180854-000',\n",
       " 'CN2891-000',\n",
       " 'CM1364-000',\n",
       " 'CR3781-000',\n",
       " '702607N001',\n",
       " 'CG3882-000',\n",
       " '517033-000',\n",
       " '591555N001',\n",
       " 'EM8219-000',\n",
       " '400894-000',\n",
       " 'CH8016-000',\n",
       " 'ED0857-000',\n",
       " '2382266-6',\n",
       " 'CT0258-000',\n",
       " 'CG3801-000',\n",
       " 'CR1428-000',\n",
       " 'F11463-000',\n",
       " '445859-000',\n",
       " 'CG3671-000',\n",
       " '889382-000',\n",
       " 'CG3668-000',\n",
       " '208576-000',\n",
       " '115518-000',\n",
       " 'CP9932-000',\n",
       " 'CG3721-000',\n",
       " 'EE0439-000',\n",
       " 'D89453-000',\n",
       " '1-2374923-6',\n",
       " 'EB0327-000',\n",
       " 'CJ2231-000',\n",
       " 'EE0461-000',\n",
       " '246794-000',\n",
       " 'CR1447-000',\n",
       " '493165-000',\n",
       " '2182491-2',\n",
       " 'EK0742-003',\n",
       " 'ER1063-000',\n",
       " '2418068-3',\n",
       " '493692-000',\n",
       " 'EJ0805-000',\n",
       " '055268-000',\n",
       " 'ER6933-000',\n",
       " '2405271-1',\n",
       " 'CR7866-011',\n",
       " 'ES1430-000',\n",
       " '272463-000',\n",
       " 'D03118-000',\n",
       " 'F88964-000',\n",
       " 'ER4566-000',\n",
       " 'ED9026-000',\n",
       " 'CV4615-000',\n",
       " 'PA2222-000',\n",
       " 'EB0281-000',\n",
       " 'ER0079-000',\n",
       " 'D24031-000',\n",
       " 'E72209-000',\n",
       " '2392186-2',\n",
       " '257406-000',\n",
       " 'FG1855-000',\n",
       " 'EN2578-000',\n",
       " 'CT0223-000',\n",
       " '365067-000',\n",
       " 'ES1561-000',\n",
       " 'EN3751-089',\n",
       " 'EN3750-659',\n",
       " 'CT0160-000',\n",
       " 'A30156-000',\n",
       " '552652-000',\n",
       " 'EE0459-000',\n",
       " 'EN1174-000',\n",
       " '441583-000',\n",
       " 'EP5858-000',\n",
       " 'EL6288-000',\n",
       " 'EP9723-000',\n",
       " '437449-000',\n",
       " 'ED9928-000',\n",
       " 'F08105-000',\n",
       " 'ER6340-000',\n",
       " 'E35393-000',\n",
       " 'ER1711-000',\n",
       " 'EA3336-000',\n",
       " 'EN3752-023',\n",
       " 'CF4006-000',\n",
       " '2377036-2',\n",
       " '426667-000',\n",
       " '590745-000',\n",
       " 'EP6508-000',\n",
       " 'CL2040-000',\n",
       " 'CR6878-000',\n",
       " 'ED9007-000',\n",
       " '153998-000',\n",
       " '208755-000',\n",
       " '933263-000',\n",
       " '941623-000',\n",
       " '2396108-1',\n",
       " 'EN7567-000',\n",
       " 'E07753-000',\n",
       " 'F94049-000',\n",
       " 'EP4967-000',\n",
       " '167150-000',\n",
       " 'ED0108-000',\n",
       " '224817-000',\n",
       " 'EN3750-167',\n",
       " '981353-000',\n",
       " '738085-000',\n",
       " 'CF9557-000',\n",
       " 'ER8783-000',\n",
       " '2182761-1',\n",
       " 'EN5867-005',\n",
       " 'ED9163-000',\n",
       " 'EK0752-025',\n",
       " 'EH3282-000',\n",
       " 'ED2742-000',\n",
       " 'EN3750-883',\n",
       " 'BM9040-000',\n",
       " 'F22126-000',\n",
       " 'EN4845-000',\n",
       " 'ED0106-000',\n",
       " 'EL8798-000',\n",
       " '517839-000',\n",
       " 'A70102-000',\n",
       " 'CG3622-000',\n",
       " 'CP1102-000',\n",
       " 'EE0434-000',\n",
       " 'EB0719-000',\n",
       " 'CR1299-000',\n",
       " '052134-000',\n",
       " 'ER4553-000',\n",
       " 'CG3651-000',\n",
       " 'CH6900-000',\n",
       " '279531-000',\n",
       " 'CS3111-000',\n",
       " 'EN3750-401',\n",
       " '739764-000',\n",
       " 'EN3309-000',\n",
       " '2341979-1',\n",
       " '2381134-3',\n",
       " 'A41722-000',\n",
       " '926093-000',\n",
       " '2387493-2',\n",
       " 'EN3750-326',\n",
       " '705542-000',\n",
       " 'CN3264-000',\n",
       " 'EN0850-000',\n",
       " '260666-000',\n",
       " '2304320-7',\n",
       " 'EA7240-000',\n",
       " '2388831-9',\n",
       " 'BM6203-000',\n",
       " '571563-000',\n",
       " '638449-000',\n",
       " '1099994-1',\n",
       " 'EA9682-000',\n",
       " '539537-000',\n",
       " 'ER0269-000',\n",
       " 'EH3284-000',\n",
       " 'ER4599-000',\n",
       " 'CJ0467-000',\n",
       " 'ER7151-000',\n",
       " '108833-000',\n",
       " 'EN0796-000',\n",
       " '052864-000',\n",
       " 'EK9886-000',\n",
       " 'ES0365-000',\n",
       " 'CP9280-000',\n",
       " '339579-000',\n",
       " 'EJ0800-000',\n",
       " 'CT0146-000',\n",
       " 'ES2996-000',\n",
       " 'E81059-000',\n",
       " 'CR8955-000',\n",
       " 'CG3541-000',\n",
       " '491310-000',\n",
       " '2182430-1',\n",
       " 'ED9331-000',\n",
       " 'ER6571-000',\n",
       " 'ES0615-000',\n",
       " '2418067-9',\n",
       " 'EH8455-000',\n",
       " '770058-000',\n",
       " 'CR8953-000',\n",
       " '112981-000',\n",
       " '2424187-2',\n",
       " 'CT0297-000',\n",
       " '289089-000',\n",
       " 'EN4520-168',\n",
       " '418653-000',\n",
       " 'BM3961-000',\n",
       " 'F12633-000',\n",
       " '295923-000',\n",
       " 'CJ3688-000',\n",
       " 'EK0755-011',\n",
       " 'ER8334-000',\n",
       " '2182256-1',\n",
       " 'EE5633-000',\n",
       " 'EN3750-372',\n",
       " 'CZ0029-000',\n",
       " 'EN3749-008',\n",
       " 'EN3750-670',\n",
       " 'F63508-000',\n",
       " 'BM7658-000',\n",
       " '2322196-1',\n",
       " '595312-000',\n",
       " 'CL6577-000',\n",
       " '385369N002',\n",
       " 'CJ8964-000',\n",
       " 'A18764-000',\n",
       " '618634-000',\n",
       " 'EK5728-000',\n",
       " 'CT0202-000',\n",
       " '601274-000',\n",
       " 'EN3751-183',\n",
       " 'FG1572-000',\n",
       " 'ED9047-000',\n",
       " '291933-000',\n",
       " 'ED2731-000',\n",
       " 'EA3303-000',\n",
       " '340691-000',\n",
       " 'EN1504-000',\n",
       " '910497-000',\n",
       " 'EN7742-000',\n",
       " 'EL9024-000',\n",
       " '254009-000',\n",
       " 'CN4462-000',\n",
       " 'BM1541-000',\n",
       " '466536-000',\n",
       " 'F40656-000',\n",
       " 'EN3749-013',\n",
       " 'ES0799-000',\n",
       " '2182587-9',\n",
       " '734814-000',\n",
       " 'ED9333-000',\n",
       " '992750-000',\n",
       " 'CR9378-000',\n",
       " '2270298-4',\n",
       " 'BM9039-000',\n",
       " '952373-000',\n",
       " '730125-000',\n",
       " '2232227-1',\n",
       " '839283-000',\n",
       " '523592-000',\n",
       " 'EE5573-000',\n",
       " 'CG3739-000',\n",
       " 'ER2231-000',\n",
       " 'EL7671-000',\n",
       " '664086-000',\n",
       " '2363118-2',\n",
       " 'CG3754-000',\n",
       " 'EL8369-000',\n",
       " 'EN3750-325',\n",
       " 'CM8308-000',\n",
       " 'ES0618-000',\n",
       " '555351-000',\n",
       " '5749314-2',\n",
       " '471716-000',\n",
       " 'ER6748-000',\n",
       " '701545-000',\n",
       " '2382290-4',\n",
       " 'CG3784-000',\n",
       " 'CR1436-000',\n",
       " 'CS4645-000',\n",
       " '701587-000',\n",
       " '300313-000',\n",
       " '012130-000',\n",
       " 'BM8725-000',\n",
       " 'EN3742-191',\n",
       " 'BM9580-000',\n",
       " 'ES0155-000',\n",
       " 'CR3371-000',\n",
       " 'CL0338-000',\n",
       " 'EN1303-000',\n",
       " 'ER2761-000',\n",
       " '659585-000',\n",
       " 'A63973-000',\n",
       " 'EF7644-000',\n",
       " 'BM1564-000',\n",
       " '523476-000',\n",
       " '424417-001',\n",
       " '327201-000',\n",
       " 'CR2760-000',\n",
       " '208172-1',\n",
       " 'C93173-000',\n",
       " '2418068-4',\n",
       " 'CU0498-000',\n",
       " 'CP7509-000',\n",
       " 'EN6194-000',\n",
       " '254625-000',\n",
       " 'C98069-000',\n",
       " 'EH2031-000',\n",
       " 'EN3749-014',\n",
       " '193808-000',\n",
       " 'BM6122-000',\n",
       " 'BM1563-000',\n",
       " 'EM9218-000',\n",
       " '955874-000',\n",
       " 'ER4706-000',\n",
       " 'ES8415-000',\n",
       " 'EK8054-000',\n",
       " 'F92189-000',\n",
       " 'EP1321-000',\n",
       " '2832042-1',\n",
       " '2376750-3',\n",
       " 'ES2052-000',\n",
       " 'EN8302-000',\n",
       " '193848-000',\n",
       " 'D13288-000',\n",
       " 'BM7954-000',\n",
       " 'CL3656-000',\n",
       " 'CR1422-000',\n",
       " '2084632-4',\n",
       " 'CU4255-000',\n",
       " 'CG3828-000',\n",
       " '1116374-1',\n",
       " 'EN1256-000',\n",
       " '1116273-1',\n",
       " 'CF9292-000',\n",
       " '214085-000',\n",
       " 'CS5726-000',\n",
       " 'CG5723-000',\n",
       " 'EK5423-000',\n",
       " 'ED9200-000',\n",
       " '454312-000',\n",
       " 'EB8637-000',\n",
       " 'EP5507-000',\n",
       " 'CT0032-000',\n",
       " 'C39864-000',\n",
       " '2350207-1',\n",
       " '742541-000',\n",
       " 'CA0968-000',\n",
       " 'ED7077-000',\n",
       " 'CR1335-000',\n",
       " 'EH9893-000',\n",
       " '647811-000',\n",
       " 'ES1139-000',\n",
       " 'EB1048-000',\n",
       " '2301076-1',\n",
       " '456990-000',\n",
       " 'E93177N001',\n",
       " 'EP7244-000',\n",
       " '120276-000',\n",
       " 'CG3854-000',\n",
       " 'CG3868-000',\n",
       " '2424188-2',\n",
       " 'ER8330-000',\n",
       " 'CB2604-000',\n",
       " 'CF4012-000',\n",
       " '2388353-1',\n",
       " 'CG3620-000',\n",
       " '440963-000',\n",
       " 'ER6969-000',\n",
       " 'ED9174-000',\n",
       " '2384755-4',\n",
       " 'CG9912-000',\n",
       " 'CT0248-000',\n",
       " 'EK0650-000',\n",
       " 'ES2044-000',\n",
       " '502588-000',\n",
       " 'CT0289-000',\n",
       " 'CR4528-000',\n",
       " 'EH5754-000',\n",
       " '850906-000',\n",
       " 'CG3680-000',\n",
       " 'BM3885-000',\n",
       " 'EK8174-000',\n",
       " '978928-000',\n",
       " '048850-000',\n",
       " '056750-000',\n",
       " 'ED1741-000',\n",
       " 'CJ3981-000',\n",
       " 'CA7309-000',\n",
       " 'EB0286-000',\n",
       " 'EN3750-627',\n",
       " 'EN6512-000',\n",
       " 'EP5820-000',\n",
       " 'D63258-000',\n",
       " 'EB8211-000',\n",
       " 'EF7637-000',\n",
       " '156121-000',\n",
       " '233783-000',\n",
       " '2392175-4',\n",
       " '028378-000',\n",
       " '122319-000',\n",
       " 'EN5957-000',\n",
       " '029173-000',\n",
       " 'ER2884-000',\n",
       " '120374-000',\n",
       " '258804-000',\n",
       " '195996-000',\n",
       " '818545-000',\n",
       " '496323-000',\n",
       " 'CX4573-000',\n",
       " 'EN3750-705',\n",
       " 'EN3750-385',\n",
       " 'ED9347-000',\n",
       " 'EA3549-000',\n",
       " 'ER0918-000',\n",
       " '863155-000',\n",
       " 'EN3742-072',\n",
       " 'CT0200-000',\n",
       " 'ES0800-000',\n",
       " '028372-000',\n",
       " 'CR1835-000',\n",
       " 'CT0193-000',\n",
       " 'EN3749-002',\n",
       " 'CS4644-000',\n",
       " 'EP3283-000',\n",
       " 'CT0359-000',\n",
       " 'C81279-000',\n",
       " 'EP9394-000',\n",
       " 'ES0200-000',\n",
       " '526477-000',\n",
       " '064978-000',\n",
       " '113268-000',\n",
       " 'EN2501-000',\n",
       " 'EB0291-000',\n",
       " 'EN0918-000',\n",
       " 'EP6070-000',\n",
       " 'CX3784-000',\n",
       " 'EE1125-000',\n",
       " '804390-000',\n",
       " '121454-000',\n",
       " '803837-000',\n",
       " 'EE1115-000',\n",
       " 'CT0107-000',\n",
       " 'CT0216-000',\n",
       " 'D43008-000',\n",
       " 'ER0872-000',\n",
       " '858456-000',\n",
       " 'EN2452-000',\n",
       " '269732-000',\n",
       " 'EP0187-000',\n",
       " '375946-000',\n",
       " 'CG3599-000',\n",
       " 'ED9185-000',\n",
       " '183855-000',\n",
       " 'CA1258-000',\n",
       " 'FG1260-000',\n",
       " 'FG1745-000',\n",
       " 'CG3766-000',\n",
       " 'CR4499-000',\n",
       " '207361-000',\n",
       " 'CR6084-011',\n",
       " 'EP5022-000',\n",
       " 'EK0745-007',\n",
       " 'CG3557-000',\n",
       " 'EJ0450-000',\n",
       " 'EN3746-046',\n",
       " 'EN3750-164',\n",
       " 'CT0191-000',\n",
       " 'EP8509-000',\n",
       " 'EA7100-000',\n",
       " '336815-000',\n",
       " 'ER8333-000',\n",
       " '634605-000',\n",
       " 'EE3641-000',\n",
       " 'A81534-000',\n",
       " '476512-000',\n",
       " 'CJ5021-000',\n",
       " 'CT0041-000',\n",
       " '334473-000',\n",
       " 'D87535-000',\n",
       " 'ER6536-000',\n",
       " 'EK0859-023',\n",
       " '619202-000',\n",
       " '014670-000',\n",
       " 'CG3903-000',\n",
       " 'EH5771-000',\n",
       " '889593-000',\n",
       " 'EN3742-131',\n",
       " '756336-000',\n",
       " 'CP8406-000',\n",
       " 'CG9971-000',\n",
       " 'ED0152-000',\n",
       " 'EP5862-000',\n",
       " 'CJ2961-000',\n",
       " '2378450-2',\n",
       " 'ES2468-000',\n",
       " 'EK0742-004',\n",
       " 'CB2528-000',\n",
       " 'CT0065-000',\n",
       " 'ED8881-000',\n",
       " 'ES8417-000',\n",
       " 'CB2603-000',\n",
       " 'P00001-001',\n",
       " 'CJ0585-000',\n",
       " 'ES0115-000',\n",
       " 'F65958-000',\n",
       " 'CR1425-000',\n",
       " 'EP6511-000',\n",
       " 'EP8940-000',\n",
       " 'F50602-000',\n",
       " 'CF5637-000',\n",
       " '2182994-7',\n",
       " '300697-000',\n",
       " 'CU2189-000',\n",
       " '078815-000',\n",
       " 'CR0907-000',\n",
       " 'EK7014-000',\n",
       " 'EK0752-015',\n",
       " '876925-000',\n",
       " 'EN4520-024',\n",
       " 'EN1225-000',\n",
       " '496194-000',\n",
       " '812965-000',\n",
       " 'EN3742-018',\n",
       " 'EN3745-044',\n",
       " 'CL5417-000',\n",
       " 'CG3665-000',\n",
       " 'ER4620-000',\n",
       " 'EN3749-029',\n",
       " 'EN3751-278',\n",
       " 'EP6205-000',\n",
       " 'EN4393-000',\n",
       " '573459-000',\n",
       " 'EP5508-000',\n",
       " 'EB0294-000',\n",
       " 'ER5459-000',\n",
       " 'EH8276-000',\n",
       " '2308033-1',\n",
       " 'ED0514-000',\n",
       " '636452-000',\n",
       " '2407597-1',\n",
       " 'CG3756-000',\n",
       " 'EK0857-008',\n",
       " 'ER0885-000',\n",
       " '2374928-7',\n",
       " 'EN0028-000',\n",
       " 'ED2781-000',\n",
       " 'EN3750-267',\n",
       " 'ER1693-000',\n",
       " 'E32972-000',\n",
       " 'BM3870-000',\n",
       " 'EN3750-273',\n",
       " '742836-000',\n",
       " '841698-000',\n",
       " 'EE0679-000',\n",
       " 'ER6322-000',\n",
       " '972168-000',\n",
       " 'G37412-000',\n",
       " 'CT0181-000',\n",
       " 'EN2786-000',\n",
       " '2382266-5',\n",
       " 'ER7405-000',\n",
       " 'F43262-000',\n",
       " 'EH5776-000',\n",
       " '028630-000',\n",
       " 'ES1403-000',\n",
       " '304006-000',\n",
       " 'ER6542-000',\n",
       " 'EN5790-000',\n",
       " 'CT0113-000',\n",
       " '2304318-5',\n",
       " 'CJ0566-000',\n",
       " 'CR1426-000',\n",
       " '2424191-2',\n",
       " 'BM1463-000',\n",
       " 'CS1615-000',\n",
       " '045734-000',\n",
       " 'ER3092-000',\n",
       " 'CJ7356-000',\n",
       " 'EN1732-000',\n",
       " '459876-005',\n",
       " 'EB8649-000',\n",
       " 'A02744-000',\n",
       " 'EK9488-000',\n",
       " 'EN3750-662',\n",
       " 'CP9931-000',\n",
       " '984465-000',\n",
       " '1710979-7',\n",
       " 'F87935-000',\n",
       " '775717-000',\n",
       " '000938N001',\n",
       " 'CT0201-000',\n",
       " 'EN3750-899',\n",
       " 'ER3355-000',\n",
       " 'CR1286-000',\n",
       " '604152-000',\n",
       " '421986-000',\n",
       " 'FG1290-000',\n",
       " 'EN3750-016',\n",
       " '2388457-4',\n",
       " '485626-000',\n",
       " 'EK9872-000',\n",
       " '449329-000',\n",
       " '643708-000',\n",
       " 'EN3750-457',\n",
       " 'EN3750-679',\n",
       " '541259N001',\n",
       " 'ES1128-002',\n",
       " '2388831-8',\n",
       " 'EP9498-000',\n",
       " 'EN5693-000',\n",
       " 'CU9432-000',\n",
       " '622577-000',\n",
       " 'D48078-000',\n",
       " 'ER4062-000',\n",
       " 'CG5641-000',\n",
       " 'E00993-000',\n",
       " 'EB8319-000',\n",
       " 'ED9359-000',\n",
       " '513447-000',\n",
       " '2182515-2',\n",
       " 'EB0282-000',\n",
       " '2374928-4',\n",
       " 'CT0125-000',\n",
       " 'ED1894-000',\n",
       " 'ED9171-000',\n",
       " 'EE0471-000',\n",
       " '474592-000',\n",
       " 'CF5638-000',\n",
       " 'ED2745-000',\n",
       " 'CG3523-000',\n",
       " 'EN2655-000',\n",
       " 'EH7836-000',\n",
       " 'CR0299-000',\n",
       " 'EN5682-015',\n",
       " 'ER0021-000',\n",
       " '2344892-1',\n",
       " '428887-000',\n",
       " 'EM7901-000',\n",
       " '004019N001',\n",
       " '101733-000',\n",
       " 'CM6538-000',\n",
       " '112464-000',\n",
       " 'ER8327-000',\n",
       " 'ED9004-000',\n",
       " 'CR3997-000',\n",
       " 'EP7740-000',\n",
       " 'EN3750-467',\n",
       " 'C09530-000',\n",
       " 'CH5892-000',\n",
       " '2407518-2',\n",
       " '2418068-1',\n",
       " 'CR5935-000',\n",
       " '127014-000',\n",
       " 'FG1529-000',\n",
       " 'EN5682-020',\n",
       " 'EE5661-000',\n",
       " 'CP1629-000',\n",
       " 'CR5012-011',\n",
       " 'CG3606-000',\n",
       " 'CJ0567-000',\n",
       " 'CT0088-000',\n",
       " 'EN0986-000',\n",
       " 'EK9489-000',\n",
       " 'EJ2739-000',\n",
       " 'ED8877-000',\n",
       " 'EN3750-712',\n",
       " '335512-000',\n",
       " 'D53039-000',\n",
       " 'EN5867-003',\n",
       " 'FG1348-000',\n",
       " '2378450-5',\n",
       " 'ER8425-000',\n",
       " 'CX7377-000',\n",
       " 'ER9261-000',\n",
       " '2364039-7',\n",
       " '946279-000',\n",
       " '926253-000',\n",
       " 'EE0487-000',\n",
       " 'CU2199-000',\n",
       " 'CR1294-000',\n",
       " '581174-000',\n",
       " '511557-000',\n",
       " ...}"
      ]
     },
     "execution_count": 37,
     "metadata": {},
     "output_type": "execute_result"
    }
   ],
   "source": [
    "set(df1['Part'])"
   ]
  },
  {
   "cell_type": "code",
   "execution_count": 38,
   "id": "e006ae16",
   "metadata": {},
   "outputs": [
    {
     "data": {
      "text/plain": [
       "False    162272\n",
       "Name: Part, dtype: int64"
      ]
     },
     "execution_count": 38,
     "metadata": {},
     "output_type": "execute_result"
    }
   ],
   "source": [
    "df1['Part'].isna().value_counts()"
   ]
  },
  {
   "cell_type": "code",
   "execution_count": 39,
   "id": "05059309",
   "metadata": {},
   "outputs": [
    {
     "data": {
      "text/plain": [
       "871788-000    1729\n",
       "360954-000    1471\n",
       "197886-000     898\n",
       "268120-000     822\n",
       "244890-000     816\n",
       "              ... \n",
       "EP8509-000       1\n",
       "872568-000       1\n",
       "E16246-000       1\n",
       "2384755-4        1\n",
       "ES2996-000       1\n",
       "Name: Part, Length: 7103, dtype: int64"
      ]
     },
     "execution_count": 39,
     "metadata": {},
     "output_type": "execute_result"
    }
   ],
   "source": [
    "df1['Part'].value_counts()"
   ]
  },
  {
   "cell_type": "code",
   "execution_count": 40,
   "id": "dac4161f",
   "metadata": {},
   "outputs": [],
   "source": [
    "# C_LT = []\n",
    "# for i in range(len(df1['ReqDt'])):\n",
    "#     timedelta = df1['ReqDt'][i] - df1['Ord-Dt'][i]\n",
    "#     timedelta_days = timedelta.days  # Extract the number of days from the timedelta object\n",
    "#     if -1000 < timedelta_days < 1000:\n",
    "#         C_LT.append(timedelta_days)\n",
    "#     else:\n",
    "#         C_LT.append(0)\n",
    "\n",
    "# df1['Customer LT'] = C_LT"
   ]
  },
  {
   "cell_type": "code",
   "execution_count": 41,
   "id": "69826fe2",
   "metadata": {},
   "outputs": [],
   "source": [
    "D_LT = []\n",
    "for index, row in df1.iterrows():\n",
    "    timedelta = row['Original Due Date'] - row['Ord-Dt']\n",
    "    timedelta_days = timedelta.days  # Extract the number of days from the timedelta object\n",
    "    if -1000 < timedelta_days < 1000:\n",
    "        D_LT.append(timedelta_days)\n",
    "    else:\n",
    "        D_LT.append(0)\n",
    "\n",
    "df1['TE_ship LT'] = D_LT\n"
   ]
  },
  {
   "cell_type": "code",
   "execution_count": 42,
   "id": "b74ea38f",
   "metadata": {},
   "outputs": [],
   "source": [
    "C_LT = []\n",
    "for index, row in df1.iterrows():\n",
    "    timedelta = row['ReqDt'] - row['Ord-Dt']\n",
    "    timedelta_days = timedelta.days  # Extract the number of days from the timedelta object\n",
    "    if -1000 < timedelta_days < 1000:\n",
    "        C_LT.append(timedelta_days)\n",
    "    else:\n",
    "        C_LT.append(0)\n",
    "\n",
    "df1['Customer LT'] = C_LT\n"
   ]
  },
  {
   "cell_type": "code",
   "execution_count": 43,
   "id": "53430c89",
   "metadata": {},
   "outputs": [],
   "source": [
    "S_LT = []\n",
    "for index, row in df1.iterrows():\n",
    "    timedelta = row['InvoiceDt'] - row['Ord-Dt']\n",
    "    timedelta_days = timedelta.days  # Extract the number of days from the timedelta object\n",
    "    if -1000 < timedelta_days < 1000:\n",
    "        S_LT.append(timedelta_days)\n",
    "    else:\n",
    "        S_LT.append(0)\n",
    "\n",
    "df1['Shipping LT'] = S_LT\n"
   ]
  },
  {
   "cell_type": "code",
   "execution_count": 44,
   "id": "62e7cdcf",
   "metadata": {},
   "outputs": [],
   "source": [
    "df_y = df1[(df1['OTTO-GPL']==364)|\n",
    "           (df1['OTTO-GPL']==760)|\n",
    "           (df1['OTTO-GPL']==755)|\n",
    "           (df1['OTTO-GPL']=='F14')|\n",
    "           (df1['OTTO-GPL']==753)|\n",
    "          (df1['OTTO-GPL']==748)|\n",
    "          (df1['OTTO-GPL']==749)|\n",
    "          (df1['OTTO-GPL']==752)|\n",
    "          (df1['OTTO-GPL']==751)|\n",
    "          (df1['OTTO-GPL']==757)|\n",
    "          (df1['OTTO-GPL']==758)|\n",
    "          (df1['OTTO-GPL']==750)|\n",
    "          (df1['OTTO-GPL']=='E78')|\n",
    "          (df1['OTTO-GPL']=='E82')|\n",
    "          (df1['OTTO-GPL']=='JA2')|\n",
    "          (df1['OTTO-GPL']=='J71')|\n",
    "          (df1['OTTO-GPL']=='KB1')|\n",
    "          (df1['OTTO-GPL']==141)|\n",
    "          (df1['OTTO-GPL']==151)|\n",
    "          (df1['OTTO-GPL']==435)]\n"
   ]
  },
  {
   "cell_type": "code",
   "execution_count": 45,
   "id": "ec449ccb",
   "metadata": {},
   "outputs": [
    {
     "data": {
      "text/html": [
       "<div>\n",
       "<style scoped>\n",
       "    .dataframe tbody tr th:only-of-type {\n",
       "        vertical-align: middle;\n",
       "    }\n",
       "\n",
       "    .dataframe tbody tr th {\n",
       "        vertical-align: top;\n",
       "    }\n",
       "\n",
       "    .dataframe thead th {\n",
       "        text-align: right;\n",
       "    }\n",
       "</style>\n",
       "<table border=\"1\" class=\"dataframe\">\n",
       "  <thead>\n",
       "    <tr style=\"text-align: right;\">\n",
       "      <th></th>\n",
       "      <th>Part</th>\n",
       "      <th>OTTO-GPL</th>\n",
       "      <th>Part Type</th>\n",
       "      <th>QtyInvoiced</th>\n",
       "      <th>Ord-Dt</th>\n",
       "      <th>ReqDt</th>\n",
       "      <th>Original Due Date</th>\n",
       "      <th>InvoiceDt</th>\n",
       "      <th>TE_ship LT</th>\n",
       "      <th>Customer LT</th>\n",
       "      <th>Shipping LT</th>\n",
       "    </tr>\n",
       "  </thead>\n",
       "  <tbody>\n",
       "    <tr>\n",
       "      <th>0</th>\n",
       "      <td>618951-000</td>\n",
       "      <td>752</td>\n",
       "      <td>MTSQS</td>\n",
       "      <td>10.0</td>\n",
       "      <td>2021-02-03</td>\n",
       "      <td>2021-02-08</td>\n",
       "      <td>2021-02-08</td>\n",
       "      <td>2021-02-08</td>\n",
       "      <td>5</td>\n",
       "      <td>5</td>\n",
       "      <td>5</td>\n",
       "    </tr>\n",
       "    <tr>\n",
       "      <th>3</th>\n",
       "      <td>CN2770-000</td>\n",
       "      <td>749</td>\n",
       "      <td>MTO</td>\n",
       "      <td>1000.0</td>\n",
       "      <td>2020-12-14</td>\n",
       "      <td>2021-02-04</td>\n",
       "      <td>2021-04-27</td>\n",
       "      <td>2021-02-08</td>\n",
       "      <td>134</td>\n",
       "      <td>52</td>\n",
       "      <td>56</td>\n",
       "    </tr>\n",
       "    <tr>\n",
       "      <th>4</th>\n",
       "      <td>EE0458-000</td>\n",
       "      <td>755</td>\n",
       "      <td>MTSQS</td>\n",
       "      <td>500.0</td>\n",
       "      <td>2021-02-04</td>\n",
       "      <td>2021-02-08</td>\n",
       "      <td>2021-02-08</td>\n",
       "      <td>2021-02-08</td>\n",
       "      <td>4</td>\n",
       "      <td>4</td>\n",
       "      <td>4</td>\n",
       "    </tr>\n",
       "    <tr>\n",
       "      <th>5</th>\n",
       "      <td>921440-000</td>\n",
       "      <td>141</td>\n",
       "      <td>MTS</td>\n",
       "      <td>25500.0</td>\n",
       "      <td>2020-12-08</td>\n",
       "      <td>2020-12-21</td>\n",
       "      <td>2021-02-08</td>\n",
       "      <td>2021-02-08</td>\n",
       "      <td>62</td>\n",
       "      <td>13</td>\n",
       "      <td>62</td>\n",
       "    </tr>\n",
       "    <tr>\n",
       "      <th>8</th>\n",
       "      <td>205901-000</td>\n",
       "      <td>753</td>\n",
       "      <td>MTSQS</td>\n",
       "      <td>60.0</td>\n",
       "      <td>2021-02-03</td>\n",
       "      <td>2021-02-08</td>\n",
       "      <td>2021-02-08</td>\n",
       "      <td>2021-02-08</td>\n",
       "      <td>5</td>\n",
       "      <td>5</td>\n",
       "      <td>5</td>\n",
       "    </tr>\n",
       "  </tbody>\n",
       "</table>\n",
       "</div>"
      ],
      "text/plain": [
       "         Part OTTO-GPL Part Type  QtyInvoiced     Ord-Dt      ReqDt  \\\n",
       "0  618951-000      752     MTSQS         10.0 2021-02-03 2021-02-08   \n",
       "3  CN2770-000      749       MTO       1000.0 2020-12-14 2021-02-04   \n",
       "4  EE0458-000      755     MTSQS        500.0 2021-02-04 2021-02-08   \n",
       "5  921440-000      141       MTS      25500.0 2020-12-08 2020-12-21   \n",
       "8  205901-000      753     MTSQS         60.0 2021-02-03 2021-02-08   \n",
       "\n",
       "  Original Due Date  InvoiceDt  TE_ship LT  Customer LT  Shipping LT  \n",
       "0        2021-02-08 2021-02-08           5            5            5  \n",
       "3        2021-04-27 2021-02-08         134           52           56  \n",
       "4        2021-02-08 2021-02-08           4            4            4  \n",
       "5        2021-02-08 2021-02-08          62           13           62  \n",
       "8        2021-02-08 2021-02-08           5            5            5  "
      ]
     },
     "execution_count": 45,
     "metadata": {},
     "output_type": "execute_result"
    }
   ],
   "source": [
    "df_y.head()"
   ]
  },
  {
   "cell_type": "code",
   "execution_count": 46,
   "id": "6ff681b4",
   "metadata": {
    "scrolled": true
   },
   "outputs": [
    {
     "data": {
      "text/html": [
       "<div>\n",
       "<style scoped>\n",
       "    .dataframe tbody tr th:only-of-type {\n",
       "        vertical-align: middle;\n",
       "    }\n",
       "\n",
       "    .dataframe tbody tr th {\n",
       "        vertical-align: top;\n",
       "    }\n",
       "\n",
       "    .dataframe thead th {\n",
       "        text-align: right;\n",
       "    }\n",
       "</style>\n",
       "<table border=\"1\" class=\"dataframe\">\n",
       "  <thead>\n",
       "    <tr style=\"text-align: right;\">\n",
       "      <th></th>\n",
       "      <th>QtyInvoiced</th>\n",
       "      <th>TE_ship LT</th>\n",
       "      <th>Customer LT</th>\n",
       "      <th>Shipping LT</th>\n",
       "    </tr>\n",
       "    <tr>\n",
       "      <th>OTTO-GPL</th>\n",
       "      <th></th>\n",
       "      <th></th>\n",
       "      <th></th>\n",
       "      <th></th>\n",
       "    </tr>\n",
       "  </thead>\n",
       "  <tbody>\n",
       "    <tr>\n",
       "      <th>141</th>\n",
       "      <td>967.373727</td>\n",
       "      <td>64.940173</td>\n",
       "      <td>41.847251</td>\n",
       "      <td>50.161405</td>\n",
       "    </tr>\n",
       "    <tr>\n",
       "      <th>151</th>\n",
       "      <td>9.601707</td>\n",
       "      <td>26.272546</td>\n",
       "      <td>13.823329</td>\n",
       "      <td>29.510100</td>\n",
       "    </tr>\n",
       "    <tr>\n",
       "      <th>364</th>\n",
       "      <td>503.279300</td>\n",
       "      <td>72.292947</td>\n",
       "      <td>30.236860</td>\n",
       "      <td>53.564691</td>\n",
       "    </tr>\n",
       "    <tr>\n",
       "      <th>435</th>\n",
       "      <td>8098.742308</td>\n",
       "      <td>186.873077</td>\n",
       "      <td>98.057692</td>\n",
       "      <td>206.596154</td>\n",
       "    </tr>\n",
       "    <tr>\n",
       "      <th>748</th>\n",
       "      <td>7.159653</td>\n",
       "      <td>93.395918</td>\n",
       "      <td>75.908163</td>\n",
       "      <td>97.380612</td>\n",
       "    </tr>\n",
       "    <tr>\n",
       "      <th>749</th>\n",
       "      <td>190.412483</td>\n",
       "      <td>36.820339</td>\n",
       "      <td>19.887773</td>\n",
       "      <td>23.582595</td>\n",
       "    </tr>\n",
       "    <tr>\n",
       "      <th>750</th>\n",
       "      <td>1184.350828</td>\n",
       "      <td>47.531086</td>\n",
       "      <td>36.779168</td>\n",
       "      <td>57.648567</td>\n",
       "    </tr>\n",
       "    <tr>\n",
       "      <th>751</th>\n",
       "      <td>103.270224</td>\n",
       "      <td>37.127902</td>\n",
       "      <td>29.246575</td>\n",
       "      <td>38.507282</td>\n",
       "    </tr>\n",
       "    <tr>\n",
       "      <th>752</th>\n",
       "      <td>115.357062</td>\n",
       "      <td>48.467735</td>\n",
       "      <td>28.526963</td>\n",
       "      <td>59.778317</td>\n",
       "    </tr>\n",
       "    <tr>\n",
       "      <th>753</th>\n",
       "      <td>47.151812</td>\n",
       "      <td>37.226144</td>\n",
       "      <td>17.230992</td>\n",
       "      <td>41.735074</td>\n",
       "    </tr>\n",
       "    <tr>\n",
       "      <th>755</th>\n",
       "      <td>236.984178</td>\n",
       "      <td>22.220325</td>\n",
       "      <td>15.451218</td>\n",
       "      <td>21.574365</td>\n",
       "    </tr>\n",
       "    <tr>\n",
       "      <th>757</th>\n",
       "      <td>71.765380</td>\n",
       "      <td>50.155609</td>\n",
       "      <td>40.036791</td>\n",
       "      <td>63.027141</td>\n",
       "    </tr>\n",
       "    <tr>\n",
       "      <th>758</th>\n",
       "      <td>109.296266</td>\n",
       "      <td>58.917569</td>\n",
       "      <td>47.689349</td>\n",
       "      <td>69.406982</td>\n",
       "    </tr>\n",
       "    <tr>\n",
       "      <th>760</th>\n",
       "      <td>241.763293</td>\n",
       "      <td>23.401553</td>\n",
       "      <td>20.627423</td>\n",
       "      <td>26.109131</td>\n",
       "    </tr>\n",
       "    <tr>\n",
       "      <th>E78</th>\n",
       "      <td>13.096447</td>\n",
       "      <td>98.979695</td>\n",
       "      <td>92.340102</td>\n",
       "      <td>141.055838</td>\n",
       "    </tr>\n",
       "    <tr>\n",
       "      <th>E82</th>\n",
       "      <td>9285.386836</td>\n",
       "      <td>126.664203</td>\n",
       "      <td>105.211545</td>\n",
       "      <td>125.231609</td>\n",
       "    </tr>\n",
       "    <tr>\n",
       "      <th>F14</th>\n",
       "      <td>228.000611</td>\n",
       "      <td>15.061549</td>\n",
       "      <td>15.229891</td>\n",
       "      <td>36.016644</td>\n",
       "    </tr>\n",
       "    <tr>\n",
       "      <th>J71</th>\n",
       "      <td>29.090043</td>\n",
       "      <td>43.829947</td>\n",
       "      <td>48.108101</td>\n",
       "      <td>42.726361</td>\n",
       "    </tr>\n",
       "    <tr>\n",
       "      <th>JA2</th>\n",
       "      <td>28.447661</td>\n",
       "      <td>63.839644</td>\n",
       "      <td>44.338530</td>\n",
       "      <td>93.766147</td>\n",
       "    </tr>\n",
       "    <tr>\n",
       "      <th>KB1</th>\n",
       "      <td>386.467505</td>\n",
       "      <td>65.974843</td>\n",
       "      <td>90.971698</td>\n",
       "      <td>80.147799</td>\n",
       "    </tr>\n",
       "  </tbody>\n",
       "</table>\n",
       "</div>"
      ],
      "text/plain": [
       "          QtyInvoiced  TE_ship LT  Customer LT  Shipping LT\n",
       "OTTO-GPL                                                   \n",
       "141        967.373727   64.940173    41.847251    50.161405\n",
       "151          9.601707   26.272546    13.823329    29.510100\n",
       "364        503.279300   72.292947    30.236860    53.564691\n",
       "435       8098.742308  186.873077    98.057692   206.596154\n",
       "748          7.159653   93.395918    75.908163    97.380612\n",
       "749        190.412483   36.820339    19.887773    23.582595\n",
       "750       1184.350828   47.531086    36.779168    57.648567\n",
       "751        103.270224   37.127902    29.246575    38.507282\n",
       "752        115.357062   48.467735    28.526963    59.778317\n",
       "753         47.151812   37.226144    17.230992    41.735074\n",
       "755        236.984178   22.220325    15.451218    21.574365\n",
       "757         71.765380   50.155609    40.036791    63.027141\n",
       "758        109.296266   58.917569    47.689349    69.406982\n",
       "760        241.763293   23.401553    20.627423    26.109131\n",
       "E78         13.096447   98.979695    92.340102   141.055838\n",
       "E82       9285.386836  126.664203   105.211545   125.231609\n",
       "F14        228.000611   15.061549    15.229891    36.016644\n",
       "J71         29.090043   43.829947    48.108101    42.726361\n",
       "JA2         28.447661   63.839644    44.338530    93.766147\n",
       "KB1        386.467505   65.974843    90.971698    80.147799"
      ]
     },
     "execution_count": 46,
     "metadata": {},
     "output_type": "execute_result"
    }
   ],
   "source": [
    "df_y.groupby(by='OTTO-GPL').mean()"
   ]
  },
  {
   "cell_type": "code",
   "execution_count": 47,
   "id": "5a59d5fc",
   "metadata": {},
   "outputs": [
    {
     "data": {
      "text/html": [
       "<div>\n",
       "<style scoped>\n",
       "    .dataframe tbody tr th:only-of-type {\n",
       "        vertical-align: middle;\n",
       "    }\n",
       "\n",
       "    .dataframe tbody tr th {\n",
       "        vertical-align: top;\n",
       "    }\n",
       "\n",
       "    .dataframe thead th {\n",
       "        text-align: right;\n",
       "    }\n",
       "</style>\n",
       "<table border=\"1\" class=\"dataframe\">\n",
       "  <thead>\n",
       "    <tr style=\"text-align: right;\">\n",
       "      <th></th>\n",
       "      <th>Part</th>\n",
       "      <th>Part Type</th>\n",
       "      <th>QtyInvoiced</th>\n",
       "      <th>Ord-Dt</th>\n",
       "      <th>ReqDt</th>\n",
       "      <th>Original Due Date</th>\n",
       "      <th>InvoiceDt</th>\n",
       "      <th>TE_ship LT</th>\n",
       "      <th>Customer LT</th>\n",
       "      <th>Shipping LT</th>\n",
       "    </tr>\n",
       "    <tr>\n",
       "      <th>OTTO-GPL</th>\n",
       "      <th></th>\n",
       "      <th></th>\n",
       "      <th></th>\n",
       "      <th></th>\n",
       "      <th></th>\n",
       "      <th></th>\n",
       "      <th></th>\n",
       "      <th></th>\n",
       "      <th></th>\n",
       "      <th></th>\n",
       "    </tr>\n",
       "  </thead>\n",
       "  <tbody>\n",
       "    <tr>\n",
       "      <th>141</th>\n",
       "      <td>3928</td>\n",
       "      <td>3928</td>\n",
       "      <td>3928</td>\n",
       "      <td>3928</td>\n",
       "      <td>3928</td>\n",
       "      <td>3928</td>\n",
       "      <td>3928</td>\n",
       "      <td>3928</td>\n",
       "      <td>3928</td>\n",
       "      <td>3928</td>\n",
       "    </tr>\n",
       "    <tr>\n",
       "      <th>151</th>\n",
       "      <td>3515</td>\n",
       "      <td>3515</td>\n",
       "      <td>3515</td>\n",
       "      <td>3515</td>\n",
       "      <td>3515</td>\n",
       "      <td>3515</td>\n",
       "      <td>3515</td>\n",
       "      <td>3515</td>\n",
       "      <td>3515</td>\n",
       "      <td>3515</td>\n",
       "    </tr>\n",
       "    <tr>\n",
       "      <th>364</th>\n",
       "      <td>30043</td>\n",
       "      <td>30043</td>\n",
       "      <td>30043</td>\n",
       "      <td>30043</td>\n",
       "      <td>30043</td>\n",
       "      <td>30043</td>\n",
       "      <td>30043</td>\n",
       "      <td>30043</td>\n",
       "      <td>30043</td>\n",
       "      <td>30043</td>\n",
       "    </tr>\n",
       "    <tr>\n",
       "      <th>435</th>\n",
       "      <td>260</td>\n",
       "      <td>260</td>\n",
       "      <td>260</td>\n",
       "      <td>260</td>\n",
       "      <td>260</td>\n",
       "      <td>260</td>\n",
       "      <td>260</td>\n",
       "      <td>260</td>\n",
       "      <td>260</td>\n",
       "      <td>260</td>\n",
       "    </tr>\n",
       "    <tr>\n",
       "      <th>748</th>\n",
       "      <td>980</td>\n",
       "      <td>980</td>\n",
       "      <td>980</td>\n",
       "      <td>980</td>\n",
       "      <td>980</td>\n",
       "      <td>980</td>\n",
       "      <td>980</td>\n",
       "      <td>980</td>\n",
       "      <td>980</td>\n",
       "      <td>980</td>\n",
       "    </tr>\n",
       "    <tr>\n",
       "      <th>749</th>\n",
       "      <td>10158</td>\n",
       "      <td>10158</td>\n",
       "      <td>10158</td>\n",
       "      <td>10158</td>\n",
       "      <td>10158</td>\n",
       "      <td>10158</td>\n",
       "      <td>10158</td>\n",
       "      <td>10158</td>\n",
       "      <td>10158</td>\n",
       "      <td>10158</td>\n",
       "    </tr>\n",
       "    <tr>\n",
       "      <th>750</th>\n",
       "      <td>4954</td>\n",
       "      <td>4954</td>\n",
       "      <td>4954</td>\n",
       "      <td>4954</td>\n",
       "      <td>4954</td>\n",
       "      <td>4954</td>\n",
       "      <td>4954</td>\n",
       "      <td>4954</td>\n",
       "      <td>4954</td>\n",
       "      <td>4954</td>\n",
       "    </tr>\n",
       "    <tr>\n",
       "      <th>751</th>\n",
       "      <td>6935</td>\n",
       "      <td>6935</td>\n",
       "      <td>6935</td>\n",
       "      <td>6935</td>\n",
       "      <td>6935</td>\n",
       "      <td>6935</td>\n",
       "      <td>6935</td>\n",
       "      <td>6935</td>\n",
       "      <td>6935</td>\n",
       "      <td>6935</td>\n",
       "    </tr>\n",
       "    <tr>\n",
       "      <th>752</th>\n",
       "      <td>8864</td>\n",
       "      <td>8864</td>\n",
       "      <td>8864</td>\n",
       "      <td>8864</td>\n",
       "      <td>8864</td>\n",
       "      <td>8864</td>\n",
       "      <td>8864</td>\n",
       "      <td>8864</td>\n",
       "      <td>8864</td>\n",
       "      <td>8864</td>\n",
       "    </tr>\n",
       "    <tr>\n",
       "      <th>753</th>\n",
       "      <td>11758</td>\n",
       "      <td>11758</td>\n",
       "      <td>11758</td>\n",
       "      <td>11758</td>\n",
       "      <td>11758</td>\n",
       "      <td>11758</td>\n",
       "      <td>11758</td>\n",
       "      <td>11758</td>\n",
       "      <td>11758</td>\n",
       "      <td>11758</td>\n",
       "    </tr>\n",
       "    <tr>\n",
       "      <th>755</th>\n",
       "      <td>15518</td>\n",
       "      <td>15518</td>\n",
       "      <td>15518</td>\n",
       "      <td>15518</td>\n",
       "      <td>15518</td>\n",
       "      <td>15518</td>\n",
       "      <td>15518</td>\n",
       "      <td>15518</td>\n",
       "      <td>15518</td>\n",
       "      <td>15518</td>\n",
       "    </tr>\n",
       "    <tr>\n",
       "      <th>757</th>\n",
       "      <td>1658</td>\n",
       "      <td>1658</td>\n",
       "      <td>1658</td>\n",
       "      <td>1658</td>\n",
       "      <td>1658</td>\n",
       "      <td>1658</td>\n",
       "      <td>1658</td>\n",
       "      <td>1658</td>\n",
       "      <td>1658</td>\n",
       "      <td>1658</td>\n",
       "    </tr>\n",
       "    <tr>\n",
       "      <th>758</th>\n",
       "      <td>6187</td>\n",
       "      <td>6187</td>\n",
       "      <td>6187</td>\n",
       "      <td>6187</td>\n",
       "      <td>6187</td>\n",
       "      <td>6187</td>\n",
       "      <td>6187</td>\n",
       "      <td>6187</td>\n",
       "      <td>6187</td>\n",
       "      <td>6187</td>\n",
       "    </tr>\n",
       "    <tr>\n",
       "      <th>760</th>\n",
       "      <td>19188</td>\n",
       "      <td>19188</td>\n",
       "      <td>19188</td>\n",
       "      <td>19188</td>\n",
       "      <td>19188</td>\n",
       "      <td>19188</td>\n",
       "      <td>19188</td>\n",
       "      <td>19188</td>\n",
       "      <td>19188</td>\n",
       "      <td>19188</td>\n",
       "    </tr>\n",
       "    <tr>\n",
       "      <th>E78</th>\n",
       "      <td>197</td>\n",
       "      <td>197</td>\n",
       "      <td>197</td>\n",
       "      <td>197</td>\n",
       "      <td>197</td>\n",
       "      <td>197</td>\n",
       "      <td>197</td>\n",
       "      <td>197</td>\n",
       "      <td>197</td>\n",
       "      <td>197</td>\n",
       "    </tr>\n",
       "    <tr>\n",
       "      <th>E82</th>\n",
       "      <td>2841</td>\n",
       "      <td>2841</td>\n",
       "      <td>2841</td>\n",
       "      <td>2841</td>\n",
       "      <td>2841</td>\n",
       "      <td>2841</td>\n",
       "      <td>2841</td>\n",
       "      <td>2841</td>\n",
       "      <td>2841</td>\n",
       "      <td>2841</td>\n",
       "    </tr>\n",
       "    <tr>\n",
       "      <th>F14</th>\n",
       "      <td>14720</td>\n",
       "      <td>14720</td>\n",
       "      <td>14720</td>\n",
       "      <td>14720</td>\n",
       "      <td>14720</td>\n",
       "      <td>14720</td>\n",
       "      <td>14720</td>\n",
       "      <td>14720</td>\n",
       "      <td>14720</td>\n",
       "      <td>14720</td>\n",
       "    </tr>\n",
       "    <tr>\n",
       "      <th>J71</th>\n",
       "      <td>3987</td>\n",
       "      <td>3987</td>\n",
       "      <td>3987</td>\n",
       "      <td>3987</td>\n",
       "      <td>3987</td>\n",
       "      <td>3987</td>\n",
       "      <td>3987</td>\n",
       "      <td>3987</td>\n",
       "      <td>3987</td>\n",
       "      <td>3987</td>\n",
       "    </tr>\n",
       "    <tr>\n",
       "      <th>JA2</th>\n",
       "      <td>449</td>\n",
       "      <td>449</td>\n",
       "      <td>449</td>\n",
       "      <td>449</td>\n",
       "      <td>449</td>\n",
       "      <td>449</td>\n",
       "      <td>449</td>\n",
       "      <td>449</td>\n",
       "      <td>449</td>\n",
       "      <td>449</td>\n",
       "    </tr>\n",
       "    <tr>\n",
       "      <th>KB1</th>\n",
       "      <td>954</td>\n",
       "      <td>954</td>\n",
       "      <td>954</td>\n",
       "      <td>954</td>\n",
       "      <td>954</td>\n",
       "      <td>954</td>\n",
       "      <td>954</td>\n",
       "      <td>954</td>\n",
       "      <td>954</td>\n",
       "      <td>954</td>\n",
       "    </tr>\n",
       "  </tbody>\n",
       "</table>\n",
       "</div>"
      ],
      "text/plain": [
       "           Part  Part Type  QtyInvoiced  Ord-Dt  ReqDt  Original Due Date  \\\n",
       "OTTO-GPL                                                                    \n",
       "141        3928       3928         3928    3928   3928               3928   \n",
       "151        3515       3515         3515    3515   3515               3515   \n",
       "364       30043      30043        30043   30043  30043              30043   \n",
       "435         260        260          260     260    260                260   \n",
       "748         980        980          980     980    980                980   \n",
       "749       10158      10158        10158   10158  10158              10158   \n",
       "750        4954       4954         4954    4954   4954               4954   \n",
       "751        6935       6935         6935    6935   6935               6935   \n",
       "752        8864       8864         8864    8864   8864               8864   \n",
       "753       11758      11758        11758   11758  11758              11758   \n",
       "755       15518      15518        15518   15518  15518              15518   \n",
       "757        1658       1658         1658    1658   1658               1658   \n",
       "758        6187       6187         6187    6187   6187               6187   \n",
       "760       19188      19188        19188   19188  19188              19188   \n",
       "E78         197        197          197     197    197                197   \n",
       "E82        2841       2841         2841    2841   2841               2841   \n",
       "F14       14720      14720        14720   14720  14720              14720   \n",
       "J71        3987       3987         3987    3987   3987               3987   \n",
       "JA2         449        449          449     449    449                449   \n",
       "KB1         954        954          954     954    954                954   \n",
       "\n",
       "          InvoiceDt  TE_ship LT  Customer LT  Shipping LT  \n",
       "OTTO-GPL                                                   \n",
       "141            3928        3928         3928         3928  \n",
       "151            3515        3515         3515         3515  \n",
       "364           30043       30043        30043        30043  \n",
       "435             260         260          260          260  \n",
       "748             980         980          980          980  \n",
       "749           10158       10158        10158        10158  \n",
       "750            4954        4954         4954         4954  \n",
       "751            6935        6935         6935         6935  \n",
       "752            8864        8864         8864         8864  \n",
       "753           11758       11758        11758        11758  \n",
       "755           15518       15518        15518        15518  \n",
       "757            1658        1658         1658         1658  \n",
       "758            6187        6187         6187         6187  \n",
       "760           19188       19188        19188        19188  \n",
       "E78             197         197          197          197  \n",
       "E82            2841        2841         2841         2841  \n",
       "F14           14720       14720        14720        14720  \n",
       "J71            3987        3987         3987         3987  \n",
       "JA2             449         449          449          449  \n",
       "KB1             954         954          954          954  "
      ]
     },
     "execution_count": 47,
     "metadata": {},
     "output_type": "execute_result"
    }
   ],
   "source": [
    "df_y.groupby(by='OTTO-GPL').count()"
   ]
  },
  {
   "cell_type": "code",
   "execution_count": 48,
   "id": "58cf4711",
   "metadata": {},
   "outputs": [
    {
     "data": {
      "text/html": [
       "<div>\n",
       "<style scoped>\n",
       "    .dataframe tbody tr th:only-of-type {\n",
       "        vertical-align: middle;\n",
       "    }\n",
       "\n",
       "    .dataframe tbody tr th {\n",
       "        vertical-align: top;\n",
       "    }\n",
       "\n",
       "    .dataframe thead th {\n",
       "        text-align: right;\n",
       "    }\n",
       "</style>\n",
       "<table border=\"1\" class=\"dataframe\">\n",
       "  <thead>\n",
       "    <tr style=\"text-align: right;\">\n",
       "      <th></th>\n",
       "      <th>Part Type</th>\n",
       "      <th>QtyInvoiced</th>\n",
       "      <th>TE_ship LT</th>\n",
       "      <th>Customer LT</th>\n",
       "      <th>Shipping LT</th>\n",
       "    </tr>\n",
       "  </thead>\n",
       "  <tbody>\n",
       "    <tr>\n",
       "      <th>0</th>\n",
       "      <td>ATO</td>\n",
       "      <td>162.193120</td>\n",
       "      <td>50.126933</td>\n",
       "      <td>36.773477</td>\n",
       "      <td>54.725955</td>\n",
       "    </tr>\n",
       "    <tr>\n",
       "      <th>1</th>\n",
       "      <td>COMP</td>\n",
       "      <td>697.787234</td>\n",
       "      <td>52.042553</td>\n",
       "      <td>62.553191</td>\n",
       "      <td>79.085106</td>\n",
       "    </tr>\n",
       "    <tr>\n",
       "      <th>2</th>\n",
       "      <td>MTO</td>\n",
       "      <td>640.289688</td>\n",
       "      <td>43.194866</td>\n",
       "      <td>35.935446</td>\n",
       "      <td>54.134529</td>\n",
       "    </tr>\n",
       "    <tr>\n",
       "      <th>3</th>\n",
       "      <td>MTS</td>\n",
       "      <td>690.990668</td>\n",
       "      <td>49.916052</td>\n",
       "      <td>26.501344</td>\n",
       "      <td>42.311876</td>\n",
       "    </tr>\n",
       "    <tr>\n",
       "      <th>4</th>\n",
       "      <td>MTSQS</td>\n",
       "      <td>109.527623</td>\n",
       "      <td>23.616219</td>\n",
       "      <td>11.027521</td>\n",
       "      <td>22.128144</td>\n",
       "    </tr>\n",
       "  </tbody>\n",
       "</table>\n",
       "</div>"
      ],
      "text/plain": [
       "  Part Type  QtyInvoiced  TE_ship LT  Customer LT  Shipping LT\n",
       "0       ATO   162.193120   50.126933    36.773477    54.725955\n",
       "1      COMP   697.787234   52.042553    62.553191    79.085106\n",
       "2       MTO   640.289688   43.194866    35.935446    54.134529\n",
       "3       MTS   690.990668   49.916052    26.501344    42.311876\n",
       "4     MTSQS   109.527623   23.616219    11.027521    22.128144"
      ]
     },
     "execution_count": 48,
     "metadata": {},
     "output_type": "execute_result"
    }
   ],
   "source": [
    "df_y.groupby('Part Type').mean().reset_index()"
   ]
  },
  {
   "cell_type": "code",
   "execution_count": 49,
   "id": "7a284300",
   "metadata": {},
   "outputs": [
    {
     "data": {
      "text/html": [
       "<div>\n",
       "<style scoped>\n",
       "    .dataframe tbody tr th:only-of-type {\n",
       "        vertical-align: middle;\n",
       "    }\n",
       "\n",
       "    .dataframe tbody tr th {\n",
       "        vertical-align: top;\n",
       "    }\n",
       "\n",
       "    .dataframe thead th {\n",
       "        text-align: right;\n",
       "    }\n",
       "</style>\n",
       "<table border=\"1\" class=\"dataframe\">\n",
       "  <thead>\n",
       "    <tr style=\"text-align: right;\">\n",
       "      <th></th>\n",
       "      <th>Part Type</th>\n",
       "      <th>Part</th>\n",
       "      <th>OTTO-GPL</th>\n",
       "      <th>QtyInvoiced</th>\n",
       "      <th>Ord-Dt</th>\n",
       "      <th>ReqDt</th>\n",
       "      <th>Original Due Date</th>\n",
       "      <th>InvoiceDt</th>\n",
       "      <th>TE_ship LT</th>\n",
       "      <th>Customer LT</th>\n",
       "      <th>Shipping LT</th>\n",
       "    </tr>\n",
       "  </thead>\n",
       "  <tbody>\n",
       "    <tr>\n",
       "      <th>0</th>\n",
       "      <td>ATO</td>\n",
       "      <td>29039</td>\n",
       "      <td>29039</td>\n",
       "      <td>29039</td>\n",
       "      <td>29039</td>\n",
       "      <td>29039</td>\n",
       "      <td>29039</td>\n",
       "      <td>29039</td>\n",
       "      <td>29039</td>\n",
       "      <td>29039</td>\n",
       "      <td>29039</td>\n",
       "    </tr>\n",
       "    <tr>\n",
       "      <th>1</th>\n",
       "      <td>COMP</td>\n",
       "      <td>47</td>\n",
       "      <td>47</td>\n",
       "      <td>47</td>\n",
       "      <td>47</td>\n",
       "      <td>47</td>\n",
       "      <td>47</td>\n",
       "      <td>47</td>\n",
       "      <td>47</td>\n",
       "      <td>47</td>\n",
       "      <td>47</td>\n",
       "    </tr>\n",
       "    <tr>\n",
       "      <th>2</th>\n",
       "      <td>MTO</td>\n",
       "      <td>29882</td>\n",
       "      <td>29882</td>\n",
       "      <td>29882</td>\n",
       "      <td>29882</td>\n",
       "      <td>29882</td>\n",
       "      <td>29882</td>\n",
       "      <td>29882</td>\n",
       "      <td>29882</td>\n",
       "      <td>29882</td>\n",
       "      <td>29882</td>\n",
       "    </tr>\n",
       "    <tr>\n",
       "      <th>3</th>\n",
       "      <td>MTS</td>\n",
       "      <td>63599</td>\n",
       "      <td>63599</td>\n",
       "      <td>63599</td>\n",
       "      <td>63599</td>\n",
       "      <td>63599</td>\n",
       "      <td>63599</td>\n",
       "      <td>63599</td>\n",
       "      <td>63599</td>\n",
       "      <td>63599</td>\n",
       "      <td>63599</td>\n",
       "    </tr>\n",
       "    <tr>\n",
       "      <th>4</th>\n",
       "      <td>MTSQS</td>\n",
       "      <td>24527</td>\n",
       "      <td>24527</td>\n",
       "      <td>24527</td>\n",
       "      <td>24527</td>\n",
       "      <td>24527</td>\n",
       "      <td>24527</td>\n",
       "      <td>24527</td>\n",
       "      <td>24527</td>\n",
       "      <td>24527</td>\n",
       "      <td>24527</td>\n",
       "    </tr>\n",
       "  </tbody>\n",
       "</table>\n",
       "</div>"
      ],
      "text/plain": [
       "  Part Type   Part  OTTO-GPL  QtyInvoiced  Ord-Dt  ReqDt  Original Due Date  \\\n",
       "0       ATO  29039     29039        29039   29039  29039              29039   \n",
       "1      COMP     47        47           47      47     47                 47   \n",
       "2       MTO  29882     29882        29882   29882  29882              29882   \n",
       "3       MTS  63599     63599        63599   63599  63599              63599   \n",
       "4     MTSQS  24527     24527        24527   24527  24527              24527   \n",
       "\n",
       "   InvoiceDt  TE_ship LT  Customer LT  Shipping LT  \n",
       "0      29039       29039        29039        29039  \n",
       "1         47          47           47           47  \n",
       "2      29882       29882        29882        29882  \n",
       "3      63599       63599        63599        63599  \n",
       "4      24527       24527        24527        24527  "
      ]
     },
     "execution_count": 49,
     "metadata": {},
     "output_type": "execute_result"
    }
   ],
   "source": [
    "df_y.groupby('Part Type').count().reset_index()"
   ]
  },
  {
   "cell_type": "code",
   "execution_count": 50,
   "id": "25fc8f19",
   "metadata": {},
   "outputs": [],
   "source": [
    "corr_sales = df_y.groupby('OTTO-GPL')[['Customer LT','TE_ship LT','Shipping LT']].corr().reset_index()"
   ]
  },
  {
   "cell_type": "markdown",
   "id": "9b881470",
   "metadata": {},
   "source": [
    "### ここで一旦Training DF のプロセスを止めて、Prediction DFを取り込む。そしてTraining DFの部品数とPrediction DFの部品数を合わせる。そうすることで最初のファイルで発生したエラーを解消できる。"
   ]
  },
  {
   "cell_type": "code",
   "execution_count": 51,
   "id": "4daa1699",
   "metadata": {},
   "outputs": [],
   "source": [
    "log = pd.read_excel(directory + 'MFG PRO backlog.xlsx', engine='openpyxl')"
   ]
  },
  {
   "cell_type": "code",
   "execution_count": 52,
   "id": "bb7d255a",
   "metadata": {},
   "outputs": [],
   "source": [
    "log1 = log.iloc[:,[6,11,12,91,59,111,8,35,37]]"
   ]
  },
  {
   "cell_type": "code",
   "execution_count": 53,
   "id": "24066b4a",
   "metadata": {},
   "outputs": [
    {
     "name": "stdout",
     "output_type": "stream",
     "text": [
      "<class 'pandas.core.frame.DataFrame'>\n",
      "RangeIndex: 9496 entries, 0 to 9495\n",
      "Data columns (total 9 columns):\n",
      " #   Column       Non-Null Count  Dtype         \n",
      "---  ------       --------------  -----         \n",
      " 0   SO-Nbr       9496 non-null   object        \n",
      " 1   SO Line      9496 non-null   int64         \n",
      " 2   Part         9496 non-null   object        \n",
      " 3   OTTO-GPL     9494 non-null   object        \n",
      " 4   Part-Type    9442 non-null   object        \n",
      " 5   Qty Ordered  9496 non-null   float64       \n",
      " 6   SO-Ord_date  9496 non-null   datetime64[ns]\n",
      " 7   Req-Date     9496 non-null   datetime64[ns]\n",
      " 8   Due-Date     9496 non-null   datetime64[ns]\n",
      "dtypes: datetime64[ns](3), float64(1), int64(1), object(4)\n",
      "memory usage: 667.8+ KB\n"
     ]
    }
   ],
   "source": [
    "log1.info()"
   ]
  },
  {
   "cell_type": "code",
   "execution_count": 54,
   "id": "ce7cd7ea",
   "metadata": {},
   "outputs": [
    {
     "name": "stderr",
     "output_type": "stream",
     "text": [
      "C:\\Users\\te521690\\Anaconda3\\lib\\site-packages\\pandas\\core\\generic.py:6619: SettingWithCopyWarning: \n",
      "A value is trying to be set on a copy of a slice from a DataFrame\n",
      "\n",
      "See the caveats in the documentation: https://pandas.pydata.org/pandas-docs/stable/user_guide/indexing.html#returning-a-view-versus-a-copy\n",
      "  return self._update_inplace(result)\n"
     ]
    }
   ],
   "source": [
    "log1['Part-Type'].replace({'mto':'MTO',\n",
    "                           'mto ':'MTO',\n",
    "                           'mts':'MTS'},inplace=True)"
   ]
  },
  {
   "cell_type": "code",
   "execution_count": 55,
   "id": "ae1efcb6",
   "metadata": {},
   "outputs": [
    {
     "name": "stderr",
     "output_type": "stream",
     "text": [
      "C:\\Users\\te521690\\Anaconda3\\lib\\site-packages\\ipykernel_launcher.py:1: SettingWithCopyWarning: \n",
      "A value is trying to be set on a copy of a slice from a DataFrame.\n",
      "Try using .loc[row_indexer,col_indexer] = value instead\n",
      "\n",
      "See the caveats in the documentation: https://pandas.pydata.org/pandas-docs/stable/user_guide/indexing.html#returning-a-view-versus-a-copy\n",
      "  \"\"\"Entry point for launching an IPython kernel.\n"
     ]
    }
   ],
   "source": [
    "log1['Part'] = log1['Part'].str.upper()"
   ]
  },
  {
   "cell_type": "code",
   "execution_count": 56,
   "id": "56743ecf",
   "metadata": {},
   "outputs": [
    {
     "name": "stderr",
     "output_type": "stream",
     "text": [
      "C:\\Users\\te521690\\Anaconda3\\lib\\site-packages\\ipykernel_launcher.py:1: SettingWithCopyWarning: \n",
      "A value is trying to be set on a copy of a slice from a DataFrame.\n",
      "Try using .loc[row_indexer,col_indexer] = value instead\n",
      "\n",
      "See the caveats in the documentation: https://pandas.pydata.org/pandas-docs/stable/user_guide/indexing.html#returning-a-view-versus-a-copy\n",
      "  \"\"\"Entry point for launching an IPython kernel.\n"
     ]
    }
   ],
   "source": [
    "log1['Part-Type'] = log1['Part-Type'].str.upper()"
   ]
  },
  {
   "cell_type": "code",
   "execution_count": 57,
   "id": "a5fc8d1f",
   "metadata": {},
   "outputs": [
    {
     "name": "stderr",
     "output_type": "stream",
     "text": [
      "C:\\Users\\te521690\\Anaconda3\\lib\\site-packages\\pandas\\core\\frame.py:5047: SettingWithCopyWarning: \n",
      "A value is trying to be set on a copy of a slice from a DataFrame\n",
      "\n",
      "See the caveats in the documentation: https://pandas.pydata.org/pandas-docs/stable/user_guide/indexing.html#returning-a-view-versus-a-copy\n",
      "  errors=errors,\n"
     ]
    }
   ],
   "source": [
    "log1.rename(columns={'SO-Ord_date':'SO_Ord_date','Req-Date':'Req_Date','Due-Date':'Due_Date','Part-Type':'Part Type'}, inplace=True)"
   ]
  },
  {
   "cell_type": "code",
   "execution_count": 58,
   "id": "46859a7d",
   "metadata": {},
   "outputs": [
    {
     "data": {
      "text/plain": [
       "False    9442\n",
       "True       54\n",
       "Name: Part Type, dtype: int64"
      ]
     },
     "execution_count": 58,
     "metadata": {},
     "output_type": "execute_result"
    }
   ],
   "source": [
    "log1['Part Type'].isna().value_counts()"
   ]
  },
  {
   "cell_type": "code",
   "execution_count": 59,
   "id": "e088301e",
   "metadata": {},
   "outputs": [
    {
     "name": "stderr",
     "output_type": "stream",
     "text": [
      "C:\\Users\\te521690\\Anaconda3\\lib\\site-packages\\pandas\\util\\_decorators.py:311: SettingWithCopyWarning: \n",
      "A value is trying to be set on a copy of a slice from a DataFrame\n",
      "\n",
      "See the caveats in the documentation: https://pandas.pydata.org/pandas-docs/stable/user_guide/indexing.html#returning-a-view-versus-a-copy\n",
      "  return func(*args, **kwargs)\n"
     ]
    }
   ],
   "source": [
    "log1.dropna(subset=['Part Type'],inplace=True)"
   ]
  },
  {
   "cell_type": "code",
   "execution_count": 60,
   "id": "d1e3702f",
   "metadata": {},
   "outputs": [],
   "source": [
    "log1['Part Type'].replace('MTO ','MTO', inplace=True)"
   ]
  },
  {
   "cell_type": "code",
   "execution_count": 61,
   "id": "24c3487b",
   "metadata": {},
   "outputs": [],
   "source": [
    "log1 = log1[log1['Part Type'] != '(BLANK)']"
   ]
  },
  {
   "cell_type": "code",
   "execution_count": 62,
   "id": "6dcb94f5",
   "metadata": {},
   "outputs": [
    {
     "data": {
      "text/plain": [
       "MTS      4666\n",
       "ATO      2195\n",
       "MTO      1760\n",
       "MTSQS     806\n",
       "COMP       13\n",
       "Name: Part Type, dtype: int64"
      ]
     },
     "execution_count": 62,
     "metadata": {},
     "output_type": "execute_result"
    }
   ],
   "source": [
    "log1['Part Type'].value_counts()"
   ]
  },
  {
   "cell_type": "code",
   "execution_count": 63,
   "id": "de294913",
   "metadata": {},
   "outputs": [
    {
     "data": {
      "text/plain": [
       "False    9440\n",
       "Name: Part, dtype: int64"
      ]
     },
     "execution_count": 63,
     "metadata": {},
     "output_type": "execute_result"
    }
   ],
   "source": [
    "log1['Part'].isna().value_counts()"
   ]
  },
  {
   "cell_type": "code",
   "execution_count": 64,
   "id": "47038bfa",
   "metadata": {},
   "outputs": [
    {
     "data": {
      "text/plain": [
       "False    9439\n",
       "True        1\n",
       "Name: OTTO-GPL, dtype: int64"
      ]
     },
     "execution_count": 64,
     "metadata": {},
     "output_type": "execute_result"
    }
   ],
   "source": [
    "log1['OTTO-GPL'].isna().value_counts()"
   ]
  },
  {
   "cell_type": "code",
   "execution_count": 65,
   "id": "6b0c77e7",
   "metadata": {},
   "outputs": [],
   "source": [
    "log1.dropna(subset=['OTTO-GPL'], inplace=True)"
   ]
  },
  {
   "cell_type": "code",
   "execution_count": 66,
   "id": "67e34a66",
   "metadata": {},
   "outputs": [
    {
     "data": {
      "text/plain": [
       "364    2469\n",
       "760     813\n",
       "753     629\n",
       "758     585\n",
       "750     581\n",
       "141     520\n",
       "752     425\n",
       "751     394\n",
       "755     348\n",
       "749     322\n",
       "J71     313\n",
       "757     242\n",
       "B82     232\n",
       "Z72     216\n",
       "151     204\n",
       "E82     201\n",
       "KB1     154\n",
       "814     135\n",
       "761     125\n",
       "AA5      93\n",
       "Z63      63\n",
       "C08      46\n",
       "748      46\n",
       "A27      33\n",
       "E78      29\n",
       "JA2      25\n",
       "AF8      24\n",
       "822      23\n",
       "827      18\n",
       "435      16\n",
       "E33      16\n",
       "F14      14\n",
       "819      13\n",
       "813      13\n",
       "K93       9\n",
       "G38       8\n",
       "E77       7\n",
       "C04       6\n",
       "652       4\n",
       "AF7       4\n",
       "AI9       3\n",
       "829       2\n",
       "566       2\n",
       "817       2\n",
       "586       2\n",
       "728       2\n",
       "A46       1\n",
       "607       1\n",
       "B95       1\n",
       "710       1\n",
       "JH1       1\n",
       "C88       1\n",
       "E34       1\n",
       "C09       1\n",
       "Name: OTTO-GPL, dtype: int64"
      ]
     },
     "execution_count": 66,
     "metadata": {},
     "output_type": "execute_result"
    }
   ],
   "source": [
    "log1['OTTO-GPL'].value_counts()"
   ]
  },
  {
   "cell_type": "code",
   "execution_count": 67,
   "id": "6ca715f6",
   "metadata": {},
   "outputs": [],
   "source": [
    "C_LT = []\n",
    "for index, row in log1.iterrows():\n",
    "    timedelta = row['Req_Date'] - row['SO_Ord_date']\n",
    "    timedelta_days = timedelta.days  # Extract the number of days from the timedelta object\n",
    "    if -1000 < timedelta_days < 1000:\n",
    "        C_LT.append(timedelta_days)\n",
    "    else:\n",
    "        C_LT.append(0)\n",
    "\n",
    "log1['Customer LT'] = C_LT\n"
   ]
  },
  {
   "cell_type": "code",
   "execution_count": 68,
   "id": "d2e42307",
   "metadata": {},
   "outputs": [],
   "source": [
    "S_LT = []\n",
    "for index, row in log1.iterrows():\n",
    "    timedelta = row['Due_Date'] - row['SO_Ord_date']\n",
    "    timedelta_days = timedelta.days  # Extract the number of days from the timedelta object\n",
    "    if -1000 < timedelta_days < 1000:\n",
    "        S_LT.append(timedelta_days)\n",
    "    else:\n",
    "        S_LT.append(0)\n",
    "\n",
    "log1['TE_ship LT'] = S_LT"
   ]
  },
  {
   "cell_type": "code",
   "execution_count": 69,
   "id": "75432572",
   "metadata": {},
   "outputs": [],
   "source": [
    "log1['Part Type'].replace(['Part Type_MTO ','Part Type_MTO'], inplace=True)"
   ]
  },
  {
   "cell_type": "code",
   "execution_count": 70,
   "id": "d81a3bd5",
   "metadata": {},
   "outputs": [
    {
     "name": "stdout",
     "output_type": "stream",
     "text": [
      "<class 'pandas.core.frame.DataFrame'>\n",
      "Int64Index: 9439 entries, 0 to 9495\n",
      "Data columns (total 11 columns):\n",
      " #   Column       Non-Null Count  Dtype         \n",
      "---  ------       --------------  -----         \n",
      " 0   SO-Nbr       9439 non-null   object        \n",
      " 1   SO Line      9439 non-null   int64         \n",
      " 2   Part         9439 non-null   object        \n",
      " 3   OTTO-GPL     9439 non-null   object        \n",
      " 4   Part Type    9439 non-null   object        \n",
      " 5   Qty Ordered  9439 non-null   float64       \n",
      " 6   SO_Ord_date  9439 non-null   datetime64[ns]\n",
      " 7   Req_Date     9439 non-null   datetime64[ns]\n",
      " 8   Due_Date     9439 non-null   datetime64[ns]\n",
      " 9   Customer LT  9439 non-null   int64         \n",
      " 10  TE_ship LT   9439 non-null   int64         \n",
      "dtypes: datetime64[ns](3), float64(1), int64(3), object(4)\n",
      "memory usage: 884.9+ KB\n"
     ]
    }
   ],
   "source": [
    "log1.info()"
   ]
  },
  {
   "cell_type": "code",
   "execution_count": 71,
   "id": "782b5d87",
   "metadata": {},
   "outputs": [],
   "source": [
    "# Training DF内の項目数との確認が始まる\n",
    "import pandas as pd\n",
    "\n",
    "# 1. Create a dataframe based on df1['Part'] then remove duplicates.\n",
    "Part_no = df1['Part']\n",
    "Part_no = Part_no.drop_duplicates()"
   ]
  },
  {
   "cell_type": "code",
   "execution_count": 72,
   "id": "a3a35dec",
   "metadata": {},
   "outputs": [],
   "source": [
    "Part_no=pd.DataFrame(Part_no)"
   ]
  },
  {
   "cell_type": "code",
   "execution_count": 73,
   "id": "0867cb17",
   "metadata": {},
   "outputs": [
    {
     "data": {
      "text/plain": [
       "Part      \n",
       "000144-000    1\n",
       "ED8994-000    1\n",
       "ED9024-000    1\n",
       "ED9014-000    1\n",
       "ED9012-000    1\n",
       "             ..\n",
       "978928-000    1\n",
       "978582-000    1\n",
       "977824-000    1\n",
       "977606-000    1\n",
       "Y69991-000    1\n",
       "Length: 7103, dtype: int64"
      ]
     },
     "execution_count": 73,
     "metadata": {},
     "output_type": "execute_result"
    }
   ],
   "source": [
    "Part_no.value_counts()"
   ]
  },
  {
   "cell_type": "code",
   "execution_count": 74,
   "id": "72dc006a",
   "metadata": {},
   "outputs": [
    {
     "name": "stdout",
     "output_type": "stream",
     "text": [
      "<class 'pandas.core.frame.DataFrame'>\n",
      "Int64Index: 7103 entries, 0 to 165341\n",
      "Data columns (total 1 columns):\n",
      " #   Column  Non-Null Count  Dtype \n",
      "---  ------  --------------  ----- \n",
      " 0   Part    7103 non-null   object\n",
      "dtypes: object(1)\n",
      "memory usage: 111.0+ KB\n"
     ]
    }
   ],
   "source": [
    "Part_no.info()"
   ]
  },
  {
   "cell_type": "code",
   "execution_count": 75,
   "id": "b5d2365f",
   "metadata": {},
   "outputs": [],
   "source": [
    "df1_GPL = df1['OTTO-GPL'].drop_duplicates()"
   ]
  },
  {
   "cell_type": "code",
   "execution_count": 76,
   "id": "9f96a6ab",
   "metadata": {},
   "outputs": [],
   "source": [
    "df1_GPL = pd.DataFrame(df1_GPL)"
   ]
  },
  {
   "cell_type": "code",
   "execution_count": 77,
   "id": "2905577c",
   "metadata": {},
   "outputs": [
    {
     "data": {
      "text/plain": [
       "OTTO-GPL\n",
       "1           1\n",
       "A52         1\n",
       "B82         1\n",
       "ANB         1\n",
       "AN8         1\n",
       "           ..\n",
       "749         1\n",
       "748         1\n",
       "746         1\n",
       "731         1\n",
       "Z72         1\n",
       "Length: 93, dtype: int64"
      ]
     },
     "execution_count": 77,
     "metadata": {},
     "output_type": "execute_result"
    }
   ],
   "source": [
    "df1_GPL.value_counts()"
   ]
  },
  {
   "cell_type": "code",
   "execution_count": 78,
   "id": "dc6b8bc7",
   "metadata": {},
   "outputs": [],
   "source": [
    "Part_T = df1['Part Type'].drop_duplicates()"
   ]
  },
  {
   "cell_type": "code",
   "execution_count": 79,
   "id": "c7e67556",
   "metadata": {},
   "outputs": [
    {
     "data": {
      "text/plain": [
       "MTSQS    1\n",
       "MTS      1\n",
       "MTO      1\n",
       "ATO      1\n",
       "COMP     1\n",
       "Name: Part Type, dtype: int64"
      ]
     },
     "execution_count": 79,
     "metadata": {},
     "output_type": "execute_result"
    }
   ],
   "source": [
    "Part_T.value_counts()"
   ]
  },
  {
   "cell_type": "code",
   "execution_count": null,
   "id": "6bf8ae3a",
   "metadata": {},
   "outputs": [],
   "source": []
  },
  {
   "cell_type": "code",
   "execution_count": 80,
   "id": "a85c3622",
   "metadata": {},
   "outputs": [],
   "source": [
    "# df1のpart list, GPL list, part type listをここで統合すること！"
   ]
  },
  {
   "cell_type": "code",
   "execution_count": 81,
   "id": "4fc11814",
   "metadata": {},
   "outputs": [],
   "source": [
    "# ここでは、part, GPL, part type, LTを指定するべき？\n",
    "\n",
    "log2 = pd.merge(Part_no, log1, on='Part', how='inner')"
   ]
  },
  {
   "cell_type": "code",
   "execution_count": 82,
   "id": "01e067b4",
   "metadata": {},
   "outputs": [
    {
     "name": "stdout",
     "output_type": "stream",
     "text": [
      "<class 'pandas.core.frame.DataFrame'>\n",
      "Int64Index: 8911 entries, 0 to 8910\n",
      "Data columns (total 11 columns):\n",
      " #   Column       Non-Null Count  Dtype         \n",
      "---  ------       --------------  -----         \n",
      " 0   Part         8911 non-null   object        \n",
      " 1   SO-Nbr       8911 non-null   object        \n",
      " 2   SO Line      8911 non-null   int64         \n",
      " 3   OTTO-GPL     8911 non-null   object        \n",
      " 4   Part Type    8911 non-null   object        \n",
      " 5   Qty Ordered  8911 non-null   float64       \n",
      " 6   SO_Ord_date  8911 non-null   datetime64[ns]\n",
      " 7   Req_Date     8911 non-null   datetime64[ns]\n",
      " 8   Due_Date     8911 non-null   datetime64[ns]\n",
      " 9   Customer LT  8911 non-null   int64         \n",
      " 10  TE_ship LT   8911 non-null   int64         \n",
      "dtypes: datetime64[ns](3), float64(1), int64(3), object(4)\n",
      "memory usage: 835.4+ KB\n"
     ]
    }
   ],
   "source": [
    "log2.info()"
   ]
  },
  {
   "cell_type": "code",
   "execution_count": 83,
   "id": "70bd2077",
   "metadata": {},
   "outputs": [],
   "source": [
    "# log2 = pd.merge(Part_no.to_frame(), log1, on='Part', how='inner')"
   ]
  },
  {
   "cell_type": "code",
   "execution_count": 84,
   "id": "a5e7b77d",
   "metadata": {},
   "outputs": [],
   "source": [
    "log2 = pd.merge(df1_GPL, log2, on='OTTO-GPL', how='inner')"
   ]
  },
  {
   "cell_type": "code",
   "execution_count": 85,
   "id": "ebfe2b06",
   "metadata": {},
   "outputs": [],
   "source": [
    "log2 = pd.merge(Part_T, log2, on='Part Type', how='inner')"
   ]
  },
  {
   "cell_type": "code",
   "execution_count": 86,
   "id": "ce1d8db7",
   "metadata": {},
   "outputs": [],
   "source": [
    "# このコードを流すとlog2のケース数が8000件から1000件に激減する→修正した\n",
    "# log2 = pd.merge(df1_GPL.to_frame(), log2, on='OTTO-GPL', how='inner')"
   ]
  },
  {
   "cell_type": "code",
   "execution_count": 87,
   "id": "e8f97a2c",
   "metadata": {},
   "outputs": [
    {
     "name": "stdout",
     "output_type": "stream",
     "text": [
      "<class 'pandas.core.frame.DataFrame'>\n",
      "Int64Index: 8911 entries, 0 to 8910\n",
      "Data columns (total 11 columns):\n",
      " #   Column       Non-Null Count  Dtype         \n",
      "---  ------       --------------  -----         \n",
      " 0   Part Type    8911 non-null   object        \n",
      " 1   OTTO-GPL     8911 non-null   object        \n",
      " 2   Part         8911 non-null   object        \n",
      " 3   SO-Nbr       8911 non-null   object        \n",
      " 4   SO Line      8911 non-null   int64         \n",
      " 5   Qty Ordered  8911 non-null   float64       \n",
      " 6   SO_Ord_date  8911 non-null   datetime64[ns]\n",
      " 7   Req_Date     8911 non-null   datetime64[ns]\n",
      " 8   Due_Date     8911 non-null   datetime64[ns]\n",
      " 9   Customer LT  8911 non-null   int64         \n",
      " 10  TE_ship LT   8911 non-null   int64         \n",
      "dtypes: datetime64[ns](3), float64(1), int64(3), object(4)\n",
      "memory usage: 835.4+ KB\n"
     ]
    }
   ],
   "source": [
    "log2.info()"
   ]
  },
  {
   "cell_type": "code",
   "execution_count": 88,
   "id": "110e05e4",
   "metadata": {},
   "outputs": [],
   "source": [
    "# training df用のパーツリスト作成\n",
    "Final_PartNo = log2['Part'].drop_duplicates()"
   ]
  },
  {
   "cell_type": "code",
   "execution_count": 89,
   "id": "368977ec",
   "metadata": {},
   "outputs": [],
   "source": [
    "Final_PartNo = pd.DataFrame(Final_PartNo)"
   ]
  },
  {
   "cell_type": "code",
   "execution_count": 90,
   "id": "df50576d",
   "metadata": {},
   "outputs": [
    {
     "data": {
      "text/plain": [
       "Part      \n",
       "000144-000    1\n",
       "D53039-000    1\n",
       "D96124-000    1\n",
       "D93334-000    1\n",
       "D93089-000    1\n",
       "             ..\n",
       "761103-000    1\n",
       "757625-000    1\n",
       "756331-000    1\n",
       "756315-000    1\n",
       "Y12345-000    1\n",
       "Length: 2124, dtype: int64"
      ]
     },
     "execution_count": 90,
     "metadata": {},
     "output_type": "execute_result"
    }
   ],
   "source": [
    "Final_PartNo.value_counts()"
   ]
  },
  {
   "cell_type": "code",
   "execution_count": 91,
   "id": "48c6f496",
   "metadata": {},
   "outputs": [],
   "source": [
    "Final_GPL = log2['OTTO-GPL'].drop_duplicates()"
   ]
  },
  {
   "cell_type": "code",
   "execution_count": 92,
   "id": "b7155218",
   "metadata": {},
   "outputs": [],
   "source": [
    "Final_GPL = pd.DataFrame(Final_GPL)"
   ]
  },
  {
   "cell_type": "code",
   "execution_count": 93,
   "id": "0b198f77",
   "metadata": {},
   "outputs": [],
   "source": [
    "df2 = pd.merge(Final_PartNo, df1, on='Part', how='left')"
   ]
  },
  {
   "cell_type": "code",
   "execution_count": 94,
   "id": "d92c13f8",
   "metadata": {},
   "outputs": [
    {
     "name": "stdout",
     "output_type": "stream",
     "text": [
      "<class 'pandas.core.frame.DataFrame'>\n",
      "Int64Index: 113588 entries, 0 to 113587\n",
      "Data columns (total 11 columns):\n",
      " #   Column             Non-Null Count   Dtype         \n",
      "---  ------             --------------   -----         \n",
      " 0   Part               113588 non-null  object        \n",
      " 1   OTTO-GPL           113588 non-null  object        \n",
      " 2   Part Type          113588 non-null  object        \n",
      " 3   QtyInvoiced        113588 non-null  float64       \n",
      " 4   Ord-Dt             113588 non-null  datetime64[ns]\n",
      " 5   ReqDt              113588 non-null  datetime64[ns]\n",
      " 6   Original Due Date  113588 non-null  datetime64[ns]\n",
      " 7   InvoiceDt          113588 non-null  datetime64[ns]\n",
      " 8   TE_ship LT         113588 non-null  int64         \n",
      " 9   Customer LT        113588 non-null  int64         \n",
      " 10  Shipping LT        113588 non-null  int64         \n",
      "dtypes: datetime64[ns](4), float64(1), int64(3), object(3)\n",
      "memory usage: 10.4+ MB\n"
     ]
    }
   ],
   "source": [
    "df2.info()"
   ]
  },
  {
   "cell_type": "code",
   "execution_count": 95,
   "id": "671e319f",
   "metadata": {},
   "outputs": [],
   "source": [
    "df2 = pd.merge(Final_GPL, df2, on='OTTO-GPL', how='left')"
   ]
  },
  {
   "cell_type": "code",
   "execution_count": 96,
   "id": "ac615c57",
   "metadata": {},
   "outputs": [],
   "source": [
    "# df2 = df2[df2['Customer LT']>0]"
   ]
  },
  {
   "cell_type": "code",
   "execution_count": 97,
   "id": "c436cf79",
   "metadata": {},
   "outputs": [
    {
     "name": "stdout",
     "output_type": "stream",
     "text": [
      "<class 'pandas.core.frame.DataFrame'>\n",
      "Int64Index: 113588 entries, 0 to 113587\n",
      "Data columns (total 11 columns):\n",
      " #   Column             Non-Null Count   Dtype         \n",
      "---  ------             --------------   -----         \n",
      " 0   OTTO-GPL           113588 non-null  object        \n",
      " 1   Part               113588 non-null  object        \n",
      " 2   Part Type          113588 non-null  object        \n",
      " 3   QtyInvoiced        113588 non-null  float64       \n",
      " 4   Ord-Dt             113588 non-null  datetime64[ns]\n",
      " 5   ReqDt              113588 non-null  datetime64[ns]\n",
      " 6   Original Due Date  113588 non-null  datetime64[ns]\n",
      " 7   InvoiceDt          113588 non-null  datetime64[ns]\n",
      " 8   TE_ship LT         113588 non-null  int64         \n",
      " 9   Customer LT        113588 non-null  int64         \n",
      " 10  Shipping LT        113588 non-null  int64         \n",
      "dtypes: datetime64[ns](4), float64(1), int64(3), object(3)\n",
      "memory usage: 10.4+ MB\n"
     ]
    }
   ],
   "source": [
    "df2.info()"
   ]
  },
  {
   "cell_type": "code",
   "execution_count": 98,
   "id": "88a42870",
   "metadata": {},
   "outputs": [
    {
     "data": {
      "text/plain": [
       "871788-000    1729\n",
       "360954-000    1471\n",
       "197886-000     898\n",
       "268120-000     822\n",
       "244890-000     816\n",
       "              ... \n",
       "2182485-2        1\n",
       "CU5612-000       1\n",
       "CG3665-000       1\n",
       "2182445-3        1\n",
       "E31927-000       1\n",
       "Name: Part, Length: 2124, dtype: int64"
      ]
     },
     "execution_count": 98,
     "metadata": {},
     "output_type": "execute_result"
    }
   ],
   "source": [
    "df2['Part'].value_counts()"
   ]
  },
  {
   "cell_type": "code",
   "execution_count": 99,
   "id": "64de1195",
   "metadata": {},
   "outputs": [
    {
     "data": {
      "text/plain": [
       "364    28435\n",
       "760    15400\n",
       "753    10231\n",
       "755     9442\n",
       "749     7963\n",
       "752     6186\n",
       "751     4654\n",
       "750     3896\n",
       "758     3663\n",
       "141     3414\n",
       "151     2945\n",
       "814     2923\n",
       "F14     2385\n",
       "J71     2205\n",
       "Z72     1972\n",
       "761     1688\n",
       "E82     1148\n",
       "757      881\n",
       "C08      699\n",
       "KB1      609\n",
       "B82      547\n",
       "E33      465\n",
       "AA5      324\n",
       "A27      237\n",
       "822      202\n",
       "435      196\n",
       "Z63      186\n",
       "748      134\n",
       "819       76\n",
       "813       75\n",
       "JA2       72\n",
       "G38       63\n",
       "E78       62\n",
       "C04       44\n",
       "827       43\n",
       "652       23\n",
       "K93       17\n",
       "E77       16\n",
       "JH1       16\n",
       "AI9       15\n",
       "AF8       14\n",
       "B95        7\n",
       "566        6\n",
       "C88        3\n",
       "A46        2\n",
       "829        2\n",
       "C09        1\n",
       "E34        1\n",
       "Name: OTTO-GPL, dtype: int64"
      ]
     },
     "execution_count": 99,
     "metadata": {},
     "output_type": "execute_result"
    }
   ],
   "source": [
    "df2['OTTO-GPL'].value_counts()"
   ]
  },
  {
   "cell_type": "markdown",
   "id": "68580205",
   "metadata": {},
   "source": [
    "### ↑ training用とpredict用のデータセットで部品数、Part Type、GPLが一致した。"
   ]
  },
  {
   "cell_type": "code",
   "execution_count": null,
   "id": "246ff16c",
   "metadata": {},
   "outputs": [],
   "source": []
  },
  {
   "cell_type": "code",
   "execution_count": 100,
   "id": "13f4f75c",
   "metadata": {},
   "outputs": [
    {
     "name": "stdout",
     "output_type": "stream",
     "text": [
      "<class 'pandas.core.frame.DataFrame'>\n",
      "Int64Index: 8911 entries, 0 to 8910\n",
      "Data columns (total 11 columns):\n",
      " #   Column       Non-Null Count  Dtype         \n",
      "---  ------       --------------  -----         \n",
      " 0   Part Type    8911 non-null   object        \n",
      " 1   OTTO-GPL     8911 non-null   object        \n",
      " 2   Part         8911 non-null   object        \n",
      " 3   SO-Nbr       8911 non-null   object        \n",
      " 4   SO Line      8911 non-null   int64         \n",
      " 5   Qty Ordered  8911 non-null   float64       \n",
      " 6   SO_Ord_date  8911 non-null   datetime64[ns]\n",
      " 7   Req_Date     8911 non-null   datetime64[ns]\n",
      " 8   Due_Date     8911 non-null   datetime64[ns]\n",
      " 9   Customer LT  8911 non-null   int64         \n",
      " 10  TE_ship LT   8911 non-null   int64         \n",
      "dtypes: datetime64[ns](3), float64(1), int64(3), object(4)\n",
      "memory usage: 835.4+ KB\n"
     ]
    }
   ],
   "source": [
    "log2.info()"
   ]
  },
  {
   "cell_type": "code",
   "execution_count": 101,
   "id": "cb53571c",
   "metadata": {},
   "outputs": [
    {
     "name": "stderr",
     "output_type": "stream",
     "text": [
      "C:\\Users\\te521690\\Anaconda3\\lib\\site-packages\\ipykernel_launcher.py:5: FutureWarning: casting datetime64[ns] values to int64 with .astype(...) is deprecated and will raise in a future version. Use .view(...) instead.\n",
      "  \"\"\"\n"
     ]
    }
   ],
   "source": [
    "# Convert 'Req_Date' column to datetime\n",
    "log2['Req_Date'] = pd.to_datetime(log2['Req_Date'])\n",
    "\n",
    "# Convert datetime to Unix timestamp\n",
    "log2['ReqDt_Euc'] = (log2['Req_Date'].astype('int64') // 10**9).astype('int')"
   ]
  },
  {
   "cell_type": "code",
   "execution_count": 102,
   "id": "af456498",
   "metadata": {},
   "outputs": [
    {
     "data": {
      "text/plain": [
       "-636854400     223\n",
       " 1675987200    187\n",
       " 1675036800    162\n",
       " 1676332800    151\n",
       " 1677542400    151\n",
       "              ... \n",
       " 1616630400      1\n",
       " 1691712000      1\n",
       " 1617580800      1\n",
       " 1691020800      1\n",
       " 1646697600      1\n",
       "Name: ReqDt_Euc, Length: 632, dtype: int64"
      ]
     },
     "execution_count": 102,
     "metadata": {},
     "output_type": "execute_result"
    }
   ],
   "source": [
    "log2['ReqDt_Euc'].value_counts()"
   ]
  },
  {
   "cell_type": "code",
   "execution_count": 103,
   "id": "7f6210e1",
   "metadata": {},
   "outputs": [
    {
     "name": "stderr",
     "output_type": "stream",
     "text": [
      "C:\\Users\\te521690\\Anaconda3\\lib\\site-packages\\ipykernel_launcher.py:6: FutureWarning: casting datetime64[ns] values to int64 with .astype(...) is deprecated and will raise in a future version. Use .view(...) instead.\n",
      "  \n",
      "C:\\Users\\te521690\\Anaconda3\\lib\\site-packages\\ipykernel_launcher.py:12: FutureWarning: casting datetime64[ns] values to int64 with .astype(...) is deprecated and will raise in a future version. Use .view(...) instead.\n",
      "  if sys.path[0] == '':\n"
     ]
    }
   ],
   "source": [
    "from datetime import datetime\n",
    "\n",
    "# Convert 'Ord-Dt' column to datetime\n",
    "log2['SO_Ord_date'] = pd.to_datetime(log2['SO_Ord_date'])\n",
    "# Convert datetime to Unix timestamp\n",
    "log2['Ord-dt_Euc'] = (log2['SO_Ord_date'].astype('int64') // 10**9).astype('int')\n",
    "\n",
    "\n",
    "# Convert 'Ord-Dt' column to datetime\n",
    "log2['Due_Date'] = pd.to_datetime(log2['Due_Date'])\n",
    "# Convert datetime to Unix timestamp\n",
    "log2['DueDt_Euc'] = (log2['Due_Date'].astype('int64') // 10**9).astype('int')"
   ]
  },
  {
   "cell_type": "code",
   "execution_count": 104,
   "id": "738b98fe",
   "metadata": {},
   "outputs": [
    {
     "data": {
      "text/plain": [
       "{'ATO', 'COMP', 'MTO', 'MTS', 'MTSQS'}"
      ]
     },
     "execution_count": 104,
     "metadata": {},
     "output_type": "execute_result"
    }
   ],
   "source": [
    "set(log2['Part Type'])"
   ]
  },
  {
   "cell_type": "code",
   "execution_count": 105,
   "id": "62273326",
   "metadata": {},
   "outputs": [
    {
     "data": {
      "text/plain": [
       "166124-000    170\n",
       "CP8406-000    147\n",
       "197886-000    143\n",
       "888660-000    108\n",
       "780008-000     95\n",
       "             ... \n",
       "EN0027-000      1\n",
       "371113-000      1\n",
       "724639-000      1\n",
       "D61559-000      1\n",
       "ER0135-000      1\n",
       "Name: Part, Length: 2124, dtype: int64"
      ]
     },
     "execution_count": 105,
     "metadata": {},
     "output_type": "execute_result"
    }
   ],
   "source": [
    "log2['Part'].value_counts()"
   ]
  },
  {
   "cell_type": "code",
   "execution_count": 106,
   "id": "3a58fc6d",
   "metadata": {},
   "outputs": [
    {
     "data": {
      "text/plain": [
       "364    2444\n",
       "760     794\n",
       "753     612\n",
       "758     539\n",
       "750     528\n",
       "141     518\n",
       "752     420\n",
       "751     381\n",
       "755     343\n",
       "749     300\n",
       "J71     256\n",
       "757     211\n",
       "B82     206\n",
       "Z72     206\n",
       "151     190\n",
       "E82     178\n",
       "KB1     126\n",
       "814     125\n",
       "761     118\n",
       "AA5      80\n",
       "Z63      49\n",
       "C08      46\n",
       "A27      33\n",
       "748      27\n",
       "JA2      23\n",
       "E33      16\n",
       "435      16\n",
       "AF8      16\n",
       "E78      15\n",
       "822      15\n",
       "827      13\n",
       "F14      13\n",
       "813      10\n",
       "G38       8\n",
       "K93       7\n",
       "819       5\n",
       "C04       5\n",
       "E77       4\n",
       "652       4\n",
       "566       2\n",
       "AI9       2\n",
       "B95       1\n",
       "829       1\n",
       "A46       1\n",
       "C09       1\n",
       "JH1       1\n",
       "C88       1\n",
       "E34       1\n",
       "Name: OTTO-GPL, dtype: int64"
      ]
     },
     "execution_count": 106,
     "metadata": {},
     "output_type": "execute_result"
    }
   ],
   "source": [
    "log2['OTTO-GPL'].value_counts()"
   ]
  },
  {
   "cell_type": "code",
   "execution_count": 107,
   "id": "d62e42bb",
   "metadata": {},
   "outputs": [],
   "source": [
    "# Identify the columns containing string variables\n",
    "string_columns = ['Part', 'OTTO-GPL', 'Part Type']\n",
    "\n",
    "# Perform one-hot encoding\n",
    "dummy_variables = pd.get_dummies(log2[string_columns])\n",
    "\n",
    "# Concatenate the dummy variables with the original dataset\n",
    "log1_encoded = pd.concat([log2, dummy_variables], axis=1)\n",
    "\n",
    "# Drop the original string columns if needed\n",
    "log3 = log1_encoded.drop(string_columns, axis=1)\n"
   ]
  },
  {
   "cell_type": "code",
   "execution_count": 108,
   "id": "2138e4ca",
   "metadata": {},
   "outputs": [
    {
     "name": "stdout",
     "output_type": "stream",
     "text": [
      "<class 'pandas.core.frame.DataFrame'>\n",
      "Int64Index: 8911 entries, 0 to 8910\n",
      "Columns: 2188 entries, SO-Nbr to Part Type_MTSQS\n",
      "dtypes: datetime64[ns](3), float64(1), int32(3), int64(3), object(1), uint8(2177)\n",
      "memory usage: 19.2+ MB\n"
     ]
    }
   ],
   "source": [
    "log3.info()"
   ]
  },
  {
   "cell_type": "code",
   "execution_count": 109,
   "id": "4a2ed8fa",
   "metadata": {},
   "outputs": [],
   "source": [
    "log3.rename(columns={'Part-Type':'Part_Type',\n",
    "                     'OTTO-GPL':'OTTO_GPL',\n",
    "                     'Qty Ordered':'QtyInvoiced',\n",
    "                     'Part_Type_(blank)':'Part Type_(blank)',\n",
    "                     'Part_Type_ATO':'Part Type_ATO',\n",
    "                     'Part_Type_COMP':'Part Type_COMP',\n",
    "                     'Part_Type_MTS':'Part Type_MTS',\n",
    "                     'Part_Type_MTSQS':'Part Type_MTSQS',\n",
    "                     'SO_Ord_date_Euc':'Ord-Dt_Euc',\n",
    "                     'Req_Date_Euc':'ReqDt_Euc',\n",
    "                     'Due_Date_Euc':'DueDt_Euc'}, inplace=True)"
   ]
  },
  {
   "cell_type": "code",
   "execution_count": 110,
   "id": "dbb9888a",
   "metadata": {},
   "outputs": [],
   "source": [
    "# given from ChatGPT as a solution for the code above, but it still doesn't work."
   ]
  },
  {
   "cell_type": "code",
   "execution_count": 111,
   "id": "7e7d9e20",
   "metadata": {
    "scrolled": true
   },
   "outputs": [],
   "source": [
    "\n",
    "\n",
    "# from datetime import datetime\n",
    "\n",
    "# # Convert 'Ord-Dt' column to datetime\n",
    "# log3['SO_Ord_date'] = pd.to_datetime(log3['SO_Ord_date'])\n",
    "# # Convert datetime to Unix timestamp\n",
    "# log3['SO_Ord_date_Euc'] = log3['SO_Ord_date'].apply(lambda x: x.to_pydatetime().timestamp() if pd.notnull(x) else None)\n",
    "\n",
    "# # Convert 'Req_Date' column to datetime\n",
    "# log3['Req_Date'] = pd.to_datetime(log3['Req_Date'])\n",
    "# # Convert datetime to Unix timestamp\n",
    "# log3['Req_Date_Euc'] = log3['Req_Date'].apply(lambda x: x.to_pydatetime().timestamp() if pd.notnull(x) else None)\n",
    "\n",
    "# # Convert 'Due_Date' column to datetime\n",
    "# log3['Due_Date'] = pd.to_datetime(log3['Due_Date'])\n",
    "# # Convert datetime to Unix timestamp\n",
    "# log3['Due_Date_Euc'] = log3['Due_Date'].apply(lambda x: x.to_pydatetime().timestamp() if pd.notnull(x) else None)\n"
   ]
  },
  {
   "cell_type": "code",
   "execution_count": null,
   "id": "a04cc57b",
   "metadata": {},
   "outputs": [],
   "source": []
  },
  {
   "cell_type": "code",
   "execution_count": null,
   "id": "d5c1eb03",
   "metadata": {},
   "outputs": [],
   "source": []
  },
  {
   "cell_type": "markdown",
   "id": "c4753400",
   "metadata": {},
   "source": [
    "### Training DFとPrediction DFの項目数を合わせた後で、Training DFの残りのプロセスと学習を始める"
   ]
  },
  {
   "cell_type": "code",
   "execution_count": null,
   "id": "a4b99b10",
   "metadata": {},
   "outputs": [],
   "source": []
  },
  {
   "cell_type": "code",
   "execution_count": 112,
   "id": "6688f2f3",
   "metadata": {},
   "outputs": [
    {
     "data": {
      "text/plain": [
       "871788-000    1729\n",
       "360954-000    1471\n",
       "197886-000     898\n",
       "268120-000     822\n",
       "244890-000     816\n",
       "              ... \n",
       "2182485-2        1\n",
       "CU5612-000       1\n",
       "CG3665-000       1\n",
       "2182445-3        1\n",
       "E31927-000       1\n",
       "Name: Part, Length: 2124, dtype: int64"
      ]
     },
     "execution_count": 112,
     "metadata": {},
     "output_type": "execute_result"
    }
   ],
   "source": [
    "df2['Part'].value_counts()"
   ]
  },
  {
   "cell_type": "code",
   "execution_count": 113,
   "id": "321e9b3d",
   "metadata": {},
   "outputs": [
    {
     "data": {
      "text/plain": [
       "MTS      60478\n",
       "MTSQS    21020\n",
       "ATO      18890\n",
       "MTO      13181\n",
       "COMP        19\n",
       "Name: Part Type, dtype: int64"
      ]
     },
     "execution_count": 113,
     "metadata": {},
     "output_type": "execute_result"
    }
   ],
   "source": [
    "df2['Part Type'].value_counts()"
   ]
  },
  {
   "cell_type": "code",
   "execution_count": 114,
   "id": "47d4427a",
   "metadata": {},
   "outputs": [
    {
     "data": {
      "text/plain": [
       "364    28435\n",
       "760    15400\n",
       "753    10231\n",
       "755     9442\n",
       "749     7963\n",
       "752     6186\n",
       "751     4654\n",
       "750     3896\n",
       "758     3663\n",
       "141     3414\n",
       "151     2945\n",
       "814     2923\n",
       "F14     2385\n",
       "J71     2205\n",
       "Z72     1972\n",
       "761     1688\n",
       "E82     1148\n",
       "757      881\n",
       "C08      699\n",
       "KB1      609\n",
       "B82      547\n",
       "E33      465\n",
       "AA5      324\n",
       "A27      237\n",
       "822      202\n",
       "435      196\n",
       "Z63      186\n",
       "748      134\n",
       "819       76\n",
       "813       75\n",
       "JA2       72\n",
       "G38       63\n",
       "E78       62\n",
       "C04       44\n",
       "827       43\n",
       "652       23\n",
       "K93       17\n",
       "E77       16\n",
       "JH1       16\n",
       "AI9       15\n",
       "AF8       14\n",
       "B95        7\n",
       "566        6\n",
       "C88        3\n",
       "A46        2\n",
       "829        2\n",
       "C09        1\n",
       "E34        1\n",
       "Name: OTTO-GPL, dtype: int64"
      ]
     },
     "execution_count": 114,
     "metadata": {},
     "output_type": "execute_result"
    }
   ],
   "source": [
    "df2['OTTO-GPL'].value_counts()"
   ]
  },
  {
   "cell_type": "code",
   "execution_count": 115,
   "id": "887fa238",
   "metadata": {},
   "outputs": [
    {
     "data": {
      "text/html": [
       "<div>\n",
       "<style scoped>\n",
       "    .dataframe tbody tr th:only-of-type {\n",
       "        vertical-align: middle;\n",
       "    }\n",
       "\n",
       "    .dataframe tbody tr th {\n",
       "        vertical-align: top;\n",
       "    }\n",
       "\n",
       "    .dataframe thead th {\n",
       "        text-align: right;\n",
       "    }\n",
       "</style>\n",
       "<table border=\"1\" class=\"dataframe\">\n",
       "  <thead>\n",
       "    <tr style=\"text-align: right;\">\n",
       "      <th></th>\n",
       "      <th>count</th>\n",
       "      <th>mean</th>\n",
       "      <th>std</th>\n",
       "      <th>min</th>\n",
       "      <th>25%</th>\n",
       "      <th>50%</th>\n",
       "      <th>75%</th>\n",
       "      <th>max</th>\n",
       "    </tr>\n",
       "  </thead>\n",
       "  <tbody>\n",
       "    <tr>\n",
       "      <th>QtyInvoiced</th>\n",
       "      <td>113588.0</td>\n",
       "      <td>556.079956</td>\n",
       "      <td>6772.136235</td>\n",
       "      <td>-120000.0</td>\n",
       "      <td>10.0</td>\n",
       "      <td>38.0</td>\n",
       "      <td>140.0</td>\n",
       "      <td>642000.0</td>\n",
       "    </tr>\n",
       "    <tr>\n",
       "      <th>TE_ship LT</th>\n",
       "      <td>113588.0</td>\n",
       "      <td>46.501241</td>\n",
       "      <td>52.932551</td>\n",
       "      <td>-715.0</td>\n",
       "      <td>5.0</td>\n",
       "      <td>30.0</td>\n",
       "      <td>77.0</td>\n",
       "      <td>984.0</td>\n",
       "    </tr>\n",
       "    <tr>\n",
       "      <th>Customer LT</th>\n",
       "      <td>113588.0</td>\n",
       "      <td>26.423223</td>\n",
       "      <td>38.717570</td>\n",
       "      <td>-709.0</td>\n",
       "      <td>5.0</td>\n",
       "      <td>14.0</td>\n",
       "      <td>35.0</td>\n",
       "      <td>982.0</td>\n",
       "    </tr>\n",
       "    <tr>\n",
       "      <th>Shipping LT</th>\n",
       "      <td>113588.0</td>\n",
       "      <td>43.156267</td>\n",
       "      <td>60.560978</td>\n",
       "      <td>0.0</td>\n",
       "      <td>5.0</td>\n",
       "      <td>19.0</td>\n",
       "      <td>59.0</td>\n",
       "      <td>984.0</td>\n",
       "    </tr>\n",
       "  </tbody>\n",
       "</table>\n",
       "</div>"
      ],
      "text/plain": [
       "                count        mean          std       min   25%   50%    75%  \\\n",
       "QtyInvoiced  113588.0  556.079956  6772.136235 -120000.0  10.0  38.0  140.0   \n",
       "TE_ship LT   113588.0   46.501241    52.932551    -715.0   5.0  30.0   77.0   \n",
       "Customer LT  113588.0   26.423223    38.717570    -709.0   5.0  14.0   35.0   \n",
       "Shipping LT  113588.0   43.156267    60.560978       0.0   5.0  19.0   59.0   \n",
       "\n",
       "                  max  \n",
       "QtyInvoiced  642000.0  \n",
       "TE_ship LT      984.0  \n",
       "Customer LT     982.0  \n",
       "Shipping LT     984.0  "
      ]
     },
     "execution_count": 115,
     "metadata": {},
     "output_type": "execute_result"
    }
   ],
   "source": [
    "df2.describe().transpose()"
   ]
  },
  {
   "cell_type": "code",
   "execution_count": 116,
   "id": "9b02a204",
   "metadata": {},
   "outputs": [
    {
     "data": {
      "text/html": [
       "<div>\n",
       "<style scoped>\n",
       "    .dataframe tbody tr th:only-of-type {\n",
       "        vertical-align: middle;\n",
       "    }\n",
       "\n",
       "    .dataframe tbody tr th {\n",
       "        vertical-align: top;\n",
       "    }\n",
       "\n",
       "    .dataframe thead th {\n",
       "        text-align: right;\n",
       "    }\n",
       "</style>\n",
       "<table border=\"1\" class=\"dataframe\">\n",
       "  <thead>\n",
       "    <tr style=\"text-align: right;\">\n",
       "      <th></th>\n",
       "      <th>Part</th>\n",
       "      <th>QtyInvoiced</th>\n",
       "      <th>TE_ship LT</th>\n",
       "      <th>Customer LT</th>\n",
       "      <th>Shipping LT</th>\n",
       "    </tr>\n",
       "  </thead>\n",
       "  <tbody>\n",
       "    <tr>\n",
       "      <th>0</th>\n",
       "      <td>000144-000</td>\n",
       "      <td>22.375000</td>\n",
       "      <td>96.187500</td>\n",
       "      <td>55.125000</td>\n",
       "      <td>169.812500</td>\n",
       "    </tr>\n",
       "    <tr>\n",
       "      <th>1</th>\n",
       "      <td>004049-000</td>\n",
       "      <td>56.625000</td>\n",
       "      <td>74.187500</td>\n",
       "      <td>69.812500</td>\n",
       "      <td>89.187500</td>\n",
       "    </tr>\n",
       "    <tr>\n",
       "      <th>2</th>\n",
       "      <td>004354-000</td>\n",
       "      <td>293.166667</td>\n",
       "      <td>61.000000</td>\n",
       "      <td>24.000000</td>\n",
       "      <td>58.666667</td>\n",
       "    </tr>\n",
       "    <tr>\n",
       "      <th>3</th>\n",
       "      <td>007356-000</td>\n",
       "      <td>189.716667</td>\n",
       "      <td>75.877778</td>\n",
       "      <td>37.372222</td>\n",
       "      <td>45.133333</td>\n",
       "    </tr>\n",
       "    <tr>\n",
       "      <th>4</th>\n",
       "      <td>008440-000</td>\n",
       "      <td>718.910891</td>\n",
       "      <td>81.227723</td>\n",
       "      <td>33.291089</td>\n",
       "      <td>51.487129</td>\n",
       "    </tr>\n",
       "    <tr>\n",
       "      <th>...</th>\n",
       "      <td>...</td>\n",
       "      <td>...</td>\n",
       "      <td>...</td>\n",
       "      <td>...</td>\n",
       "      <td>...</td>\n",
       "    </tr>\n",
       "    <tr>\n",
       "      <th>2119</th>\n",
       "      <td>PA2222-000</td>\n",
       "      <td>9.125000</td>\n",
       "      <td>58.812500</td>\n",
       "      <td>56.062500</td>\n",
       "      <td>60.812500</td>\n",
       "    </tr>\n",
       "    <tr>\n",
       "      <th>2120</th>\n",
       "      <td>PT553R-000</td>\n",
       "      <td>95.000000</td>\n",
       "      <td>6.200000</td>\n",
       "      <td>115.400000</td>\n",
       "      <td>15.000000</td>\n",
       "    </tr>\n",
       "    <tr>\n",
       "      <th>2121</th>\n",
       "      <td>RG3521-000</td>\n",
       "      <td>4.588235</td>\n",
       "      <td>13.647059</td>\n",
       "      <td>34.176471</td>\n",
       "      <td>11.176471</td>\n",
       "    </tr>\n",
       "    <tr>\n",
       "      <th>2122</th>\n",
       "      <td>TH7438-000</td>\n",
       "      <td>119.714286</td>\n",
       "      <td>69.071429</td>\n",
       "      <td>92.142857</td>\n",
       "      <td>60.142857</td>\n",
       "    </tr>\n",
       "    <tr>\n",
       "      <th>2123</th>\n",
       "      <td>Y12345-000</td>\n",
       "      <td>632.160000</td>\n",
       "      <td>31.180000</td>\n",
       "      <td>20.800000</td>\n",
       "      <td>34.630000</td>\n",
       "    </tr>\n",
       "  </tbody>\n",
       "</table>\n",
       "<p>2124 rows × 5 columns</p>\n",
       "</div>"
      ],
      "text/plain": [
       "            Part  QtyInvoiced  TE_ship LT  Customer LT  Shipping LT\n",
       "0     000144-000    22.375000   96.187500    55.125000   169.812500\n",
       "1     004049-000    56.625000   74.187500    69.812500    89.187500\n",
       "2     004354-000   293.166667   61.000000    24.000000    58.666667\n",
       "3     007356-000   189.716667   75.877778    37.372222    45.133333\n",
       "4     008440-000   718.910891   81.227723    33.291089    51.487129\n",
       "...          ...          ...         ...          ...          ...\n",
       "2119  PA2222-000     9.125000   58.812500    56.062500    60.812500\n",
       "2120  PT553R-000    95.000000    6.200000   115.400000    15.000000\n",
       "2121  RG3521-000     4.588235   13.647059    34.176471    11.176471\n",
       "2122  TH7438-000   119.714286   69.071429    92.142857    60.142857\n",
       "2123  Y12345-000   632.160000   31.180000    20.800000    34.630000\n",
       "\n",
       "[2124 rows x 5 columns]"
      ]
     },
     "execution_count": 116,
     "metadata": {},
     "output_type": "execute_result"
    }
   ],
   "source": [
    "df2.groupby(by=['Part']).mean().reset_index()"
   ]
  },
  {
   "cell_type": "code",
   "execution_count": 117,
   "id": "e38ad636",
   "metadata": {},
   "outputs": [
    {
     "data": {
      "text/plain": [
       "871788-000    1729\n",
       "360954-000    1471\n",
       "197886-000     898\n",
       "268120-000     822\n",
       "244890-000     816\n",
       "              ... \n",
       "2182485-2        1\n",
       "CU5612-000       1\n",
       "CG3665-000       1\n",
       "2182445-3        1\n",
       "E31927-000       1\n",
       "Name: Part, Length: 2124, dtype: int64"
      ]
     },
     "execution_count": 117,
     "metadata": {},
     "output_type": "execute_result"
    }
   ],
   "source": [
    "df2['Part'].value_counts()"
   ]
  },
  {
   "cell_type": "code",
   "execution_count": 118,
   "id": "d78f7d5e",
   "metadata": {},
   "outputs": [
    {
     "name": "stderr",
     "output_type": "stream",
     "text": [
      "C:\\Users\\te521690\\Anaconda3\\lib\\site-packages\\seaborn\\distributions.py:2619: FutureWarning: `distplot` is a deprecated function and will be removed in a future version. Please adapt your code to use either `displot` (a figure-level function with similar flexibility) or `histplot` (an axes-level function for histograms).\n",
      "  warnings.warn(msg, FutureWarning)\n"
     ]
    },
    {
     "data": {
      "text/plain": [
       "<AxesSubplot:xlabel='Customer LT', ylabel='Density'>"
      ]
     },
     "execution_count": 118,
     "metadata": {},
     "output_type": "execute_result"
    },
    {
     "data": {
      "image/png": "[encoded data removed]",
      "text/plain": [
       "<Figure size 864x576 with 1 Axes>"
      ]
     },
     "metadata": {
      "needs_background": "light"
     },
     "output_type": "display_data"
    }
   ],
   "source": [
    "plt.figure(figsize=(12,8))\n",
    "sns.distplot(df2['Customer LT'])"
   ]
  },
  {
   "cell_type": "code",
   "execution_count": 119,
   "id": "5b40ed9d",
   "metadata": {},
   "outputs": [
    {
     "name": "stderr",
     "output_type": "stream",
     "text": [
      "C:\\Users\\te521690\\Anaconda3\\lib\\site-packages\\seaborn\\distributions.py:2619: FutureWarning: `distplot` is a deprecated function and will be removed in a future version. Please adapt your code to use either `displot` (a figure-level function with similar flexibility) or `histplot` (an axes-level function for histograms).\n",
      "  warnings.warn(msg, FutureWarning)\n"
     ]
    },
    {
     "data": {
      "text/plain": [
       "<AxesSubplot:xlabel='Shipping LT', ylabel='Density'>"
      ]
     },
     "execution_count": 119,
     "metadata": {},
     "output_type": "execute_result"
    },
    {
     "data": {
      "image/png": "[encoded data removed]",
      "text/plain": [
       "<Figure size 864x576 with 1 Axes>"
      ]
     },
     "metadata": {
      "needs_background": "light"
     },
     "output_type": "display_data"
    }
   ],
   "source": [
    "plt.figure(figsize=(12,8))\n",
    "sns.distplot(df2['Shipping LT'])"
   ]
  },
  {
   "cell_type": "code",
   "execution_count": 120,
   "id": "01dc5a0e",
   "metadata": {},
   "outputs": [
    {
     "data": {
      "text/plain": [
       "<AxesSubplot:xlabel='Customer LT', ylabel='Shipping LT'>"
      ]
     },
     "execution_count": 120,
     "metadata": {},
     "output_type": "execute_result"
    },
    {
     "data": {
      "image/png": "[encoded data removed]",
      "text/plain": [
       "<Figure size 864x576 with 1 Axes>"
      ]
     },
     "metadata": {
      "needs_background": "light"
     },
     "output_type": "display_data"
    }
   ],
   "source": [
    "plt.figure(figsize=(12,8))\n",
    "sns.scatterplot(x='Customer LT',y='Shipping LT',data=df2)"
   ]
  },
  {
   "cell_type": "code",
   "execution_count": 121,
   "id": "60a240d6",
   "metadata": {
    "scrolled": true
   },
   "outputs": [
    {
     "name": "stdout",
     "output_type": "stream",
     "text": [
      "<class 'pandas.core.frame.DataFrame'>\n",
      "Int64Index: 113588 entries, 0 to 113587\n",
      "Data columns (total 11 columns):\n",
      " #   Column             Non-Null Count   Dtype         \n",
      "---  ------             --------------   -----         \n",
      " 0   OTTO-GPL           113588 non-null  object        \n",
      " 1   Part               113588 non-null  object        \n",
      " 2   Part Type          113588 non-null  object        \n",
      " 3   QtyInvoiced        113588 non-null  float64       \n",
      " 4   Ord-Dt             113588 non-null  datetime64[ns]\n",
      " 5   ReqDt              113588 non-null  datetime64[ns]\n",
      " 6   Original Due Date  113588 non-null  datetime64[ns]\n",
      " 7   InvoiceDt          113588 non-null  datetime64[ns]\n",
      " 8   TE_ship LT         113588 non-null  int64         \n",
      " 9   Customer LT        113588 non-null  int64         \n",
      " 10  Shipping LT        113588 non-null  int64         \n",
      "dtypes: datetime64[ns](4), float64(1), int64(3), object(3)\n",
      "memory usage: 10.4+ MB\n"
     ]
    }
   ],
   "source": [
    "df2.info()"
   ]
  },
  {
   "cell_type": "code",
   "execution_count": 122,
   "id": "d227a829",
   "metadata": {},
   "outputs": [],
   "source": [
    "# Identify the columns containing string variables\n",
    "string_columns = ['Part', 'OTTO-GPL', 'Part Type']\n",
    "\n",
    "# Convert columns to string data type. added on June 27, 2023\n",
    "#df2[string_columns] = df2[string_columns].astype(str)\n",
    "\n",
    "# Perform one-hot encoding\n",
    "dummy_variables = pd.get_dummies(df2[string_columns])\n",
    "\n",
    "# Concatenate the dummy variables with the original dataset\n",
    "df_encoded = pd.concat([df2, dummy_variables], axis=1)\n",
    "\n",
    "# Drop the original string columns if needed\n",
    "df3 = df_encoded.drop(string_columns, axis=1)\n"
   ]
  },
  {
   "cell_type": "code",
   "execution_count": 123,
   "id": "c8b41419",
   "metadata": {},
   "outputs": [
    {
     "name": "stdout",
     "output_type": "stream",
     "text": [
      "1671944400\n"
     ]
    }
   ],
   "source": [
    "import datetime\n",
    "\n",
    "today_str = '12/25/2022'\n",
    "today_date = datetime.datetime.strptime(today_str, '%m/%d/%Y')\n",
    "\n",
    "timestamp_int = int(today_date.timestamp())\n",
    "print(timestamp_int)\n"
   ]
  },
  {
   "cell_type": "code",
   "execution_count": 124,
   "id": "a610a307",
   "metadata": {},
   "outputs": [],
   "source": [
    "from datetime import datetime\n",
    "\n",
    "# Convert 'Ord-Dt' column to datetime\n",
    "df3['Ord-Dt'] = pd.to_datetime(df3['Ord-Dt'])\n",
    "# Convert datetime to Unix timestamp\n",
    "df3['Ord-Dt_Euc'] = df3['Ord-Dt'].apply(lambda x: x.to_pydatetime().timestamp())\n",
    "\n",
    "# Convert 'Ord-Dt' column to datetime\n",
    "df3['ReqDt'] = pd.to_datetime(df3['ReqDt'])\n",
    "# Convert datetime to Unix timestamp\n",
    "df3['ReqDt_Euc'] = df3['ReqDt'].apply(lambda x: x.to_pydatetime().timestamp())\n",
    "\n",
    "# Convert 'Ord-Dt' column to datetime\n",
    "df3['Original Due Date'] = pd.to_datetime(df3['Original Due Date'])\n",
    "# Convert datetime to Unix timestamp\n",
    "df3['DueDt_Euc'] = df3['Original Due Date'].apply(lambda x: x.to_pydatetime().timestamp())\n",
    "\n",
    "# # Convert 'Ord-Dt' column to datetime\n",
    "# df3['InvoiceDt'] = pd.to_datetime(df3['InvoiceDt'])\n",
    "# # Convert datetime to Unix timestamp\n",
    "# df3['InvoiceDt_Euc'] = df3['InvoiceDt'].apply(lambda x: x.to_pydatetime().timestamp())\n",
    "\n"
   ]
  },
  {
   "cell_type": "code",
   "execution_count": 125,
   "id": "79eb47dc",
   "metadata": {},
   "outputs": [],
   "source": [
    "df3 = df3.drop(['Ord-Dt','ReqDt','Original Due Date','InvoiceDt'], axis=1)"
   ]
  },
  {
   "cell_type": "code",
   "execution_count": 126,
   "id": "1f050c21",
   "metadata": {},
   "outputs": [
    {
     "data": {
      "text/plain": [
       "871788-000    1729\n",
       "360954-000    1471\n",
       "197886-000     898\n",
       "268120-000     822\n",
       "244890-000     816\n",
       "              ... \n",
       "2182485-2        1\n",
       "CU5612-000       1\n",
       "CG3665-000       1\n",
       "2182445-3        1\n",
       "E31927-000       1\n",
       "Name: Part, Length: 2124, dtype: int64"
      ]
     },
     "execution_count": 126,
     "metadata": {},
     "output_type": "execute_result"
    }
   ],
   "source": [
    "df2['Part'].value_counts()"
   ]
  },
  {
   "cell_type": "code",
   "execution_count": 127,
   "id": "32c541de",
   "metadata": {},
   "outputs": [
    {
     "name": "stdout",
     "output_type": "stream",
     "text": [
      "<class 'pandas.core.frame.DataFrame'>\n",
      "Int64Index: 113588 entries, 0 to 113587\n",
      "Columns: 2184 entries, QtyInvoiced to DueDt_Euc\n",
      "dtypes: float64(4), int64(3), uint8(2177)\n",
      "memory usage: 242.8 MB\n"
     ]
    }
   ],
   "source": [
    "df3.info()"
   ]
  },
  {
   "cell_type": "code",
   "execution_count": 128,
   "id": "70b81c6c",
   "metadata": {},
   "outputs": [
    {
     "data": {
      "text/html": [
       "<div>\n",
       "<style scoped>\n",
       "    .dataframe tbody tr th:only-of-type {\n",
       "        vertical-align: middle;\n",
       "    }\n",
       "\n",
       "    .dataframe tbody tr th {\n",
       "        vertical-align: top;\n",
       "    }\n",
       "\n",
       "    .dataframe thead th {\n",
       "        text-align: right;\n",
       "    }\n",
       "</style>\n",
       "<table border=\"1\" class=\"dataframe\">\n",
       "  <thead>\n",
       "    <tr style=\"text-align: right;\">\n",
       "      <th></th>\n",
       "      <th>OTTO-GPL</th>\n",
       "      <th>QtyInvoiced</th>\n",
       "      <th>TE_ship LT</th>\n",
       "      <th>Customer LT</th>\n",
       "      <th>Shipping LT</th>\n",
       "    </tr>\n",
       "  </thead>\n",
       "  <tbody>\n",
       "    <tr>\n",
       "      <th>0</th>\n",
       "      <td>141</td>\n",
       "      <td>1055.020504</td>\n",
       "      <td>63.737551</td>\n",
       "      <td>39.997071</td>\n",
       "      <td>47.933802</td>\n",
       "    </tr>\n",
       "    <tr>\n",
       "      <th>1</th>\n",
       "      <td>151</td>\n",
       "      <td>9.682173</td>\n",
       "      <td>25.644822</td>\n",
       "      <td>13.724618</td>\n",
       "      <td>27.981664</td>\n",
       "    </tr>\n",
       "    <tr>\n",
       "      <th>2</th>\n",
       "      <td>364</td>\n",
       "      <td>525.744962</td>\n",
       "      <td>73.193177</td>\n",
       "      <td>30.180622</td>\n",
       "      <td>54.403200</td>\n",
       "    </tr>\n",
       "    <tr>\n",
       "      <th>3</th>\n",
       "      <td>435</td>\n",
       "      <td>8190.933673</td>\n",
       "      <td>183.658163</td>\n",
       "      <td>91.826531</td>\n",
       "      <td>201.045918</td>\n",
       "    </tr>\n",
       "    <tr>\n",
       "      <th>4</th>\n",
       "      <td>566</td>\n",
       "      <td>5.166667</td>\n",
       "      <td>31.833333</td>\n",
       "      <td>47.500000</td>\n",
       "      <td>60.500000</td>\n",
       "    </tr>\n",
       "    <tr>\n",
       "      <th>5</th>\n",
       "      <td>652</td>\n",
       "      <td>3918.328261</td>\n",
       "      <td>11.695652</td>\n",
       "      <td>12.478261</td>\n",
       "      <td>11.260870</td>\n",
       "    </tr>\n",
       "    <tr>\n",
       "      <th>6</th>\n",
       "      <td>748</td>\n",
       "      <td>5.753731</td>\n",
       "      <td>77.522388</td>\n",
       "      <td>70.619403</td>\n",
       "      <td>71.500000</td>\n",
       "    </tr>\n",
       "    <tr>\n",
       "      <th>7</th>\n",
       "      <td>749</td>\n",
       "      <td>174.186739</td>\n",
       "      <td>35.665327</td>\n",
       "      <td>18.145799</td>\n",
       "      <td>23.503202</td>\n",
       "    </tr>\n",
       "    <tr>\n",
       "      <th>8</th>\n",
       "      <td>750</td>\n",
       "      <td>57.293121</td>\n",
       "      <td>47.597023</td>\n",
       "      <td>36.365503</td>\n",
       "      <td>56.590349</td>\n",
       "    </tr>\n",
       "    <tr>\n",
       "      <th>9</th>\n",
       "      <td>751</td>\n",
       "      <td>130.977009</td>\n",
       "      <td>31.483885</td>\n",
       "      <td>21.671036</td>\n",
       "      <td>34.121616</td>\n",
       "    </tr>\n",
       "    <tr>\n",
       "      <th>10</th>\n",
       "      <td>752</td>\n",
       "      <td>118.406887</td>\n",
       "      <td>48.908503</td>\n",
       "      <td>26.080828</td>\n",
       "      <td>60.008729</td>\n",
       "    </tr>\n",
       "    <tr>\n",
       "      <th>11</th>\n",
       "      <td>753</td>\n",
       "      <td>30.625648</td>\n",
       "      <td>35.586648</td>\n",
       "      <td>14.667188</td>\n",
       "      <td>39.386082</td>\n",
       "    </tr>\n",
       "    <tr>\n",
       "      <th>12</th>\n",
       "      <td>755</td>\n",
       "      <td>220.761912</td>\n",
       "      <td>22.525842</td>\n",
       "      <td>14.203876</td>\n",
       "      <td>22.332133</td>\n",
       "    </tr>\n",
       "    <tr>\n",
       "      <th>13</th>\n",
       "      <td>757</td>\n",
       "      <td>52.377980</td>\n",
       "      <td>53.188422</td>\n",
       "      <td>40.202043</td>\n",
       "      <td>69.644722</td>\n",
       "    </tr>\n",
       "    <tr>\n",
       "      <th>14</th>\n",
       "      <td>758</td>\n",
       "      <td>111.678679</td>\n",
       "      <td>56.515971</td>\n",
       "      <td>45.565111</td>\n",
       "      <td>62.000273</td>\n",
       "    </tr>\n",
       "    <tr>\n",
       "      <th>15</th>\n",
       "      <td>760</td>\n",
       "      <td>219.253608</td>\n",
       "      <td>21.859156</td>\n",
       "      <td>18.657662</td>\n",
       "      <td>23.870714</td>\n",
       "    </tr>\n",
       "    <tr>\n",
       "      <th>16</th>\n",
       "      <td>761</td>\n",
       "      <td>734.533768</td>\n",
       "      <td>27.585308</td>\n",
       "      <td>19.841825</td>\n",
       "      <td>43.055095</td>\n",
       "    </tr>\n",
       "    <tr>\n",
       "      <th>17</th>\n",
       "      <td>813</td>\n",
       "      <td>60.466667</td>\n",
       "      <td>93.986667</td>\n",
       "      <td>94.440000</td>\n",
       "      <td>103.973333</td>\n",
       "    </tr>\n",
       "    <tr>\n",
       "      <th>18</th>\n",
       "      <td>814</td>\n",
       "      <td>184.591173</td>\n",
       "      <td>39.094081</td>\n",
       "      <td>24.098529</td>\n",
       "      <td>39.664728</td>\n",
       "    </tr>\n",
       "    <tr>\n",
       "      <th>19</th>\n",
       "      <td>819</td>\n",
       "      <td>137.907895</td>\n",
       "      <td>13.250000</td>\n",
       "      <td>6.368421</td>\n",
       "      <td>11.118421</td>\n",
       "    </tr>\n",
       "    <tr>\n",
       "      <th>20</th>\n",
       "      <td>822</td>\n",
       "      <td>1052.475248</td>\n",
       "      <td>40.584158</td>\n",
       "      <td>39.529703</td>\n",
       "      <td>37.683168</td>\n",
       "    </tr>\n",
       "    <tr>\n",
       "      <th>21</th>\n",
       "      <td>827</td>\n",
       "      <td>34.325581</td>\n",
       "      <td>66.558140</td>\n",
       "      <td>37.837209</td>\n",
       "      <td>118.627907</td>\n",
       "    </tr>\n",
       "    <tr>\n",
       "      <th>22</th>\n",
       "      <td>829</td>\n",
       "      <td>20.000000</td>\n",
       "      <td>133.500000</td>\n",
       "      <td>28.000000</td>\n",
       "      <td>221.000000</td>\n",
       "    </tr>\n",
       "    <tr>\n",
       "      <th>23</th>\n",
       "      <td>A27</td>\n",
       "      <td>461.185654</td>\n",
       "      <td>114.742616</td>\n",
       "      <td>113.400844</td>\n",
       "      <td>145.476793</td>\n",
       "    </tr>\n",
       "    <tr>\n",
       "      <th>24</th>\n",
       "      <td>A46</td>\n",
       "      <td>3940.500000</td>\n",
       "      <td>12.500000</td>\n",
       "      <td>8.000000</td>\n",
       "      <td>46.000000</td>\n",
       "    </tr>\n",
       "    <tr>\n",
       "      <th>25</th>\n",
       "      <td>AA5</td>\n",
       "      <td>5644.907407</td>\n",
       "      <td>143.586420</td>\n",
       "      <td>151.055556</td>\n",
       "      <td>169.373457</td>\n",
       "    </tr>\n",
       "    <tr>\n",
       "      <th>26</th>\n",
       "      <td>AF8</td>\n",
       "      <td>4.285714</td>\n",
       "      <td>16.142857</td>\n",
       "      <td>26.214286</td>\n",
       "      <td>30.071429</td>\n",
       "    </tr>\n",
       "    <tr>\n",
       "      <th>27</th>\n",
       "      <td>AI9</td>\n",
       "      <td>51.000000</td>\n",
       "      <td>52.400000</td>\n",
       "      <td>52.800000</td>\n",
       "      <td>49.466667</td>\n",
       "    </tr>\n",
       "    <tr>\n",
       "      <th>28</th>\n",
       "      <td>B82</td>\n",
       "      <td>179.698355</td>\n",
       "      <td>73.606947</td>\n",
       "      <td>47.606947</td>\n",
       "      <td>126.285192</td>\n",
       "    </tr>\n",
       "    <tr>\n",
       "      <th>29</th>\n",
       "      <td>B95</td>\n",
       "      <td>1141.428571</td>\n",
       "      <td>96.285714</td>\n",
       "      <td>70.000000</td>\n",
       "      <td>108.714286</td>\n",
       "    </tr>\n",
       "    <tr>\n",
       "      <th>30</th>\n",
       "      <td>C04</td>\n",
       "      <td>143.250000</td>\n",
       "      <td>11.113636</td>\n",
       "      <td>25.863636</td>\n",
       "      <td>13.636364</td>\n",
       "    </tr>\n",
       "    <tr>\n",
       "      <th>31</th>\n",
       "      <td>C08</td>\n",
       "      <td>310.911302</td>\n",
       "      <td>39.419170</td>\n",
       "      <td>29.808298</td>\n",
       "      <td>53.786838</td>\n",
       "    </tr>\n",
       "    <tr>\n",
       "      <th>32</th>\n",
       "      <td>C09</td>\n",
       "      <td>-2.000000</td>\n",
       "      <td>0.000000</td>\n",
       "      <td>0.000000</td>\n",
       "      <td>0.000000</td>\n",
       "    </tr>\n",
       "    <tr>\n",
       "      <th>33</th>\n",
       "      <td>C88</td>\n",
       "      <td>25.000000</td>\n",
       "      <td>42.333333</td>\n",
       "      <td>50.666667</td>\n",
       "      <td>30.333333</td>\n",
       "    </tr>\n",
       "    <tr>\n",
       "      <th>34</th>\n",
       "      <td>E33</td>\n",
       "      <td>7961.290323</td>\n",
       "      <td>58.283871</td>\n",
       "      <td>22.193548</td>\n",
       "      <td>50.559140</td>\n",
       "    </tr>\n",
       "    <tr>\n",
       "      <th>35</th>\n",
       "      <td>E34</td>\n",
       "      <td>144.000000</td>\n",
       "      <td>249.000000</td>\n",
       "      <td>161.000000</td>\n",
       "      <td>312.000000</td>\n",
       "    </tr>\n",
       "    <tr>\n",
       "      <th>36</th>\n",
       "      <td>E77</td>\n",
       "      <td>490.687500</td>\n",
       "      <td>60.437500</td>\n",
       "      <td>49.375000</td>\n",
       "      <td>127.875000</td>\n",
       "    </tr>\n",
       "    <tr>\n",
       "      <th>37</th>\n",
       "      <td>E78</td>\n",
       "      <td>9.177419</td>\n",
       "      <td>116.967742</td>\n",
       "      <td>107.032258</td>\n",
       "      <td>157.725806</td>\n",
       "    </tr>\n",
       "    <tr>\n",
       "      <th>38</th>\n",
       "      <td>E82</td>\n",
       "      <td>21849.326655</td>\n",
       "      <td>127.952091</td>\n",
       "      <td>87.164634</td>\n",
       "      <td>118.016551</td>\n",
       "    </tr>\n",
       "    <tr>\n",
       "      <th>39</th>\n",
       "      <td>F14</td>\n",
       "      <td>61.779874</td>\n",
       "      <td>4.405031</td>\n",
       "      <td>5.023899</td>\n",
       "      <td>4.724109</td>\n",
       "    </tr>\n",
       "    <tr>\n",
       "      <th>40</th>\n",
       "      <td>G38</td>\n",
       "      <td>1.333333</td>\n",
       "      <td>0.000000</td>\n",
       "      <td>0.000000</td>\n",
       "      <td>0.000000</td>\n",
       "    </tr>\n",
       "    <tr>\n",
       "      <th>41</th>\n",
       "      <td>J71</td>\n",
       "      <td>29.450794</td>\n",
       "      <td>47.481179</td>\n",
       "      <td>51.791383</td>\n",
       "      <td>44.825850</td>\n",
       "    </tr>\n",
       "    <tr>\n",
       "      <th>42</th>\n",
       "      <td>JA2</td>\n",
       "      <td>28.944444</td>\n",
       "      <td>86.888889</td>\n",
       "      <td>65.402778</td>\n",
       "      <td>114.763889</td>\n",
       "    </tr>\n",
       "    <tr>\n",
       "      <th>43</th>\n",
       "      <td>JH1</td>\n",
       "      <td>3392.812500</td>\n",
       "      <td>174.937500</td>\n",
       "      <td>171.500000</td>\n",
       "      <td>147.812500</td>\n",
       "    </tr>\n",
       "    <tr>\n",
       "      <th>44</th>\n",
       "      <td>K93</td>\n",
       "      <td>18.352941</td>\n",
       "      <td>77.588235</td>\n",
       "      <td>141.411765</td>\n",
       "      <td>101.235294</td>\n",
       "    </tr>\n",
       "    <tr>\n",
       "      <th>45</th>\n",
       "      <td>KB1</td>\n",
       "      <td>474.228243</td>\n",
       "      <td>65.472906</td>\n",
       "      <td>88.766831</td>\n",
       "      <td>78.527094</td>\n",
       "    </tr>\n",
       "    <tr>\n",
       "      <th>46</th>\n",
       "      <td>Z63</td>\n",
       "      <td>21.086022</td>\n",
       "      <td>92.516129</td>\n",
       "      <td>39.655914</td>\n",
       "      <td>123.698925</td>\n",
       "    </tr>\n",
       "    <tr>\n",
       "      <th>47</th>\n",
       "      <td>Z72</td>\n",
       "      <td>32.994422</td>\n",
       "      <td>43.494929</td>\n",
       "      <td>27.239858</td>\n",
       "      <td>39.710446</td>\n",
       "    </tr>\n",
       "  </tbody>\n",
       "</table>\n",
       "</div>"
      ],
      "text/plain": [
       "   OTTO-GPL   QtyInvoiced  TE_ship LT  Customer LT  Shipping LT\n",
       "0       141   1055.020504   63.737551    39.997071    47.933802\n",
       "1       151      9.682173   25.644822    13.724618    27.981664\n",
       "2       364    525.744962   73.193177    30.180622    54.403200\n",
       "3       435   8190.933673  183.658163    91.826531   201.045918\n",
       "4       566      5.166667   31.833333    47.500000    60.500000\n",
       "5       652   3918.328261   11.695652    12.478261    11.260870\n",
       "6       748      5.753731   77.522388    70.619403    71.500000\n",
       "7       749    174.186739   35.665327    18.145799    23.503202\n",
       "8       750     57.293121   47.597023    36.365503    56.590349\n",
       "9       751    130.977009   31.483885    21.671036    34.121616\n",
       "10      752    118.406887   48.908503    26.080828    60.008729\n",
       "11      753     30.625648   35.586648    14.667188    39.386082\n",
       "12      755    220.761912   22.525842    14.203876    22.332133\n",
       "13      757     52.377980   53.188422    40.202043    69.644722\n",
       "14      758    111.678679   56.515971    45.565111    62.000273\n",
       "15      760    219.253608   21.859156    18.657662    23.870714\n",
       "16      761    734.533768   27.585308    19.841825    43.055095\n",
       "17      813     60.466667   93.986667    94.440000   103.973333\n",
       "18      814    184.591173   39.094081    24.098529    39.664728\n",
       "19      819    137.907895   13.250000     6.368421    11.118421\n",
       "20      822   1052.475248   40.584158    39.529703    37.683168\n",
       "21      827     34.325581   66.558140    37.837209   118.627907\n",
       "22      829     20.000000  133.500000    28.000000   221.000000\n",
       "23      A27    461.185654  114.742616   113.400844   145.476793\n",
       "24      A46   3940.500000   12.500000     8.000000    46.000000\n",
       "25      AA5   5644.907407  143.586420   151.055556   169.373457\n",
       "26      AF8      4.285714   16.142857    26.214286    30.071429\n",
       "27      AI9     51.000000   52.400000    52.800000    49.466667\n",
       "28      B82    179.698355   73.606947    47.606947   126.285192\n",
       "29      B95   1141.428571   96.285714    70.000000   108.714286\n",
       "30      C04    143.250000   11.113636    25.863636    13.636364\n",
       "31      C08    310.911302   39.419170    29.808298    53.786838\n",
       "32      C09     -2.000000    0.000000     0.000000     0.000000\n",
       "33      C88     25.000000   42.333333    50.666667    30.333333\n",
       "34      E33   7961.290323   58.283871    22.193548    50.559140\n",
       "35      E34    144.000000  249.000000   161.000000   312.000000\n",
       "36      E77    490.687500   60.437500    49.375000   127.875000\n",
       "37      E78      9.177419  116.967742   107.032258   157.725806\n",
       "38      E82  21849.326655  127.952091    87.164634   118.016551\n",
       "39      F14     61.779874    4.405031     5.023899     4.724109\n",
       "40      G38      1.333333    0.000000     0.000000     0.000000\n",
       "41      J71     29.450794   47.481179    51.791383    44.825850\n",
       "42      JA2     28.944444   86.888889    65.402778   114.763889\n",
       "43      JH1   3392.812500  174.937500   171.500000   147.812500\n",
       "44      K93     18.352941   77.588235   141.411765   101.235294\n",
       "45      KB1    474.228243   65.472906    88.766831    78.527094\n",
       "46      Z63     21.086022   92.516129    39.655914   123.698925\n",
       "47      Z72     32.994422   43.494929    27.239858    39.710446"
      ]
     },
     "execution_count": 128,
     "metadata": {},
     "output_type": "execute_result"
    }
   ],
   "source": [
    "df2.groupby(by = 'OTTO-GPL').mean().reset_index()"
   ]
  },
  {
   "cell_type": "code",
   "execution_count": 129,
   "id": "5cb896d0",
   "metadata": {
    "scrolled": true
   },
   "outputs": [
    {
     "data": {
      "text/plain": [
       "Index(['QtyInvoiced', 'TE_ship LT', 'Customer LT', 'Shipping LT',\n",
       "       'Part_000144-000', 'Part_004049-000', 'Part_004354-000',\n",
       "       'Part_007356-000', 'Part_008440-000', 'Part_011589-000',\n",
       "       ...\n",
       "       'OTTO-GPL_Z63', 'OTTO-GPL_Z72', 'Part Type_ATO', 'Part Type_COMP',\n",
       "       'Part Type_MTO', 'Part Type_MTS', 'Part Type_MTSQS', 'Ord-Dt_Euc',\n",
       "       'ReqDt_Euc', 'DueDt_Euc'],\n",
       "      dtype='object', length=2184)"
      ]
     },
     "execution_count": 129,
     "metadata": {},
     "output_type": "execute_result"
    }
   ],
   "source": [
    "df3.columns"
   ]
  },
  {
   "cell_type": "markdown",
   "id": "baa0d813",
   "metadata": {},
   "source": [
    "### ここからLight GBMでのRegression Treeを開始"
   ]
  },
  {
   "cell_type": "code",
   "execution_count": 130,
   "id": "5641797f",
   "metadata": {},
   "outputs": [],
   "source": [
    "from sklearn.metrics import mean_squared_error\n",
    "import matplotlib.pyplot as plt\n",
    "%matplotlib inline"
   ]
  },
  {
   "cell_type": "code",
   "execution_count": 131,
   "id": "7f62a63c",
   "metadata": {},
   "outputs": [],
   "source": [
    "from sklearn.model_selection import train_test_split\n",
    "import lightgbm as lgb\n",
    "import graphviz"
   ]
  },
  {
   "cell_type": "code",
   "execution_count": null,
   "id": "676f8529",
   "metadata": {},
   "outputs": [],
   "source": []
  },
  {
   "cell_type": "code",
   "execution_count": 132,
   "id": "70684f80",
   "metadata": {},
   "outputs": [],
   "source": [
    "X = df3.drop('Shipping LT',axis=1)\n",
    "y = df3['Shipping LT']"
   ]
  },
  {
   "cell_type": "code",
   "execution_count": 133,
   "id": "031df71f",
   "metadata": {},
   "outputs": [],
   "source": [
    "X_train_0, X_test, y_train, y_test = train_test_split(X,y,test_size=0.3,random_state=101)"
   ]
  },
  {
   "cell_type": "code",
   "execution_count": 134,
   "id": "5925451b",
   "metadata": {},
   "outputs": [],
   "source": [
    "lgb_train = lgb.Dataset(X_train_0, y_train)"
   ]
  },
  {
   "cell_type": "code",
   "execution_count": 150,
   "id": "7ff29dfe",
   "metadata": {},
   "outputs": [],
   "source": [
    "params = {\n",
    "    'objective':'mse',\n",
    "    'metric':'mse',\n",
    "    'learning_rate':0.8,\n",
    "    'max_depth':50,\n",
    "    'min_data_in_leaf':1,\n",
    "    'min_data-in_bin':1,\n",
    "    'max_bin':100,\n",
    "    'seed':0,\n",
    "    'verbose':-1,\n",
    "}"
   ]
  },
  {
   "cell_type": "code",
   "execution_count": 151,
   "id": "60284697",
   "metadata": {},
   "outputs": [],
   "source": [
    "model = lgb.train(params,\n",
    "                 lgb_train,\n",
    "                 num_boost_round=1,\n",
    "                 valid_sets=[lgb_train],\n",
    "                 valid_names=['train'],\n",
    "                 callbacks=[lgb.log_evaluation(10)])"
   ]
  },
  {
   "cell_type": "code",
   "execution_count": 137,
   "id": "b445591b",
   "metadata": {},
   "outputs": [],
   "source": [
    "y_train_pred = model.predict(X_train_0)"
   ]
  },
  {
   "cell_type": "code",
   "execution_count": 138,
   "id": "eebedfa9",
   "metadata": {},
   "outputs": [
    {
     "name": "stdout",
     "output_type": "stream",
     "text": [
      "MSE train: 1805.72\n"
     ]
    }
   ],
   "source": [
    "print('MSE train: %.2f' % (mean_squared_error(y_train, y_train_pred)))"
   ]
  },
  {
   "cell_type": "code",
   "execution_count": 139,
   "id": "fc9415f8",
   "metadata": {},
   "outputs": [
    {
     "data": {
      "text/plain": [
       "array([ 40.33571315,  12.18810857,  40.33571315, ...,  40.33571315,\n",
       "       118.451932  ,  40.33571315])"
      ]
     },
     "execution_count": 139,
     "metadata": {},
     "output_type": "execute_result"
    }
   ],
   "source": [
    "model.predict(X_train_0)"
   ]
  },
  {
   "cell_type": "code",
   "execution_count": null,
   "id": "fe0e9ade",
   "metadata": {},
   "outputs": [],
   "source": []
  },
  {
   "cell_type": "code",
   "execution_count": 140,
   "id": "2d29ac37",
   "metadata": {},
   "outputs": [
    {
     "ename": "ExecutableNotFound",
     "evalue": "failed to execute 'dot', make sure the Graphviz executables are on your systems' PATH",
     "output_type": "error",
     "traceback": [
      "\u001b[1;31m---------------------------------------------------------------------------\u001b[0m",
      "\u001b[1;31mFileNotFoundError\u001b[0m                         Traceback (most recent call last)",
      "\u001b[1;32m~\\Anaconda3\\lib\\site-packages\\graphviz\\backend\\execute.py\u001b[0m in \u001b[0;36mrun_check\u001b[1;34m(cmd, input_lines, encoding, quiet, **kwargs)\u001b[0m\n\u001b[0;32m     78\u001b[0m                 \u001b[0mkwargs\u001b[0m\u001b[1;33m[\u001b[0m\u001b[1;34m'stdout'\u001b[0m\u001b[1;33m]\u001b[0m \u001b[1;33m=\u001b[0m \u001b[0mkwargs\u001b[0m\u001b[1;33m[\u001b[0m\u001b[1;34m'stderr'\u001b[0m\u001b[1;33m]\u001b[0m \u001b[1;33m=\u001b[0m \u001b[0msubprocess\u001b[0m\u001b[1;33m.\u001b[0m\u001b[0mPIPE\u001b[0m\u001b[1;33m\u001b[0m\u001b[1;33m\u001b[0m\u001b[0m\n\u001b[1;32m---> 79\u001b[1;33m             \u001b[0mproc\u001b[0m \u001b[1;33m=\u001b[0m \u001b[0m_run_input_lines\u001b[0m\u001b[1;33m(\u001b[0m\u001b[0mcmd\u001b[0m\u001b[1;33m,\u001b[0m \u001b[0minput_lines\u001b[0m\u001b[1;33m,\u001b[0m \u001b[0mkwargs\u001b[0m\u001b[1;33m=\u001b[0m\u001b[0mkwargs\u001b[0m\u001b[1;33m)\u001b[0m\u001b[1;33m\u001b[0m\u001b[1;33m\u001b[0m\u001b[0m\n\u001b[0m\u001b[0;32m     80\u001b[0m         \u001b[1;32melse\u001b[0m\u001b[1;33m:\u001b[0m\u001b[1;33m\u001b[0m\u001b[1;33m\u001b[0m\u001b[0m\n",
      "\u001b[1;32m~\\Anaconda3\\lib\\site-packages\\graphviz\\backend\\execute.py\u001b[0m in \u001b[0;36m_run_input_lines\u001b[1;34m(cmd, input_lines, kwargs)\u001b[0m\n\u001b[0;32m     98\u001b[0m \u001b[1;32mdef\u001b[0m \u001b[0m_run_input_lines\u001b[0m\u001b[1;33m(\u001b[0m\u001b[0mcmd\u001b[0m\u001b[1;33m,\u001b[0m \u001b[0minput_lines\u001b[0m\u001b[1;33m,\u001b[0m \u001b[1;33m*\u001b[0m\u001b[1;33m,\u001b[0m \u001b[0mkwargs\u001b[0m\u001b[1;33m)\u001b[0m\u001b[1;33m:\u001b[0m\u001b[1;33m\u001b[0m\u001b[1;33m\u001b[0m\u001b[0m\n\u001b[1;32m---> 99\u001b[1;33m     \u001b[0mpopen\u001b[0m \u001b[1;33m=\u001b[0m \u001b[0msubprocess\u001b[0m\u001b[1;33m.\u001b[0m\u001b[0mPopen\u001b[0m\u001b[1;33m(\u001b[0m\u001b[0mcmd\u001b[0m\u001b[1;33m,\u001b[0m \u001b[0mstdin\u001b[0m\u001b[1;33m=\u001b[0m\u001b[0msubprocess\u001b[0m\u001b[1;33m.\u001b[0m\u001b[0mPIPE\u001b[0m\u001b[1;33m,\u001b[0m \u001b[1;33m**\u001b[0m\u001b[0mkwargs\u001b[0m\u001b[1;33m)\u001b[0m\u001b[1;33m\u001b[0m\u001b[1;33m\u001b[0m\u001b[0m\n\u001b[0m\u001b[0;32m    100\u001b[0m \u001b[1;33m\u001b[0m\u001b[0m\n",
      "\u001b[1;32m~\\Anaconda3\\lib\\subprocess.py\u001b[0m in \u001b[0;36m__init__\u001b[1;34m(self, args, bufsize, executable, stdin, stdout, stderr, preexec_fn, close_fds, shell, cwd, env, universal_newlines, startupinfo, creationflags, restore_signals, start_new_session, pass_fds, encoding, errors, text)\u001b[0m\n\u001b[0;32m    799\u001b[0m                                 \u001b[0merrread\u001b[0m\u001b[1;33m,\u001b[0m \u001b[0merrwrite\u001b[0m\u001b[1;33m,\u001b[0m\u001b[1;33m\u001b[0m\u001b[1;33m\u001b[0m\u001b[0m\n\u001b[1;32m--> 800\u001b[1;33m                                 restore_signals, start_new_session)\n\u001b[0m\u001b[0;32m    801\u001b[0m         \u001b[1;32mexcept\u001b[0m\u001b[1;33m:\u001b[0m\u001b[1;33m\u001b[0m\u001b[1;33m\u001b[0m\u001b[0m\n",
      "\u001b[1;32m~\\Anaconda3\\lib\\subprocess.py\u001b[0m in \u001b[0;36m_execute_child\u001b[1;34m(self, args, executable, preexec_fn, close_fds, pass_fds, cwd, env, startupinfo, creationflags, shell, p2cread, p2cwrite, c2pread, c2pwrite, errread, errwrite, unused_restore_signals, unused_start_new_session)\u001b[0m\n\u001b[0;32m   1206\u001b[0m                                          \u001b[0mos\u001b[0m\u001b[1;33m.\u001b[0m\u001b[0mfspath\u001b[0m\u001b[1;33m(\u001b[0m\u001b[0mcwd\u001b[0m\u001b[1;33m)\u001b[0m \u001b[1;32mif\u001b[0m \u001b[0mcwd\u001b[0m \u001b[1;32mis\u001b[0m \u001b[1;32mnot\u001b[0m \u001b[1;32mNone\u001b[0m \u001b[1;32melse\u001b[0m \u001b[1;32mNone\u001b[0m\u001b[1;33m,\u001b[0m\u001b[1;33m\u001b[0m\u001b[1;33m\u001b[0m\u001b[0m\n\u001b[1;32m-> 1207\u001b[1;33m                                          startupinfo)\n\u001b[0m\u001b[0;32m   1208\u001b[0m             \u001b[1;32mfinally\u001b[0m\u001b[1;33m:\u001b[0m\u001b[1;33m\u001b[0m\u001b[1;33m\u001b[0m\u001b[0m\n",
      "\u001b[1;31mFileNotFoundError\u001b[0m: [WinError 2] The system cannot find the file specified",
      "\nThe above exception was the direct cause of the following exception:\n",
      "\u001b[1;31mExecutableNotFound\u001b[0m                        Traceback (most recent call last)",
      "\u001b[1;32m~\\AppData\\Local\\Temp\\ipykernel_13828\\425242771.py\u001b[0m in \u001b[0;36m<module>\u001b[1;34m\u001b[0m\n\u001b[1;32m----> 1\u001b[1;33m \u001b[0mlgb\u001b[0m\u001b[1;33m.\u001b[0m\u001b[0mplot_tree\u001b[0m\u001b[1;33m(\u001b[0m\u001b[0mmodel\u001b[0m\u001b[1;33m,\u001b[0m\u001b[0mtree_index\u001b[0m\u001b[1;33m=\u001b[0m\u001b[1;36m0\u001b[0m\u001b[1;33m,\u001b[0m \u001b[0mfigsize\u001b[0m\u001b[1;33m=\u001b[0m\u001b[1;33m(\u001b[0m\u001b[1;36m10\u001b[0m\u001b[1;33m,\u001b[0m\u001b[1;36m10\u001b[0m\u001b[1;33m)\u001b[0m\u001b[1;33m)\u001b[0m\u001b[1;33m\u001b[0m\u001b[1;33m\u001b[0m\u001b[0m\n\u001b[0m",
      "\u001b[1;32m~\\Anaconda3\\lib\\site-packages\\lightgbm\\plotting.py\u001b[0m in \u001b[0;36mplot_tree\u001b[1;34m(booster, ax, tree_index, figsize, dpi, show_info, precision, orientation, example_case, **kwargs)\u001b[0m\n\u001b[0;32m    826\u001b[0m \u001b[1;33m\u001b[0m\u001b[0m\n\u001b[0;32m    827\u001b[0m     \u001b[0ms\u001b[0m \u001b[1;33m=\u001b[0m \u001b[0mBytesIO\u001b[0m\u001b[1;33m(\u001b[0m\u001b[1;33m)\u001b[0m\u001b[1;33m\u001b[0m\u001b[1;33m\u001b[0m\u001b[0m\n\u001b[1;32m--> 828\u001b[1;33m     \u001b[0ms\u001b[0m\u001b[1;33m.\u001b[0m\u001b[0mwrite\u001b[0m\u001b[1;33m(\u001b[0m\u001b[0mgraph\u001b[0m\u001b[1;33m.\u001b[0m\u001b[0mpipe\u001b[0m\u001b[1;33m(\u001b[0m\u001b[0mformat\u001b[0m\u001b[1;33m=\u001b[0m\u001b[1;34m'png'\u001b[0m\u001b[1;33m)\u001b[0m\u001b[1;33m)\u001b[0m\u001b[1;33m\u001b[0m\u001b[1;33m\u001b[0m\u001b[0m\n\u001b[0m\u001b[0;32m    829\u001b[0m     \u001b[0ms\u001b[0m\u001b[1;33m.\u001b[0m\u001b[0mseek\u001b[0m\u001b[1;33m(\u001b[0m\u001b[1;36m0\u001b[0m\u001b[1;33m)\u001b[0m\u001b[1;33m\u001b[0m\u001b[1;33m\u001b[0m\u001b[0m\n\u001b[0;32m    830\u001b[0m     \u001b[0mimg\u001b[0m \u001b[1;33m=\u001b[0m \u001b[0mimage\u001b[0m\u001b[1;33m.\u001b[0m\u001b[0mimread\u001b[0m\u001b[1;33m(\u001b[0m\u001b[0ms\u001b[0m\u001b[1;33m)\u001b[0m\u001b[1;33m\u001b[0m\u001b[1;33m\u001b[0m\u001b[0m\n",
      "\u001b[1;32m~\\Anaconda3\\lib\\site-packages\\graphviz\\piping.py\u001b[0m in \u001b[0;36mpipe\u001b[1;34m(self, format, renderer, formatter, neato_no_op, quiet, engine, encoding)\u001b[0m\n\u001b[0;32m    108\u001b[0m                                  \u001b[0mquiet\u001b[0m\u001b[1;33m=\u001b[0m\u001b[0mquiet\u001b[0m\u001b[1;33m,\u001b[0m\u001b[1;33m\u001b[0m\u001b[1;33m\u001b[0m\u001b[0m\n\u001b[0;32m    109\u001b[0m                                  \u001b[0mengine\u001b[0m\u001b[1;33m=\u001b[0m\u001b[0mengine\u001b[0m\u001b[1;33m,\u001b[0m\u001b[1;33m\u001b[0m\u001b[1;33m\u001b[0m\u001b[0m\n\u001b[1;32m--> 110\u001b[1;33m                                  encoding=encoding)\n\u001b[0m\u001b[0;32m    111\u001b[0m \u001b[1;33m\u001b[0m\u001b[0m\n\u001b[0;32m    112\u001b[0m     \u001b[1;33m@\u001b[0m\u001b[0m_tools\u001b[0m\u001b[1;33m.\u001b[0m\u001b[0mdeprecate_positional_args\u001b[0m\u001b[1;33m(\u001b[0m\u001b[0msupported_number\u001b[0m\u001b[1;33m=\u001b[0m\u001b[1;36m2\u001b[0m\u001b[1;33m)\u001b[0m\u001b[1;33m\u001b[0m\u001b[1;33m\u001b[0m\u001b[0m\n",
      "\u001b[1;32m~\\Anaconda3\\lib\\site-packages\\graphviz\\_tools.py\u001b[0m in \u001b[0;36mwrapper\u001b[1;34m(*args, **kwargs)\u001b[0m\n\u001b[0;32m    169\u001b[0m                               category=category)\n\u001b[0;32m    170\u001b[0m \u001b[1;33m\u001b[0m\u001b[0m\n\u001b[1;32m--> 171\u001b[1;33m             \u001b[1;32mreturn\u001b[0m \u001b[0mfunc\u001b[0m\u001b[1;33m(\u001b[0m\u001b[1;33m*\u001b[0m\u001b[0margs\u001b[0m\u001b[1;33m,\u001b[0m \u001b[1;33m**\u001b[0m\u001b[0mkwargs\u001b[0m\u001b[1;33m)\u001b[0m\u001b[1;33m\u001b[0m\u001b[1;33m\u001b[0m\u001b[0m\n\u001b[0m\u001b[0;32m    172\u001b[0m \u001b[1;33m\u001b[0m\u001b[0m\n\u001b[0;32m    173\u001b[0m         \u001b[1;32mreturn\u001b[0m \u001b[0mwrapper\u001b[0m\u001b[1;33m\u001b[0m\u001b[1;33m\u001b[0m\u001b[0m\n",
      "\u001b[1;32m~\\Anaconda3\\lib\\site-packages\\graphviz\\piping.py\u001b[0m in \u001b[0;36m_pipe_legacy\u001b[1;34m(self, format, renderer, formatter, neato_no_op, quiet, engine, encoding)\u001b[0m\n\u001b[0;32m    125\u001b[0m                                  \u001b[0mquiet\u001b[0m\u001b[1;33m=\u001b[0m\u001b[0mquiet\u001b[0m\u001b[1;33m,\u001b[0m\u001b[1;33m\u001b[0m\u001b[1;33m\u001b[0m\u001b[0m\n\u001b[0;32m    126\u001b[0m                                  \u001b[0mengine\u001b[0m\u001b[1;33m=\u001b[0m\u001b[0mengine\u001b[0m\u001b[1;33m,\u001b[0m\u001b[1;33m\u001b[0m\u001b[1;33m\u001b[0m\u001b[0m\n\u001b[1;32m--> 127\u001b[1;33m                                  encoding=encoding)\n\u001b[0m\u001b[0;32m    128\u001b[0m \u001b[1;33m\u001b[0m\u001b[0m\n\u001b[0;32m    129\u001b[0m     def _pipe_future(self, format: typing.Optional[str] = None, *,\n",
      "\u001b[1;32m~\\Anaconda3\\lib\\site-packages\\graphviz\\piping.py\u001b[0m in \u001b[0;36m_pipe_future\u001b[1;34m(self, format, renderer, formatter, neato_no_op, quiet, engine, encoding)\u001b[0m\n\u001b[0;32m    159\u001b[0m             \u001b[1;32melse\u001b[0m\u001b[1;33m:\u001b[0m\u001b[1;33m\u001b[0m\u001b[1;33m\u001b[0m\u001b[0m\n\u001b[0;32m    160\u001b[0m                 \u001b[1;32mreturn\u001b[0m \u001b[0mraw\u001b[0m\u001b[1;33m.\u001b[0m\u001b[0mdecode\u001b[0m\u001b[1;33m(\u001b[0m\u001b[0mencoding\u001b[0m\u001b[1;33m)\u001b[0m\u001b[1;33m\u001b[0m\u001b[1;33m\u001b[0m\u001b[0m\n\u001b[1;32m--> 161\u001b[1;33m         \u001b[1;32mreturn\u001b[0m \u001b[0mself\u001b[0m\u001b[1;33m.\u001b[0m\u001b[0m_pipe_lines\u001b[0m\u001b[1;33m(\u001b[0m\u001b[1;33m*\u001b[0m\u001b[0margs\u001b[0m\u001b[1;33m,\u001b[0m \u001b[0minput_encoding\u001b[0m\u001b[1;33m=\u001b[0m\u001b[0mself\u001b[0m\u001b[1;33m.\u001b[0m\u001b[0mencoding\u001b[0m\u001b[1;33m,\u001b[0m \u001b[1;33m**\u001b[0m\u001b[0mkwargs\u001b[0m\u001b[1;33m)\u001b[0m\u001b[1;33m\u001b[0m\u001b[1;33m\u001b[0m\u001b[0m\n\u001b[0m",
      "\u001b[1;32m~\\Anaconda3\\lib\\site-packages\\graphviz\\backend\\piping.py\u001b[0m in \u001b[0;36mpipe_lines\u001b[1;34m(engine, format, input_lines, input_encoding, renderer, formatter, neato_no_op, quiet)\u001b[0m\n\u001b[0;32m    159\u001b[0m     \u001b[0mkwargs\u001b[0m \u001b[1;33m=\u001b[0m \u001b[1;33m{\u001b[0m\u001b[1;34m'input_lines'\u001b[0m\u001b[1;33m:\u001b[0m \u001b[1;33m(\u001b[0m\u001b[0mline\u001b[0m\u001b[1;33m.\u001b[0m\u001b[0mencode\u001b[0m\u001b[1;33m(\u001b[0m\u001b[0minput_encoding\u001b[0m\u001b[1;33m)\u001b[0m \u001b[1;32mfor\u001b[0m \u001b[0mline\u001b[0m \u001b[1;32min\u001b[0m \u001b[0minput_lines\u001b[0m\u001b[1;33m)\u001b[0m\u001b[1;33m}\u001b[0m\u001b[1;33m\u001b[0m\u001b[1;33m\u001b[0m\u001b[0m\n\u001b[0;32m    160\u001b[0m \u001b[1;33m\u001b[0m\u001b[0m\n\u001b[1;32m--> 161\u001b[1;33m     \u001b[0mproc\u001b[0m \u001b[1;33m=\u001b[0m \u001b[0mexecute\u001b[0m\u001b[1;33m.\u001b[0m\u001b[0mrun_check\u001b[0m\u001b[1;33m(\u001b[0m\u001b[0mcmd\u001b[0m\u001b[1;33m,\u001b[0m \u001b[0mcapture_output\u001b[0m\u001b[1;33m=\u001b[0m\u001b[1;32mTrue\u001b[0m\u001b[1;33m,\u001b[0m \u001b[0mquiet\u001b[0m\u001b[1;33m=\u001b[0m\u001b[0mquiet\u001b[0m\u001b[1;33m,\u001b[0m \u001b[1;33m**\u001b[0m\u001b[0mkwargs\u001b[0m\u001b[1;33m)\u001b[0m\u001b[1;33m\u001b[0m\u001b[1;33m\u001b[0m\u001b[0m\n\u001b[0m\u001b[0;32m    162\u001b[0m     \u001b[1;32mreturn\u001b[0m \u001b[0mproc\u001b[0m\u001b[1;33m.\u001b[0m\u001b[0mstdout\u001b[0m\u001b[1;33m\u001b[0m\u001b[1;33m\u001b[0m\u001b[0m\n\u001b[0;32m    163\u001b[0m \u001b[1;33m\u001b[0m\u001b[0m\n",
      "\u001b[1;32m~\\Anaconda3\\lib\\site-packages\\graphviz\\backend\\execute.py\u001b[0m in \u001b[0;36mrun_check\u001b[1;34m(cmd, input_lines, encoding, quiet, **kwargs)\u001b[0m\n\u001b[0;32m     82\u001b[0m     \u001b[1;32mexcept\u001b[0m \u001b[0mOSError\u001b[0m \u001b[1;32mas\u001b[0m \u001b[0me\u001b[0m\u001b[1;33m:\u001b[0m\u001b[1;33m\u001b[0m\u001b[1;33m\u001b[0m\u001b[0m\n\u001b[0;32m     83\u001b[0m         \u001b[1;32mif\u001b[0m \u001b[0me\u001b[0m\u001b[1;33m.\u001b[0m\u001b[0merrno\u001b[0m \u001b[1;33m==\u001b[0m \u001b[0merrno\u001b[0m\u001b[1;33m.\u001b[0m\u001b[0mENOENT\u001b[0m\u001b[1;33m:\u001b[0m\u001b[1;33m\u001b[0m\u001b[1;33m\u001b[0m\u001b[0m\n\u001b[1;32m---> 84\u001b[1;33m             \u001b[1;32mraise\u001b[0m \u001b[0mExecutableNotFound\u001b[0m\u001b[1;33m(\u001b[0m\u001b[0mcmd\u001b[0m\u001b[1;33m)\u001b[0m \u001b[1;32mfrom\u001b[0m \u001b[0me\u001b[0m\u001b[1;33m\u001b[0m\u001b[1;33m\u001b[0m\u001b[0m\n\u001b[0m\u001b[0;32m     85\u001b[0m         \u001b[1;32mraise\u001b[0m\u001b[1;33m\u001b[0m\u001b[1;33m\u001b[0m\u001b[0m\n\u001b[0;32m     86\u001b[0m \u001b[1;33m\u001b[0m\u001b[0m\n",
      "\u001b[1;31mExecutableNotFound\u001b[0m: failed to execute 'dot', make sure the Graphviz executables are on your systems' PATH"
     ]
    },
    {
     "data": {
      "image/png": "[encoded data removed]",
      "text/plain": [
       "<Figure size 720x720 with 1 Axes>"
      ]
     },
     "metadata": {
      "needs_background": "light"
     },
     "output_type": "display_data"
    }
   ],
   "source": [
    "lgb.plot_tree(model,tree_index=0, figsize=(10,10))"
   ]
  },
  {
   "cell_type": "code",
   "execution_count": 141,
   "id": "471db022",
   "metadata": {},
   "outputs": [
    {
     "data": {
      "text/plain": [
       "<Figure size 576x288 with 0 Axes>"
      ]
     },
     "execution_count": 141,
     "metadata": {},
     "output_type": "execute_result"
    },
    {
     "data": {
      "text/plain": [
       "<Figure size 576x288 with 0 Axes>"
      ]
     },
     "metadata": {},
     "output_type": "display_data"
    }
   ],
   "source": [
    "plt.figure(figsize=(8,4))"
   ]
  },
  {
   "cell_type": "code",
   "execution_count": 147,
   "id": "984b595c",
   "metadata": {},
   "outputs": [
    {
     "ename": "MemoryError",
     "evalue": "Unable to allocate 14.1 GiB for an array with shape (1893507600,) and data type float64",
     "output_type": "error",
     "traceback": [
      "\u001b[1;31m---------------------------------------------------------------------------\u001b[0m",
      "\u001b[1;31mMemoryError\u001b[0m                               Traceback (most recent call last)",
      "\u001b[1;32m~\\AppData\\Local\\Temp\\ipykernel_13828\\3526734427.py\u001b[0m in \u001b[0;36m<module>\u001b[1;34m\u001b[0m\n\u001b[0;32m      5\u001b[0m \u001b[1;31m# xの最小値から最大値まで0.01刻みのx_pltを作成し、2次元配列に変換\u001b[0m\u001b[1;33m\u001b[0m\u001b[1;33m\u001b[0m\u001b[1;33m\u001b[0m\u001b[0m\n\u001b[0;32m      6\u001b[0m \u001b[0mx_plt\u001b[0m \u001b[1;33m=\u001b[0m \u001b[0mnp\u001b[0m\u001b[1;33m.\u001b[0m\u001b[0marange\u001b[0m\u001b[1;33m(\u001b[0m\u001b[0mx\u001b[0m\u001b[1;33m.\u001b[0m\u001b[0mmin\u001b[0m\u001b[1;33m(\u001b[0m\u001b[1;33m)\u001b[0m\u001b[1;33m,\u001b[0m \u001b[0mx\u001b[0m\u001b[1;33m.\u001b[0m\u001b[0mmax\u001b[0m\u001b[1;33m(\u001b[0m\u001b[1;33m)\u001b[0m\u001b[1;33m)\u001b[0m\u001b[1;33m[\u001b[0m\u001b[1;33m:\u001b[0m\u001b[1;33m,\u001b[0m \u001b[0mnp\u001b[0m\u001b[1;33m.\u001b[0m\u001b[0mnewaxis\u001b[0m\u001b[1;33m]\u001b[0m\u001b[1;33m\u001b[0m\u001b[1;33m\u001b[0m\u001b[0m\n\u001b[1;32m----> 7\u001b[1;33m \u001b[0my_pred\u001b[0m \u001b[1;33m=\u001b[0m \u001b[0mmodel\u001b[0m\u001b[1;33m.\u001b[0m\u001b[0mpredict\u001b[0m\u001b[1;33m(\u001b[0m\u001b[0mx_plt\u001b[0m\u001b[1;33m)\u001b[0m\u001b[1;33m\u001b[0m\u001b[1;33m\u001b[0m\u001b[0m\n\u001b[0m",
      "\u001b[1;32m~\\Anaconda3\\lib\\site-packages\\lightgbm\\basic.py\u001b[0m in \u001b[0;36mpredict\u001b[1;34m(self, data, start_iteration, num_iteration, raw_score, pred_leaf, pred_contrib, data_has_header, validate_features, **kwargs)\u001b[0m\n\u001b[0;32m   4121\u001b[0m             \u001b[0mpred_contrib\u001b[0m\u001b[1;33m=\u001b[0m\u001b[0mpred_contrib\u001b[0m\u001b[1;33m,\u001b[0m\u001b[1;33m\u001b[0m\u001b[1;33m\u001b[0m\u001b[0m\n\u001b[0;32m   4122\u001b[0m             \u001b[0mdata_has_header\u001b[0m\u001b[1;33m=\u001b[0m\u001b[0mdata_has_header\u001b[0m\u001b[1;33m,\u001b[0m\u001b[1;33m\u001b[0m\u001b[1;33m\u001b[0m\u001b[0m\n\u001b[1;32m-> 4123\u001b[1;33m             \u001b[0mvalidate_features\u001b[0m\u001b[1;33m=\u001b[0m\u001b[0mvalidate_features\u001b[0m\u001b[1;33m\u001b[0m\u001b[1;33m\u001b[0m\u001b[0m\n\u001b[0m\u001b[0;32m   4124\u001b[0m         )\n\u001b[0;32m   4125\u001b[0m \u001b[1;33m\u001b[0m\u001b[0m\n",
      "\u001b[1;32m~\\Anaconda3\\lib\\site-packages\\lightgbm\\basic.py\u001b[0m in \u001b[0;36mpredict\u001b[1;34m(self, data, start_iteration, num_iteration, raw_score, pred_leaf, pred_contrib, data_has_header, validate_features)\u001b[0m\n\u001b[0;32m    995\u001b[0m                 \u001b[0mstart_iteration\u001b[0m\u001b[1;33m=\u001b[0m\u001b[0mstart_iteration\u001b[0m\u001b[1;33m,\u001b[0m\u001b[1;33m\u001b[0m\u001b[1;33m\u001b[0m\u001b[0m\n\u001b[0;32m    996\u001b[0m                 \u001b[0mnum_iteration\u001b[0m\u001b[1;33m=\u001b[0m\u001b[0mnum_iteration\u001b[0m\u001b[1;33m,\u001b[0m\u001b[1;33m\u001b[0m\u001b[1;33m\u001b[0m\u001b[0m\n\u001b[1;32m--> 997\u001b[1;33m                 \u001b[0mpredict_type\u001b[0m\u001b[1;33m=\u001b[0m\u001b[0mpredict_type\u001b[0m\u001b[1;33m\u001b[0m\u001b[1;33m\u001b[0m\u001b[0m\n\u001b[0m\u001b[0;32m    998\u001b[0m             )\n\u001b[0;32m    999\u001b[0m         \u001b[1;32melif\u001b[0m \u001b[0misinstance\u001b[0m\u001b[1;33m(\u001b[0m\u001b[0mdata\u001b[0m\u001b[1;33m,\u001b[0m \u001b[0mlist\u001b[0m\u001b[1;33m)\u001b[0m\u001b[1;33m:\u001b[0m\u001b[1;33m\u001b[0m\u001b[1;33m\u001b[0m\u001b[0m\n",
      "\u001b[1;32m~\\Anaconda3\\lib\\site-packages\\lightgbm\\basic.py\u001b[0m in \u001b[0;36m__pred_for_np2d\u001b[1;34m(self, mat, start_iteration, num_iteration, predict_type)\u001b[0m\n\u001b[0;32m   1136\u001b[0m                 \u001b[0mnum_iteration\u001b[0m\u001b[1;33m=\u001b[0m\u001b[0mnum_iteration\u001b[0m\u001b[1;33m,\u001b[0m\u001b[1;33m\u001b[0m\u001b[1;33m\u001b[0m\u001b[0m\n\u001b[0;32m   1137\u001b[0m                 \u001b[0mpredict_type\u001b[0m\u001b[1;33m=\u001b[0m\u001b[0mpredict_type\u001b[0m\u001b[1;33m,\u001b[0m\u001b[1;33m\u001b[0m\u001b[1;33m\u001b[0m\u001b[0m\n\u001b[1;32m-> 1138\u001b[1;33m                 \u001b[0mpreds\u001b[0m\u001b[1;33m=\u001b[0m\u001b[1;32mNone\u001b[0m\u001b[1;33m\u001b[0m\u001b[1;33m\u001b[0m\u001b[0m\n\u001b[0m\u001b[0;32m   1139\u001b[0m             )\n\u001b[0;32m   1140\u001b[0m \u001b[1;33m\u001b[0m\u001b[0m\n",
      "\u001b[1;32m~\\Anaconda3\\lib\\site-packages\\lightgbm\\basic.py\u001b[0m in \u001b[0;36m__inner_predict_np2d\u001b[1;34m(self, mat, start_iteration, num_iteration, predict_type, preds)\u001b[0m\n\u001b[0;32m   1080\u001b[0m         )\n\u001b[0;32m   1081\u001b[0m         \u001b[1;32mif\u001b[0m \u001b[0mpreds\u001b[0m \u001b[1;32mis\u001b[0m \u001b[1;32mNone\u001b[0m\u001b[1;33m:\u001b[0m\u001b[1;33m\u001b[0m\u001b[1;33m\u001b[0m\u001b[0m\n\u001b[1;32m-> 1082\u001b[1;33m             \u001b[0mpreds\u001b[0m \u001b[1;33m=\u001b[0m \u001b[0mnp\u001b[0m\u001b[1;33m.\u001b[0m\u001b[0mempty\u001b[0m\u001b[1;33m(\u001b[0m\u001b[0mn_preds\u001b[0m\u001b[1;33m,\u001b[0m \u001b[0mdtype\u001b[0m\u001b[1;33m=\u001b[0m\u001b[0mnp\u001b[0m\u001b[1;33m.\u001b[0m\u001b[0mfloat64\u001b[0m\u001b[1;33m)\u001b[0m\u001b[1;33m\u001b[0m\u001b[1;33m\u001b[0m\u001b[0m\n\u001b[0m\u001b[0;32m   1083\u001b[0m         \u001b[1;32melif\u001b[0m \u001b[0mlen\u001b[0m\u001b[1;33m(\u001b[0m\u001b[0mpreds\u001b[0m\u001b[1;33m.\u001b[0m\u001b[0mshape\u001b[0m\u001b[1;33m)\u001b[0m \u001b[1;33m!=\u001b[0m \u001b[1;36m1\u001b[0m \u001b[1;32mor\u001b[0m \u001b[0mlen\u001b[0m\u001b[1;33m(\u001b[0m\u001b[0mpreds\u001b[0m\u001b[1;33m)\u001b[0m \u001b[1;33m!=\u001b[0m \u001b[0mn_preds\u001b[0m\u001b[1;33m:\u001b[0m\u001b[1;33m\u001b[0m\u001b[1;33m\u001b[0m\u001b[0m\n\u001b[0;32m   1084\u001b[0m             \u001b[1;32mraise\u001b[0m \u001b[0mValueError\u001b[0m\u001b[1;33m(\u001b[0m\u001b[1;34m\"Wrong length of pre-allocated predict array\"\u001b[0m\u001b[1;33m)\u001b[0m\u001b[1;33m\u001b[0m\u001b[1;33m\u001b[0m\u001b[0m\n",
      "\u001b[1;31mMemoryError\u001b[0m: Unable to allocate 14.1 GiB for an array with shape (1893507600,) and data type float64"
     ]
    }
   ],
   "source": [
    "# convert to numpy array in one dimension\n",
    "x = X_train_0.values.flatten()\n",
    "y = y_train.values\n",
    "\n",
    "# xの最小値から最大値まで0.01刻みのx_pltを作成し、2次元配列に変換\n",
    "x_plt = np.arange(x.min(), x.max())[:, np.newaxis]\n",
    "y_pred = model.predict(x_plt)"
   ]
  },
  {
   "cell_type": "code",
   "execution_count": 148,
   "id": "804dd8ef",
   "metadata": {},
   "outputs": [
    {
     "ename": "ValueError",
     "evalue": "x and y must be the same size",
     "output_type": "error",
     "traceback": [
      "\u001b[1;31m---------------------------------------------------------------------------\u001b[0m",
      "\u001b[1;31mValueError\u001b[0m                                Traceback (most recent call last)",
      "\u001b[1;32m~\\AppData\\Local\\Temp\\ipykernel_13828\\2546428550.py\u001b[0m in \u001b[0;36m<module>\u001b[1;34m\u001b[0m\n\u001b[0;32m      1\u001b[0m \u001b[1;31m# 学習データの散布図と予測値のプロット\u001b[0m\u001b[1;33m\u001b[0m\u001b[1;33m\u001b[0m\u001b[1;33m\u001b[0m\u001b[0m\n\u001b[1;32m----> 2\u001b[1;33m \u001b[0mplt\u001b[0m\u001b[1;33m.\u001b[0m\u001b[0mscatter\u001b[0m\u001b[1;33m(\u001b[0m\u001b[0mx\u001b[0m\u001b[1;33m,\u001b[0m \u001b[0my\u001b[0m\u001b[1;33m,\u001b[0m \u001b[0mcolor\u001b[0m\u001b[1;33m=\u001b[0m\u001b[1;34m'blue'\u001b[0m\u001b[1;33m,\u001b[0m \u001b[0mlabel\u001b[0m\u001b[1;33m=\u001b[0m\u001b[1;34m'data'\u001b[0m\u001b[1;33m)\u001b[0m\u001b[1;33m\u001b[0m\u001b[1;33m\u001b[0m\u001b[0m\n\u001b[0m\u001b[0;32m      3\u001b[0m \u001b[0mplt\u001b[0m\u001b[1;33m.\u001b[0m\u001b[0mplot\u001b[0m\u001b[1;33m(\u001b[0m\u001b[0mx_plt\u001b[0m\u001b[1;33m,\u001b[0m \u001b[0my_pred\u001b[0m\u001b[1;33m,\u001b[0m \u001b[0mcolor\u001b[0m\u001b[1;33m=\u001b[0m\u001b[1;34m'red'\u001b[0m\u001b[1;33m,\u001b[0m \u001b[0mlabel\u001b[0m\u001b[1;33m=\u001b[0m\u001b[1;34m'LightGBM'\u001b[0m\u001b[1;33m)\u001b[0m\u001b[1;33m\u001b[0m\u001b[1;33m\u001b[0m\u001b[0m\n\u001b[0;32m      4\u001b[0m \u001b[0mplt\u001b[0m\u001b[1;33m.\u001b[0m\u001b[0mylabel\u001b[0m\u001b[1;33m(\u001b[0m\u001b[1;34m''\u001b[0m\u001b[1;33m)\u001b[0m\u001b[1;33m\u001b[0m\u001b[1;33m\u001b[0m\u001b[0m\n\u001b[0;32m      5\u001b[0m \u001b[0mplt\u001b[0m\u001b[1;33m.\u001b[0m\u001b[0mxlabel\u001b[0m\u001b[1;33m(\u001b[0m\u001b[1;34m''\u001b[0m\u001b[1;33m)\u001b[0m\u001b[1;33m\u001b[0m\u001b[1;33m\u001b[0m\u001b[0m\n",
      "\u001b[1;32m~\\Anaconda3\\lib\\site-packages\\matplotlib\\pyplot.py\u001b[0m in \u001b[0;36mscatter\u001b[1;34m(x, y, s, c, marker, cmap, norm, vmin, vmax, alpha, linewidths, edgecolors, plotnonfinite, data, **kwargs)\u001b[0m\n\u001b[0;32m   2809\u001b[0m         \u001b[0mvmin\u001b[0m\u001b[1;33m=\u001b[0m\u001b[0mvmin\u001b[0m\u001b[1;33m,\u001b[0m \u001b[0mvmax\u001b[0m\u001b[1;33m=\u001b[0m\u001b[0mvmax\u001b[0m\u001b[1;33m,\u001b[0m \u001b[0malpha\u001b[0m\u001b[1;33m=\u001b[0m\u001b[0malpha\u001b[0m\u001b[1;33m,\u001b[0m \u001b[0mlinewidths\u001b[0m\u001b[1;33m=\u001b[0m\u001b[0mlinewidths\u001b[0m\u001b[1;33m,\u001b[0m\u001b[1;33m\u001b[0m\u001b[1;33m\u001b[0m\u001b[0m\n\u001b[0;32m   2810\u001b[0m         \u001b[0medgecolors\u001b[0m\u001b[1;33m=\u001b[0m\u001b[0medgecolors\u001b[0m\u001b[1;33m,\u001b[0m \u001b[0mplotnonfinite\u001b[0m\u001b[1;33m=\u001b[0m\u001b[0mplotnonfinite\u001b[0m\u001b[1;33m,\u001b[0m\u001b[1;33m\u001b[0m\u001b[1;33m\u001b[0m\u001b[0m\n\u001b[1;32m-> 2811\u001b[1;33m         **({\"data\": data} if data is not None else {}), **kwargs)\n\u001b[0m\u001b[0;32m   2812\u001b[0m     \u001b[0msci\u001b[0m\u001b[1;33m(\u001b[0m\u001b[0m__ret\u001b[0m\u001b[1;33m)\u001b[0m\u001b[1;33m\u001b[0m\u001b[1;33m\u001b[0m\u001b[0m\n\u001b[0;32m   2813\u001b[0m     \u001b[1;32mreturn\u001b[0m \u001b[0m__ret\u001b[0m\u001b[1;33m\u001b[0m\u001b[1;33m\u001b[0m\u001b[0m\n",
      "\u001b[1;32m~\\Anaconda3\\lib\\site-packages\\matplotlib\\__init__.py\u001b[0m in \u001b[0;36minner\u001b[1;34m(ax, data, *args, **kwargs)\u001b[0m\n\u001b[0;32m   1410\u001b[0m     \u001b[1;32mdef\u001b[0m \u001b[0minner\u001b[0m\u001b[1;33m(\u001b[0m\u001b[0max\u001b[0m\u001b[1;33m,\u001b[0m \u001b[1;33m*\u001b[0m\u001b[0margs\u001b[0m\u001b[1;33m,\u001b[0m \u001b[0mdata\u001b[0m\u001b[1;33m=\u001b[0m\u001b[1;32mNone\u001b[0m\u001b[1;33m,\u001b[0m \u001b[1;33m**\u001b[0m\u001b[0mkwargs\u001b[0m\u001b[1;33m)\u001b[0m\u001b[1;33m:\u001b[0m\u001b[1;33m\u001b[0m\u001b[1;33m\u001b[0m\u001b[0m\n\u001b[0;32m   1411\u001b[0m         \u001b[1;32mif\u001b[0m \u001b[0mdata\u001b[0m \u001b[1;32mis\u001b[0m \u001b[1;32mNone\u001b[0m\u001b[1;33m:\u001b[0m\u001b[1;33m\u001b[0m\u001b[1;33m\u001b[0m\u001b[0m\n\u001b[1;32m-> 1412\u001b[1;33m             \u001b[1;32mreturn\u001b[0m \u001b[0mfunc\u001b[0m\u001b[1;33m(\u001b[0m\u001b[0max\u001b[0m\u001b[1;33m,\u001b[0m \u001b[1;33m*\u001b[0m\u001b[0mmap\u001b[0m\u001b[1;33m(\u001b[0m\u001b[0msanitize_sequence\u001b[0m\u001b[1;33m,\u001b[0m \u001b[0margs\u001b[0m\u001b[1;33m)\u001b[0m\u001b[1;33m,\u001b[0m \u001b[1;33m**\u001b[0m\u001b[0mkwargs\u001b[0m\u001b[1;33m)\u001b[0m\u001b[1;33m\u001b[0m\u001b[1;33m\u001b[0m\u001b[0m\n\u001b[0m\u001b[0;32m   1413\u001b[0m \u001b[1;33m\u001b[0m\u001b[0m\n\u001b[0;32m   1414\u001b[0m         \u001b[0mbound\u001b[0m \u001b[1;33m=\u001b[0m \u001b[0mnew_sig\u001b[0m\u001b[1;33m.\u001b[0m\u001b[0mbind\u001b[0m\u001b[1;33m(\u001b[0m\u001b[0max\u001b[0m\u001b[1;33m,\u001b[0m \u001b[1;33m*\u001b[0m\u001b[0margs\u001b[0m\u001b[1;33m,\u001b[0m \u001b[1;33m**\u001b[0m\u001b[0mkwargs\u001b[0m\u001b[1;33m)\u001b[0m\u001b[1;33m\u001b[0m\u001b[1;33m\u001b[0m\u001b[0m\n",
      "\u001b[1;32m~\\Anaconda3\\lib\\site-packages\\matplotlib\\axes\\_axes.py\u001b[0m in \u001b[0;36mscatter\u001b[1;34m(self, x, y, s, c, marker, cmap, norm, vmin, vmax, alpha, linewidths, edgecolors, plotnonfinite, **kwargs)\u001b[0m\n\u001b[0;32m   4367\u001b[0m         \u001b[0my\u001b[0m \u001b[1;33m=\u001b[0m \u001b[0mnp\u001b[0m\u001b[1;33m.\u001b[0m\u001b[0mma\u001b[0m\u001b[1;33m.\u001b[0m\u001b[0mravel\u001b[0m\u001b[1;33m(\u001b[0m\u001b[0my\u001b[0m\u001b[1;33m)\u001b[0m\u001b[1;33m\u001b[0m\u001b[1;33m\u001b[0m\u001b[0m\n\u001b[0;32m   4368\u001b[0m         \u001b[1;32mif\u001b[0m \u001b[0mx\u001b[0m\u001b[1;33m.\u001b[0m\u001b[0msize\u001b[0m \u001b[1;33m!=\u001b[0m \u001b[0my\u001b[0m\u001b[1;33m.\u001b[0m\u001b[0msize\u001b[0m\u001b[1;33m:\u001b[0m\u001b[1;33m\u001b[0m\u001b[1;33m\u001b[0m\u001b[0m\n\u001b[1;32m-> 4369\u001b[1;33m             \u001b[1;32mraise\u001b[0m \u001b[0mValueError\u001b[0m\u001b[1;33m(\u001b[0m\u001b[1;34m\"x and y must be the same size\"\u001b[0m\u001b[1;33m)\u001b[0m\u001b[1;33m\u001b[0m\u001b[1;33m\u001b[0m\u001b[0m\n\u001b[0m\u001b[0;32m   4370\u001b[0m \u001b[1;33m\u001b[0m\u001b[0m\n\u001b[0;32m   4371\u001b[0m         \u001b[1;32mif\u001b[0m \u001b[0ms\u001b[0m \u001b[1;32mis\u001b[0m \u001b[1;32mNone\u001b[0m\u001b[1;33m:\u001b[0m\u001b[1;33m\u001b[0m\u001b[1;33m\u001b[0m\u001b[0m\n",
      "\u001b[1;31mValueError\u001b[0m: x and y must be the same size"
     ]
    },
    {
     "data": {
      "image/png": "[encoded data removed]",
      "text/plain": [
       "<Figure size 432x288 with 1 Axes>"
      ]
     },
     "metadata": {
      "needs_background": "light"
     },
     "output_type": "display_data"
    }
   ],
   "source": [
    "# 学習データの散布図と予測値のプロット\n",
    "plt.scatter(x, y, color='blue', label='data')\n",
    "plt.plot(x_plt, y_pred, color='red', label='LightGBM')\n",
    "plt.ylabel('')\n",
    "plt.xlabel('')\n",
    "plt.title('X-y plot')\n",
    "plt.legend(loc='upper right')\n",
    "plt.show()"
   ]
  },
  {
   "cell_type": "code",
   "execution_count": null,
   "id": "68625f2d",
   "metadata": {},
   "outputs": [],
   "source": []
  },
  {
   "cell_type": "code",
   "execution_count": null,
   "id": "2ed0f80b",
   "metadata": {},
   "outputs": [],
   "source": []
  },
  {
   "cell_type": "code",
   "execution_count": null,
   "id": "6c202219",
   "metadata": {},
   "outputs": [],
   "source": []
  }
 ],
 "metadata": {
  "kernelspec": {
   "display_name": "Python 3 (ipykernel)",
   "language": "python",
   "name": "python3"
  },
  "language_info": {
   "codemirror_mode": {
    "name": "ipython",
    "version": 3
   },
   "file_extension": ".py",
   "mimetype": "text/x-python",
   "name": "python",
   "nbconvert_exporter": "python",
   "pygments_lexer": "ipython3",
   "version": "3.7.13"
  }
 },
 "nbformat": 4,
 "nbformat_minor": 5
}
